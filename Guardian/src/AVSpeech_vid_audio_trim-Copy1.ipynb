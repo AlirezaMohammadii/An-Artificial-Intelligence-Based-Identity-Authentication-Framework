{
 "cells": [
  {
   "cell_type": "code",
   "execution_count": 4,
   "id": "4721d313-705e-4ec2-8cdf-ef3bd273d918",
   "metadata": {},
   "outputs": [],
   "source": [
    "#!python get-pip.py\n",
    "import pandas as pd\n",
    "# import yt_dlp as youtube_dl\n",
    "import os\n",
    "import yt_dlp as youtube_dl\n",
    "# pip install opencv-python\n",
    "import cv2\n",
    "import numpy as np\n",
    "from moviepy.video.io.ffmpeg_tools import ffmpeg_extract_subclip\n",
    "from moviepy.editor import VideoFileClip\n",
    "import subprocess\n",
    "# pip install pytube\n",
    "# from tensorflow.keras.utils import Sequence\n",
    "# from tensorflow.keras.models import Model\n",
    "# from tensorflow.keras.layers import Input, Conv2D, MaxPooling2D, Flatten, Dense, LSTM, TimeDistributed"
   ]
  },
  {
   "cell_type": "code",
   "execution_count": 5,
   "id": "ffe54458-0562-4acd-8d02-6bb5a79dd8e3",
   "metadata": {
    "scrolled": true
   },
   "outputs": [
    {
     "name": "stdout",
     "output_type": "stream",
     "text": [
      "Rows analyzed: 1, Rows left: 4619\n",
      "Rows analyzed: 2, Rows left: 4618\n",
      "Rows analyzed: 3, Rows left: 4617\n",
      "Rows analyzed: 4, Rows left: 4616\n",
      "Rows analyzed: 5, Rows left: 4615\n",
      "Rows analyzed: 6, Rows left: 4614\n",
      "Rows analyzed: 7, Rows left: 4613\n",
      "Rows analyzed: 8, Rows left: 4612\n",
      "Rows analyzed: 9, Rows left: 4611\n",
      "Rows analyzed: 10, Rows left: 4610\n",
      "Rows analyzed: 11, Rows left: 4609\n"
     ]
    },
    {
     "name": "stderr",
     "output_type": "stream",
     "text": [
      "ERROR: [youtube] C44IaZX0fxM: Video unavailable\n"
     ]
    },
    {
     "name": "stdout",
     "output_type": "stream",
     "text": [
      "Error checking language and duration for video C44IaZX0fxM: ERROR: [youtube] C44IaZX0fxM: Video unavailable\n",
      "Rows analyzed: 12, Rows left: 4608\n",
      "Rows analyzed: 13, Rows left: 4607\n",
      "Rows analyzed: 14, Rows left: 4606\n",
      "Rows analyzed: 15, Rows left: 4605\n",
      "Rows analyzed: 16, Rows left: 4604\n",
      "Rows analyzed: 17, Rows left: 4603\n"
     ]
    },
    {
     "name": "stderr",
     "output_type": "stream",
     "text": [
      "ERROR: [youtube] 7HHgF99Ja_s: Private video. Sign in if you've been granted access to this video\n"
     ]
    },
    {
     "name": "stdout",
     "output_type": "stream",
     "text": [
      "Error checking language and duration for video 7HHgF99Ja_s: ERROR: [youtube] 7HHgF99Ja_s: Private video. Sign in if you've been granted access to this video\n",
      "Rows analyzed: 18, Rows left: 4602\n",
      "Rows analyzed: 19, Rows left: 4601\n",
      "Rows analyzed: 20, Rows left: 4600\n",
      "Rows analyzed: 21, Rows left: 4599\n",
      "Rows analyzed: 22, Rows left: 4598\n",
      "Rows analyzed: 23, Rows left: 4597\n"
     ]
    },
    {
     "name": "stderr",
     "output_type": "stream",
     "text": [
      "ERROR: [youtube] b0J4hNA3b-E: Video unavailable. This video is no longer available because the YouTube account associated with this video has been terminated.\n"
     ]
    },
    {
     "name": "stdout",
     "output_type": "stream",
     "text": [
      "Error checking language and duration for video b0J4hNA3b-E: ERROR: [youtube] b0J4hNA3b-E: Video unavailable. This video is no longer available because the YouTube account associated with this video has been terminated.\n",
      "Rows analyzed: 24, Rows left: 4596\n",
      "Rows analyzed: 25, Rows left: 4595\n"
     ]
    },
    {
     "name": "stderr",
     "output_type": "stream",
     "text": [
      "ERROR: [youtube] leTwEzva3yg: Private video. Sign in if you've been granted access to this video\n"
     ]
    },
    {
     "name": "stdout",
     "output_type": "stream",
     "text": [
      "Error checking language and duration for video leTwEzva3yg: ERROR: [youtube] leTwEzva3yg: Private video. Sign in if you've been granted access to this video\n",
      "Rows analyzed: 26, Rows left: 4594\n",
      "Rows analyzed: 27, Rows left: 4593\n",
      "Rows analyzed: 28, Rows left: 4592\n",
      "Rows analyzed: 29, Rows left: 4591\n",
      "Rows analyzed: 30, Rows left: 4590\n",
      "Rows analyzed: 31, Rows left: 4589\n",
      "Rows analyzed: 32, Rows left: 4588\n"
     ]
    },
    {
     "name": "stderr",
     "output_type": "stream",
     "text": [
      "ERROR: [youtube] 5ZYB0yQVZps: Private video. Sign in if you've been granted access to this video\n"
     ]
    },
    {
     "name": "stdout",
     "output_type": "stream",
     "text": [
      "Error checking language and duration for video 5ZYB0yQVZps: ERROR: [youtube] 5ZYB0yQVZps: Private video. Sign in if you've been granted access to this video\n",
      "Rows analyzed: 33, Rows left: 4587\n",
      "Rows analyzed: 34, Rows left: 4586\n"
     ]
    },
    {
     "name": "stderr",
     "output_type": "stream",
     "text": [
      "ERROR: [youtube] gEY4hFh3WhQ: Private video. Sign in if you've been granted access to this video\n"
     ]
    },
    {
     "name": "stdout",
     "output_type": "stream",
     "text": [
      "Error checking language and duration for video gEY4hFh3WhQ: ERROR: [youtube] gEY4hFh3WhQ: Private video. Sign in if you've been granted access to this video\n",
      "Rows analyzed: 35, Rows left: 4585\n",
      "Rows analyzed: 36, Rows left: 4584\n",
      "Rows analyzed: 37, Rows left: 4583\n"
     ]
    },
    {
     "name": "stderr",
     "output_type": "stream",
     "text": [
      "ERROR: [youtube] IsS5-YXcXtg: Private video. Sign in if you've been granted access to this video\n"
     ]
    },
    {
     "name": "stdout",
     "output_type": "stream",
     "text": [
      "Error checking language and duration for video IsS5-YXcXtg: ERROR: [youtube] IsS5-YXcXtg: Private video. Sign in if you've been granted access to this video\n",
      "Rows analyzed: 38, Rows left: 4582\n",
      "Rows analyzed: 39, Rows left: 4581\n",
      "Rows analyzed: 40, Rows left: 4580\n",
      "Rows analyzed: 41, Rows left: 4579\n",
      "Rows analyzed: 42, Rows left: 4578\n",
      "Rows analyzed: 43, Rows left: 4577\n",
      "Rows analyzed: 44, Rows left: 4576\n",
      "Rows analyzed: 45, Rows left: 4575\n",
      "Rows analyzed: 46, Rows left: 4574\n",
      "Rows analyzed: 47, Rows left: 4573\n"
     ]
    },
    {
     "name": "stderr",
     "output_type": "stream",
     "text": [
      "ERROR: [youtube] gwbFbf0jUCY: Video unavailable. This video is no longer available because the YouTube account associated with this video has been terminated.\n"
     ]
    },
    {
     "name": "stdout",
     "output_type": "stream",
     "text": [
      "Error checking language and duration for video gwbFbf0jUCY: ERROR: [youtube] gwbFbf0jUCY: Video unavailable. This video is no longer available because the YouTube account associated with this video has been terminated.\n",
      "Rows analyzed: 48, Rows left: 4572\n",
      "Rows analyzed: 49, Rows left: 4571\n",
      "Rows analyzed: 50, Rows left: 4570\n",
      "Rows analyzed: 51, Rows left: 4569\n",
      "Rows analyzed: 52, Rows left: 4568\n",
      "Rows analyzed: 53, Rows left: 4567\n",
      "Rows analyzed: 54, Rows left: 4566\n",
      "Rows analyzed: 55, Rows left: 4565\n",
      "Rows analyzed: 56, Rows left: 4564\n",
      "Rows analyzed: 57, Rows left: 4563\n"
     ]
    },
    {
     "name": "stderr",
     "output_type": "stream",
     "text": [
      "ERROR: [youtube] 4N1VWNiM98o: Video unavailable. This video is no longer available because the YouTube account associated with this video has been terminated.\n"
     ]
    },
    {
     "name": "stdout",
     "output_type": "stream",
     "text": [
      "Error checking language and duration for video 4N1VWNiM98o: ERROR: [youtube] 4N1VWNiM98o: Video unavailable. This video is no longer available because the YouTube account associated with this video has been terminated.\n",
      "Rows analyzed: 58, Rows left: 4562\n",
      "Rows analyzed: 59, Rows left: 4561\n",
      "Rows analyzed: 60, Rows left: 4560\n",
      "Rows analyzed: 61, Rows left: 4559\n"
     ]
    },
    {
     "name": "stderr",
     "output_type": "stream",
     "text": [
      "ERROR: [youtube] G-xd-ZmnhaM: Video unavailable\n"
     ]
    },
    {
     "name": "stdout",
     "output_type": "stream",
     "text": [
      "Error checking language and duration for video G-xd-ZmnhaM: ERROR: [youtube] G-xd-ZmnhaM: Video unavailable\n",
      "Rows analyzed: 62, Rows left: 4558\n"
     ]
    },
    {
     "name": "stderr",
     "output_type": "stream",
     "text": [
      "ERROR: [youtube] Cl-tXw7OMGw: Private video. Sign in if you've been granted access to this video\n"
     ]
    },
    {
     "name": "stdout",
     "output_type": "stream",
     "text": [
      "Error checking language and duration for video Cl-tXw7OMGw: ERROR: [youtube] Cl-tXw7OMGw: Private video. Sign in if you've been granted access to this video\n",
      "Rows analyzed: 63, Rows left: 4557\n",
      "Rows analyzed: 64, Rows left: 4556\n",
      "Rows analyzed: 65, Rows left: 4555\n",
      "Rows analyzed: 66, Rows left: 4554\n",
      "Rows analyzed: 67, Rows left: 4553\n"
     ]
    },
    {
     "name": "stderr",
     "output_type": "stream",
     "text": [
      "ERROR: [youtube] RlMPn7o4obQ: Video unavailable\n"
     ]
    },
    {
     "name": "stdout",
     "output_type": "stream",
     "text": [
      "Error checking language and duration for video RlMPn7o4obQ: ERROR: [youtube] RlMPn7o4obQ: Video unavailable\n",
      "Rows analyzed: 68, Rows left: 4552\n",
      "Rows analyzed: 69, Rows left: 4551\n"
     ]
    },
    {
     "name": "stderr",
     "output_type": "stream",
     "text": [
      "ERROR: [youtube] wy933ScX3TI: Private video. Sign in if you've been granted access to this video\n"
     ]
    },
    {
     "name": "stdout",
     "output_type": "stream",
     "text": [
      "Error checking language and duration for video wy933ScX3TI: ERROR: [youtube] wy933ScX3TI: Private video. Sign in if you've been granted access to this video\n",
      "Rows analyzed: 70, Rows left: 4550\n",
      "Rows analyzed: 71, Rows left: 4549\n",
      "Rows analyzed: 72, Rows left: 4548\n",
      "Rows analyzed: 73, Rows left: 4547\n"
     ]
    },
    {
     "name": "stderr",
     "output_type": "stream",
     "text": [
      "ERROR: [youtube] r4-t0Hcn3jQ: Video unavailable. This video is no longer available because the YouTube account associated with this video has been terminated.\n"
     ]
    },
    {
     "name": "stdout",
     "output_type": "stream",
     "text": [
      "Error checking language and duration for video r4-t0Hcn3jQ: ERROR: [youtube] r4-t0Hcn3jQ: Video unavailable. This video is no longer available because the YouTube account associated with this video has been terminated.\n",
      "Rows analyzed: 74, Rows left: 4546\n"
     ]
    },
    {
     "name": "stderr",
     "output_type": "stream",
     "text": [
      "ERROR: [youtube] 2GoTcxk4i9s: Video unavailable\n"
     ]
    },
    {
     "name": "stdout",
     "output_type": "stream",
     "text": [
      "Error checking language and duration for video 2GoTcxk4i9s: ERROR: [youtube] 2GoTcxk4i9s: Video unavailable\n",
      "Rows analyzed: 75, Rows left: 4545\n",
      "Rows analyzed: 76, Rows left: 4544\n",
      "Rows analyzed: 77, Rows left: 4543\n",
      "Rows analyzed: 78, Rows left: 4542\n",
      "Rows analyzed: 79, Rows left: 4541\n"
     ]
    },
    {
     "name": "stderr",
     "output_type": "stream",
     "text": [
      "ERROR: [youtube] YmaBXNZiAKQ: Video unavailable\n"
     ]
    },
    {
     "name": "stdout",
     "output_type": "stream",
     "text": [
      "Error checking language and duration for video YmaBXNZiAKQ: ERROR: [youtube] YmaBXNZiAKQ: Video unavailable\n",
      "Rows analyzed: 80, Rows left: 4540\n",
      "Rows analyzed: 81, Rows left: 4539\n",
      "Rows analyzed: 82, Rows left: 4538\n",
      "Rows analyzed: 83, Rows left: 4537\n"
     ]
    },
    {
     "name": "stderr",
     "output_type": "stream",
     "text": [
      "ERROR: [youtube] dFBpFG8SkEU: Video unavailable\n"
     ]
    },
    {
     "name": "stdout",
     "output_type": "stream",
     "text": [
      "Error checking language and duration for video dFBpFG8SkEU: ERROR: [youtube] dFBpFG8SkEU: Video unavailable\n",
      "Rows analyzed: 84, Rows left: 4536\n"
     ]
    },
    {
     "name": "stderr",
     "output_type": "stream",
     "text": [
      "ERROR: [youtube] cnqXZVzpmko: Private video. Sign in if you've been granted access to this video\n"
     ]
    },
    {
     "name": "stdout",
     "output_type": "stream",
     "text": [
      "Error checking language and duration for video cnqXZVzpmko: ERROR: [youtube] cnqXZVzpmko: Private video. Sign in if you've been granted access to this video\n",
      "Rows analyzed: 85, Rows left: 4535\n",
      "Rows analyzed: 86, Rows left: 4534\n",
      "Rows analyzed: 87, Rows left: 4533\n",
      "Rows analyzed: 88, Rows left: 4532\n",
      "Rows analyzed: 89, Rows left: 4531\n",
      "Rows analyzed: 90, Rows left: 4530\n"
     ]
    },
    {
     "name": "stderr",
     "output_type": "stream",
     "text": [
      "ERROR: [youtube] Tf2_wPZWKTg: Video unavailable\n"
     ]
    },
    {
     "name": "stdout",
     "output_type": "stream",
     "text": [
      "Error checking language and duration for video Tf2_wPZWKTg: ERROR: [youtube] Tf2_wPZWKTg: Video unavailable\n",
      "Rows analyzed: 91, Rows left: 4529\n",
      "Rows analyzed: 92, Rows left: 4528\n"
     ]
    },
    {
     "name": "stderr",
     "output_type": "stream",
     "text": [
      "ERROR: [youtube] 04E61et4XBI: Video unavailable. This video is no longer available because the YouTube account associated with this video has been terminated.\n"
     ]
    },
    {
     "name": "stdout",
     "output_type": "stream",
     "text": [
      "Error checking language and duration for video 04E61et4XBI: ERROR: [youtube] 04E61et4XBI: Video unavailable. This video is no longer available because the YouTube account associated with this video has been terminated.\n",
      "Rows analyzed: 93, Rows left: 4527\n",
      "Rows analyzed: 94, Rows left: 4526\n",
      "Rows analyzed: 95, Rows left: 4525\n",
      "Rows analyzed: 96, Rows left: 4524\n"
     ]
    },
    {
     "name": "stderr",
     "output_type": "stream",
     "text": [
      "ERROR: [youtube] 89JBISC-Q2c: Video unavailable\n"
     ]
    },
    {
     "name": "stdout",
     "output_type": "stream",
     "text": [
      "Error checking language and duration for video 89JBISC-Q2c: ERROR: [youtube] 89JBISC-Q2c: Video unavailable\n",
      "Rows analyzed: 97, Rows left: 4523\n",
      "Rows analyzed: 98, Rows left: 4522\n",
      "Rows analyzed: 99, Rows left: 4521\n"
     ]
    },
    {
     "name": "stderr",
     "output_type": "stream",
     "text": [
      "ERROR: [youtube] jy6Kg8zF-W4: Private video. Sign in if you've been granted access to this video\n"
     ]
    },
    {
     "name": "stdout",
     "output_type": "stream",
     "text": [
      "Error checking language and duration for video jy6Kg8zF-W4: ERROR: [youtube] jy6Kg8zF-W4: Private video. Sign in if you've been granted access to this video\n",
      "Rows analyzed: 100, Rows left: 4520\n",
      "Rows analyzed: 101, Rows left: 4519\n",
      "Rows analyzed: 102, Rows left: 4518\n",
      "Rows analyzed: 103, Rows left: 4517\n",
      "Rows analyzed: 104, Rows left: 4516\n",
      "Rows analyzed: 105, Rows left: 4515\n",
      "Rows analyzed: 106, Rows left: 4514\n",
      "Rows analyzed: 107, Rows left: 4513\n"
     ]
    },
    {
     "name": "stderr",
     "output_type": "stream",
     "text": [
      "ERROR: [youtube] HYK-2RncLgY: Video unavailable. This video is no longer available because the YouTube account associated with this video has been terminated.\n"
     ]
    },
    {
     "name": "stdout",
     "output_type": "stream",
     "text": [
      "Error checking language and duration for video HYK-2RncLgY: ERROR: [youtube] HYK-2RncLgY: Video unavailable. This video is no longer available because the YouTube account associated with this video has been terminated.\n",
      "Rows analyzed: 108, Rows left: 4512\n",
      "Rows analyzed: 109, Rows left: 4511\n",
      "Rows analyzed: 110, Rows left: 4510\n",
      "Rows analyzed: 111, Rows left: 4509\n",
      "Rows analyzed: 112, Rows left: 4508\n",
      "Rows analyzed: 113, Rows left: 4507\n",
      "Rows analyzed: 114, Rows left: 4506\n",
      "Rows analyzed: 115, Rows left: 4505\n"
     ]
    },
    {
     "name": "stderr",
     "output_type": "stream",
     "text": [
      "ERROR: [youtube] IrXRtlkG6A4: Sign in to confirm your age. This video may be inappropriate for some users.\n"
     ]
    },
    {
     "name": "stdout",
     "output_type": "stream",
     "text": [
      "Error checking language and duration for video IrXRtlkG6A4: ERROR: [youtube] IrXRtlkG6A4: Sign in to confirm your age. This video may be inappropriate for some users.\n",
      "Rows analyzed: 116, Rows left: 4504\n",
      "Rows analyzed: 117, Rows left: 4503\n"
     ]
    },
    {
     "name": "stderr",
     "output_type": "stream",
     "text": [
      "ERROR: [youtube] VrIufgVduyw: Video unavailable. This video is no longer available because the YouTube account associated with this video has been terminated.\n"
     ]
    },
    {
     "name": "stdout",
     "output_type": "stream",
     "text": [
      "Error checking language and duration for video VrIufgVduyw: ERROR: [youtube] VrIufgVduyw: Video unavailable. This video is no longer available because the YouTube account associated with this video has been terminated.\n",
      "Rows analyzed: 118, Rows left: 4502\n",
      "Rows analyzed: 119, Rows left: 4501\n",
      "Rows analyzed: 120, Rows left: 4500\n",
      "Rows analyzed: 121, Rows left: 4499\n",
      "Rows analyzed: 122, Rows left: 4498\n",
      "Rows analyzed: 123, Rows left: 4497\n",
      "Rows analyzed: 124, Rows left: 4496\n",
      "Rows analyzed: 125, Rows left: 4495\n",
      "Rows analyzed: 126, Rows left: 4494\n",
      "Rows analyzed: 127, Rows left: 4493\n",
      "Rows analyzed: 128, Rows left: 4492\n",
      "Rows analyzed: 129, Rows left: 4491\n",
      "Rows analyzed: 130, Rows left: 4490\n"
     ]
    },
    {
     "name": "stderr",
     "output_type": "stream",
     "text": [
      "ERROR: [youtube] s9sRthgF8Og: Video unavailable\n"
     ]
    },
    {
     "name": "stdout",
     "output_type": "stream",
     "text": [
      "Error checking language and duration for video s9sRthgF8Og: ERROR: [youtube] s9sRthgF8Og: Video unavailable\n",
      "Rows analyzed: 131, Rows left: 4489\n",
      "Rows analyzed: 132, Rows left: 4488\n",
      "Rows analyzed: 133, Rows left: 4487\n",
      "Rows analyzed: 134, Rows left: 4486\n",
      "Rows analyzed: 135, Rows left: 4485\n",
      "Rows analyzed: 136, Rows left: 4484\n",
      "Rows analyzed: 137, Rows left: 4483\n",
      "Rows analyzed: 138, Rows left: 4482\n",
      "Rows analyzed: 139, Rows left: 4481\n"
     ]
    },
    {
     "name": "stderr",
     "output_type": "stream",
     "text": [
      "ERROR: [youtube] MzM48elTXdo: Video unavailable\n"
     ]
    },
    {
     "name": "stdout",
     "output_type": "stream",
     "text": [
      "Error checking language and duration for video MzM48elTXdo: ERROR: [youtube] MzM48elTXdo: Video unavailable\n",
      "Rows analyzed: 140, Rows left: 4480\n",
      "Rows analyzed: 141, Rows left: 4479\n",
      "Rows analyzed: 142, Rows left: 4478\n"
     ]
    },
    {
     "name": "stderr",
     "output_type": "stream",
     "text": [
      "ERROR: [youtube] FncUf-pxhdE: Private video. Sign in if you've been granted access to this video\n"
     ]
    },
    {
     "name": "stdout",
     "output_type": "stream",
     "text": [
      "Error checking language and duration for video FncUf-pxhdE: ERROR: [youtube] FncUf-pxhdE: Private video. Sign in if you've been granted access to this video\n",
      "Rows analyzed: 143, Rows left: 4477\n",
      "Rows analyzed: 144, Rows left: 4476\n",
      "Rows analyzed: 145, Rows left: 4475\n"
     ]
    },
    {
     "name": "stderr",
     "output_type": "stream",
     "text": [
      "ERROR: [youtube] _HKqxlxEz48: Video unavailable\n"
     ]
    },
    {
     "name": "stdout",
     "output_type": "stream",
     "text": [
      "Error checking language and duration for video _HKqxlxEz48: ERROR: [youtube] _HKqxlxEz48: Video unavailable\n",
      "Rows analyzed: 146, Rows left: 4474\n",
      "Rows analyzed: 147, Rows left: 4473\n",
      "Rows analyzed: 148, Rows left: 4472\n",
      "Rows analyzed: 149, Rows left: 4471\n",
      "Rows analyzed: 150, Rows left: 4470\n",
      "Rows analyzed: 151, Rows left: 4469\n",
      "Rows analyzed: 152, Rows left: 4468\n",
      "Rows analyzed: 153, Rows left: 4467\n"
     ]
    },
    {
     "name": "stderr",
     "output_type": "stream",
     "text": [
      "ERROR: [youtube] 0JxlhOv3Mcs: Video unavailable\n"
     ]
    },
    {
     "name": "stdout",
     "output_type": "stream",
     "text": [
      "Error checking language and duration for video 0JxlhOv3Mcs: ERROR: [youtube] 0JxlhOv3Mcs: Video unavailable\n",
      "Rows analyzed: 154, Rows left: 4466\n",
      "Rows analyzed: 155, Rows left: 4465\n",
      "Rows analyzed: 156, Rows left: 4464\n",
      "Rows analyzed: 157, Rows left: 4463\n",
      "Rows analyzed: 158, Rows left: 4462\n",
      "Rows analyzed: 159, Rows left: 4461\n"
     ]
    },
    {
     "name": "stderr",
     "output_type": "stream",
     "text": [
      "ERROR: [youtube] x6L6JfgD2fc: Video unavailable\n"
     ]
    },
    {
     "name": "stdout",
     "output_type": "stream",
     "text": [
      "Error checking language and duration for video x6L6JfgD2fc: ERROR: [youtube] x6L6JfgD2fc: Video unavailable\n",
      "Rows analyzed: 160, Rows left: 4460\n"
     ]
    },
    {
     "name": "stderr",
     "output_type": "stream",
     "text": [
      "ERROR: [youtube] XN2I06aHCLw: Video unavailable. This video is no longer available because the YouTube account associated with this video has been terminated.\n"
     ]
    },
    {
     "name": "stdout",
     "output_type": "stream",
     "text": [
      "Error checking language and duration for video XN2I06aHCLw: ERROR: [youtube] XN2I06aHCLw: Video unavailable. This video is no longer available because the YouTube account associated with this video has been terminated.\n",
      "Rows analyzed: 161, Rows left: 4459\n",
      "Rows analyzed: 162, Rows left: 4458\n",
      "Rows analyzed: 163, Rows left: 4457\n",
      "Rows analyzed: 164, Rows left: 4456\n"
     ]
    },
    {
     "name": "stderr",
     "output_type": "stream",
     "text": [
      "ERROR: [youtube] mxK_61vusjI: Video unavailable. This video is no longer available because the YouTube account associated with this video has been terminated.\n"
     ]
    },
    {
     "name": "stdout",
     "output_type": "stream",
     "text": [
      "Error checking language and duration for video mxK_61vusjI: ERROR: [youtube] mxK_61vusjI: Video unavailable. This video is no longer available because the YouTube account associated with this video has been terminated.\n",
      "Rows analyzed: 165, Rows left: 4455\n",
      "Rows analyzed: 166, Rows left: 4454\n",
      "Rows analyzed: 167, Rows left: 4453\n",
      "Rows analyzed: 168, Rows left: 4452\n",
      "Rows analyzed: 169, Rows left: 4451\n"
     ]
    },
    {
     "name": "stderr",
     "output_type": "stream",
     "text": [
      "ERROR: [youtube] rbLbvgWlOVM: Private video. Sign in if you've been granted access to this video\n"
     ]
    },
    {
     "name": "stdout",
     "output_type": "stream",
     "text": [
      "Error checking language and duration for video rbLbvgWlOVM: ERROR: [youtube] rbLbvgWlOVM: Private video. Sign in if you've been granted access to this video\n",
      "Rows analyzed: 170, Rows left: 4450\n",
      "Rows analyzed: 171, Rows left: 4449\n",
      "Rows analyzed: 172, Rows left: 4448\n",
      "Rows analyzed: 173, Rows left: 4447\n"
     ]
    },
    {
     "name": "stderr",
     "output_type": "stream",
     "text": [
      "ERROR: [youtube] OzY8wo0Bqgo: Video unavailable\n"
     ]
    },
    {
     "name": "stdout",
     "output_type": "stream",
     "text": [
      "Error checking language and duration for video OzY8wo0Bqgo: ERROR: [youtube] OzY8wo0Bqgo: Video unavailable\n",
      "Rows analyzed: 174, Rows left: 4446\n",
      "Rows analyzed: 175, Rows left: 4445\n",
      "Rows analyzed: 176, Rows left: 4444\n",
      "Rows analyzed: 177, Rows left: 4443\n"
     ]
    },
    {
     "name": "stderr",
     "output_type": "stream",
     "text": [
      "ERROR: [youtube] ib-CeJfjUM4: Private video. Sign in if you've been granted access to this video\n"
     ]
    },
    {
     "name": "stdout",
     "output_type": "stream",
     "text": [
      "Error checking language and duration for video ib-CeJfjUM4: ERROR: [youtube] ib-CeJfjUM4: Private video. Sign in if you've been granted access to this video\n",
      "Rows analyzed: 178, Rows left: 4442\n",
      "Rows analyzed: 179, Rows left: 4441\n",
      "Rows analyzed: 180, Rows left: 4440\n",
      "Rows analyzed: 181, Rows left: 4439\n"
     ]
    },
    {
     "name": "stderr",
     "output_type": "stream",
     "text": [
      "ERROR: [youtube] FtmrPbWHNLc: Video unavailable\n"
     ]
    },
    {
     "name": "stdout",
     "output_type": "stream",
     "text": [
      "Error checking language and duration for video FtmrPbWHNLc: ERROR: [youtube] FtmrPbWHNLc: Video unavailable\n",
      "Rows analyzed: 182, Rows left: 4438\n"
     ]
    },
    {
     "name": "stderr",
     "output_type": "stream",
     "text": [
      "ERROR: [youtube] CDnl6l35TSQ: Private video. Sign in if you've been granted access to this video\n"
     ]
    },
    {
     "name": "stdout",
     "output_type": "stream",
     "text": [
      "Error checking language and duration for video CDnl6l35TSQ: ERROR: [youtube] CDnl6l35TSQ: Private video. Sign in if you've been granted access to this video\n",
      "Rows analyzed: 183, Rows left: 4437\n"
     ]
    },
    {
     "name": "stderr",
     "output_type": "stream",
     "text": [
      "ERROR: [youtube] WNHvr5BUhl0: Video unavailable\n"
     ]
    },
    {
     "name": "stdout",
     "output_type": "stream",
     "text": [
      "Error checking language and duration for video WNHvr5BUhl0: ERROR: [youtube] WNHvr5BUhl0: Video unavailable\n",
      "Rows analyzed: 184, Rows left: 4436\n",
      "Rows analyzed: 185, Rows left: 4435\n"
     ]
    },
    {
     "name": "stderr",
     "output_type": "stream",
     "text": [
      "ERROR: [youtube] cZFB6eo8eVI: Video unavailable. This video is no longer available because the YouTube account associated with this video has been terminated.\n"
     ]
    },
    {
     "name": "stdout",
     "output_type": "stream",
     "text": [
      "Error checking language and duration for video cZFB6eo8eVI: ERROR: [youtube] cZFB6eo8eVI: Video unavailable. This video is no longer available because the YouTube account associated with this video has been terminated.\n",
      "Rows analyzed: 186, Rows left: 4434\n",
      "Rows analyzed: 187, Rows left: 4433\n"
     ]
    },
    {
     "name": "stderr",
     "output_type": "stream",
     "text": [
      "ERROR: [youtube] bSYXazX5NP0: Private video. Sign in if you've been granted access to this video\n"
     ]
    },
    {
     "name": "stdout",
     "output_type": "stream",
     "text": [
      "Error checking language and duration for video bSYXazX5NP0: ERROR: [youtube] bSYXazX5NP0: Private video. Sign in if you've been granted access to this video\n",
      "Rows analyzed: 188, Rows left: 4432\n",
      "Rows analyzed: 189, Rows left: 4431\n",
      "Rows analyzed: 190, Rows left: 4430\n",
      "Rows analyzed: 191, Rows left: 4429\n",
      "Rows analyzed: 192, Rows left: 4428\n",
      "Rows analyzed: 193, Rows left: 4427\n",
      "Rows analyzed: 194, Rows left: 4426\n",
      "Rows analyzed: 195, Rows left: 4425\n",
      "Rows analyzed: 196, Rows left: 4424\n",
      "Rows analyzed: 197, Rows left: 4423\n",
      "Rows analyzed: 198, Rows left: 4422\n",
      "Rows analyzed: 199, Rows left: 4421\n",
      "Rows analyzed: 200, Rows left: 4420\n",
      "Rows analyzed: 201, Rows left: 4419\n",
      "Rows analyzed: 202, Rows left: 4418\n",
      "Rows analyzed: 203, Rows left: 4417\n",
      "Rows analyzed: 204, Rows left: 4416\n"
     ]
    },
    {
     "name": "stderr",
     "output_type": "stream",
     "text": [
      "ERROR: [youtube] zBWAzEtnlQU: Private video. Sign in if you've been granted access to this video\n"
     ]
    },
    {
     "name": "stdout",
     "output_type": "stream",
     "text": [
      "Error checking language and duration for video zBWAzEtnlQU: ERROR: [youtube] zBWAzEtnlQU: Private video. Sign in if you've been granted access to this video\n",
      "Rows analyzed: 205, Rows left: 4415\n",
      "Rows analyzed: 206, Rows left: 4414\n",
      "Rows analyzed: 207, Rows left: 4413\n"
     ]
    },
    {
     "name": "stderr",
     "output_type": "stream",
     "text": [
      "ERROR: [youtube] EbPvAMpHSp8: Video unavailable. This video is no longer available because the YouTube account associated with this video has been terminated.\n"
     ]
    },
    {
     "name": "stdout",
     "output_type": "stream",
     "text": [
      "Error checking language and duration for video EbPvAMpHSp8: ERROR: [youtube] EbPvAMpHSp8: Video unavailable. This video is no longer available because the YouTube account associated with this video has been terminated.\n",
      "Rows analyzed: 208, Rows left: 4412\n",
      "Rows analyzed: 209, Rows left: 4411\n",
      "Rows analyzed: 210, Rows left: 4410\n"
     ]
    },
    {
     "name": "stderr",
     "output_type": "stream",
     "text": [
      "ERROR: [youtube] JK1PWY7asE0: Private video. Sign in if you've been granted access to this video\n"
     ]
    },
    {
     "name": "stdout",
     "output_type": "stream",
     "text": [
      "Error checking language and duration for video JK1PWY7asE0: ERROR: [youtube] JK1PWY7asE0: Private video. Sign in if you've been granted access to this video\n",
      "Rows analyzed: 211, Rows left: 4409\n"
     ]
    },
    {
     "name": "stderr",
     "output_type": "stream",
     "text": [
      "ERROR: [youtube] 6WPehy5nIF8: Private video. Sign in if you've been granted access to this video\n"
     ]
    },
    {
     "name": "stdout",
     "output_type": "stream",
     "text": [
      "Error checking language and duration for video 6WPehy5nIF8: ERROR: [youtube] 6WPehy5nIF8: Private video. Sign in if you've been granted access to this video\n",
      "Rows analyzed: 212, Rows left: 4408\n",
      "Rows analyzed: 213, Rows left: 4407\n",
      "Rows analyzed: 214, Rows left: 4406\n",
      "Rows analyzed: 215, Rows left: 4405\n"
     ]
    },
    {
     "name": "stderr",
     "output_type": "stream",
     "text": [
      "ERROR: [youtube] FrJRJp8LQcM: Video unavailable. This video is no longer available because the YouTube account associated with this video has been terminated.\n"
     ]
    },
    {
     "name": "stdout",
     "output_type": "stream",
     "text": [
      "Error checking language and duration for video FrJRJp8LQcM: ERROR: [youtube] FrJRJp8LQcM: Video unavailable. This video is no longer available because the YouTube account associated with this video has been terminated.\n",
      "Rows analyzed: 216, Rows left: 4404\n",
      "Rows analyzed: 217, Rows left: 4403\n",
      "Rows analyzed: 218, Rows left: 4402\n",
      "Rows analyzed: 219, Rows left: 4401\n",
      "Rows analyzed: 220, Rows left: 4400\n",
      "Rows analyzed: 221, Rows left: 4399\n",
      "Rows analyzed: 222, Rows left: 4398\n"
     ]
    },
    {
     "name": "stderr",
     "output_type": "stream",
     "text": [
      "ERROR: [youtube] YXjrlCX-W7c: Video unavailable\n"
     ]
    },
    {
     "name": "stdout",
     "output_type": "stream",
     "text": [
      "Error checking language and duration for video YXjrlCX-W7c: ERROR: [youtube] YXjrlCX-W7c: Video unavailable\n",
      "Rows analyzed: 223, Rows left: 4397\n",
      "Rows analyzed: 224, Rows left: 4396\n",
      "Rows analyzed: 225, Rows left: 4395\n"
     ]
    },
    {
     "name": "stderr",
     "output_type": "stream",
     "text": [
      "ERROR: [youtube] ah0yBSeaTOc: Video unavailable. This video is no longer available because the YouTube account associated with this video has been terminated.\n"
     ]
    },
    {
     "name": "stdout",
     "output_type": "stream",
     "text": [
      "Error checking language and duration for video ah0yBSeaTOc: ERROR: [youtube] ah0yBSeaTOc: Video unavailable. This video is no longer available because the YouTube account associated with this video has been terminated.\n",
      "Rows analyzed: 226, Rows left: 4394\n",
      "Rows analyzed: 227, Rows left: 4393\n",
      "Rows analyzed: 228, Rows left: 4392\n",
      "Rows analyzed: 229, Rows left: 4391\n",
      "Rows analyzed: 230, Rows left: 4390\n",
      "Rows analyzed: 231, Rows left: 4389\n",
      "Rows analyzed: 232, Rows left: 4388\n"
     ]
    },
    {
     "name": "stderr",
     "output_type": "stream",
     "text": [
      "ERROR: [youtube] 6mVfqcHtGgc: Video unavailable\n"
     ]
    },
    {
     "name": "stdout",
     "output_type": "stream",
     "text": [
      "Error checking language and duration for video 6mVfqcHtGgc: ERROR: [youtube] 6mVfqcHtGgc: Video unavailable\n",
      "Rows analyzed: 233, Rows left: 4387\n",
      "Rows analyzed: 234, Rows left: 4386\n",
      "Rows analyzed: 235, Rows left: 4385\n"
     ]
    },
    {
     "name": "stderr",
     "output_type": "stream",
     "text": [
      "ERROR: [youtube] h9_46Hbt0_4: Video unavailable. This video is no longer available because the YouTube account associated with this video has been terminated.\n"
     ]
    },
    {
     "name": "stdout",
     "output_type": "stream",
     "text": [
      "Error checking language and duration for video h9_46Hbt0_4: ERROR: [youtube] h9_46Hbt0_4: Video unavailable. This video is no longer available because the YouTube account associated with this video has been terminated.\n",
      "Rows analyzed: 236, Rows left: 4384\n",
      "Rows analyzed: 237, Rows left: 4383\n",
      "Rows analyzed: 238, Rows left: 4382\n",
      "Rows analyzed: 239, Rows left: 4381\n",
      "Rows analyzed: 240, Rows left: 4380\n",
      "Rows analyzed: 241, Rows left: 4379\n",
      "Rows analyzed: 242, Rows left: 4378\n"
     ]
    },
    {
     "name": "stderr",
     "output_type": "stream",
     "text": [
      "ERROR: [youtube] KqNuoGgnYi0: Private video. Sign in if you've been granted access to this video\n"
     ]
    },
    {
     "name": "stdout",
     "output_type": "stream",
     "text": [
      "Error checking language and duration for video KqNuoGgnYi0: ERROR: [youtube] KqNuoGgnYi0: Private video. Sign in if you've been granted access to this video\n",
      "Rows analyzed: 243, Rows left: 4377\n",
      "Rows analyzed: 244, Rows left: 4376\n",
      "Rows analyzed: 245, Rows left: 4375\n",
      "Rows analyzed: 246, Rows left: 4374\n",
      "Rows analyzed: 247, Rows left: 4373\n",
      "Rows analyzed: 248, Rows left: 4372\n"
     ]
    },
    {
     "name": "stderr",
     "output_type": "stream",
     "text": [
      "ERROR: [youtube] ZWDUF-5NKqc: Private video. Sign in if you've been granted access to this video\n"
     ]
    },
    {
     "name": "stdout",
     "output_type": "stream",
     "text": [
      "Error checking language and duration for video ZWDUF-5NKqc: ERROR: [youtube] ZWDUF-5NKqc: Private video. Sign in if you've been granted access to this video\n",
      "Rows analyzed: 249, Rows left: 4371\n",
      "Rows analyzed: 250, Rows left: 4370\n"
     ]
    },
    {
     "name": "stderr",
     "output_type": "stream",
     "text": [
      "ERROR: [youtube] nM03-Rk5Irc: Video unavailable\n"
     ]
    },
    {
     "name": "stdout",
     "output_type": "stream",
     "text": [
      "Error checking language and duration for video nM03-Rk5Irc: ERROR: [youtube] nM03-Rk5Irc: Video unavailable\n",
      "Rows analyzed: 251, Rows left: 4369\n",
      "Rows analyzed: 252, Rows left: 4368\n",
      "Rows analyzed: 253, Rows left: 4367\n",
      "Rows analyzed: 254, Rows left: 4366\n",
      "Rows analyzed: 255, Rows left: 4365\n",
      "Rows analyzed: 256, Rows left: 4364\n"
     ]
    },
    {
     "name": "stderr",
     "output_type": "stream",
     "text": [
      "ERROR: [youtube] 3g0qwInKiKA: Video unavailable\n"
     ]
    },
    {
     "name": "stdout",
     "output_type": "stream",
     "text": [
      "Error checking language and duration for video 3g0qwInKiKA: ERROR: [youtube] 3g0qwInKiKA: Video unavailable\n",
      "Rows analyzed: 257, Rows left: 4363\n",
      "Rows analyzed: 258, Rows left: 4362\n",
      "Rows analyzed: 259, Rows left: 4361\n",
      "Rows analyzed: 260, Rows left: 4360\n",
      "Rows analyzed: 261, Rows left: 4359\n"
     ]
    },
    {
     "name": "stderr",
     "output_type": "stream",
     "text": [
      "ERROR: [youtube] cPqK-badXG8: Video unavailable\n"
     ]
    },
    {
     "name": "stdout",
     "output_type": "stream",
     "text": [
      "Error checking language and duration for video cPqK-badXG8: ERROR: [youtube] cPqK-badXG8: Video unavailable\n",
      "Rows analyzed: 262, Rows left: 4358\n",
      "Rows analyzed: 263, Rows left: 4357\n",
      "Rows analyzed: 264, Rows left: 4356\n",
      "Rows analyzed: 265, Rows left: 4355\n",
      "Rows analyzed: 266, Rows left: 4354\n",
      "Rows analyzed: 267, Rows left: 4353\n",
      "Rows analyzed: 268, Rows left: 4352\n",
      "Rows analyzed: 269, Rows left: 4351\n",
      "Rows analyzed: 270, Rows left: 4350\n",
      "Rows analyzed: 271, Rows left: 4349\n",
      "Rows analyzed: 272, Rows left: 4348\n",
      "Rows analyzed: 273, Rows left: 4347\n",
      "Rows analyzed: 274, Rows left: 4346\n",
      "Rows analyzed: 275, Rows left: 4345\n"
     ]
    },
    {
     "name": "stderr",
     "output_type": "stream",
     "text": [
      "ERROR: [youtube] 4TqtFNfzXuM: Video unavailable. This video is no longer available because the YouTube account associated with this video has been terminated.\n"
     ]
    },
    {
     "name": "stdout",
     "output_type": "stream",
     "text": [
      "Error checking language and duration for video 4TqtFNfzXuM: ERROR: [youtube] 4TqtFNfzXuM: Video unavailable. This video is no longer available because the YouTube account associated with this video has been terminated.\n",
      "Rows analyzed: 276, Rows left: 4344\n"
     ]
    },
    {
     "name": "stderr",
     "output_type": "stream",
     "text": [
      "ERROR: [youtube] tj8F76uecJ4: Private video. Sign in if you've been granted access to this video\n"
     ]
    },
    {
     "name": "stdout",
     "output_type": "stream",
     "text": [
      "Error checking language and duration for video tj8F76uecJ4: ERROR: [youtube] tj8F76uecJ4: Private video. Sign in if you've been granted access to this video\n",
      "Rows analyzed: 277, Rows left: 4343\n",
      "Rows analyzed: 278, Rows left: 4342\n"
     ]
    },
    {
     "name": "stderr",
     "output_type": "stream",
     "text": [
      "ERROR: [youtube] IFhJ3zGlxHE: Private video. Sign in if you've been granted access to this video\n"
     ]
    },
    {
     "name": "stdout",
     "output_type": "stream",
     "text": [
      "Error checking language and duration for video IFhJ3zGlxHE: ERROR: [youtube] IFhJ3zGlxHE: Private video. Sign in if you've been granted access to this video\n",
      "Rows analyzed: 279, Rows left: 4341\n",
      "Rows analyzed: 280, Rows left: 4340\n",
      "Rows analyzed: 281, Rows left: 4339\n",
      "Rows analyzed: 282, Rows left: 4338\n"
     ]
    },
    {
     "name": "stderr",
     "output_type": "stream",
     "text": [
      "ERROR: [youtube] r2Bfj_h_87o: Private video. Sign in if you've been granted access to this video\n"
     ]
    },
    {
     "name": "stdout",
     "output_type": "stream",
     "text": [
      "Error checking language and duration for video r2Bfj_h_87o: ERROR: [youtube] r2Bfj_h_87o: Private video. Sign in if you've been granted access to this video\n",
      "Rows analyzed: 283, Rows left: 4337\n",
      "Rows analyzed: 284, Rows left: 4336\n"
     ]
    },
    {
     "name": "stderr",
     "output_type": "stream",
     "text": [
      "ERROR: [youtube] 8Uiyt1mksmw: Private video. Sign in if you've been granted access to this video\n"
     ]
    },
    {
     "name": "stdout",
     "output_type": "stream",
     "text": [
      "Error checking language and duration for video 8Uiyt1mksmw: ERROR: [youtube] 8Uiyt1mksmw: Private video. Sign in if you've been granted access to this video\n",
      "Rows analyzed: 285, Rows left: 4335\n"
     ]
    },
    {
     "name": "stderr",
     "output_type": "stream",
     "text": [
      "ERROR: [youtube] VhNBCzMQ1hQ: Private video. Sign in if you've been granted access to this video\n"
     ]
    },
    {
     "name": "stdout",
     "output_type": "stream",
     "text": [
      "Error checking language and duration for video VhNBCzMQ1hQ: ERROR: [youtube] VhNBCzMQ1hQ: Private video. Sign in if you've been granted access to this video\n",
      "Rows analyzed: 286, Rows left: 4334\n",
      "Rows analyzed: 287, Rows left: 4333\n"
     ]
    },
    {
     "name": "stderr",
     "output_type": "stream",
     "text": [
      "ERROR: [youtube] -7LMPlKHkWk: Video unavailable\n"
     ]
    },
    {
     "name": "stdout",
     "output_type": "stream",
     "text": [
      "Error checking language and duration for video -7LMPlKHkWk: ERROR: [youtube] -7LMPlKHkWk: Video unavailable\n",
      "Rows analyzed: 288, Rows left: 4332\n",
      "Rows analyzed: 289, Rows left: 4331\n",
      "Rows analyzed: 290, Rows left: 4330\n",
      "Rows analyzed: 291, Rows left: 4329\n",
      "Rows analyzed: 292, Rows left: 4328\n",
      "Rows analyzed: 293, Rows left: 4327\n",
      "Rows analyzed: 294, Rows left: 4326\n",
      "Rows analyzed: 295, Rows left: 4325\n",
      "Rows analyzed: 296, Rows left: 4324\n",
      "Rows analyzed: 297, Rows left: 4323\n",
      "Rows analyzed: 298, Rows left: 4322\n",
      "Rows analyzed: 299, Rows left: 4321\n",
      "Rows analyzed: 300, Rows left: 4320\n",
      "Rows analyzed: 301, Rows left: 4319\n",
      "Rows analyzed: 302, Rows left: 4318\n",
      "Rows analyzed: 303, Rows left: 4317\n"
     ]
    },
    {
     "name": "stderr",
     "output_type": "stream",
     "text": [
      "ERROR: [youtube] G64eVNGnFbk: Private video. Sign in if you've been granted access to this video\n"
     ]
    },
    {
     "name": "stdout",
     "output_type": "stream",
     "text": [
      "Error checking language and duration for video G64eVNGnFbk: ERROR: [youtube] G64eVNGnFbk: Private video. Sign in if you've been granted access to this video\n",
      "Rows analyzed: 304, Rows left: 4316\n",
      "Rows analyzed: 305, Rows left: 4315\n"
     ]
    },
    {
     "name": "stderr",
     "output_type": "stream",
     "text": [
      "ERROR: [youtube] WP1PbC3IO24: Video unavailable\n"
     ]
    },
    {
     "name": "stdout",
     "output_type": "stream",
     "text": [
      "Error checking language and duration for video WP1PbC3IO24: ERROR: [youtube] WP1PbC3IO24: Video unavailable\n",
      "Rows analyzed: 306, Rows left: 4314\n"
     ]
    },
    {
     "name": "stderr",
     "output_type": "stream",
     "text": [
      "ERROR: [youtube] Cw5Xs2VHdHU: Private video. Sign in if you've been granted access to this video\n"
     ]
    },
    {
     "name": "stdout",
     "output_type": "stream",
     "text": [
      "Error checking language and duration for video Cw5Xs2VHdHU: ERROR: [youtube] Cw5Xs2VHdHU: Private video. Sign in if you've been granted access to this video\n",
      "Rows analyzed: 307, Rows left: 4313\n",
      "Rows analyzed: 308, Rows left: 4312\n"
     ]
    },
    {
     "name": "stderr",
     "output_type": "stream",
     "text": [
      "ERROR: [youtube] FXrUC2aCCcE: Private video. Sign in if you've been granted access to this video\n"
     ]
    },
    {
     "name": "stdout",
     "output_type": "stream",
     "text": [
      "Error checking language and duration for video FXrUC2aCCcE: ERROR: [youtube] FXrUC2aCCcE: Private video. Sign in if you've been granted access to this video\n",
      "Rows analyzed: 309, Rows left: 4311\n",
      "Rows analyzed: 310, Rows left: 4310\n",
      "Rows analyzed: 311, Rows left: 4309\n",
      "Rows analyzed: 312, Rows left: 4308\n"
     ]
    },
    {
     "name": "stderr",
     "output_type": "stream",
     "text": [
      "ERROR: [youtube] rbD1c1mljnY: Private video. Sign in if you've been granted access to this video\n"
     ]
    },
    {
     "name": "stdout",
     "output_type": "stream",
     "text": [
      "Error checking language and duration for video rbD1c1mljnY: ERROR: [youtube] rbD1c1mljnY: Private video. Sign in if you've been granted access to this video\n",
      "Rows analyzed: 313, Rows left: 4307\n",
      "Rows analyzed: 314, Rows left: 4306\n",
      "Rows analyzed: 315, Rows left: 4305\n",
      "Rows analyzed: 316, Rows left: 4304\n",
      "Rows analyzed: 317, Rows left: 4303\n",
      "Rows analyzed: 318, Rows left: 4302\n"
     ]
    },
    {
     "name": "stderr",
     "output_type": "stream",
     "text": [
      "ERROR: [youtube] xdd7l6enYNs: Video unavailable. This video is no longer available because the YouTube account associated with this video has been terminated.\n"
     ]
    },
    {
     "name": "stdout",
     "output_type": "stream",
     "text": [
      "Error checking language and duration for video xdd7l6enYNs: ERROR: [youtube] xdd7l6enYNs: Video unavailable. This video is no longer available because the YouTube account associated with this video has been terminated.\n",
      "Rows analyzed: 319, Rows left: 4301\n",
      "Rows analyzed: 320, Rows left: 4300\n",
      "Rows analyzed: 321, Rows left: 4299\n",
      "Rows analyzed: 322, Rows left: 4298\n"
     ]
    },
    {
     "name": "stderr",
     "output_type": "stream",
     "text": [
      "ERROR: [youtube] xS5vxVKrFFE: Video unavailable\n"
     ]
    },
    {
     "name": "stdout",
     "output_type": "stream",
     "text": [
      "Error checking language and duration for video xS5vxVKrFFE: ERROR: [youtube] xS5vxVKrFFE: Video unavailable\n",
      "Rows analyzed: 323, Rows left: 4297\n"
     ]
    },
    {
     "name": "stderr",
     "output_type": "stream",
     "text": [
      "ERROR: [youtube] JLi0OF5PBNY: Video unavailable\n"
     ]
    },
    {
     "name": "stdout",
     "output_type": "stream",
     "text": [
      "Error checking language and duration for video JLi0OF5PBNY: ERROR: [youtube] JLi0OF5PBNY: Video unavailable\n",
      "Rows analyzed: 324, Rows left: 4296\n",
      "Rows analyzed: 325, Rows left: 4295\n"
     ]
    },
    {
     "name": "stderr",
     "output_type": "stream",
     "text": [
      "ERROR: [youtube] 4pNpGASqEmA: Video unavailable\n"
     ]
    },
    {
     "name": "stdout",
     "output_type": "stream",
     "text": [
      "Error checking language and duration for video 4pNpGASqEmA: ERROR: [youtube] 4pNpGASqEmA: Video unavailable\n",
      "Rows analyzed: 326, Rows left: 4294\n",
      "Rows analyzed: 327, Rows left: 4293\n"
     ]
    },
    {
     "name": "stderr",
     "output_type": "stream",
     "text": [
      "ERROR: [youtube] xcalNcDuL1s: Private video. Sign in if you've been granted access to this video\n"
     ]
    },
    {
     "name": "stdout",
     "output_type": "stream",
     "text": [
      "Error checking language and duration for video xcalNcDuL1s: ERROR: [youtube] xcalNcDuL1s: Private video. Sign in if you've been granted access to this video\n",
      "Rows analyzed: 328, Rows left: 4292\n",
      "Rows analyzed: 329, Rows left: 4291\n",
      "Rows analyzed: 330, Rows left: 4290\n"
     ]
    },
    {
     "name": "stderr",
     "output_type": "stream",
     "text": [
      "ERROR: [youtube] 8f7uEhdnMwM: Private video. Sign in if you've been granted access to this video\n"
     ]
    },
    {
     "name": "stdout",
     "output_type": "stream",
     "text": [
      "Error checking language and duration for video 8f7uEhdnMwM: ERROR: [youtube] 8f7uEhdnMwM: Private video. Sign in if you've been granted access to this video\n",
      "Rows analyzed: 331, Rows left: 4289\n",
      "Rows analyzed: 332, Rows left: 4288\n"
     ]
    },
    {
     "name": "stderr",
     "output_type": "stream",
     "text": [
      "ERROR: [youtube] KYh6WFI2glU: Private video. Sign in if you've been granted access to this video\n"
     ]
    },
    {
     "name": "stdout",
     "output_type": "stream",
     "text": [
      "Error checking language and duration for video KYh6WFI2glU: ERROR: [youtube] KYh6WFI2glU: Private video. Sign in if you've been granted access to this video\n",
      "Rows analyzed: 333, Rows left: 4287\n",
      "Rows analyzed: 334, Rows left: 4286\n",
      "Rows analyzed: 335, Rows left: 4285\n",
      "Rows analyzed: 336, Rows left: 4284\n",
      "Rows analyzed: 337, Rows left: 4283\n",
      "Rows analyzed: 338, Rows left: 4282\n"
     ]
    },
    {
     "name": "stderr",
     "output_type": "stream",
     "text": [
      "ERROR: [youtube] irUxMIUvbs8: Video unavailable\n"
     ]
    },
    {
     "name": "stdout",
     "output_type": "stream",
     "text": [
      "Error checking language and duration for video irUxMIUvbs8: ERROR: [youtube] irUxMIUvbs8: Video unavailable\n",
      "Rows analyzed: 339, Rows left: 4281\n"
     ]
    },
    {
     "name": "stderr",
     "output_type": "stream",
     "text": [
      "ERROR: [youtube] rrRjBlymHWc: Private video. Sign in if you've been granted access to this video\n"
     ]
    },
    {
     "name": "stdout",
     "output_type": "stream",
     "text": [
      "Error checking language and duration for video rrRjBlymHWc: ERROR: [youtube] rrRjBlymHWc: Private video. Sign in if you've been granted access to this video\n",
      "Rows analyzed: 340, Rows left: 4280\n",
      "Rows analyzed: 341, Rows left: 4279\n",
      "Rows analyzed: 342, Rows left: 4278\n"
     ]
    },
    {
     "name": "stderr",
     "output_type": "stream",
     "text": [
      "ERROR: [youtube] mfEyUASGH7w: Video unavailable. This video is no longer available because the YouTube account associated with this video has been terminated.\n"
     ]
    },
    {
     "name": "stdout",
     "output_type": "stream",
     "text": [
      "Error checking language and duration for video mfEyUASGH7w: ERROR: [youtube] mfEyUASGH7w: Video unavailable. This video is no longer available because the YouTube account associated with this video has been terminated.\n",
      "Rows analyzed: 343, Rows left: 4277\n",
      "Rows analyzed: 344, Rows left: 4276\n"
     ]
    },
    {
     "name": "stderr",
     "output_type": "stream",
     "text": [
      "ERROR: [youtube] lHzVSApTocw: Video unavailable. This video is no longer available because the YouTube account associated with this video has been terminated.\n"
     ]
    },
    {
     "name": "stdout",
     "output_type": "stream",
     "text": [
      "Error checking language and duration for video lHzVSApTocw: ERROR: [youtube] lHzVSApTocw: Video unavailable. This video is no longer available because the YouTube account associated with this video has been terminated.\n",
      "Rows analyzed: 345, Rows left: 4275\n",
      "Rows analyzed: 346, Rows left: 4274\n",
      "Rows analyzed: 347, Rows left: 4273\n",
      "Rows analyzed: 348, Rows left: 4272\n",
      "Rows analyzed: 349, Rows left: 4271\n",
      "Rows analyzed: 350, Rows left: 4270\n",
      "Rows analyzed: 351, Rows left: 4269\n",
      "Rows analyzed: 352, Rows left: 4268\n",
      "Rows analyzed: 353, Rows left: 4267\n",
      "Rows analyzed: 354, Rows left: 4266\n"
     ]
    },
    {
     "name": "stderr",
     "output_type": "stream",
     "text": [
      "ERROR: [youtube] 7xvCbsIRHqc: Private video. Sign in if you've been granted access to this video\n"
     ]
    },
    {
     "name": "stdout",
     "output_type": "stream",
     "text": [
      "Error checking language and duration for video 7xvCbsIRHqc: ERROR: [youtube] 7xvCbsIRHqc: Private video. Sign in if you've been granted access to this video\n",
      "Rows analyzed: 355, Rows left: 4265\n",
      "Rows analyzed: 356, Rows left: 4264\n",
      "Rows analyzed: 357, Rows left: 4263\n",
      "Rows analyzed: 358, Rows left: 4262\n",
      "Rows analyzed: 359, Rows left: 4261\n",
      "Rows analyzed: 360, Rows left: 4260\n",
      "Rows analyzed: 361, Rows left: 4259\n",
      "Rows analyzed: 362, Rows left: 4258\n",
      "Rows analyzed: 363, Rows left: 4257\n",
      "Rows analyzed: 364, Rows left: 4256\n",
      "Rows analyzed: 365, Rows left: 4255\n"
     ]
    },
    {
     "name": "stderr",
     "output_type": "stream",
     "text": [
      "ERROR: [youtube] RLEFxNpUavs: Video unavailable. This video is no longer available because the YouTube account associated with this video has been terminated.\n"
     ]
    },
    {
     "name": "stdout",
     "output_type": "stream",
     "text": [
      "Error checking language and duration for video RLEFxNpUavs: ERROR: [youtube] RLEFxNpUavs: Video unavailable. This video is no longer available because the YouTube account associated with this video has been terminated.\n",
      "Rows analyzed: 366, Rows left: 4254\n",
      "Rows analyzed: 367, Rows left: 4253\n",
      "Rows analyzed: 368, Rows left: 4252\n",
      "Rows analyzed: 369, Rows left: 4251\n",
      "Rows analyzed: 370, Rows left: 4250\n",
      "Rows analyzed: 371, Rows left: 4249\n",
      "Rows analyzed: 372, Rows left: 4248\n",
      "Rows analyzed: 373, Rows left: 4247\n",
      "Rows analyzed: 374, Rows left: 4246\n",
      "Rows analyzed: 375, Rows left: 4245\n",
      "Rows analyzed: 376, Rows left: 4244\n"
     ]
    },
    {
     "name": "stderr",
     "output_type": "stream",
     "text": [
      "ERROR: [youtube] tDuGk9b2G4s: Private video. Sign in if you've been granted access to this video\n"
     ]
    },
    {
     "name": "stdout",
     "output_type": "stream",
     "text": [
      "Error checking language and duration for video tDuGk9b2G4s: ERROR: [youtube] tDuGk9b2G4s: Private video. Sign in if you've been granted access to this video\n",
      "Rows analyzed: 377, Rows left: 4243\n",
      "Rows analyzed: 378, Rows left: 4242\n",
      "Rows analyzed: 379, Rows left: 4241\n",
      "Rows analyzed: 380, Rows left: 4240\n",
      "Rows analyzed: 381, Rows left: 4239\n"
     ]
    },
    {
     "name": "stderr",
     "output_type": "stream",
     "text": [
      "ERROR: [youtube] 0Phkc5Xf3a4: Private video. Sign in if you've been granted access to this video\n"
     ]
    },
    {
     "name": "stdout",
     "output_type": "stream",
     "text": [
      "Error checking language and duration for video 0Phkc5Xf3a4: ERROR: [youtube] 0Phkc5Xf3a4: Private video. Sign in if you've been granted access to this video\n",
      "Rows analyzed: 382, Rows left: 4238\n",
      "Rows analyzed: 383, Rows left: 4237\n",
      "Rows analyzed: 384, Rows left: 4236\n",
      "Rows analyzed: 385, Rows left: 4235\n",
      "Rows analyzed: 386, Rows left: 4234\n"
     ]
    },
    {
     "name": "stderr",
     "output_type": "stream",
     "text": [
      "ERROR: [youtube] 9BDGBZuioss: Video unavailable\n"
     ]
    },
    {
     "name": "stdout",
     "output_type": "stream",
     "text": [
      "Error checking language and duration for video 9BDGBZuioss: ERROR: [youtube] 9BDGBZuioss: Video unavailable\n",
      "Rows analyzed: 387, Rows left: 4233\n"
     ]
    },
    {
     "name": "stderr",
     "output_type": "stream",
     "text": [
      "ERROR: [youtube] zoNG-fvyo_M: Private video. Sign in if you've been granted access to this video\n"
     ]
    },
    {
     "name": "stdout",
     "output_type": "stream",
     "text": [
      "Error checking language and duration for video zoNG-fvyo_M: ERROR: [youtube] zoNG-fvyo_M: Private video. Sign in if you've been granted access to this video\n",
      "Rows analyzed: 388, Rows left: 4232\n",
      "Rows analyzed: 389, Rows left: 4231\n",
      "Rows analyzed: 390, Rows left: 4230\n",
      "Rows analyzed: 391, Rows left: 4229\n"
     ]
    },
    {
     "name": "stderr",
     "output_type": "stream",
     "text": [
      "ERROR: [youtube] 9CCaCEQepfc: Video unavailable\n"
     ]
    },
    {
     "name": "stdout",
     "output_type": "stream",
     "text": [
      "Error checking language and duration for video 9CCaCEQepfc: ERROR: [youtube] 9CCaCEQepfc: Video unavailable\n",
      "Rows analyzed: 392, Rows left: 4228\n",
      "Rows analyzed: 393, Rows left: 4227\n",
      "Rows analyzed: 394, Rows left: 4226\n",
      "Rows analyzed: 395, Rows left: 4225\n",
      "Rows analyzed: 396, Rows left: 4224\n",
      "Rows analyzed: 397, Rows left: 4223\n"
     ]
    },
    {
     "name": "stderr",
     "output_type": "stream",
     "text": [
      "ERROR: [youtube] Ab81Nb0EfeU: Video unavailable\n"
     ]
    },
    {
     "name": "stdout",
     "output_type": "stream",
     "text": [
      "Error checking language and duration for video Ab81Nb0EfeU: ERROR: [youtube] Ab81Nb0EfeU: Video unavailable\n",
      "Rows analyzed: 398, Rows left: 4222\n",
      "Rows analyzed: 399, Rows left: 4221\n"
     ]
    },
    {
     "name": "stderr",
     "output_type": "stream",
     "text": [
      "ERROR: [youtube] FD1bvKXz6vw: Video unavailable. This video is no longer available because the YouTube account associated with this video has been terminated.\n"
     ]
    },
    {
     "name": "stdout",
     "output_type": "stream",
     "text": [
      "Error checking language and duration for video FD1bvKXz6vw: ERROR: [youtube] FD1bvKXz6vw: Video unavailable. This video is no longer available because the YouTube account associated with this video has been terminated.\n",
      "Rows analyzed: 400, Rows left: 4220\n",
      "Rows analyzed: 401, Rows left: 4219\n",
      "Rows analyzed: 402, Rows left: 4218\n"
     ]
    },
    {
     "name": "stderr",
     "output_type": "stream",
     "text": [
      "ERROR: [youtube] Fchm5mNav0o: Private video. Sign in if you've been granted access to this video\n"
     ]
    },
    {
     "name": "stdout",
     "output_type": "stream",
     "text": [
      "Error checking language and duration for video Fchm5mNav0o: ERROR: [youtube] Fchm5mNav0o: Private video. Sign in if you've been granted access to this video\n",
      "Rows analyzed: 403, Rows left: 4217\n"
     ]
    },
    {
     "name": "stderr",
     "output_type": "stream",
     "text": [
      "ERROR: [youtube] 9S72DFptX7M: Video unavailable. This video is no longer available because the YouTube account associated with this video has been terminated.\n"
     ]
    },
    {
     "name": "stdout",
     "output_type": "stream",
     "text": [
      "Error checking language and duration for video 9S72DFptX7M: ERROR: [youtube] 9S72DFptX7M: Video unavailable. This video is no longer available because the YouTube account associated with this video has been terminated.\n",
      "Rows analyzed: 404, Rows left: 4216\n",
      "Rows analyzed: 405, Rows left: 4215\n",
      "Rows analyzed: 406, Rows left: 4214\n",
      "Rows analyzed: 407, Rows left: 4213\n",
      "Rows analyzed: 408, Rows left: 4212\n",
      "Rows analyzed: 409, Rows left: 4211\n"
     ]
    },
    {
     "name": "stderr",
     "output_type": "stream",
     "text": [
      "ERROR: [youtube] HU8-SwRu0kY: Private video. Sign in if you've been granted access to this video\n"
     ]
    },
    {
     "name": "stdout",
     "output_type": "stream",
     "text": [
      "Error checking language and duration for video HU8-SwRu0kY: ERROR: [youtube] HU8-SwRu0kY: Private video. Sign in if you've been granted access to this video\n",
      "Rows analyzed: 410, Rows left: 4210\n",
      "Rows analyzed: 411, Rows left: 4209\n",
      "Rows analyzed: 412, Rows left: 4208\n"
     ]
    },
    {
     "name": "stderr",
     "output_type": "stream",
     "text": [
      "ERROR: [youtube] WNu5VAWXO3E: Private video. Sign in if you've been granted access to this video\n"
     ]
    },
    {
     "name": "stdout",
     "output_type": "stream",
     "text": [
      "Error checking language and duration for video WNu5VAWXO3E: ERROR: [youtube] WNu5VAWXO3E: Private video. Sign in if you've been granted access to this video\n",
      "Rows analyzed: 413, Rows left: 4207\n",
      "Rows analyzed: 414, Rows left: 4206\n",
      "Rows analyzed: 415, Rows left: 4205\n",
      "Rows analyzed: 416, Rows left: 4204\n",
      "Rows analyzed: 417, Rows left: 4203\n",
      "Rows analyzed: 418, Rows left: 4202\n",
      "Rows analyzed: 419, Rows left: 4201\n",
      "Rows analyzed: 420, Rows left: 4200\n",
      "Rows analyzed: 421, Rows left: 4199\n",
      "Rows analyzed: 422, Rows left: 4198\n",
      "Rows analyzed: 423, Rows left: 4197\n",
      "Rows analyzed: 424, Rows left: 4196\n",
      "Rows analyzed: 425, Rows left: 4195\n",
      "Rows analyzed: 426, Rows left: 4194\n",
      "Rows analyzed: 427, Rows left: 4193\n",
      "Rows analyzed: 428, Rows left: 4192\n",
      "Rows analyzed: 429, Rows left: 4191\n",
      "Rows analyzed: 430, Rows left: 4190\n",
      "Rows analyzed: 431, Rows left: 4189\n",
      "Rows analyzed: 432, Rows left: 4188\n",
      "Rows analyzed: 433, Rows left: 4187\n",
      "Rows analyzed: 434, Rows left: 4186\n"
     ]
    },
    {
     "name": "stderr",
     "output_type": "stream",
     "text": [
      "ERROR: [youtube] GGkujiDOoz0: Video unavailable\n"
     ]
    },
    {
     "name": "stdout",
     "output_type": "stream",
     "text": [
      "Error checking language and duration for video GGkujiDOoz0: ERROR: [youtube] GGkujiDOoz0: Video unavailable\n",
      "Rows analyzed: 435, Rows left: 4185\n"
     ]
    },
    {
     "name": "stderr",
     "output_type": "stream",
     "text": [
      "ERROR: [youtube] X9TwhwVlllo: Private video. Sign in if you've been granted access to this video\n"
     ]
    },
    {
     "name": "stdout",
     "output_type": "stream",
     "text": [
      "Error checking language and duration for video X9TwhwVlllo: ERROR: [youtube] X9TwhwVlllo: Private video. Sign in if you've been granted access to this video\n",
      "Rows analyzed: 436, Rows left: 4184\n",
      "Rows analyzed: 437, Rows left: 4183\n",
      "Rows analyzed: 438, Rows left: 4182\n",
      "Rows analyzed: 439, Rows left: 4181\n"
     ]
    },
    {
     "name": "stderr",
     "output_type": "stream",
     "text": [
      "ERROR: [youtube] LwuBeeM8444: Private video. Sign in if you've been granted access to this video\n"
     ]
    },
    {
     "name": "stdout",
     "output_type": "stream",
     "text": [
      "Error checking language and duration for video LwuBeeM8444: ERROR: [youtube] LwuBeeM8444: Private video. Sign in if you've been granted access to this video\n",
      "Rows analyzed: 440, Rows left: 4180\n",
      "Rows analyzed: 441, Rows left: 4179\n",
      "Rows analyzed: 442, Rows left: 4178\n"
     ]
    },
    {
     "name": "stderr",
     "output_type": "stream",
     "text": [
      "ERROR: [youtube] 9VHIoMF5Y8k: Private video. Sign in if you've been granted access to this video\n"
     ]
    },
    {
     "name": "stdout",
     "output_type": "stream",
     "text": [
      "Error checking language and duration for video 9VHIoMF5Y8k: ERROR: [youtube] 9VHIoMF5Y8k: Private video. Sign in if you've been granted access to this video\n",
      "Rows analyzed: 443, Rows left: 4177\n",
      "Rows analyzed: 444, Rows left: 4176\n",
      "Rows analyzed: 445, Rows left: 4175\n",
      "Rows analyzed: 446, Rows left: 4174\n"
     ]
    },
    {
     "name": "stderr",
     "output_type": "stream",
     "text": [
      "ERROR: [youtube] iMNdme_c7Ko: Private video. Sign in if you've been granted access to this video\n"
     ]
    },
    {
     "name": "stdout",
     "output_type": "stream",
     "text": [
      "Error checking language and duration for video iMNdme_c7Ko: ERROR: [youtube] iMNdme_c7Ko: Private video. Sign in if you've been granted access to this video\n",
      "Rows analyzed: 447, Rows left: 4173\n",
      "Rows analyzed: 448, Rows left: 4172\n",
      "Rows analyzed: 449, Rows left: 4171\n",
      "Rows analyzed: 450, Rows left: 4170\n",
      "Rows analyzed: 451, Rows left: 4169\n",
      "Rows analyzed: 452, Rows left: 4168\n",
      "Rows analyzed: 453, Rows left: 4167\n"
     ]
    },
    {
     "name": "stderr",
     "output_type": "stream",
     "text": [
      "ERROR: [youtube] Mu0n_kxuI5o: Private video. Sign in if you've been granted access to this video\n"
     ]
    },
    {
     "name": "stdout",
     "output_type": "stream",
     "text": [
      "Error checking language and duration for video Mu0n_kxuI5o: ERROR: [youtube] Mu0n_kxuI5o: Private video. Sign in if you've been granted access to this video\n",
      "Rows analyzed: 454, Rows left: 4166\n",
      "Rows analyzed: 455, Rows left: 4165\n",
      "Rows analyzed: 456, Rows left: 4164\n",
      "Rows analyzed: 457, Rows left: 4163\n"
     ]
    },
    {
     "name": "stderr",
     "output_type": "stream",
     "text": [
      "ERROR: [youtube] f3zaLWDoBDo: Video unavailable\n"
     ]
    },
    {
     "name": "stdout",
     "output_type": "stream",
     "text": [
      "Error checking language and duration for video f3zaLWDoBDo: ERROR: [youtube] f3zaLWDoBDo: Video unavailable\n",
      "Rows analyzed: 458, Rows left: 4162\n",
      "Rows analyzed: 459, Rows left: 4161\n",
      "Rows analyzed: 460, Rows left: 4160\n",
      "Rows analyzed: 461, Rows left: 4159\n",
      "Rows analyzed: 462, Rows left: 4158\n",
      "Rows analyzed: 463, Rows left: 4157\n",
      "Rows analyzed: 464, Rows left: 4156\n"
     ]
    },
    {
     "name": "stderr",
     "output_type": "stream",
     "text": [
      "ERROR: [youtube] fynFgWw--Sc: Private video. Sign in if you've been granted access to this video\n"
     ]
    },
    {
     "name": "stdout",
     "output_type": "stream",
     "text": [
      "Error checking language and duration for video fynFgWw--Sc: ERROR: [youtube] fynFgWw--Sc: Private video. Sign in if you've been granted access to this video\n",
      "Rows analyzed: 465, Rows left: 4155\n",
      "Rows analyzed: 466, Rows left: 4154\n",
      "Rows analyzed: 467, Rows left: 4153\n",
      "Rows analyzed: 468, Rows left: 4152\n",
      "Rows analyzed: 469, Rows left: 4151\n",
      "Rows analyzed: 470, Rows left: 4150\n"
     ]
    },
    {
     "name": "stderr",
     "output_type": "stream",
     "text": [
      "ERROR: [youtube] DZOMFmbuTjA: Private video. Sign in if you've been granted access to this video\n"
     ]
    },
    {
     "name": "stdout",
     "output_type": "stream",
     "text": [
      "Error checking language and duration for video DZOMFmbuTjA: ERROR: [youtube] DZOMFmbuTjA: Private video. Sign in if you've been granted access to this video\n",
      "Rows analyzed: 471, Rows left: 4149\n"
     ]
    },
    {
     "name": "stderr",
     "output_type": "stream",
     "text": [
      "ERROR: [youtube] Mu_uoaawBcw: Video unavailable\n"
     ]
    },
    {
     "name": "stdout",
     "output_type": "stream",
     "text": [
      "Error checking language and duration for video Mu_uoaawBcw: ERROR: [youtube] Mu_uoaawBcw: Video unavailable\n",
      "Rows analyzed: 472, Rows left: 4148\n",
      "Rows analyzed: 473, Rows left: 4147\n",
      "Rows analyzed: 474, Rows left: 4146\n"
     ]
    },
    {
     "name": "stderr",
     "output_type": "stream",
     "text": [
      "ERROR: [youtube] WlDS7qORe88: Video unavailable\n"
     ]
    },
    {
     "name": "stdout",
     "output_type": "stream",
     "text": [
      "Error checking language and duration for video WlDS7qORe88: ERROR: [youtube] WlDS7qORe88: Video unavailable\n",
      "Rows analyzed: 475, Rows left: 4145\n",
      "Rows analyzed: 476, Rows left: 4144\n",
      "Rows analyzed: 477, Rows left: 4143\n",
      "Rows analyzed: 478, Rows left: 4142\n",
      "Rows analyzed: 479, Rows left: 4141\n",
      "Rows analyzed: 480, Rows left: 4140\n"
     ]
    },
    {
     "name": "stderr",
     "output_type": "stream",
     "text": [
      "ERROR: [youtube] ZkLvUDVdtlU: Sign in to confirm your age. This video may be inappropriate for some users.\n"
     ]
    },
    {
     "name": "stdout",
     "output_type": "stream",
     "text": [
      "Error checking language and duration for video ZkLvUDVdtlU: ERROR: [youtube] ZkLvUDVdtlU: Sign in to confirm your age. This video may be inappropriate for some users.\n",
      "Rows analyzed: 481, Rows left: 4139\n",
      "Rows analyzed: 482, Rows left: 4138\n",
      "Rows analyzed: 483, Rows left: 4137\n"
     ]
    },
    {
     "name": "stderr",
     "output_type": "stream",
     "text": [
      "ERROR: [youtube] 9GAF7BOoFnc: Video unavailable. This video is no longer available because the YouTube account associated with this video has been terminated.\n"
     ]
    },
    {
     "name": "stdout",
     "output_type": "stream",
     "text": [
      "Error checking language and duration for video 9GAF7BOoFnc: ERROR: [youtube] 9GAF7BOoFnc: Video unavailable. This video is no longer available because the YouTube account associated with this video has been terminated.\n",
      "Rows analyzed: 484, Rows left: 4136\n"
     ]
    },
    {
     "name": "stderr",
     "output_type": "stream",
     "text": [
      "ERROR: [youtube] JzYc9j4XBjo: Video unavailable\n"
     ]
    },
    {
     "name": "stdout",
     "output_type": "stream",
     "text": [
      "Error checking language and duration for video JzYc9j4XBjo: ERROR: [youtube] JzYc9j4XBjo: Video unavailable\n",
      "Rows analyzed: 485, Rows left: 4135\n"
     ]
    },
    {
     "name": "stderr",
     "output_type": "stream",
     "text": [
      "ERROR: [youtube] rUF-gM5vLGQ: Video unavailable\n"
     ]
    },
    {
     "name": "stdout",
     "output_type": "stream",
     "text": [
      "Error checking language and duration for video rUF-gM5vLGQ: ERROR: [youtube] rUF-gM5vLGQ: Video unavailable\n",
      "Rows analyzed: 486, Rows left: 4134\n",
      "Rows analyzed: 487, Rows left: 4133\n",
      "Rows analyzed: 488, Rows left: 4132\n",
      "Rows analyzed: 489, Rows left: 4131\n",
      "Rows analyzed: 490, Rows left: 4130\n",
      "Rows analyzed: 491, Rows left: 4129\n",
      "Rows analyzed: 492, Rows left: 4128\n",
      "Rows analyzed: 493, Rows left: 4127\n",
      "Rows analyzed: 494, Rows left: 4126\n",
      "Rows analyzed: 495, Rows left: 4125\n",
      "Rows analyzed: 496, Rows left: 4124\n",
      "Rows analyzed: 497, Rows left: 4123\n"
     ]
    },
    {
     "name": "stderr",
     "output_type": "stream",
     "text": [
      "ERROR: [youtube] hRpLrwuBsSo: Video unavailable. This video is no longer available because the YouTube account associated with this video has been terminated.\n"
     ]
    },
    {
     "name": "stdout",
     "output_type": "stream",
     "text": [
      "Error checking language and duration for video hRpLrwuBsSo: ERROR: [youtube] hRpLrwuBsSo: Video unavailable. This video is no longer available because the YouTube account associated with this video has been terminated.\n",
      "Rows analyzed: 498, Rows left: 4122\n"
     ]
    },
    {
     "name": "stderr",
     "output_type": "stream",
     "text": [
      "ERROR: [youtube] BUPgOPmJLhI: Private video. Sign in if you've been granted access to this video\n"
     ]
    },
    {
     "name": "stdout",
     "output_type": "stream",
     "text": [
      "Error checking language and duration for video BUPgOPmJLhI: ERROR: [youtube] BUPgOPmJLhI: Private video. Sign in if you've been granted access to this video\n",
      "Rows analyzed: 499, Rows left: 4121\n",
      "Rows analyzed: 500, Rows left: 4120\n"
     ]
    },
    {
     "name": "stderr",
     "output_type": "stream",
     "text": [
      "ERROR: [youtube] eZ0IrQdDxVo: Private video. Sign in if you've been granted access to this video\n"
     ]
    },
    {
     "name": "stdout",
     "output_type": "stream",
     "text": [
      "Error checking language and duration for video eZ0IrQdDxVo: ERROR: [youtube] eZ0IrQdDxVo: Private video. Sign in if you've been granted access to this video\n",
      "Rows analyzed: 501, Rows left: 4119\n",
      "Rows analyzed: 502, Rows left: 4118\n",
      "Rows analyzed: 503, Rows left: 4117\n"
     ]
    },
    {
     "name": "stderr",
     "output_type": "stream",
     "text": [
      "ERROR: [youtube] yAHtgWrC7nQ: Video unavailable. This video is no longer available because the YouTube account associated with this video has been terminated.\n"
     ]
    },
    {
     "name": "stdout",
     "output_type": "stream",
     "text": [
      "Error checking language and duration for video yAHtgWrC7nQ: ERROR: [youtube] yAHtgWrC7nQ: Video unavailable. This video is no longer available because the YouTube account associated with this video has been terminated.\n",
      "Rows analyzed: 504, Rows left: 4116\n"
     ]
    },
    {
     "name": "stderr",
     "output_type": "stream",
     "text": [
      "ERROR: [youtube] _5tyJFmjCzo: Video unavailable. This video is no longer available because the YouTube account associated with this video has been terminated.\n"
     ]
    },
    {
     "name": "stdout",
     "output_type": "stream",
     "text": [
      "Error checking language and duration for video _5tyJFmjCzo: ERROR: [youtube] _5tyJFmjCzo: Video unavailable. This video is no longer available because the YouTube account associated with this video has been terminated.\n",
      "Rows analyzed: 505, Rows left: 4115\n",
      "Rows analyzed: 506, Rows left: 4114\n"
     ]
    },
    {
     "name": "stderr",
     "output_type": "stream",
     "text": [
      "ERROR: [youtube] ZBcVyxdmu74: Video unavailable\n"
     ]
    },
    {
     "name": "stdout",
     "output_type": "stream",
     "text": [
      "Error checking language and duration for video ZBcVyxdmu74: ERROR: [youtube] ZBcVyxdmu74: Video unavailable\n",
      "Rows analyzed: 507, Rows left: 4113\n",
      "Rows analyzed: 508, Rows left: 4112\n"
     ]
    },
    {
     "name": "stderr",
     "output_type": "stream",
     "text": [
      "ERROR: [youtube] GYON3cJBAPo: Private video. Sign in if you've been granted access to this video\n"
     ]
    },
    {
     "name": "stdout",
     "output_type": "stream",
     "text": [
      "Error checking language and duration for video GYON3cJBAPo: ERROR: [youtube] GYON3cJBAPo: Private video. Sign in if you've been granted access to this video\n",
      "Rows analyzed: 509, Rows left: 4111\n",
      "Rows analyzed: 510, Rows left: 4110\n",
      "Rows analyzed: 511, Rows left: 4109\n",
      "Rows analyzed: 512, Rows left: 4108\n",
      "Rows analyzed: 513, Rows left: 4107\n",
      "Rows analyzed: 514, Rows left: 4106\n",
      "Rows analyzed: 515, Rows left: 4105\n",
      "Rows analyzed: 516, Rows left: 4104\n",
      "Rows analyzed: 517, Rows left: 4103\n",
      "Rows analyzed: 518, Rows left: 4102\n"
     ]
    },
    {
     "name": "stderr",
     "output_type": "stream",
     "text": [
      "ERROR: [youtube] BjtuzUpLWVc: Video unavailable\n"
     ]
    },
    {
     "name": "stdout",
     "output_type": "stream",
     "text": [
      "Error checking language and duration for video BjtuzUpLWVc: ERROR: [youtube] BjtuzUpLWVc: Video unavailable\n",
      "Rows analyzed: 519, Rows left: 4101\n",
      "Rows analyzed: 520, Rows left: 4100\n",
      "Rows analyzed: 521, Rows left: 4099\n",
      "Rows analyzed: 522, Rows left: 4098\n",
      "Rows analyzed: 523, Rows left: 4097\n",
      "Rows analyzed: 524, Rows left: 4096\n"
     ]
    },
    {
     "name": "stderr",
     "output_type": "stream",
     "text": [
      "ERROR: [youtube] O5svrAoOris: Video unavailable\n"
     ]
    },
    {
     "name": "stdout",
     "output_type": "stream",
     "text": [
      "Error checking language and duration for video O5svrAoOris: ERROR: [youtube] O5svrAoOris: Video unavailable\n",
      "Rows analyzed: 525, Rows left: 4095\n",
      "Rows analyzed: 526, Rows left: 4094\n",
      "Rows analyzed: 527, Rows left: 4093\n",
      "Rows analyzed: 528, Rows left: 4092\n",
      "Rows analyzed: 529, Rows left: 4091\n"
     ]
    },
    {
     "name": "stderr",
     "output_type": "stream",
     "text": [
      "ERROR: [youtube] Pf0uaiPM104: Private video. Sign in if you've been granted access to this video\n"
     ]
    },
    {
     "name": "stdout",
     "output_type": "stream",
     "text": [
      "Error checking language and duration for video Pf0uaiPM104: ERROR: [youtube] Pf0uaiPM104: Private video. Sign in if you've been granted access to this video\n",
      "Rows analyzed: 530, Rows left: 4090\n"
     ]
    },
    {
     "name": "stderr",
     "output_type": "stream",
     "text": [
      "ERROR: [youtube] yswJlvz7lgU: Video unavailable\n"
     ]
    },
    {
     "name": "stdout",
     "output_type": "stream",
     "text": [
      "Error checking language and duration for video yswJlvz7lgU: ERROR: [youtube] yswJlvz7lgU: Video unavailable\n",
      "Rows analyzed: 531, Rows left: 4089\n",
      "Rows analyzed: 532, Rows left: 4088\n",
      "Rows analyzed: 533, Rows left: 4087\n"
     ]
    },
    {
     "name": "stderr",
     "output_type": "stream",
     "text": [
      "ERROR: [youtube] 2gE3ccw7cag: Private video. Sign in if you've been granted access to this video\n"
     ]
    },
    {
     "name": "stdout",
     "output_type": "stream",
     "text": [
      "Error checking language and duration for video 2gE3ccw7cag: ERROR: [youtube] 2gE3ccw7cag: Private video. Sign in if you've been granted access to this video\n",
      "Rows analyzed: 534, Rows left: 4086\n"
     ]
    },
    {
     "name": "stderr",
     "output_type": "stream",
     "text": [
      "ERROR: [youtube] zuNdCm8QJ6o: Video unavailable. This video is no longer available because the YouTube account associated with this video has been terminated.\n"
     ]
    },
    {
     "name": "stdout",
     "output_type": "stream",
     "text": [
      "Error checking language and duration for video zuNdCm8QJ6o: ERROR: [youtube] zuNdCm8QJ6o: Video unavailable. This video is no longer available because the YouTube account associated with this video has been terminated.\n",
      "Rows analyzed: 535, Rows left: 4085\n",
      "Rows analyzed: 536, Rows left: 4084\n",
      "Rows analyzed: 537, Rows left: 4083\n",
      "Rows analyzed: 538, Rows left: 4082\n",
      "Rows analyzed: 539, Rows left: 4081\n",
      "Rows analyzed: 540, Rows left: 4080\n",
      "Rows analyzed: 541, Rows left: 4079\n",
      "Rows analyzed: 542, Rows left: 4078\n",
      "Rows analyzed: 543, Rows left: 4077\n"
     ]
    },
    {
     "name": "stderr",
     "output_type": "stream",
     "text": [
      "ERROR: [youtube] WgCN0DTwNOA: Video unavailable\n"
     ]
    },
    {
     "name": "stdout",
     "output_type": "stream",
     "text": [
      "Error checking language and duration for video WgCN0DTwNOA: ERROR: [youtube] WgCN0DTwNOA: Video unavailable\n",
      "Rows analyzed: 544, Rows left: 4076\n",
      "Rows analyzed: 545, Rows left: 4075\n"
     ]
    },
    {
     "name": "stderr",
     "output_type": "stream",
     "text": [
      "ERROR: [youtube] XiGipSnlMz0: Video unavailable\n"
     ]
    },
    {
     "name": "stdout",
     "output_type": "stream",
     "text": [
      "Error checking language and duration for video XiGipSnlMz0: ERROR: [youtube] XiGipSnlMz0: Video unavailable\n",
      "Rows analyzed: 546, Rows left: 4074\n",
      "Rows analyzed: 547, Rows left: 4073\n"
     ]
    },
    {
     "name": "stderr",
     "output_type": "stream",
     "text": [
      "ERROR: [youtube] fAOmqPTOnXg: Private video. Sign in if you've been granted access to this video\n"
     ]
    },
    {
     "name": "stdout",
     "output_type": "stream",
     "text": [
      "Error checking language and duration for video fAOmqPTOnXg: ERROR: [youtube] fAOmqPTOnXg: Private video. Sign in if you've been granted access to this video\n",
      "Rows analyzed: 548, Rows left: 4072\n",
      "Rows analyzed: 549, Rows left: 4071\n"
     ]
    },
    {
     "name": "stderr",
     "output_type": "stream",
     "text": [
      "ERROR: [youtube] z5F4SEILtzE: Video unavailable. This video is no longer available because the YouTube account associated with this video has been terminated.\n"
     ]
    },
    {
     "name": "stdout",
     "output_type": "stream",
     "text": [
      "Error checking language and duration for video z5F4SEILtzE: ERROR: [youtube] z5F4SEILtzE: Video unavailable. This video is no longer available because the YouTube account associated with this video has been terminated.\n",
      "Rows analyzed: 550, Rows left: 4070\n"
     ]
    },
    {
     "name": "stderr",
     "output_type": "stream",
     "text": [
      "ERROR: [youtube] _NbVZmW7ZhI: Video unavailable\n"
     ]
    },
    {
     "name": "stdout",
     "output_type": "stream",
     "text": [
      "Error checking language and duration for video _NbVZmW7ZhI: ERROR: [youtube] _NbVZmW7ZhI: Video unavailable\n",
      "Rows analyzed: 551, Rows left: 4069\n",
      "Rows analyzed: 552, Rows left: 4068\n"
     ]
    },
    {
     "name": "stderr",
     "output_type": "stream",
     "text": [
      "ERROR: [youtube] 00BloR7mTWM: Private video. Sign in if you've been granted access to this video\n"
     ]
    },
    {
     "name": "stdout",
     "output_type": "stream",
     "text": [
      "Error checking language and duration for video 00BloR7mTWM: ERROR: [youtube] 00BloR7mTWM: Private video. Sign in if you've been granted access to this video\n",
      "Rows analyzed: 553, Rows left: 4067\n",
      "Rows analyzed: 554, Rows left: 4066\n"
     ]
    },
    {
     "name": "stderr",
     "output_type": "stream",
     "text": [
      "ERROR: [youtube] FAc_1g8VLeA: Private video. Sign in if you've been granted access to this video\n"
     ]
    },
    {
     "name": "stdout",
     "output_type": "stream",
     "text": [
      "Error checking language and duration for video FAc_1g8VLeA: ERROR: [youtube] FAc_1g8VLeA: Private video. Sign in if you've been granted access to this video\n",
      "Rows analyzed: 555, Rows left: 4065\n",
      "Rows analyzed: 556, Rows left: 4064\n",
      "Rows analyzed: 557, Rows left: 4063\n",
      "Rows analyzed: 558, Rows left: 4062\n",
      "Rows analyzed: 559, Rows left: 4061\n",
      "Rows analyzed: 560, Rows left: 4060\n",
      "Rows analyzed: 561, Rows left: 4059\n",
      "Rows analyzed: 562, Rows left: 4058\n",
      "Rows analyzed: 563, Rows left: 4057\n",
      "Rows analyzed: 564, Rows left: 4056\n",
      "Rows analyzed: 565, Rows left: 4055\n",
      "Rows analyzed: 566, Rows left: 4054\n",
      "Rows analyzed: 567, Rows left: 4053\n",
      "Rows analyzed: 568, Rows left: 4052\n"
     ]
    },
    {
     "name": "stderr",
     "output_type": "stream",
     "text": [
      "ERROR: [youtube] K0ES3_RmbEc: Private video. Sign in if you've been granted access to this video\n"
     ]
    },
    {
     "name": "stdout",
     "output_type": "stream",
     "text": [
      "Error checking language and duration for video K0ES3_RmbEc: ERROR: [youtube] K0ES3_RmbEc: Private video. Sign in if you've been granted access to this video\n",
      "Rows analyzed: 569, Rows left: 4051\n"
     ]
    },
    {
     "name": "stderr",
     "output_type": "stream",
     "text": [
      "ERROR: [youtube] hV_ZZFWXJlQ: Private video. Sign in if you've been granted access to this video\n"
     ]
    },
    {
     "name": "stdout",
     "output_type": "stream",
     "text": [
      "Error checking language and duration for video hV_ZZFWXJlQ: ERROR: [youtube] hV_ZZFWXJlQ: Private video. Sign in if you've been granted access to this video\n",
      "Rows analyzed: 570, Rows left: 4050\n",
      "Rows analyzed: 571, Rows left: 4049\n",
      "Rows analyzed: 572, Rows left: 4048\n",
      "Rows analyzed: 573, Rows left: 4047\n",
      "Rows analyzed: 574, Rows left: 4046\n",
      "Rows analyzed: 575, Rows left: 4045\n",
      "Rows analyzed: 576, Rows left: 4044\n",
      "Rows analyzed: 577, Rows left: 4043\n",
      "Rows analyzed: 578, Rows left: 4042\n",
      "Rows analyzed: 579, Rows left: 4041\n"
     ]
    },
    {
     "name": "stderr",
     "output_type": "stream",
     "text": [
      "ERROR: [youtube] ApdOBA4Ff5s: Video unavailable\n"
     ]
    },
    {
     "name": "stdout",
     "output_type": "stream",
     "text": [
      "Error checking language and duration for video ApdOBA4Ff5s: ERROR: [youtube] ApdOBA4Ff5s: Video unavailable\n",
      "Rows analyzed: 580, Rows left: 4040\n"
     ]
    },
    {
     "name": "stderr",
     "output_type": "stream",
     "text": [
      "ERROR: [youtube] 5kcmUP8boyk: Private video. Sign in if you've been granted access to this video\n"
     ]
    },
    {
     "name": "stdout",
     "output_type": "stream",
     "text": [
      "Error checking language and duration for video 5kcmUP8boyk: ERROR: [youtube] 5kcmUP8boyk: Private video. Sign in if you've been granted access to this video\n",
      "Rows analyzed: 581, Rows left: 4039\n",
      "Rows analyzed: 582, Rows left: 4038\n",
      "Rows analyzed: 583, Rows left: 4037\n"
     ]
    },
    {
     "name": "stderr",
     "output_type": "stream",
     "text": [
      "ERROR: [youtube] DsPsf42Zgnc: Private video. Sign in if you've been granted access to this video\n"
     ]
    },
    {
     "name": "stdout",
     "output_type": "stream",
     "text": [
      "Error checking language and duration for video DsPsf42Zgnc: ERROR: [youtube] DsPsf42Zgnc: Private video. Sign in if you've been granted access to this video\n",
      "Rows analyzed: 584, Rows left: 4036\n",
      "Rows analyzed: 585, Rows left: 4035\n"
     ]
    },
    {
     "name": "stderr",
     "output_type": "stream",
     "text": [
      "ERROR: [youtube] iXf6Fewlyxg: Video unavailable\n"
     ]
    },
    {
     "name": "stdout",
     "output_type": "stream",
     "text": [
      "Error checking language and duration for video iXf6Fewlyxg: ERROR: [youtube] iXf6Fewlyxg: Video unavailable\n",
      "Rows analyzed: 586, Rows left: 4034\n"
     ]
    },
    {
     "name": "stderr",
     "output_type": "stream",
     "text": [
      "ERROR: [youtube] fn3Yiaaa4Q8: Video unavailable\n"
     ]
    },
    {
     "name": "stdout",
     "output_type": "stream",
     "text": [
      "Error checking language and duration for video fn3Yiaaa4Q8: ERROR: [youtube] fn3Yiaaa4Q8: Video unavailable\n",
      "Rows analyzed: 587, Rows left: 4033\n",
      "Rows analyzed: 588, Rows left: 4032\n"
     ]
    },
    {
     "name": "stderr",
     "output_type": "stream",
     "text": [
      "ERROR: [youtube] hFm1vCCTh2w: Private video. Sign in if you've been granted access to this video\n"
     ]
    },
    {
     "name": "stdout",
     "output_type": "stream",
     "text": [
      "Error checking language and duration for video hFm1vCCTh2w: ERROR: [youtube] hFm1vCCTh2w: Private video. Sign in if you've been granted access to this video\n",
      "Rows analyzed: 589, Rows left: 4031\n",
      "Rows analyzed: 590, Rows left: 4030\n"
     ]
    },
    {
     "name": "stderr",
     "output_type": "stream",
     "text": [
      "ERROR: [youtube] 91BgqQVlwKw: Video unavailable\n"
     ]
    },
    {
     "name": "stdout",
     "output_type": "stream",
     "text": [
      "Error checking language and duration for video 91BgqQVlwKw: ERROR: [youtube] 91BgqQVlwKw: Video unavailable\n",
      "Rows analyzed: 591, Rows left: 4029\n"
     ]
    },
    {
     "name": "stderr",
     "output_type": "stream",
     "text": [
      "ERROR: [youtube] RsOqyDPUpY8: Private video. Sign in if you've been granted access to this video\n"
     ]
    },
    {
     "name": "stdout",
     "output_type": "stream",
     "text": [
      "Error checking language and duration for video RsOqyDPUpY8: ERROR: [youtube] RsOqyDPUpY8: Private video. Sign in if you've been granted access to this video\n",
      "Rows analyzed: 592, Rows left: 4028\n",
      "Rows analyzed: 593, Rows left: 4027\n"
     ]
    },
    {
     "name": "stderr",
     "output_type": "stream",
     "text": [
      "ERROR: [youtube] 7xJCa8S6ZvI: Private video. Sign in if you've been granted access to this video\n"
     ]
    },
    {
     "name": "stdout",
     "output_type": "stream",
     "text": [
      "Error checking language and duration for video 7xJCa8S6ZvI: ERROR: [youtube] 7xJCa8S6ZvI: Private video. Sign in if you've been granted access to this video\n",
      "Rows analyzed: 594, Rows left: 4026\n",
      "Rows analyzed: 595, Rows left: 4025\n",
      "Rows analyzed: 596, Rows left: 4024\n",
      "Rows analyzed: 597, Rows left: 4023\n",
      "Rows analyzed: 598, Rows left: 4022\n"
     ]
    },
    {
     "name": "stderr",
     "output_type": "stream",
     "text": [
      "ERROR: [youtube] rxA697oj3I8: Video unavailable\n"
     ]
    },
    {
     "name": "stdout",
     "output_type": "stream",
     "text": [
      "Error checking language and duration for video rxA697oj3I8: ERROR: [youtube] rxA697oj3I8: Video unavailable\n",
      "Rows analyzed: 599, Rows left: 4021\n",
      "Rows analyzed: 600, Rows left: 4020\n"
     ]
    },
    {
     "name": "stderr",
     "output_type": "stream",
     "text": [
      "ERROR: [youtube] SVmvgsPt68w: Video unavailable. This video is no longer available because the YouTube account associated with this video has been terminated.\n"
     ]
    },
    {
     "name": "stdout",
     "output_type": "stream",
     "text": [
      "Error checking language and duration for video SVmvgsPt68w: ERROR: [youtube] SVmvgsPt68w: Video unavailable. This video is no longer available because the YouTube account associated with this video has been terminated.\n",
      "Rows analyzed: 601, Rows left: 4019\n"
     ]
    },
    {
     "name": "stderr",
     "output_type": "stream",
     "text": [
      "ERROR: [youtube] GYON3cJBAPo: Private video. Sign in if you've been granted access to this video\n"
     ]
    },
    {
     "name": "stdout",
     "output_type": "stream",
     "text": [
      "Error checking language and duration for video GYON3cJBAPo: ERROR: [youtube] GYON3cJBAPo: Private video. Sign in if you've been granted access to this video\n",
      "Rows analyzed: 602, Rows left: 4018\n"
     ]
    },
    {
     "name": "stderr",
     "output_type": "stream",
     "text": [
      "ERROR: [youtube] eCGZ1NFtgrU: Private video. Sign in if you've been granted access to this video\n"
     ]
    },
    {
     "name": "stdout",
     "output_type": "stream",
     "text": [
      "Error checking language and duration for video eCGZ1NFtgrU: ERROR: [youtube] eCGZ1NFtgrU: Private video. Sign in if you've been granted access to this video\n",
      "Rows analyzed: 603, Rows left: 4017\n",
      "Rows analyzed: 604, Rows left: 4016\n",
      "Rows analyzed: 605, Rows left: 4015\n",
      "Rows analyzed: 606, Rows left: 4014\n",
      "Rows analyzed: 607, Rows left: 4013\n",
      "Rows analyzed: 608, Rows left: 4012\n",
      "Rows analyzed: 609, Rows left: 4011\n",
      "Rows analyzed: 610, Rows left: 4010\n"
     ]
    },
    {
     "name": "stderr",
     "output_type": "stream",
     "text": [
      "ERROR: [youtube] 2-ri-Gvbo5U: Private video. Sign in if you've been granted access to this video\n"
     ]
    },
    {
     "name": "stdout",
     "output_type": "stream",
     "text": [
      "Error checking language and duration for video 2-ri-Gvbo5U: ERROR: [youtube] 2-ri-Gvbo5U: Private video. Sign in if you've been granted access to this video\n",
      "Rows analyzed: 611, Rows left: 4009\n",
      "Rows analyzed: 612, Rows left: 4008\n"
     ]
    },
    {
     "name": "stderr",
     "output_type": "stream",
     "text": [
      "ERROR: [youtube] lrUIDyL4BxI: Private video. Sign in if you've been granted access to this video\n"
     ]
    },
    {
     "name": "stdout",
     "output_type": "stream",
     "text": [
      "Error checking language and duration for video lrUIDyL4BxI: ERROR: [youtube] lrUIDyL4BxI: Private video. Sign in if you've been granted access to this video\n",
      "Rows analyzed: 613, Rows left: 4007\n"
     ]
    },
    {
     "name": "stderr",
     "output_type": "stream",
     "text": [
      "ERROR: [youtube] K4uUhkymhq8: Private video. Sign in if you've been granted access to this video\n"
     ]
    },
    {
     "name": "stdout",
     "output_type": "stream",
     "text": [
      "Error checking language and duration for video K4uUhkymhq8: ERROR: [youtube] K4uUhkymhq8: Private video. Sign in if you've been granted access to this video\n",
      "Rows analyzed: 614, Rows left: 4006\n",
      "Rows analyzed: 615, Rows left: 4005\n",
      "Rows analyzed: 616, Rows left: 4004\n",
      "Rows analyzed: 617, Rows left: 4003\n"
     ]
    },
    {
     "name": "stderr",
     "output_type": "stream",
     "text": [
      "ERROR: [youtube] 17MFRq86LFg: Video unavailable\n"
     ]
    },
    {
     "name": "stdout",
     "output_type": "stream",
     "text": [
      "Error checking language and duration for video 17MFRq86LFg: ERROR: [youtube] 17MFRq86LFg: Video unavailable\n",
      "Rows analyzed: 618, Rows left: 4002\n",
      "Rows analyzed: 619, Rows left: 4001\n"
     ]
    },
    {
     "name": "stderr",
     "output_type": "stream",
     "text": [
      "ERROR: [youtube] tgwt2UZ_JIE: Video unavailable. This video is no longer available because the YouTube account associated with this video has been terminated.\n"
     ]
    },
    {
     "name": "stdout",
     "output_type": "stream",
     "text": [
      "Error checking language and duration for video tgwt2UZ_JIE: ERROR: [youtube] tgwt2UZ_JIE: Video unavailable. This video is no longer available because the YouTube account associated with this video has been terminated.\n",
      "Rows analyzed: 620, Rows left: 4000\n",
      "Rows analyzed: 621, Rows left: 3999\n",
      "Rows analyzed: 622, Rows left: 3998\n",
      "Rows analyzed: 623, Rows left: 3997\n",
      "Rows analyzed: 624, Rows left: 3996\n",
      "Rows analyzed: 625, Rows left: 3995\n",
      "Rows analyzed: 626, Rows left: 3994\n",
      "Rows analyzed: 627, Rows left: 3993\n",
      "Rows analyzed: 628, Rows left: 3992\n",
      "Rows analyzed: 629, Rows left: 3991\n",
      "Rows analyzed: 630, Rows left: 3990\n",
      "Rows analyzed: 631, Rows left: 3989\n"
     ]
    },
    {
     "name": "stderr",
     "output_type": "stream",
     "text": [
      "ERROR: [youtube] HaJSIDhyHBw: Video unavailable\n"
     ]
    },
    {
     "name": "stdout",
     "output_type": "stream",
     "text": [
      "Error checking language and duration for video HaJSIDhyHBw: ERROR: [youtube] HaJSIDhyHBw: Video unavailable\n",
      "Rows analyzed: 632, Rows left: 3988\n",
      "Rows analyzed: 633, Rows left: 3987\n",
      "Rows analyzed: 634, Rows left: 3986\n"
     ]
    },
    {
     "name": "stderr",
     "output_type": "stream",
     "text": [
      "ERROR: [youtube] VuTILZDb8pM: Private video. Sign in if you've been granted access to this video\n"
     ]
    },
    {
     "name": "stdout",
     "output_type": "stream",
     "text": [
      "Error checking language and duration for video VuTILZDb8pM: ERROR: [youtube] VuTILZDb8pM: Private video. Sign in if you've been granted access to this video\n",
      "Rows analyzed: 635, Rows left: 3985\n",
      "Rows analyzed: 636, Rows left: 3984\n",
      "Rows analyzed: 637, Rows left: 3983\n",
      "Rows analyzed: 638, Rows left: 3982\n",
      "Rows analyzed: 639, Rows left: 3981\n",
      "Rows analyzed: 640, Rows left: 3980\n",
      "Rows analyzed: 641, Rows left: 3979\n",
      "Rows analyzed: 642, Rows left: 3978\n",
      "Rows analyzed: 643, Rows left: 3977\n",
      "Rows analyzed: 644, Rows left: 3976\n",
      "Rows analyzed: 645, Rows left: 3975\n",
      "Rows analyzed: 646, Rows left: 3974\n",
      "Rows analyzed: 647, Rows left: 3973\n"
     ]
    },
    {
     "name": "stderr",
     "output_type": "stream",
     "text": [
      "ERROR: [youtube] 0JxlhOv3Mcs: Video unavailable\n"
     ]
    },
    {
     "name": "stdout",
     "output_type": "stream",
     "text": [
      "Error checking language and duration for video 0JxlhOv3Mcs: ERROR: [youtube] 0JxlhOv3Mcs: Video unavailable\n",
      "Rows analyzed: 648, Rows left: 3972\n",
      "Rows analyzed: 649, Rows left: 3971\n",
      "Rows analyzed: 650, Rows left: 3970\n",
      "Rows analyzed: 651, Rows left: 3969\n",
      "Rows analyzed: 652, Rows left: 3968\n"
     ]
    },
    {
     "name": "stderr",
     "output_type": "stream",
     "text": [
      "ERROR: [youtube] FIxK7mEYFBI: Private video. Sign in if you've been granted access to this video\n"
     ]
    },
    {
     "name": "stdout",
     "output_type": "stream",
     "text": [
      "Error checking language and duration for video FIxK7mEYFBI: ERROR: [youtube] FIxK7mEYFBI: Private video. Sign in if you've been granted access to this video\n",
      "Rows analyzed: 653, Rows left: 3967\n",
      "Rows analyzed: 654, Rows left: 3966\n"
     ]
    },
    {
     "name": "stderr",
     "output_type": "stream",
     "text": [
      "ERROR: [youtube] TamZu3q8HtU: Private video. Sign in if you've been granted access to this video\n"
     ]
    },
    {
     "name": "stdout",
     "output_type": "stream",
     "text": [
      "Error checking language and duration for video TamZu3q8HtU: ERROR: [youtube] TamZu3q8HtU: Private video. Sign in if you've been granted access to this video\n",
      "Rows analyzed: 655, Rows left: 3965\n"
     ]
    },
    {
     "name": "stderr",
     "output_type": "stream",
     "text": [
      "ERROR: [youtube] Gk_QBUxa8pM: Private video. Sign in if you've been granted access to this video\n"
     ]
    },
    {
     "name": "stdout",
     "output_type": "stream",
     "text": [
      "Error checking language and duration for video Gk_QBUxa8pM: ERROR: [youtube] Gk_QBUxa8pM: Private video. Sign in if you've been granted access to this video\n",
      "Rows analyzed: 656, Rows left: 3964\n"
     ]
    },
    {
     "name": "stderr",
     "output_type": "stream",
     "text": [
      "ERROR: [youtube] lJ8D4YvibB0: Private video. Sign in if you've been granted access to this video\n"
     ]
    },
    {
     "name": "stdout",
     "output_type": "stream",
     "text": [
      "Error checking language and duration for video lJ8D4YvibB0: ERROR: [youtube] lJ8D4YvibB0: Private video. Sign in if you've been granted access to this video\n",
      "Rows analyzed: 657, Rows left: 3963\n"
     ]
    },
    {
     "name": "stderr",
     "output_type": "stream",
     "text": [
      "ERROR: [youtube] Vly50Y0pTto: Video unavailable. This video is no longer available because the YouTube account associated with this video has been terminated.\n"
     ]
    },
    {
     "name": "stdout",
     "output_type": "stream",
     "text": [
      "Error checking language and duration for video Vly50Y0pTto: ERROR: [youtube] Vly50Y0pTto: Video unavailable. This video is no longer available because the YouTube account associated with this video has been terminated.\n",
      "Rows analyzed: 658, Rows left: 3962\n",
      "Rows analyzed: 659, Rows left: 3961\n",
      "Rows analyzed: 660, Rows left: 3960\n",
      "Rows analyzed: 661, Rows left: 3959\n",
      "Rows analyzed: 662, Rows left: 3958\n",
      "Rows analyzed: 663, Rows left: 3957\n",
      "Rows analyzed: 664, Rows left: 3956\n",
      "Rows analyzed: 665, Rows left: 3955\n",
      "Rows analyzed: 666, Rows left: 3954\n",
      "Rows analyzed: 667, Rows left: 3953\n",
      "Rows analyzed: 668, Rows left: 3952\n"
     ]
    },
    {
     "name": "stderr",
     "output_type": "stream",
     "text": [
      "ERROR: [youtube] dspe6QpdDDQ: Private video. Sign in if you've been granted access to this video\n"
     ]
    },
    {
     "name": "stdout",
     "output_type": "stream",
     "text": [
      "Error checking language and duration for video dspe6QpdDDQ: ERROR: [youtube] dspe6QpdDDQ: Private video. Sign in if you've been granted access to this video\n",
      "Rows analyzed: 669, Rows left: 3951\n"
     ]
    },
    {
     "name": "stderr",
     "output_type": "stream",
     "text": [
      "ERROR: [youtube] XWo4bBjK_WI: Video unavailable\n"
     ]
    },
    {
     "name": "stdout",
     "output_type": "stream",
     "text": [
      "Error checking language and duration for video XWo4bBjK_WI: ERROR: [youtube] XWo4bBjK_WI: Video unavailable\n",
      "Rows analyzed: 670, Rows left: 3950\n",
      "Rows analyzed: 671, Rows left: 3949\n",
      "Rows analyzed: 672, Rows left: 3948\n",
      "Rows analyzed: 673, Rows left: 3947\n",
      "Rows analyzed: 674, Rows left: 3946\n"
     ]
    },
    {
     "name": "stderr",
     "output_type": "stream",
     "text": [
      "ERROR: [youtube] EOpt1-P2LOM: Private video. Sign in if you've been granted access to this video\n"
     ]
    },
    {
     "name": "stdout",
     "output_type": "stream",
     "text": [
      "Error checking language and duration for video EOpt1-P2LOM: ERROR: [youtube] EOpt1-P2LOM: Private video. Sign in if you've been granted access to this video\n",
      "Rows analyzed: 675, Rows left: 3945\n",
      "Rows analyzed: 676, Rows left: 3944\n"
     ]
    },
    {
     "name": "stderr",
     "output_type": "stream",
     "text": [
      "ERROR: [youtube] NpOQGA1tl3Y: Private video. Sign in if you've been granted access to this video\n"
     ]
    },
    {
     "name": "stdout",
     "output_type": "stream",
     "text": [
      "Error checking language and duration for video NpOQGA1tl3Y: ERROR: [youtube] NpOQGA1tl3Y: Private video. Sign in if you've been granted access to this video\n",
      "Rows analyzed: 677, Rows left: 3943\n",
      "Rows analyzed: 678, Rows left: 3942\n",
      "Rows analyzed: 679, Rows left: 3941\n",
      "Rows analyzed: 680, Rows left: 3940\n",
      "Rows analyzed: 681, Rows left: 3939\n",
      "Rows analyzed: 682, Rows left: 3938\n",
      "Rows analyzed: 683, Rows left: 3937\n",
      "Rows analyzed: 684, Rows left: 3936\n"
     ]
    },
    {
     "name": "stderr",
     "output_type": "stream",
     "text": [
      "ERROR: [youtube] BKwwyhtkDrg: Video unavailable\n"
     ]
    },
    {
     "name": "stdout",
     "output_type": "stream",
     "text": [
      "Error checking language and duration for video BKwwyhtkDrg: ERROR: [youtube] BKwwyhtkDrg: Video unavailable\n",
      "Rows analyzed: 685, Rows left: 3935\n",
      "Rows analyzed: 686, Rows left: 3934\n",
      "Rows analyzed: 687, Rows left: 3933\n",
      "Rows analyzed: 688, Rows left: 3932\n",
      "Rows analyzed: 689, Rows left: 3931\n",
      "Rows analyzed: 690, Rows left: 3930\n"
     ]
    },
    {
     "name": "stderr",
     "output_type": "stream",
     "text": [
      "ERROR: [youtube] OcLJiqukPtg: Video unavailable\n"
     ]
    },
    {
     "name": "stdout",
     "output_type": "stream",
     "text": [
      "Error checking language and duration for video OcLJiqukPtg: ERROR: [youtube] OcLJiqukPtg: Video unavailable\n",
      "Rows analyzed: 691, Rows left: 3929\n",
      "Rows analyzed: 692, Rows left: 3928\n",
      "Rows analyzed: 693, Rows left: 3927\n",
      "Rows analyzed: 694, Rows left: 3926\n",
      "Rows analyzed: 695, Rows left: 3925\n",
      "Rows analyzed: 696, Rows left: 3924\n"
     ]
    },
    {
     "name": "stderr",
     "output_type": "stream",
     "text": [
      "ERROR: [youtube] rs3ohZCSkFw: Video unavailable. This video is no longer available because the YouTube account associated with this video has been terminated.\n"
     ]
    },
    {
     "name": "stdout",
     "output_type": "stream",
     "text": [
      "Error checking language and duration for video rs3ohZCSkFw: ERROR: [youtube] rs3ohZCSkFw: Video unavailable. This video is no longer available because the YouTube account associated with this video has been terminated.\n",
      "Rows analyzed: 697, Rows left: 3923\n",
      "Rows analyzed: 698, Rows left: 3922\n",
      "Rows analyzed: 699, Rows left: 3921\n",
      "Rows analyzed: 700, Rows left: 3920\n"
     ]
    },
    {
     "name": "stderr",
     "output_type": "stream",
     "text": [
      "ERROR: [youtube] 8BB0qoD7Ouc: Private video. Sign in if you've been granted access to this video\n"
     ]
    },
    {
     "name": "stdout",
     "output_type": "stream",
     "text": [
      "Error checking language and duration for video 8BB0qoD7Ouc: ERROR: [youtube] 8BB0qoD7Ouc: Private video. Sign in if you've been granted access to this video\n",
      "Rows analyzed: 701, Rows left: 3919\n"
     ]
    },
    {
     "name": "stderr",
     "output_type": "stream",
     "text": [
      "ERROR: [youtube] 2hc02HAfyG8: Video unavailable\n"
     ]
    },
    {
     "name": "stdout",
     "output_type": "stream",
     "text": [
      "Error checking language and duration for video 2hc02HAfyG8: ERROR: [youtube] 2hc02HAfyG8: Video unavailable\n",
      "Rows analyzed: 702, Rows left: 3918\n"
     ]
    },
    {
     "name": "stderr",
     "output_type": "stream",
     "text": [
      "ERROR: [youtube] JpVCRBUKRy4: Video unavailable\n"
     ]
    },
    {
     "name": "stdout",
     "output_type": "stream",
     "text": [
      "Error checking language and duration for video JpVCRBUKRy4: ERROR: [youtube] JpVCRBUKRy4: Video unavailable\n",
      "Rows analyzed: 703, Rows left: 3917\n",
      "Rows analyzed: 704, Rows left: 3916\n"
     ]
    },
    {
     "name": "stderr",
     "output_type": "stream",
     "text": [
      "ERROR: [youtube] q270Yh8N9eg: Video unavailable. This video is no longer available because the YouTube account associated with this video has been terminated.\n"
     ]
    },
    {
     "name": "stdout",
     "output_type": "stream",
     "text": [
      "Error checking language and duration for video q270Yh8N9eg: ERROR: [youtube] q270Yh8N9eg: Video unavailable. This video is no longer available because the YouTube account associated with this video has been terminated.\n",
      "Rows analyzed: 705, Rows left: 3915\n",
      "Rows analyzed: 706, Rows left: 3914\n",
      "Rows analyzed: 707, Rows left: 3913\n",
      "Rows analyzed: 708, Rows left: 3912\n",
      "Rows analyzed: 709, Rows left: 3911\n",
      "Rows analyzed: 710, Rows left: 3910\n"
     ]
    },
    {
     "name": "stderr",
     "output_type": "stream",
     "text": [
      "ERROR: [youtube] MjIGQklXUZw: Video unavailable. This video is no longer available because the YouTube account associated with this video has been terminated.\n"
     ]
    },
    {
     "name": "stdout",
     "output_type": "stream",
     "text": [
      "Error checking language and duration for video MjIGQklXUZw: ERROR: [youtube] MjIGQklXUZw: Video unavailable. This video is no longer available because the YouTube account associated with this video has been terminated.\n",
      "Rows analyzed: 711, Rows left: 3909\n",
      "Rows analyzed: 712, Rows left: 3908\n",
      "Rows analyzed: 713, Rows left: 3907\n",
      "Rows analyzed: 714, Rows left: 3906\n",
      "Rows analyzed: 715, Rows left: 3905\n",
      "Rows analyzed: 716, Rows left: 3904\n"
     ]
    },
    {
     "name": "stderr",
     "output_type": "stream",
     "text": [
      "ERROR: [youtube] WP0-swA2A_s: Video unavailable\n"
     ]
    },
    {
     "name": "stdout",
     "output_type": "stream",
     "text": [
      "Error checking language and duration for video WP0-swA2A_s: ERROR: [youtube] WP0-swA2A_s: Video unavailable\n",
      "Rows analyzed: 717, Rows left: 3903\n",
      "Rows analyzed: 718, Rows left: 3902\n",
      "Rows analyzed: 719, Rows left: 3901\n"
     ]
    },
    {
     "name": "stderr",
     "output_type": "stream",
     "text": [
      "ERROR: [youtube] CMd7eUSQIt4: Private video. Sign in if you've been granted access to this video\n"
     ]
    },
    {
     "name": "stdout",
     "output_type": "stream",
     "text": [
      "Error checking language and duration for video CMd7eUSQIt4: ERROR: [youtube] CMd7eUSQIt4: Private video. Sign in if you've been granted access to this video\n",
      "Rows analyzed: 720, Rows left: 3900\n",
      "Rows analyzed: 721, Rows left: 3899\n",
      "Rows analyzed: 722, Rows left: 3898\n",
      "Rows analyzed: 723, Rows left: 3897\n"
     ]
    },
    {
     "name": "stderr",
     "output_type": "stream",
     "text": [
      "ERROR: [youtube] zYf1SWdFngo: Private video. Sign in if you've been granted access to this video\n"
     ]
    },
    {
     "name": "stdout",
     "output_type": "stream",
     "text": [
      "Error checking language and duration for video zYf1SWdFngo: ERROR: [youtube] zYf1SWdFngo: Private video. Sign in if you've been granted access to this video\n",
      "Rows analyzed: 724, Rows left: 3896\n"
     ]
    },
    {
     "name": "stderr",
     "output_type": "stream",
     "text": [
      "ERROR: [youtube] _c_HXz8dIOA: Video unavailable. This video is no longer available because the YouTube account associated with this video has been terminated.\n"
     ]
    },
    {
     "name": "stdout",
     "output_type": "stream",
     "text": [
      "Error checking language and duration for video _c_HXz8dIOA: ERROR: [youtube] _c_HXz8dIOA: Video unavailable. This video is no longer available because the YouTube account associated with this video has been terminated.\n",
      "Rows analyzed: 725, Rows left: 3895\n"
     ]
    },
    {
     "name": "stderr",
     "output_type": "stream",
     "text": [
      "ERROR: [youtube] RNfBebKT4GU: Private video. Sign in if you've been granted access to this video\n"
     ]
    },
    {
     "name": "stdout",
     "output_type": "stream",
     "text": [
      "Error checking language and duration for video RNfBebKT4GU: ERROR: [youtube] RNfBebKT4GU: Private video. Sign in if you've been granted access to this video\n",
      "Rows analyzed: 726, Rows left: 3894\n",
      "Rows analyzed: 727, Rows left: 3893\n"
     ]
    },
    {
     "name": "stderr",
     "output_type": "stream",
     "text": [
      "ERROR: [youtube] hV_ZZFWXJlQ: Private video. Sign in if you've been granted access to this video\n"
     ]
    },
    {
     "name": "stdout",
     "output_type": "stream",
     "text": [
      "Error checking language and duration for video hV_ZZFWXJlQ: ERROR: [youtube] hV_ZZFWXJlQ: Private video. Sign in if you've been granted access to this video\n",
      "Rows analyzed: 728, Rows left: 3892\n"
     ]
    },
    {
     "name": "stderr",
     "output_type": "stream",
     "text": [
      "ERROR: [youtube] wG15vCQ_PmE: Private video. Sign in if you've been granted access to this video\n"
     ]
    },
    {
     "name": "stdout",
     "output_type": "stream",
     "text": [
      "Error checking language and duration for video wG15vCQ_PmE: ERROR: [youtube] wG15vCQ_PmE: Private video. Sign in if you've been granted access to this video\n",
      "Rows analyzed: 729, Rows left: 3891\n",
      "Rows analyzed: 730, Rows left: 3890\n",
      "Rows analyzed: 731, Rows left: 3889\n"
     ]
    },
    {
     "name": "stderr",
     "output_type": "stream",
     "text": [
      "ERROR: [youtube] Y0VI6ducUSE: Video unavailable. The uploader has not made this video available in your country\n"
     ]
    },
    {
     "name": "stdout",
     "output_type": "stream",
     "text": [
      "Error checking language and duration for video Y0VI6ducUSE: ERROR: [youtube] Y0VI6ducUSE: Video unavailable. The uploader has not made this video available in your country\n",
      "Rows analyzed: 732, Rows left: 3888\n",
      "Rows analyzed: 733, Rows left: 3887\n",
      "Rows analyzed: 734, Rows left: 3886\n",
      "Rows analyzed: 735, Rows left: 3885\n",
      "Rows analyzed: 736, Rows left: 3884\n",
      "Rows analyzed: 737, Rows left: 3883\n",
      "Rows analyzed: 738, Rows left: 3882\n",
      "Rows analyzed: 739, Rows left: 3881\n"
     ]
    },
    {
     "name": "stderr",
     "output_type": "stream",
     "text": [
      "ERROR: [youtube] qpJWo02O0jo: Private video. Sign in if you've been granted access to this video\n"
     ]
    },
    {
     "name": "stdout",
     "output_type": "stream",
     "text": [
      "Error checking language and duration for video qpJWo02O0jo: ERROR: [youtube] qpJWo02O0jo: Private video. Sign in if you've been granted access to this video\n",
      "Rows analyzed: 740, Rows left: 3880\n",
      "Rows analyzed: 741, Rows left: 3879\n",
      "Rows analyzed: 742, Rows left: 3878\n",
      "Rows analyzed: 743, Rows left: 3877\n",
      "Rows analyzed: 744, Rows left: 3876\n",
      "Rows analyzed: 745, Rows left: 3875\n",
      "Rows analyzed: 746, Rows left: 3874\n"
     ]
    },
    {
     "name": "stderr",
     "output_type": "stream",
     "text": [
      "ERROR: [youtube] HsCmVRkmsa8: Video unavailable\n"
     ]
    },
    {
     "name": "stdout",
     "output_type": "stream",
     "text": [
      "Error checking language and duration for video HsCmVRkmsa8: ERROR: [youtube] HsCmVRkmsa8: Video unavailable\n",
      "Rows analyzed: 747, Rows left: 3873\n",
      "Rows analyzed: 748, Rows left: 3872\n",
      "Rows analyzed: 749, Rows left: 3871\n",
      "Rows analyzed: 750, Rows left: 3870\n",
      "Rows analyzed: 751, Rows left: 3869\n",
      "Rows analyzed: 752, Rows left: 3868\n",
      "Rows analyzed: 753, Rows left: 3867\n",
      "Rows analyzed: 754, Rows left: 3866\n"
     ]
    },
    {
     "name": "stderr",
     "output_type": "stream",
     "text": [
      "ERROR: [youtube] QySW7AiL9fk: Private video. Sign in if you've been granted access to this video\n"
     ]
    },
    {
     "name": "stdout",
     "output_type": "stream",
     "text": [
      "Error checking language and duration for video QySW7AiL9fk: ERROR: [youtube] QySW7AiL9fk: Private video. Sign in if you've been granted access to this video\n",
      "Rows analyzed: 755, Rows left: 3865\n",
      "Rows analyzed: 756, Rows left: 3864\n",
      "Rows analyzed: 757, Rows left: 3863\n"
     ]
    },
    {
     "name": "stderr",
     "output_type": "stream",
     "text": [
      "ERROR: [youtube] P48yETA2da8: Private video. Sign in if you've been granted access to this video\n"
     ]
    },
    {
     "name": "stdout",
     "output_type": "stream",
     "text": [
      "Error checking language and duration for video P48yETA2da8: ERROR: [youtube] P48yETA2da8: Private video. Sign in if you've been granted access to this video\n",
      "Rows analyzed: 758, Rows left: 3862\n",
      "Rows analyzed: 759, Rows left: 3861\n"
     ]
    },
    {
     "name": "stderr",
     "output_type": "stream",
     "text": [
      "ERROR: [youtube] VrIufgVduyw: Video unavailable. This video is no longer available because the YouTube account associated with this video has been terminated.\n"
     ]
    },
    {
     "name": "stdout",
     "output_type": "stream",
     "text": [
      "Error checking language and duration for video VrIufgVduyw: ERROR: [youtube] VrIufgVduyw: Video unavailable. This video is no longer available because the YouTube account associated with this video has been terminated.\n",
      "Rows analyzed: 760, Rows left: 3860\n",
      "Rows analyzed: 761, Rows left: 3859\n",
      "Rows analyzed: 762, Rows left: 3858\n"
     ]
    },
    {
     "name": "stderr",
     "output_type": "stream",
     "text": [
      "ERROR: [youtube] yR1lcvUF1_Q: Private video. Sign in if you've been granted access to this video\n"
     ]
    },
    {
     "name": "stdout",
     "output_type": "stream",
     "text": [
      "Error checking language and duration for video yR1lcvUF1_Q: ERROR: [youtube] yR1lcvUF1_Q: Private video. Sign in if you've been granted access to this video\n",
      "Rows analyzed: 763, Rows left: 3857\n",
      "Rows analyzed: 764, Rows left: 3856\n"
     ]
    },
    {
     "name": "stderr",
     "output_type": "stream",
     "text": [
      "ERROR: [youtube] kQYQW9G3TBY: Video unavailable. This video is no longer available because the YouTube account associated with this video has been terminated.\n"
     ]
    },
    {
     "name": "stdout",
     "output_type": "stream",
     "text": [
      "Error checking language and duration for video kQYQW9G3TBY: ERROR: [youtube] kQYQW9G3TBY: Video unavailable. This video is no longer available because the YouTube account associated with this video has been terminated.\n",
      "Rows analyzed: 765, Rows left: 3855\n",
      "Rows analyzed: 766, Rows left: 3854\n"
     ]
    },
    {
     "name": "stderr",
     "output_type": "stream",
     "text": [
      "ERROR: [youtube] 6MIko-K3KnQ: Private video. Sign in if you've been granted access to this video\n"
     ]
    },
    {
     "name": "stdout",
     "output_type": "stream",
     "text": [
      "Error checking language and duration for video 6MIko-K3KnQ: ERROR: [youtube] 6MIko-K3KnQ: Private video. Sign in if you've been granted access to this video\n",
      "Rows analyzed: 767, Rows left: 3853\n",
      "Rows analyzed: 768, Rows left: 3852\n",
      "Rows analyzed: 769, Rows left: 3851\n",
      "Rows analyzed: 770, Rows left: 3850\n"
     ]
    },
    {
     "name": "stderr",
     "output_type": "stream",
     "text": [
      "ERROR: [youtube] yZ_bOLGnoxE: Private video. Sign in if you've been granted access to this video\n"
     ]
    },
    {
     "name": "stdout",
     "output_type": "stream",
     "text": [
      "Error checking language and duration for video yZ_bOLGnoxE: ERROR: [youtube] yZ_bOLGnoxE: Private video. Sign in if you've been granted access to this video\n",
      "Rows analyzed: 771, Rows left: 3849\n",
      "Rows analyzed: 772, Rows left: 3848\n",
      "Rows analyzed: 773, Rows left: 3847\n",
      "Rows analyzed: 774, Rows left: 3846\n",
      "Rows analyzed: 775, Rows left: 3845\n",
      "Rows analyzed: 776, Rows left: 3844\n",
      "Rows analyzed: 777, Rows left: 3843\n",
      "Rows analyzed: 778, Rows left: 3842\n",
      "Rows analyzed: 779, Rows left: 3841\n",
      "Rows analyzed: 780, Rows left: 3840\n"
     ]
    },
    {
     "name": "stderr",
     "output_type": "stream",
     "text": [
      "ERROR: [youtube] z_u7bkQQHg4: Private video. Sign in if you've been granted access to this video\n"
     ]
    },
    {
     "name": "stdout",
     "output_type": "stream",
     "text": [
      "Error checking language and duration for video z_u7bkQQHg4: ERROR: [youtube] z_u7bkQQHg4: Private video. Sign in if you've been granted access to this video\n",
      "Rows analyzed: 781, Rows left: 3839\n",
      "Rows analyzed: 782, Rows left: 3838\n"
     ]
    },
    {
     "name": "stderr",
     "output_type": "stream",
     "text": [
      "ERROR: [youtube] Cm6_oBjkobE: Private video. Sign in if you've been granted access to this video\n"
     ]
    },
    {
     "name": "stdout",
     "output_type": "stream",
     "text": [
      "Error checking language and duration for video Cm6_oBjkobE: ERROR: [youtube] Cm6_oBjkobE: Private video. Sign in if you've been granted access to this video\n",
      "Rows analyzed: 783, Rows left: 3837\n",
      "Rows analyzed: 784, Rows left: 3836\n",
      "Rows analyzed: 785, Rows left: 3835\n",
      "Rows analyzed: 786, Rows left: 3834\n",
      "Rows analyzed: 787, Rows left: 3833\n",
      "Rows analyzed: 788, Rows left: 3832\n",
      "Rows analyzed: 789, Rows left: 3831\n",
      "Rows analyzed: 790, Rows left: 3830\n",
      "Rows analyzed: 791, Rows left: 3829\n",
      "Rows analyzed: 792, Rows left: 3828\n"
     ]
    },
    {
     "name": "stderr",
     "output_type": "stream",
     "text": [
      "ERROR: [youtube] HAWVpmFk-tQ: Video unavailable\n"
     ]
    },
    {
     "name": "stdout",
     "output_type": "stream",
     "text": [
      "Error checking language and duration for video HAWVpmFk-tQ: ERROR: [youtube] HAWVpmFk-tQ: Video unavailable\n",
      "Rows analyzed: 793, Rows left: 3827\n"
     ]
    },
    {
     "name": "stderr",
     "output_type": "stream",
     "text": [
      "ERROR: [youtube] myWnvziZVUU: Video unavailable. This video is no longer available because the YouTube account associated with this video has been terminated.\n"
     ]
    },
    {
     "name": "stdout",
     "output_type": "stream",
     "text": [
      "Error checking language and duration for video myWnvziZVUU: ERROR: [youtube] myWnvziZVUU: Video unavailable. This video is no longer available because the YouTube account associated with this video has been terminated.\n",
      "Rows analyzed: 794, Rows left: 3826\n",
      "Rows analyzed: 795, Rows left: 3825\n",
      "Rows analyzed: 796, Rows left: 3824\n",
      "Rows analyzed: 797, Rows left: 3823\n",
      "Rows analyzed: 798, Rows left: 3822\n",
      "Rows analyzed: 799, Rows left: 3821\n"
     ]
    },
    {
     "name": "stderr",
     "output_type": "stream",
     "text": [
      "ERROR: [youtube] SrvDaBKZAeU: Private video. Sign in if you've been granted access to this video\n"
     ]
    },
    {
     "name": "stdout",
     "output_type": "stream",
     "text": [
      "Error checking language and duration for video SrvDaBKZAeU: ERROR: [youtube] SrvDaBKZAeU: Private video. Sign in if you've been granted access to this video\n",
      "Rows analyzed: 800, Rows left: 3820\n"
     ]
    },
    {
     "name": "stderr",
     "output_type": "stream",
     "text": [
      "ERROR: [youtube] 6RjZpZ4LOVk: Private video. Sign in if you've been granted access to this video\n"
     ]
    },
    {
     "name": "stdout",
     "output_type": "stream",
     "text": [
      "Error checking language and duration for video 6RjZpZ4LOVk: ERROR: [youtube] 6RjZpZ4LOVk: Private video. Sign in if you've been granted access to this video\n",
      "Rows analyzed: 801, Rows left: 3819\n",
      "Rows analyzed: 802, Rows left: 3818\n",
      "Rows analyzed: 803, Rows left: 3817\n",
      "Rows analyzed: 804, Rows left: 3816\n",
      "Rows analyzed: 805, Rows left: 3815\n",
      "Rows analyzed: 806, Rows left: 3814\n"
     ]
    },
    {
     "name": "stderr",
     "output_type": "stream",
     "text": [
      "ERROR: [youtube] RXSNRH-lM4E: Private video. Sign in if you've been granted access to this video\n"
     ]
    },
    {
     "name": "stdout",
     "output_type": "stream",
     "text": [
      "Error checking language and duration for video RXSNRH-lM4E: ERROR: [youtube] RXSNRH-lM4E: Private video. Sign in if you've been granted access to this video\n",
      "Rows analyzed: 807, Rows left: 3813\n"
     ]
    },
    {
     "name": "stderr",
     "output_type": "stream",
     "text": [
      "ERROR: [youtube] 08BXlMIt1r8: Private video. Sign in if you've been granted access to this video\n"
     ]
    },
    {
     "name": "stdout",
     "output_type": "stream",
     "text": [
      "Error checking language and duration for video 08BXlMIt1r8: ERROR: [youtube] 08BXlMIt1r8: Private video. Sign in if you've been granted access to this video\n",
      "Rows analyzed: 808, Rows left: 3812\n"
     ]
    },
    {
     "name": "stderr",
     "output_type": "stream",
     "text": [
      "ERROR: [youtube] 37pgfjobGKE: Private video. Sign in if you've been granted access to this video\n"
     ]
    },
    {
     "name": "stdout",
     "output_type": "stream",
     "text": [
      "Error checking language and duration for video 37pgfjobGKE: ERROR: [youtube] 37pgfjobGKE: Private video. Sign in if you've been granted access to this video\n",
      "Rows analyzed: 809, Rows left: 3811\n",
      "Rows analyzed: 810, Rows left: 3810\n",
      "Rows analyzed: 811, Rows left: 3809\n"
     ]
    },
    {
     "name": "stderr",
     "output_type": "stream",
     "text": [
      "ERROR: [youtube] Ebfa7OoPEVs: Private video. Sign in if you've been granted access to this video\n"
     ]
    },
    {
     "name": "stdout",
     "output_type": "stream",
     "text": [
      "Error checking language and duration for video Ebfa7OoPEVs: ERROR: [youtube] Ebfa7OoPEVs: Private video. Sign in if you've been granted access to this video\n",
      "Rows analyzed: 812, Rows left: 3808\n",
      "Rows analyzed: 813, Rows left: 3807\n",
      "Rows analyzed: 814, Rows left: 3806\n",
      "Rows analyzed: 815, Rows left: 3805\n"
     ]
    },
    {
     "name": "stderr",
     "output_type": "stream",
     "text": [
      "ERROR: [youtube] fAczj2LRvlU: Private video. Sign in if you've been granted access to this video\n"
     ]
    },
    {
     "name": "stdout",
     "output_type": "stream",
     "text": [
      "Error checking language and duration for video fAczj2LRvlU: ERROR: [youtube] fAczj2LRvlU: Private video. Sign in if you've been granted access to this video\n",
      "Rows analyzed: 816, Rows left: 3804\n",
      "Rows analyzed: 817, Rows left: 3803\n",
      "Rows analyzed: 818, Rows left: 3802\n",
      "Rows analyzed: 819, Rows left: 3801\n",
      "Rows analyzed: 820, Rows left: 3800\n",
      "Rows analyzed: 821, Rows left: 3799\n",
      "Rows analyzed: 822, Rows left: 3798\n",
      "Rows analyzed: 823, Rows left: 3797\n",
      "Rows analyzed: 824, Rows left: 3796\n",
      "Rows analyzed: 825, Rows left: 3795\n",
      "Rows analyzed: 826, Rows left: 3794\n",
      "Rows analyzed: 827, Rows left: 3793\n",
      "Rows analyzed: 828, Rows left: 3792\n",
      "Rows analyzed: 829, Rows left: 3791\n"
     ]
    },
    {
     "name": "stderr",
     "output_type": "stream",
     "text": [
      "ERROR: [youtube] Co93hPEBJ7M: Video unavailable\n"
     ]
    },
    {
     "name": "stdout",
     "output_type": "stream",
     "text": [
      "Error checking language and duration for video Co93hPEBJ7M: ERROR: [youtube] Co93hPEBJ7M: Video unavailable\n",
      "Rows analyzed: 830, Rows left: 3790\n",
      "Rows analyzed: 831, Rows left: 3789\n",
      "Rows analyzed: 832, Rows left: 3788\n",
      "Rows analyzed: 833, Rows left: 3787\n",
      "Rows analyzed: 834, Rows left: 3786\n",
      "Rows analyzed: 835, Rows left: 3785\n",
      "Rows analyzed: 836, Rows left: 3784\n"
     ]
    },
    {
     "name": "stderr",
     "output_type": "stream",
     "text": [
      "ERROR: [youtube] nPqaAgQWXR0: Video unavailable\n"
     ]
    },
    {
     "name": "stdout",
     "output_type": "stream",
     "text": [
      "Error checking language and duration for video nPqaAgQWXR0: ERROR: [youtube] nPqaAgQWXR0: Video unavailable\n",
      "Rows analyzed: 837, Rows left: 3783\n",
      "Rows analyzed: 838, Rows left: 3782\n",
      "Rows analyzed: 839, Rows left: 3781\n",
      "Rows analyzed: 840, Rows left: 3780\n",
      "Rows analyzed: 841, Rows left: 3779\n",
      "Rows analyzed: 842, Rows left: 3778\n",
      "Rows analyzed: 843, Rows left: 3777\n",
      "Rows analyzed: 844, Rows left: 3776\n"
     ]
    },
    {
     "name": "stderr",
     "output_type": "stream",
     "text": [
      "ERROR: [youtube] EdQjTyvb0M8: Video unavailable\n"
     ]
    },
    {
     "name": "stdout",
     "output_type": "stream",
     "text": [
      "Error checking language and duration for video EdQjTyvb0M8: ERROR: [youtube] EdQjTyvb0M8: Video unavailable\n",
      "Rows analyzed: 845, Rows left: 3775\n",
      "Rows analyzed: 846, Rows left: 3774\n"
     ]
    },
    {
     "name": "stderr",
     "output_type": "stream",
     "text": [
      "ERROR: [youtube] rUF-gM5vLGQ: Video unavailable\n"
     ]
    },
    {
     "name": "stdout",
     "output_type": "stream",
     "text": [
      "Error checking language and duration for video rUF-gM5vLGQ: ERROR: [youtube] rUF-gM5vLGQ: Video unavailable\n",
      "Rows analyzed: 847, Rows left: 3773\n",
      "Rows analyzed: 848, Rows left: 3772\n"
     ]
    },
    {
     "name": "stderr",
     "output_type": "stream",
     "text": [
      "ERROR: [youtube] zxFA5Gyamn8: Video unavailable\n"
     ]
    },
    {
     "name": "stdout",
     "output_type": "stream",
     "text": [
      "Error checking language and duration for video zxFA5Gyamn8: ERROR: [youtube] zxFA5Gyamn8: Video unavailable\n",
      "Rows analyzed: 849, Rows left: 3771\n",
      "Rows analyzed: 850, Rows left: 3770\n"
     ]
    },
    {
     "name": "stderr",
     "output_type": "stream",
     "text": [
      "ERROR: [youtube] vAZXMfy1WKE: Private video. Sign in if you've been granted access to this video\n"
     ]
    },
    {
     "name": "stdout",
     "output_type": "stream",
     "text": [
      "Error checking language and duration for video vAZXMfy1WKE: ERROR: [youtube] vAZXMfy1WKE: Private video. Sign in if you've been granted access to this video\n",
      "Rows analyzed: 851, Rows left: 3769\n",
      "Rows analyzed: 852, Rows left: 3768\n"
     ]
    },
    {
     "name": "stderr",
     "output_type": "stream",
     "text": [
      "ERROR: [youtube] 9bC6QxhvPtw: Private video. Sign in if you've been granted access to this video\n"
     ]
    },
    {
     "name": "stdout",
     "output_type": "stream",
     "text": [
      "Error checking language and duration for video 9bC6QxhvPtw: ERROR: [youtube] 9bC6QxhvPtw: Private video. Sign in if you've been granted access to this video\n",
      "Rows analyzed: 853, Rows left: 3767\n"
     ]
    },
    {
     "name": "stderr",
     "output_type": "stream",
     "text": [
      "ERROR: [youtube] zL8dmRqkSS4: Private video. Sign in if you've been granted access to this video\n"
     ]
    },
    {
     "name": "stdout",
     "output_type": "stream",
     "text": [
      "Error checking language and duration for video zL8dmRqkSS4: ERROR: [youtube] zL8dmRqkSS4: Private video. Sign in if you've been granted access to this video\n",
      "Rows analyzed: 854, Rows left: 3766\n",
      "Rows analyzed: 855, Rows left: 3765\n"
     ]
    },
    {
     "name": "stderr",
     "output_type": "stream",
     "text": [
      "ERROR: [youtube] lzxuhaWAUH8: Video unavailable. This video is no longer available because the YouTube account associated with this video has been terminated.\n"
     ]
    },
    {
     "name": "stdout",
     "output_type": "stream",
     "text": [
      "Error checking language and duration for video lzxuhaWAUH8: ERROR: [youtube] lzxuhaWAUH8: Video unavailable. This video is no longer available because the YouTube account associated with this video has been terminated.\n",
      "Rows analyzed: 856, Rows left: 3764\n",
      "Rows analyzed: 857, Rows left: 3763\n",
      "Rows analyzed: 858, Rows left: 3762\n"
     ]
    },
    {
     "name": "stderr",
     "output_type": "stream",
     "text": [
      "ERROR: [youtube] fAOmqPTOnXg: Private video. Sign in if you've been granted access to this video\n"
     ]
    },
    {
     "name": "stdout",
     "output_type": "stream",
     "text": [
      "Error checking language and duration for video fAOmqPTOnXg: ERROR: [youtube] fAOmqPTOnXg: Private video. Sign in if you've been granted access to this video\n",
      "Rows analyzed: 859, Rows left: 3761\n",
      "Rows analyzed: 860, Rows left: 3760\n",
      "Rows analyzed: 861, Rows left: 3759\n",
      "Rows analyzed: 862, Rows left: 3758\n",
      "Rows analyzed: 863, Rows left: 3757\n",
      "Rows analyzed: 864, Rows left: 3756\n",
      "Rows analyzed: 865, Rows left: 3755\n",
      "Rows analyzed: 866, Rows left: 3754\n",
      "Rows analyzed: 867, Rows left: 3753\n",
      "Rows analyzed: 868, Rows left: 3752\n",
      "Rows analyzed: 869, Rows left: 3751\n"
     ]
    },
    {
     "name": "stderr",
     "output_type": "stream",
     "text": [
      "ERROR: [youtube] RiYz3Ms4fFA: Video unavailable\n"
     ]
    },
    {
     "name": "stdout",
     "output_type": "stream",
     "text": [
      "Error checking language and duration for video RiYz3Ms4fFA: ERROR: [youtube] RiYz3Ms4fFA: Video unavailable\n",
      "Rows analyzed: 870, Rows left: 3750\n",
      "Rows analyzed: 871, Rows left: 3749\n",
      "Rows analyzed: 872, Rows left: 3748\n",
      "Rows analyzed: 873, Rows left: 3747\n"
     ]
    },
    {
     "name": "stderr",
     "output_type": "stream",
     "text": [
      "ERROR: [youtube] 00BloR7mTWM: Private video. Sign in if you've been granted access to this video\n"
     ]
    },
    {
     "name": "stdout",
     "output_type": "stream",
     "text": [
      "Error checking language and duration for video 00BloR7mTWM: ERROR: [youtube] 00BloR7mTWM: Private video. Sign in if you've been granted access to this video\n",
      "Rows analyzed: 874, Rows left: 3746\n",
      "Rows analyzed: 875, Rows left: 3745\n",
      "Rows analyzed: 876, Rows left: 3744\n",
      "Rows analyzed: 877, Rows left: 3743\n"
     ]
    },
    {
     "name": "stderr",
     "output_type": "stream",
     "text": [
      "ERROR: [youtube] 3yBG9IZs6LE: Video unavailable\n"
     ]
    },
    {
     "name": "stdout",
     "output_type": "stream",
     "text": [
      "Error checking language and duration for video 3yBG9IZs6LE: ERROR: [youtube] 3yBG9IZs6LE: Video unavailable\n",
      "Rows analyzed: 878, Rows left: 3742\n",
      "Rows analyzed: 879, Rows left: 3741\n",
      "Rows analyzed: 880, Rows left: 3740\n",
      "Rows analyzed: 881, Rows left: 3739\n",
      "Rows analyzed: 882, Rows left: 3738\n",
      "Rows analyzed: 883, Rows left: 3737\n",
      "Rows analyzed: 884, Rows left: 3736\n",
      "Rows analyzed: 885, Rows left: 3735\n",
      "Rows analyzed: 886, Rows left: 3734\n",
      "Rows analyzed: 887, Rows left: 3733\n",
      "Rows analyzed: 888, Rows left: 3732\n",
      "Rows analyzed: 889, Rows left: 3731\n",
      "Rows analyzed: 890, Rows left: 3730\n",
      "Rows analyzed: 891, Rows left: 3729\n"
     ]
    },
    {
     "name": "stderr",
     "output_type": "stream",
     "text": [
      "ERROR: [youtube] znu7QcoAFz4: Private video. Sign in if you've been granted access to this video\n"
     ]
    },
    {
     "name": "stdout",
     "output_type": "stream",
     "text": [
      "Error checking language and duration for video znu7QcoAFz4: ERROR: [youtube] znu7QcoAFz4: Private video. Sign in if you've been granted access to this video\n",
      "Rows analyzed: 892, Rows left: 3728\n",
      "Rows analyzed: 893, Rows left: 3727\n",
      "Rows analyzed: 894, Rows left: 3726\n"
     ]
    },
    {
     "name": "stderr",
     "output_type": "stream",
     "text": [
      "ERROR: [youtube] Z3-YP5lLQ8w: Video unavailable. This video is not available\n"
     ]
    },
    {
     "name": "stdout",
     "output_type": "stream",
     "text": [
      "Error checking language and duration for video Z3-YP5lLQ8w: ERROR: [youtube] Z3-YP5lLQ8w: Video unavailable. This video is not available\n",
      "Rows analyzed: 895, Rows left: 3725\n",
      "Rows analyzed: 896, Rows left: 3724\n"
     ]
    },
    {
     "name": "stderr",
     "output_type": "stream",
     "text": [
      "ERROR: [youtube] 0xAhhGJZbqY: Private video. Sign in if you've been granted access to this video\n"
     ]
    },
    {
     "name": "stdout",
     "output_type": "stream",
     "text": [
      "Error checking language and duration for video 0xAhhGJZbqY: ERROR: [youtube] 0xAhhGJZbqY: Private video. Sign in if you've been granted access to this video\n",
      "Rows analyzed: 897, Rows left: 3723\n",
      "Rows analyzed: 898, Rows left: 3722\n",
      "Rows analyzed: 899, Rows left: 3721\n",
      "Rows analyzed: 900, Rows left: 3720\n",
      "Rows analyzed: 901, Rows left: 3719\n",
      "Rows analyzed: 902, Rows left: 3718\n",
      "Rows analyzed: 903, Rows left: 3717\n",
      "Rows analyzed: 904, Rows left: 3716\n",
      "Rows analyzed: 905, Rows left: 3715\n",
      "Rows analyzed: 906, Rows left: 3714\n",
      "Rows analyzed: 907, Rows left: 3713\n",
      "Rows analyzed: 908, Rows left: 3712\n",
      "Rows analyzed: 909, Rows left: 3711\n",
      "Rows analyzed: 910, Rows left: 3710\n",
      "Rows analyzed: 911, Rows left: 3709\n"
     ]
    },
    {
     "name": "stderr",
     "output_type": "stream",
     "text": [
      "ERROR: [youtube] bIJJiNaQffY: Video unavailable\n"
     ]
    },
    {
     "name": "stdout",
     "output_type": "stream",
     "text": [
      "Error checking language and duration for video bIJJiNaQffY: ERROR: [youtube] bIJJiNaQffY: Video unavailable\n",
      "Rows analyzed: 912, Rows left: 3708\n",
      "Rows analyzed: 913, Rows left: 3707\n",
      "Rows analyzed: 914, Rows left: 3706\n"
     ]
    },
    {
     "name": "stderr",
     "output_type": "stream",
     "text": [
      "ERROR: [youtube] pmJ0OLhgUdw: Video unavailable. This video is no longer available because the YouTube account associated with this video has been terminated.\n"
     ]
    },
    {
     "name": "stdout",
     "output_type": "stream",
     "text": [
      "Error checking language and duration for video pmJ0OLhgUdw: ERROR: [youtube] pmJ0OLhgUdw: Video unavailable. This video is no longer available because the YouTube account associated with this video has been terminated.\n",
      "Rows analyzed: 915, Rows left: 3705\n",
      "Rows analyzed: 916, Rows left: 3704\n",
      "Rows analyzed: 917, Rows left: 3703\n",
      "Rows analyzed: 918, Rows left: 3702\n"
     ]
    },
    {
     "name": "stderr",
     "output_type": "stream",
     "text": [
      "ERROR: [youtube] l75WrHJ2ce0: Private video. Sign in if you've been granted access to this video\n"
     ]
    },
    {
     "name": "stdout",
     "output_type": "stream",
     "text": [
      "Error checking language and duration for video l75WrHJ2ce0: ERROR: [youtube] l75WrHJ2ce0: Private video. Sign in if you've been granted access to this video\n",
      "Rows analyzed: 919, Rows left: 3701\n",
      "Rows analyzed: 920, Rows left: 3700\n"
     ]
    },
    {
     "name": "stderr",
     "output_type": "stream",
     "text": [
      "ERROR: [youtube] Vbb53XpvBwo: Private video. Sign in if you've been granted access to this video\n"
     ]
    },
    {
     "name": "stdout",
     "output_type": "stream",
     "text": [
      "Error checking language and duration for video Vbb53XpvBwo: ERROR: [youtube] Vbb53XpvBwo: Private video. Sign in if you've been granted access to this video\n",
      "Rows analyzed: 921, Rows left: 3699\n",
      "Rows analyzed: 922, Rows left: 3698\n",
      "Rows analyzed: 923, Rows left: 3697\n",
      "Rows analyzed: 924, Rows left: 3696\n",
      "Rows analyzed: 925, Rows left: 3695\n",
      "Rows analyzed: 926, Rows left: 3694\n"
     ]
    },
    {
     "name": "stderr",
     "output_type": "stream",
     "text": [
      "ERROR: [youtube] 3xp5gO3oCw4: Private video. Sign in if you've been granted access to this video\n"
     ]
    },
    {
     "name": "stdout",
     "output_type": "stream",
     "text": [
      "Error checking language and duration for video 3xp5gO3oCw4: ERROR: [youtube] 3xp5gO3oCw4: Private video. Sign in if you've been granted access to this video\n",
      "Rows analyzed: 927, Rows left: 3693\n",
      "Rows analyzed: 928, Rows left: 3692\n"
     ]
    },
    {
     "name": "stderr",
     "output_type": "stream",
     "text": [
      "ERROR: [youtube] Bz5lHOuDoRk: Private video. Sign in if you've been granted access to this video\n"
     ]
    },
    {
     "name": "stdout",
     "output_type": "stream",
     "text": [
      "Error checking language and duration for video Bz5lHOuDoRk: ERROR: [youtube] Bz5lHOuDoRk: Private video. Sign in if you've been granted access to this video\n",
      "Rows analyzed: 929, Rows left: 3691\n",
      "Rows analyzed: 930, Rows left: 3690\n",
      "Rows analyzed: 931, Rows left: 3689\n",
      "Rows analyzed: 932, Rows left: 3688\n",
      "Rows analyzed: 933, Rows left: 3687\n",
      "Rows analyzed: 934, Rows left: 3686\n",
      "Rows analyzed: 935, Rows left: 3685\n",
      "Rows analyzed: 936, Rows left: 3684\n",
      "Rows analyzed: 937, Rows left: 3683\n",
      "Rows analyzed: 938, Rows left: 3682\n",
      "Rows analyzed: 939, Rows left: 3681\n",
      "Rows analyzed: 940, Rows left: 3680\n",
      "Rows analyzed: 941, Rows left: 3679\n",
      "Rows analyzed: 942, Rows left: 3678\n",
      "Rows analyzed: 943, Rows left: 3677\n",
      "Rows analyzed: 944, Rows left: 3676\n",
      "Rows analyzed: 945, Rows left: 3675\n",
      "Rows analyzed: 946, Rows left: 3674\n"
     ]
    },
    {
     "name": "stderr",
     "output_type": "stream",
     "text": [
      "ERROR: [youtube] rJiNGELEYf8: Private video. Sign in if you've been granted access to this video\n"
     ]
    },
    {
     "name": "stdout",
     "output_type": "stream",
     "text": [
      "Error checking language and duration for video rJiNGELEYf8: ERROR: [youtube] rJiNGELEYf8: Private video. Sign in if you've been granted access to this video\n",
      "Rows analyzed: 947, Rows left: 3673\n",
      "Rows analyzed: 948, Rows left: 3672\n",
      "Rows analyzed: 949, Rows left: 3671\n"
     ]
    },
    {
     "name": "stderr",
     "output_type": "stream",
     "text": [
      "ERROR: [youtube] ZnGayhoBIG0: Private video. Sign in if you've been granted access to this video\n"
     ]
    },
    {
     "name": "stdout",
     "output_type": "stream",
     "text": [
      "Error checking language and duration for video ZnGayhoBIG0: ERROR: [youtube] ZnGayhoBIG0: Private video. Sign in if you've been granted access to this video\n",
      "Rows analyzed: 950, Rows left: 3670\n",
      "Rows analyzed: 951, Rows left: 3669\n",
      "Rows analyzed: 952, Rows left: 3668\n",
      "Rows analyzed: 953, Rows left: 3667\n",
      "Rows analyzed: 954, Rows left: 3666\n"
     ]
    },
    {
     "name": "stderr",
     "output_type": "stream",
     "text": [
      "ERROR: [youtube] PbxA2N1RIY4: Video unavailable. This video is no longer available because the YouTube account associated with this video has been terminated.\n"
     ]
    },
    {
     "name": "stdout",
     "output_type": "stream",
     "text": [
      "Error checking language and duration for video PbxA2N1RIY4: ERROR: [youtube] PbxA2N1RIY4: Video unavailable. This video is no longer available because the YouTube account associated with this video has been terminated.\n",
      "Rows analyzed: 955, Rows left: 3665\n",
      "Rows analyzed: 956, Rows left: 3664\n"
     ]
    },
    {
     "name": "stderr",
     "output_type": "stream",
     "text": [
      "ERROR: [youtube] T8VAlzc4EzY: Private video. Sign in if you've been granted access to this video\n"
     ]
    },
    {
     "name": "stdout",
     "output_type": "stream",
     "text": [
      "Error checking language and duration for video T8VAlzc4EzY: ERROR: [youtube] T8VAlzc4EzY: Private video. Sign in if you've been granted access to this video\n",
      "Rows analyzed: 957, Rows left: 3663\n",
      "Rows analyzed: 958, Rows left: 3662\n"
     ]
    },
    {
     "name": "stderr",
     "output_type": "stream",
     "text": [
      "ERROR: [youtube] sg0RT8QJoIk: This video has been removed for violating YouTube's Community Guidelines\n"
     ]
    },
    {
     "name": "stdout",
     "output_type": "stream",
     "text": [
      "Error checking language and duration for video sg0RT8QJoIk: ERROR: [youtube] sg0RT8QJoIk: This video has been removed for violating YouTube's Community Guidelines\n",
      "Rows analyzed: 959, Rows left: 3661\n",
      "Rows analyzed: 960, Rows left: 3660\n",
      "Rows analyzed: 961, Rows left: 3659\n",
      "Rows analyzed: 962, Rows left: 3658\n",
      "Rows analyzed: 963, Rows left: 3657\n",
      "Rows analyzed: 964, Rows left: 3656\n",
      "Rows analyzed: 965, Rows left: 3655\n",
      "Rows analyzed: 966, Rows left: 3654\n",
      "Rows analyzed: 967, Rows left: 3653\n",
      "Rows analyzed: 968, Rows left: 3652\n",
      "Rows analyzed: 969, Rows left: 3651\n",
      "Rows analyzed: 970, Rows left: 3650\n",
      "Rows analyzed: 971, Rows left: 3649\n",
      "Rows analyzed: 972, Rows left: 3648\n",
      "Rows analyzed: 973, Rows left: 3647\n"
     ]
    },
    {
     "name": "stderr",
     "output_type": "stream",
     "text": [
      "ERROR: [youtube] kYbCxIsK_bI: Private video. Sign in if you've been granted access to this video\n"
     ]
    },
    {
     "name": "stdout",
     "output_type": "stream",
     "text": [
      "Error checking language and duration for video kYbCxIsK_bI: ERROR: [youtube] kYbCxIsK_bI: Private video. Sign in if you've been granted access to this video\n",
      "Rows analyzed: 974, Rows left: 3646\n",
      "Rows analyzed: 975, Rows left: 3645\n",
      "Rows analyzed: 976, Rows left: 3644\n",
      "Rows analyzed: 977, Rows left: 3643\n",
      "Rows analyzed: 978, Rows left: 3642\n",
      "Rows analyzed: 979, Rows left: 3641\n",
      "Rows analyzed: 980, Rows left: 3640\n",
      "Rows analyzed: 981, Rows left: 3639\n",
      "Rows analyzed: 982, Rows left: 3638\n",
      "Rows analyzed: 983, Rows left: 3637\n",
      "Rows analyzed: 984, Rows left: 3636\n",
      "Rows analyzed: 985, Rows left: 3635\n",
      "Rows analyzed: 986, Rows left: 3634\n",
      "Rows analyzed: 987, Rows left: 3633\n",
      "Rows analyzed: 988, Rows left: 3632\n",
      "Rows analyzed: 989, Rows left: 3631\n",
      "Rows analyzed: 990, Rows left: 3630\n",
      "Rows analyzed: 991, Rows left: 3629\n"
     ]
    },
    {
     "name": "stderr",
     "output_type": "stream",
     "text": [
      "ERROR: [youtube] l_KlToa9Q_I: Video unavailable\n"
     ]
    },
    {
     "name": "stdout",
     "output_type": "stream",
     "text": [
      "Error checking language and duration for video l_KlToa9Q_I: ERROR: [youtube] l_KlToa9Q_I: Video unavailable\n",
      "Rows analyzed: 992, Rows left: 3628\n",
      "Rows analyzed: 993, Rows left: 3627\n"
     ]
    },
    {
     "name": "stderr",
     "output_type": "stream",
     "text": [
      "ERROR: [youtube] 5zSm0wnSIc0: Video unavailable. This video is not available\n"
     ]
    },
    {
     "name": "stdout",
     "output_type": "stream",
     "text": [
      "Error checking language and duration for video 5zSm0wnSIc0: ERROR: [youtube] 5zSm0wnSIc0: Video unavailable. This video is not available\n",
      "Rows analyzed: 994, Rows left: 3626\n",
      "Rows analyzed: 995, Rows left: 3625\n",
      "Rows analyzed: 996, Rows left: 3624\n",
      "Rows analyzed: 997, Rows left: 3623\n",
      "Rows analyzed: 998, Rows left: 3622\n",
      "Rows analyzed: 999, Rows left: 3621\n",
      "Rows analyzed: 1000, Rows left: 3620\n",
      "Rows analyzed: 1001, Rows left: 3619\n",
      "Rows analyzed: 1002, Rows left: 3618\n"
     ]
    },
    {
     "name": "stderr",
     "output_type": "stream",
     "text": [
      "ERROR: [youtube] dEj6_q6mFjw: Private video. Sign in if you've been granted access to this video\n"
     ]
    },
    {
     "name": "stdout",
     "output_type": "stream",
     "text": [
      "Error checking language and duration for video dEj6_q6mFjw: ERROR: [youtube] dEj6_q6mFjw: Private video. Sign in if you've been granted access to this video\n",
      "Rows analyzed: 1003, Rows left: 3617\n",
      "Rows analyzed: 1004, Rows left: 3616\n",
      "Rows analyzed: 1005, Rows left: 3615\n",
      "Rows analyzed: 1006, Rows left: 3614\n",
      "Rows analyzed: 1007, Rows left: 3613\n",
      "Rows analyzed: 1008, Rows left: 3612\n"
     ]
    },
    {
     "name": "stderr",
     "output_type": "stream",
     "text": [
      "ERROR: [youtube] kQPqXgvSHSc: Private video. Sign in if you've been granted access to this video\n"
     ]
    },
    {
     "name": "stdout",
     "output_type": "stream",
     "text": [
      "Error checking language and duration for video kQPqXgvSHSc: ERROR: [youtube] kQPqXgvSHSc: Private video. Sign in if you've been granted access to this video\n",
      "Rows analyzed: 1009, Rows left: 3611\n",
      "Rows analyzed: 1010, Rows left: 3610\n",
      "Rows analyzed: 1011, Rows left: 3609\n",
      "Rows analyzed: 1012, Rows left: 3608\n",
      "Rows analyzed: 1013, Rows left: 3607\n",
      "Rows analyzed: 1014, Rows left: 3606\n",
      "Rows analyzed: 1015, Rows left: 3605\n"
     ]
    },
    {
     "name": "stderr",
     "output_type": "stream",
     "text": [
      "ERROR: [youtube] kZSPPCAtvPs: Private video. Sign in if you've been granted access to this video\n"
     ]
    },
    {
     "name": "stdout",
     "output_type": "stream",
     "text": [
      "Error checking language and duration for video kZSPPCAtvPs: ERROR: [youtube] kZSPPCAtvPs: Private video. Sign in if you've been granted access to this video\n",
      "Rows analyzed: 1016, Rows left: 3604\n"
     ]
    },
    {
     "name": "stderr",
     "output_type": "stream",
     "text": [
      "ERROR: [youtube] xORedbt8yCs: Video unavailable\n"
     ]
    },
    {
     "name": "stdout",
     "output_type": "stream",
     "text": [
      "Error checking language and duration for video xORedbt8yCs: ERROR: [youtube] xORedbt8yCs: Video unavailable\n",
      "Rows analyzed: 1017, Rows left: 3603\n",
      "Rows analyzed: 1018, Rows left: 3602\n",
      "Rows analyzed: 1019, Rows left: 3601\n"
     ]
    },
    {
     "name": "stderr",
     "output_type": "stream",
     "text": [
      "ERROR: [youtube] Uzh19s7cXiA: Video unavailable. This video is no longer available because the YouTube account associated with this video has been terminated.\n"
     ]
    },
    {
     "name": "stdout",
     "output_type": "stream",
     "text": [
      "Error checking language and duration for video Uzh19s7cXiA: ERROR: [youtube] Uzh19s7cXiA: Video unavailable. This video is no longer available because the YouTube account associated with this video has been terminated.\n",
      "Rows analyzed: 1020, Rows left: 3600\n",
      "Rows analyzed: 1021, Rows left: 3599\n"
     ]
    },
    {
     "name": "stderr",
     "output_type": "stream",
     "text": [
      "ERROR: [youtube] Pu9K8qCk0cY: Private video. Sign in if you've been granted access to this video\n"
     ]
    },
    {
     "name": "stdout",
     "output_type": "stream",
     "text": [
      "Error checking language and duration for video Pu9K8qCk0cY: ERROR: [youtube] Pu9K8qCk0cY: Private video. Sign in if you've been granted access to this video\n",
      "Rows analyzed: 1022, Rows left: 3598\n"
     ]
    },
    {
     "name": "stderr",
     "output_type": "stream",
     "text": [
      "ERROR: [youtube] 2gE3ccw7cag: Private video. Sign in if you've been granted access to this video\n"
     ]
    },
    {
     "name": "stdout",
     "output_type": "stream",
     "text": [
      "Error checking language and duration for video 2gE3ccw7cag: ERROR: [youtube] 2gE3ccw7cag: Private video. Sign in if you've been granted access to this video\n",
      "Rows analyzed: 1023, Rows left: 3597\n"
     ]
    },
    {
     "name": "stderr",
     "output_type": "stream",
     "text": [
      "ERROR: [youtube] p7Qz8z9t32M: Video unavailable. This video is no longer available due to a copyright claim by Egypt Media\n"
     ]
    },
    {
     "name": "stdout",
     "output_type": "stream",
     "text": [
      "Error checking language and duration for video p7Qz8z9t32M: ERROR: [youtube] p7Qz8z9t32M: Video unavailable. This video is no longer available due to a copyright claim by Egypt Media\n",
      "Rows analyzed: 1024, Rows left: 3596\n"
     ]
    },
    {
     "name": "stderr",
     "output_type": "stream",
     "text": [
      "ERROR: [youtube] hrUtBUHuv3g: Private video. Sign in if you've been granted access to this video\n"
     ]
    },
    {
     "name": "stdout",
     "output_type": "stream",
     "text": [
      "Error checking language and duration for video hrUtBUHuv3g: ERROR: [youtube] hrUtBUHuv3g: Private video. Sign in if you've been granted access to this video\n",
      "Rows analyzed: 1025, Rows left: 3595\n",
      "Rows analyzed: 1026, Rows left: 3594\n",
      "Rows analyzed: 1027, Rows left: 3593\n",
      "Rows analyzed: 1028, Rows left: 3592\n",
      "Rows analyzed: 1029, Rows left: 3591\n",
      "Rows analyzed: 1030, Rows left: 3590\n",
      "Rows analyzed: 1031, Rows left: 3589\n",
      "Rows analyzed: 1032, Rows left: 3588\n",
      "Rows analyzed: 1033, Rows left: 3587\n",
      "Rows analyzed: 1034, Rows left: 3586\n",
      "Rows analyzed: 1035, Rows left: 3585\n",
      "Rows analyzed: 1036, Rows left: 3584\n"
     ]
    },
    {
     "name": "stderr",
     "output_type": "stream",
     "text": [
      "ERROR: [youtube] B-RfhQChj1U: Video unavailable\n"
     ]
    },
    {
     "name": "stdout",
     "output_type": "stream",
     "text": [
      "Error checking language and duration for video B-RfhQChj1U: ERROR: [youtube] B-RfhQChj1U: Video unavailable\n",
      "Rows analyzed: 1037, Rows left: 3583\n",
      "Rows analyzed: 1038, Rows left: 3582\n",
      "Rows analyzed: 1039, Rows left: 3581\n"
     ]
    },
    {
     "name": "stderr",
     "output_type": "stream",
     "text": [
      "ERROR: [youtube] eX6PjZgKjMs: Private video. Sign in if you've been granted access to this video\n"
     ]
    },
    {
     "name": "stdout",
     "output_type": "stream",
     "text": [
      "Error checking language and duration for video eX6PjZgKjMs: ERROR: [youtube] eX6PjZgKjMs: Private video. Sign in if you've been granted access to this video\n",
      "Rows analyzed: 1040, Rows left: 3580\n",
      "Rows analyzed: 1041, Rows left: 3579\n"
     ]
    },
    {
     "name": "stderr",
     "output_type": "stream",
     "text": [
      "ERROR: [youtube] v1jrH0MReWI: Video unavailable\n"
     ]
    },
    {
     "name": "stdout",
     "output_type": "stream",
     "text": [
      "Error checking language and duration for video v1jrH0MReWI: ERROR: [youtube] v1jrH0MReWI: Video unavailable\n",
      "Rows analyzed: 1042, Rows left: 3578\n",
      "Rows analyzed: 1043, Rows left: 3577\n",
      "Rows analyzed: 1044, Rows left: 3576\n",
      "Rows analyzed: 1045, Rows left: 3575\n",
      "Rows analyzed: 1046, Rows left: 3574\n",
      "Rows analyzed: 1047, Rows left: 3573\n",
      "Rows analyzed: 1048, Rows left: 3572\n",
      "Rows analyzed: 1049, Rows left: 3571\n",
      "Rows analyzed: 1050, Rows left: 3570\n",
      "Rows analyzed: 1051, Rows left: 3569\n",
      "Rows analyzed: 1052, Rows left: 3568\n",
      "Rows analyzed: 1053, Rows left: 3567\n",
      "Rows analyzed: 1054, Rows left: 3566\n",
      "Rows analyzed: 1055, Rows left: 3565\n",
      "Rows analyzed: 1056, Rows left: 3564\n"
     ]
    },
    {
     "name": "stderr",
     "output_type": "stream",
     "text": [
      "ERROR: [youtube] 6MIko-K3KnQ: Private video. Sign in if you've been granted access to this video\n"
     ]
    },
    {
     "name": "stdout",
     "output_type": "stream",
     "text": [
      "Error checking language and duration for video 6MIko-K3KnQ: ERROR: [youtube] 6MIko-K3KnQ: Private video. Sign in if you've been granted access to this video\n",
      "Rows analyzed: 1057, Rows left: 3563\n",
      "Rows analyzed: 1058, Rows left: 3562\n",
      "Rows analyzed: 1059, Rows left: 3561\n"
     ]
    },
    {
     "name": "stderr",
     "output_type": "stream",
     "text": [
      "ERROR: [youtube] O1hRtLvpjx4: Video unavailable. This video is no longer available because the YouTube account associated with this video has been terminated.\n"
     ]
    },
    {
     "name": "stdout",
     "output_type": "stream",
     "text": [
      "Error checking language and duration for video O1hRtLvpjx4: ERROR: [youtube] O1hRtLvpjx4: Video unavailable. This video is no longer available because the YouTube account associated with this video has been terminated.\n",
      "Rows analyzed: 1060, Rows left: 3560\n",
      "Rows analyzed: 1061, Rows left: 3559\n",
      "Rows analyzed: 1062, Rows left: 3558\n"
     ]
    },
    {
     "name": "stderr",
     "output_type": "stream",
     "text": [
      "ERROR: [youtube] otVat8Komt8: Private video. Sign in if you've been granted access to this video\n"
     ]
    },
    {
     "name": "stdout",
     "output_type": "stream",
     "text": [
      "Error checking language and duration for video otVat8Komt8: ERROR: [youtube] otVat8Komt8: Private video. Sign in if you've been granted access to this video\n",
      "Rows analyzed: 1063, Rows left: 3557\n",
      "Rows analyzed: 1064, Rows left: 3556\n",
      "Rows analyzed: 1065, Rows left: 3555\n",
      "Rows analyzed: 1066, Rows left: 3554\n"
     ]
    },
    {
     "name": "stderr",
     "output_type": "stream",
     "text": [
      "ERROR: [youtube] 6Gijm_HhpXs: Video unavailable\n"
     ]
    },
    {
     "name": "stdout",
     "output_type": "stream",
     "text": [
      "Error checking language and duration for video 6Gijm_HhpXs: ERROR: [youtube] 6Gijm_HhpXs: Video unavailable\n",
      "Rows analyzed: 1067, Rows left: 3553\n",
      "Rows analyzed: 1068, Rows left: 3552\n",
      "Rows analyzed: 1069, Rows left: 3551\n"
     ]
    },
    {
     "name": "stderr",
     "output_type": "stream",
     "text": [
      "ERROR: [youtube] uq2ls_DtIcc: Private video. Sign in if you've been granted access to this video\n"
     ]
    },
    {
     "name": "stdout",
     "output_type": "stream",
     "text": [
      "Error checking language and duration for video uq2ls_DtIcc: ERROR: [youtube] uq2ls_DtIcc: Private video. Sign in if you've been granted access to this video\n",
      "Rows analyzed: 1070, Rows left: 3550\n",
      "Rows analyzed: 1071, Rows left: 3549\n",
      "Rows analyzed: 1072, Rows left: 3548\n"
     ]
    },
    {
     "name": "stderr",
     "output_type": "stream",
     "text": [
      "ERROR: [youtube] jgVXg5aQBRU: Video unavailable. This video is no longer available because the YouTube account associated with this video has been terminated.\n"
     ]
    },
    {
     "name": "stdout",
     "output_type": "stream",
     "text": [
      "Error checking language and duration for video jgVXg5aQBRU: ERROR: [youtube] jgVXg5aQBRU: Video unavailable. This video is no longer available because the YouTube account associated with this video has been terminated.\n",
      "Rows analyzed: 1073, Rows left: 3547\n",
      "Rows analyzed: 1074, Rows left: 3546\n"
     ]
    },
    {
     "name": "stderr",
     "output_type": "stream",
     "text": [
      "ERROR: [youtube] 38m7JHsen2k: Video unavailable. This video is no longer available because the YouTube account associated with this video has been terminated.\n"
     ]
    },
    {
     "name": "stdout",
     "output_type": "stream",
     "text": [
      "Error checking language and duration for video 38m7JHsen2k: ERROR: [youtube] 38m7JHsen2k: Video unavailable. This video is no longer available because the YouTube account associated with this video has been terminated.\n",
      "Rows analyzed: 1075, Rows left: 3545\n",
      "Rows analyzed: 1076, Rows left: 3544\n",
      "Rows analyzed: 1077, Rows left: 3543\n",
      "Rows analyzed: 1078, Rows left: 3542\n",
      "Rows analyzed: 1079, Rows left: 3541\n",
      "Rows analyzed: 1080, Rows left: 3540\n"
     ]
    },
    {
     "name": "stderr",
     "output_type": "stream",
     "text": [
      "ERROR: [youtube] 9VUXp90x8Nw: Video unavailable. This video is no longer available because the YouTube account associated with this video has been terminated.\n"
     ]
    },
    {
     "name": "stdout",
     "output_type": "stream",
     "text": [
      "Error checking language and duration for video 9VUXp90x8Nw: ERROR: [youtube] 9VUXp90x8Nw: Video unavailable. This video is no longer available because the YouTube account associated with this video has been terminated.\n",
      "Rows analyzed: 1081, Rows left: 3539\n",
      "Rows analyzed: 1082, Rows left: 3538\n",
      "Rows analyzed: 1083, Rows left: 3537\n",
      "Rows analyzed: 1084, Rows left: 3536\n",
      "Rows analyzed: 1085, Rows left: 3535\n",
      "Rows analyzed: 1086, Rows left: 3534\n",
      "Rows analyzed: 1087, Rows left: 3533\n",
      "Rows analyzed: 1088, Rows left: 3532\n",
      "Rows analyzed: 1089, Rows left: 3531\n"
     ]
    },
    {
     "name": "stderr",
     "output_type": "stream",
     "text": [
      "ERROR: [youtube] n9Lc93lzC1o: Video unavailable\n"
     ]
    },
    {
     "name": "stdout",
     "output_type": "stream",
     "text": [
      "Error checking language and duration for video n9Lc93lzC1o: ERROR: [youtube] n9Lc93lzC1o: Video unavailable\n",
      "Rows analyzed: 1090, Rows left: 3530\n",
      "Rows analyzed: 1091, Rows left: 3529\n",
      "Rows analyzed: 1092, Rows left: 3528\n",
      "Rows analyzed: 1093, Rows left: 3527\n"
     ]
    },
    {
     "name": "stderr",
     "output_type": "stream",
     "text": [
      "ERROR: [youtube] EfWCSlSRXgY: Private video. Sign in if you've been granted access to this video\n"
     ]
    },
    {
     "name": "stdout",
     "output_type": "stream",
     "text": [
      "Error checking language and duration for video EfWCSlSRXgY: ERROR: [youtube] EfWCSlSRXgY: Private video. Sign in if you've been granted access to this video\n",
      "Rows analyzed: 1094, Rows left: 3526\n"
     ]
    },
    {
     "name": "stderr",
     "output_type": "stream",
     "text": [
      "ERROR: [youtube] KiFMJe_xwuE: Private video. Sign in if you've been granted access to this video\n"
     ]
    },
    {
     "name": "stdout",
     "output_type": "stream",
     "text": [
      "Error checking language and duration for video KiFMJe_xwuE: ERROR: [youtube] KiFMJe_xwuE: Private video. Sign in if you've been granted access to this video\n",
      "Rows analyzed: 1095, Rows left: 3525\n",
      "Rows analyzed: 1096, Rows left: 3524\n"
     ]
    },
    {
     "name": "stderr",
     "output_type": "stream",
     "text": [
      "ERROR: [youtube] ytfo4pGQPtw: Video unavailable\n"
     ]
    },
    {
     "name": "stdout",
     "output_type": "stream",
     "text": [
      "Error checking language and duration for video ytfo4pGQPtw: ERROR: [youtube] ytfo4pGQPtw: Video unavailable\n",
      "Rows analyzed: 1097, Rows left: 3523\n",
      "Rows analyzed: 1098, Rows left: 3522\n"
     ]
    },
    {
     "name": "stderr",
     "output_type": "stream",
     "text": [
      "ERROR: [youtube] bbNJgXgtoSg: Video unavailable\n"
     ]
    },
    {
     "name": "stdout",
     "output_type": "stream",
     "text": [
      "Error checking language and duration for video bbNJgXgtoSg: ERROR: [youtube] bbNJgXgtoSg: Video unavailable\n",
      "Rows analyzed: 1099, Rows left: 3521\n",
      "Rows analyzed: 1100, Rows left: 3520\n"
     ]
    },
    {
     "name": "stderr",
     "output_type": "stream",
     "text": [
      "ERROR: [youtube] oYOAhCnG59o: Video unavailable. This video is no longer available because the YouTube account associated with this video has been terminated.\n"
     ]
    },
    {
     "name": "stdout",
     "output_type": "stream",
     "text": [
      "Error checking language and duration for video oYOAhCnG59o: ERROR: [youtube] oYOAhCnG59o: Video unavailable. This video is no longer available because the YouTube account associated with this video has been terminated.\n",
      "Rows analyzed: 1101, Rows left: 3519\n",
      "Rows analyzed: 1102, Rows left: 3518\n"
     ]
    },
    {
     "name": "stderr",
     "output_type": "stream",
     "text": [
      "ERROR: [youtube] gjHCLvPENxQ: Video unavailable\n"
     ]
    },
    {
     "name": "stdout",
     "output_type": "stream",
     "text": [
      "Error checking language and duration for video gjHCLvPENxQ: ERROR: [youtube] gjHCLvPENxQ: Video unavailable\n",
      "Rows analyzed: 1103, Rows left: 3517\n",
      "Rows analyzed: 1104, Rows left: 3516\n",
      "Rows analyzed: 1105, Rows left: 3515\n",
      "Rows analyzed: 1106, Rows left: 3514\n"
     ]
    },
    {
     "name": "stderr",
     "output_type": "stream",
     "text": [
      "ERROR: [youtube] IL0FBcdSYKI: Private video. Sign in if you've been granted access to this video\n"
     ]
    },
    {
     "name": "stdout",
     "output_type": "stream",
     "text": [
      "Error checking language and duration for video IL0FBcdSYKI: ERROR: [youtube] IL0FBcdSYKI: Private video. Sign in if you've been granted access to this video\n",
      "Rows analyzed: 1107, Rows left: 3513\n",
      "Rows analyzed: 1108, Rows left: 3512\n",
      "Rows analyzed: 1109, Rows left: 3511\n"
     ]
    },
    {
     "name": "stderr",
     "output_type": "stream",
     "text": [
      "ERROR: [youtube] PgaUu_6rRXo: Video unavailable. This video is no longer available because the YouTube account associated with this video has been terminated.\n"
     ]
    },
    {
     "name": "stdout",
     "output_type": "stream",
     "text": [
      "Error checking language and duration for video PgaUu_6rRXo: ERROR: [youtube] PgaUu_6rRXo: Video unavailable. This video is no longer available because the YouTube account associated with this video has been terminated.\n",
      "Rows analyzed: 1110, Rows left: 3510\n",
      "Rows analyzed: 1111, Rows left: 3509\n",
      "Rows analyzed: 1112, Rows left: 3508\n",
      "Rows analyzed: 1113, Rows left: 3507\n",
      "Rows analyzed: 1114, Rows left: 3506\n",
      "Rows analyzed: 1115, Rows left: 3505\n",
      "Rows analyzed: 1116, Rows left: 3504\n"
     ]
    },
    {
     "name": "stderr",
     "output_type": "stream",
     "text": [
      "ERROR: [youtube] sVSBjtr2vhQ: Private video. Sign in if you've been granted access to this video\n"
     ]
    },
    {
     "name": "stdout",
     "output_type": "stream",
     "text": [
      "Error checking language and duration for video sVSBjtr2vhQ: ERROR: [youtube] sVSBjtr2vhQ: Private video. Sign in if you've been granted access to this video\n",
      "Rows analyzed: 1117, Rows left: 3503\n",
      "Rows analyzed: 1118, Rows left: 3502\n"
     ]
    },
    {
     "name": "stderr",
     "output_type": "stream",
     "text": [
      "ERROR: [youtube] e3CpHmicKBE: Private video. Sign in if you've been granted access to this video\n"
     ]
    },
    {
     "name": "stdout",
     "output_type": "stream",
     "text": [
      "Error checking language and duration for video e3CpHmicKBE: ERROR: [youtube] e3CpHmicKBE: Private video. Sign in if you've been granted access to this video\n",
      "Rows analyzed: 1119, Rows left: 3501\n",
      "Rows analyzed: 1120, Rows left: 3500\n",
      "Rows analyzed: 1121, Rows left: 3499\n"
     ]
    },
    {
     "name": "stderr",
     "output_type": "stream",
     "text": [
      "ERROR: [youtube] S81dkmYm2t0: Video unavailable\n"
     ]
    },
    {
     "name": "stdout",
     "output_type": "stream",
     "text": [
      "Error checking language and duration for video S81dkmYm2t0: ERROR: [youtube] S81dkmYm2t0: Video unavailable\n",
      "Rows analyzed: 1122, Rows left: 3498\n"
     ]
    },
    {
     "name": "stderr",
     "output_type": "stream",
     "text": [
      "ERROR: [youtube] kYbCxIsK_bI: Private video. Sign in if you've been granted access to this video\n"
     ]
    },
    {
     "name": "stdout",
     "output_type": "stream",
     "text": [
      "Error checking language and duration for video kYbCxIsK_bI: ERROR: [youtube] kYbCxIsK_bI: Private video. Sign in if you've been granted access to this video\n",
      "Rows analyzed: 1123, Rows left: 3497\n"
     ]
    },
    {
     "name": "stderr",
     "output_type": "stream",
     "text": [
      "ERROR: [youtube] JKu1Slsfwlo: Video unavailable\n"
     ]
    },
    {
     "name": "stdout",
     "output_type": "stream",
     "text": [
      "Error checking language and duration for video JKu1Slsfwlo: ERROR: [youtube] JKu1Slsfwlo: Video unavailable\n",
      "Rows analyzed: 1124, Rows left: 3496\n",
      "Rows analyzed: 1125, Rows left: 3495\n"
     ]
    },
    {
     "name": "stderr",
     "output_type": "stream",
     "text": [
      "ERROR: [youtube] TnWYuxQ8low: Private video. Sign in if you've been granted access to this video\n"
     ]
    },
    {
     "name": "stdout",
     "output_type": "stream",
     "text": [
      "Error checking language and duration for video TnWYuxQ8low: ERROR: [youtube] TnWYuxQ8low: Private video. Sign in if you've been granted access to this video\n",
      "Rows analyzed: 1126, Rows left: 3494\n",
      "Rows analyzed: 1127, Rows left: 3493\n",
      "Rows analyzed: 1128, Rows left: 3492\n",
      "Rows analyzed: 1129, Rows left: 3491\n",
      "Rows analyzed: 1130, Rows left: 3490\n",
      "Rows analyzed: 1131, Rows left: 3489\n"
     ]
    },
    {
     "name": "stderr",
     "output_type": "stream",
     "text": [
      "ERROR: [youtube] KWNOuy-rf3c: Video unavailable\n"
     ]
    },
    {
     "name": "stdout",
     "output_type": "stream",
     "text": [
      "Error checking language and duration for video KWNOuy-rf3c: ERROR: [youtube] KWNOuy-rf3c: Video unavailable\n",
      "Rows analyzed: 1132, Rows left: 3488\n",
      "Rows analyzed: 1133, Rows left: 3487\n",
      "Rows analyzed: 1134, Rows left: 3486\n",
      "Rows analyzed: 1135, Rows left: 3485\n",
      "Rows analyzed: 1136, Rows left: 3484\n",
      "Rows analyzed: 1137, Rows left: 3483\n"
     ]
    },
    {
     "name": "stderr",
     "output_type": "stream",
     "text": [
      "ERROR: [youtube] bAsFckqA8a4: Private video. Sign in if you've been granted access to this video\n"
     ]
    },
    {
     "name": "stdout",
     "output_type": "stream",
     "text": [
      "Error checking language and duration for video bAsFckqA8a4: ERROR: [youtube] bAsFckqA8a4: Private video. Sign in if you've been granted access to this video\n",
      "Rows analyzed: 1138, Rows left: 3482\n",
      "Rows analyzed: 1139, Rows left: 3481\n",
      "Rows analyzed: 1140, Rows left: 3480\n",
      "Rows analyzed: 1141, Rows left: 3479\n",
      "Rows analyzed: 1142, Rows left: 3478\n"
     ]
    },
    {
     "name": "stderr",
     "output_type": "stream",
     "text": [
      "ERROR: [youtube] HMGg-84WPAQ: Private video. Sign in if you've been granted access to this video\n"
     ]
    },
    {
     "name": "stdout",
     "output_type": "stream",
     "text": [
      "Error checking language and duration for video HMGg-84WPAQ: ERROR: [youtube] HMGg-84WPAQ: Private video. Sign in if you've been granted access to this video\n",
      "Rows analyzed: 1143, Rows left: 3477\n",
      "Rows analyzed: 1144, Rows left: 3476\n",
      "Rows analyzed: 1145, Rows left: 3475\n",
      "Rows analyzed: 1146, Rows left: 3474\n",
      "Rows analyzed: 1147, Rows left: 3473\n",
      "Rows analyzed: 1148, Rows left: 3472\n",
      "Rows analyzed: 1149, Rows left: 3471\n",
      "Rows analyzed: 1150, Rows left: 3470\n",
      "Rows analyzed: 1151, Rows left: 3469\n",
      "Rows analyzed: 1152, Rows left: 3468\n",
      "Rows analyzed: 1153, Rows left: 3467\n"
     ]
    },
    {
     "name": "stderr",
     "output_type": "stream",
     "text": [
      "ERROR: [youtube] cSeieYivCDk: Video unavailable\n"
     ]
    },
    {
     "name": "stdout",
     "output_type": "stream",
     "text": [
      "Error checking language and duration for video cSeieYivCDk: ERROR: [youtube] cSeieYivCDk: Video unavailable\n",
      "Rows analyzed: 1154, Rows left: 3466\n"
     ]
    },
    {
     "name": "stderr",
     "output_type": "stream",
     "text": [
      "ERROR: [youtube] W82L-RX4Gjg: Video unavailable. This video is no longer available because the YouTube account associated with this video has been terminated.\n"
     ]
    },
    {
     "name": "stdout",
     "output_type": "stream",
     "text": [
      "Error checking language and duration for video W82L-RX4Gjg: ERROR: [youtube] W82L-RX4Gjg: Video unavailable. This video is no longer available because the YouTube account associated with this video has been terminated.\n",
      "Rows analyzed: 1155, Rows left: 3465\n",
      "Rows analyzed: 1156, Rows left: 3464\n",
      "Rows analyzed: 1157, Rows left: 3463\n",
      "Rows analyzed: 1158, Rows left: 3462\n",
      "Rows analyzed: 1159, Rows left: 3461\n",
      "Rows analyzed: 1160, Rows left: 3460\n",
      "Rows analyzed: 1161, Rows left: 3459\n",
      "Rows analyzed: 1162, Rows left: 3458\n"
     ]
    },
    {
     "name": "stderr",
     "output_type": "stream",
     "text": [
      "ERROR: [youtube] iq5xh4CiAxA: Video unavailable. This video is no longer available because the YouTube account associated with this video has been terminated.\n"
     ]
    },
    {
     "name": "stdout",
     "output_type": "stream",
     "text": [
      "Error checking language and duration for video iq5xh4CiAxA: ERROR: [youtube] iq5xh4CiAxA: Video unavailable. This video is no longer available because the YouTube account associated with this video has been terminated.\n",
      "Rows analyzed: 1163, Rows left: 3457\n",
      "Rows analyzed: 1164, Rows left: 3456\n",
      "Rows analyzed: 1165, Rows left: 3455\n",
      "Rows analyzed: 1166, Rows left: 3454\n",
      "Rows analyzed: 1167, Rows left: 3453\n",
      "Rows analyzed: 1168, Rows left: 3452\n",
      "Rows analyzed: 1169, Rows left: 3451\n",
      "Rows analyzed: 1170, Rows left: 3450\n",
      "Rows analyzed: 1171, Rows left: 3449\n",
      "Rows analyzed: 1172, Rows left: 3448\n",
      "Rows analyzed: 1173, Rows left: 3447\n",
      "Rows analyzed: 1174, Rows left: 3446\n",
      "Rows analyzed: 1175, Rows left: 3445\n",
      "Rows analyzed: 1176, Rows left: 3444\n",
      "Rows analyzed: 1177, Rows left: 3443\n"
     ]
    },
    {
     "name": "stderr",
     "output_type": "stream",
     "text": [
      "ERROR: [youtube] lr7Jv1gLMco: Private video. Sign in if you've been granted access to this video\n"
     ]
    },
    {
     "name": "stdout",
     "output_type": "stream",
     "text": [
      "Error checking language and duration for video lr7Jv1gLMco: ERROR: [youtube] lr7Jv1gLMco: Private video. Sign in if you've been granted access to this video\n",
      "Rows analyzed: 1178, Rows left: 3442\n",
      "Rows analyzed: 1179, Rows left: 3441\n",
      "Rows analyzed: 1180, Rows left: 3440\n"
     ]
    },
    {
     "name": "stderr",
     "output_type": "stream",
     "text": [
      "ERROR: [youtube] qYfr2Wv7NcA: Video unavailable. This video is no longer available because the YouTube account associated with this video has been terminated.\n"
     ]
    },
    {
     "name": "stdout",
     "output_type": "stream",
     "text": [
      "Error checking language and duration for video qYfr2Wv7NcA: ERROR: [youtube] qYfr2Wv7NcA: Video unavailable. This video is no longer available because the YouTube account associated with this video has been terminated.\n",
      "Rows analyzed: 1181, Rows left: 3439\n",
      "Rows analyzed: 1182, Rows left: 3438\n",
      "Rows analyzed: 1183, Rows left: 3437\n",
      "Rows analyzed: 1184, Rows left: 3436\n",
      "Rows analyzed: 1185, Rows left: 3435\n"
     ]
    },
    {
     "name": "stderr",
     "output_type": "stream",
     "text": [
      "ERROR: [youtube] 5JYezdA35zg: Private video. Sign in if you've been granted access to this video\n"
     ]
    },
    {
     "name": "stdout",
     "output_type": "stream",
     "text": [
      "Error checking language and duration for video 5JYezdA35zg: ERROR: [youtube] 5JYezdA35zg: Private video. Sign in if you've been granted access to this video\n",
      "Rows analyzed: 1186, Rows left: 3434\n",
      "Rows analyzed: 1187, Rows left: 3433\n",
      "Rows analyzed: 1188, Rows left: 3432\n",
      "Rows analyzed: 1189, Rows left: 3431\n",
      "Rows analyzed: 1190, Rows left: 3430\n"
     ]
    },
    {
     "name": "stderr",
     "output_type": "stream",
     "text": [
      "ERROR: [youtube] hYygVho7Yhw: Private video. Sign in if you've been granted access to this video\n"
     ]
    },
    {
     "name": "stdout",
     "output_type": "stream",
     "text": [
      "Error checking language and duration for video hYygVho7Yhw: ERROR: [youtube] hYygVho7Yhw: Private video. Sign in if you've been granted access to this video\n",
      "Rows analyzed: 1191, Rows left: 3429\n",
      "Rows analyzed: 1192, Rows left: 3428\n"
     ]
    },
    {
     "name": "stderr",
     "output_type": "stream",
     "text": [
      "ERROR: [youtube] A_4ySCZzn14: Video unavailable. This video is no longer available because the YouTube account associated with this video has been terminated.\n"
     ]
    },
    {
     "name": "stdout",
     "output_type": "stream",
     "text": [
      "Error checking language and duration for video A_4ySCZzn14: ERROR: [youtube] A_4ySCZzn14: Video unavailable. This video is no longer available because the YouTube account associated with this video has been terminated.\n",
      "Rows analyzed: 1193, Rows left: 3427\n",
      "Rows analyzed: 1194, Rows left: 3426\n",
      "Rows analyzed: 1195, Rows left: 3425\n",
      "Rows analyzed: 1196, Rows left: 3424\n"
     ]
    },
    {
     "name": "stderr",
     "output_type": "stream",
     "text": [
      "ERROR: [youtube] B-RfhQChj1U: Video unavailable\n"
     ]
    },
    {
     "name": "stdout",
     "output_type": "stream",
     "text": [
      "Error checking language and duration for video B-RfhQChj1U: ERROR: [youtube] B-RfhQChj1U: Video unavailable\n",
      "Rows analyzed: 1197, Rows left: 3423\n",
      "Rows analyzed: 1198, Rows left: 3422\n",
      "Rows analyzed: 1199, Rows left: 3421\n",
      "Rows analyzed: 1200, Rows left: 3420\n",
      "Rows analyzed: 1201, Rows left: 3419\n",
      "Rows analyzed: 1202, Rows left: 3418\n",
      "Rows analyzed: 1203, Rows left: 3417\n",
      "Rows analyzed: 1204, Rows left: 3416\n",
      "Rows analyzed: 1205, Rows left: 3415\n"
     ]
    },
    {
     "name": "stderr",
     "output_type": "stream",
     "text": [
      "ERROR: [youtube] KwURA0q1Jzc: Video unavailable\n"
     ]
    },
    {
     "name": "stdout",
     "output_type": "stream",
     "text": [
      "Error checking language and duration for video KwURA0q1Jzc: ERROR: [youtube] KwURA0q1Jzc: Video unavailable\n",
      "Rows analyzed: 1206, Rows left: 3414\n",
      "Rows analyzed: 1207, Rows left: 3413\n",
      "Rows analyzed: 1208, Rows left: 3412\n",
      "Rows analyzed: 1209, Rows left: 3411\n",
      "Rows analyzed: 1210, Rows left: 3410\n"
     ]
    },
    {
     "name": "stderr",
     "output_type": "stream",
     "text": [
      "ERROR: [youtube] 7VIUTZdFoCM: Private video. Sign in if you've been granted access to this video\n"
     ]
    },
    {
     "name": "stdout",
     "output_type": "stream",
     "text": [
      "Error checking language and duration for video 7VIUTZdFoCM: ERROR: [youtube] 7VIUTZdFoCM: Private video. Sign in if you've been granted access to this video\n",
      "Rows analyzed: 1211, Rows left: 3409\n"
     ]
    },
    {
     "name": "stderr",
     "output_type": "stream",
     "text": [
      "ERROR: [youtube] sYs28LPGR08: Video unavailable\n"
     ]
    },
    {
     "name": "stdout",
     "output_type": "stream",
     "text": [
      "Error checking language and duration for video sYs28LPGR08: ERROR: [youtube] sYs28LPGR08: Video unavailable\n",
      "Rows analyzed: 1212, Rows left: 3408\n",
      "Rows analyzed: 1213, Rows left: 3407\n",
      "Rows analyzed: 1214, Rows left: 3406\n",
      "Rows analyzed: 1215, Rows left: 3405\n"
     ]
    },
    {
     "name": "stderr",
     "output_type": "stream",
     "text": [
      "ERROR: [youtube] TcH-zvrHimY: Video unavailable\n"
     ]
    },
    {
     "name": "stdout",
     "output_type": "stream",
     "text": [
      "Error checking language and duration for video TcH-zvrHimY: ERROR: [youtube] TcH-zvrHimY: Video unavailable\n",
      "Rows analyzed: 1216, Rows left: 3404\n",
      "Rows analyzed: 1217, Rows left: 3403\n"
     ]
    },
    {
     "name": "stderr",
     "output_type": "stream",
     "text": [
      "ERROR: [youtube] EJ0rHMwG9nI: Private video. Sign in if you've been granted access to this video\n"
     ]
    },
    {
     "name": "stdout",
     "output_type": "stream",
     "text": [
      "Error checking language and duration for video EJ0rHMwG9nI: ERROR: [youtube] EJ0rHMwG9nI: Private video. Sign in if you've been granted access to this video\n",
      "Rows analyzed: 1218, Rows left: 3402\n",
      "Rows analyzed: 1219, Rows left: 3401\n",
      "Rows analyzed: 1220, Rows left: 3400\n",
      "Rows analyzed: 1221, Rows left: 3399\n",
      "Rows analyzed: 1222, Rows left: 3398\n",
      "Rows analyzed: 1223, Rows left: 3397\n"
     ]
    },
    {
     "name": "stderr",
     "output_type": "stream",
     "text": [
      "ERROR: [youtube] JUB5iFPp1Os: Private video. Sign in if you've been granted access to this video\n"
     ]
    },
    {
     "name": "stdout",
     "output_type": "stream",
     "text": [
      "Error checking language and duration for video JUB5iFPp1Os: ERROR: [youtube] JUB5iFPp1Os: Private video. Sign in if you've been granted access to this video\n",
      "Rows analyzed: 1224, Rows left: 3396\n",
      "Rows analyzed: 1225, Rows left: 3395\n",
      "Rows analyzed: 1226, Rows left: 3394\n"
     ]
    },
    {
     "name": "stderr",
     "output_type": "stream",
     "text": [
      "ERROR: [youtube] FONP5cfxcO4: Video unavailable\n"
     ]
    },
    {
     "name": "stdout",
     "output_type": "stream",
     "text": [
      "Error checking language and duration for video FONP5cfxcO4: ERROR: [youtube] FONP5cfxcO4: Video unavailable\n",
      "Rows analyzed: 1227, Rows left: 3393\n",
      "Rows analyzed: 1228, Rows left: 3392\n",
      "Rows analyzed: 1229, Rows left: 3391\n",
      "Rows analyzed: 1230, Rows left: 3390\n",
      "Rows analyzed: 1231, Rows left: 3389\n",
      "Rows analyzed: 1232, Rows left: 3388\n"
     ]
    },
    {
     "name": "stderr",
     "output_type": "stream",
     "text": [
      "ERROR: [youtube] GyTSECvz_MQ: Video unavailable. This video is no longer available because the YouTube account associated with this video has been terminated.\n"
     ]
    },
    {
     "name": "stdout",
     "output_type": "stream",
     "text": [
      "Error checking language and duration for video GyTSECvz_MQ: ERROR: [youtube] GyTSECvz_MQ: Video unavailable. This video is no longer available because the YouTube account associated with this video has been terminated.\n",
      "Rows analyzed: 1233, Rows left: 3387\n",
      "Rows analyzed: 1234, Rows left: 3386\n",
      "Rows analyzed: 1235, Rows left: 3385\n",
      "Rows analyzed: 1236, Rows left: 3384\n",
      "Rows analyzed: 1237, Rows left: 3383\n"
     ]
    },
    {
     "name": "stderr",
     "output_type": "stream",
     "text": [
      "ERROR: [youtube] hRpLrwuBsSo: Video unavailable. This video is no longer available because the YouTube account associated with this video has been terminated.\n"
     ]
    },
    {
     "name": "stdout",
     "output_type": "stream",
     "text": [
      "Error checking language and duration for video hRpLrwuBsSo: ERROR: [youtube] hRpLrwuBsSo: Video unavailable. This video is no longer available because the YouTube account associated with this video has been terminated.\n",
      "Rows analyzed: 1238, Rows left: 3382\n",
      "Rows analyzed: 1239, Rows left: 3381\n",
      "Rows analyzed: 1240, Rows left: 3380\n",
      "Rows analyzed: 1241, Rows left: 3379\n"
     ]
    },
    {
     "name": "stderr",
     "output_type": "stream",
     "text": [
      "ERROR: [youtube] yFNEK8obh4g: Video unavailable\n"
     ]
    },
    {
     "name": "stdout",
     "output_type": "stream",
     "text": [
      "Error checking language and duration for video yFNEK8obh4g: ERROR: [youtube] yFNEK8obh4g: Video unavailable\n",
      "Rows analyzed: 1242, Rows left: 3378\n",
      "Rows analyzed: 1243, Rows left: 3377\n",
      "Rows analyzed: 1244, Rows left: 3376\n"
     ]
    },
    {
     "name": "stderr",
     "output_type": "stream",
     "text": [
      "ERROR: [youtube] OXYoxUlfz0Y: Private video. Sign in if you've been granted access to this video\n"
     ]
    },
    {
     "name": "stdout",
     "output_type": "stream",
     "text": [
      "Error checking language and duration for video OXYoxUlfz0Y: ERROR: [youtube] OXYoxUlfz0Y: Private video. Sign in if you've been granted access to this video\n",
      "Rows analyzed: 1245, Rows left: 3375\n",
      "Rows analyzed: 1246, Rows left: 3374\n"
     ]
    },
    {
     "name": "stderr",
     "output_type": "stream",
     "text": [
      "ERROR: [youtube] TbxjhzpCo2o: Private video. Sign in if you've been granted access to this video\n"
     ]
    },
    {
     "name": "stdout",
     "output_type": "stream",
     "text": [
      "Error checking language and duration for video TbxjhzpCo2o: ERROR: [youtube] TbxjhzpCo2o: Private video. Sign in if you've been granted access to this video\n",
      "Rows analyzed: 1247, Rows left: 3373\n",
      "Rows analyzed: 1248, Rows left: 3372\n",
      "Rows analyzed: 1249, Rows left: 3371\n",
      "Rows analyzed: 1250, Rows left: 3370\n",
      "Rows analyzed: 1251, Rows left: 3369\n"
     ]
    },
    {
     "name": "stderr",
     "output_type": "stream",
     "text": [
      "ERROR: [youtube] rMqA2esyBeQ: Private video. Sign in if you've been granted access to this video\n"
     ]
    },
    {
     "name": "stdout",
     "output_type": "stream",
     "text": [
      "Error checking language and duration for video rMqA2esyBeQ: ERROR: [youtube] rMqA2esyBeQ: Private video. Sign in if you've been granted access to this video\n",
      "Rows analyzed: 1252, Rows left: 3368\n"
     ]
    },
    {
     "name": "stderr",
     "output_type": "stream",
     "text": [
      "ERROR: [youtube] qpJWo02O0jo: Private video. Sign in if you've been granted access to this video\n"
     ]
    },
    {
     "name": "stdout",
     "output_type": "stream",
     "text": [
      "Error checking language and duration for video qpJWo02O0jo: ERROR: [youtube] qpJWo02O0jo: Private video. Sign in if you've been granted access to this video\n",
      "Rows analyzed: 1253, Rows left: 3367\n",
      "Rows analyzed: 1254, Rows left: 3366\n",
      "Rows analyzed: 1255, Rows left: 3365\n",
      "Rows analyzed: 1256, Rows left: 3364\n",
      "Rows analyzed: 1257, Rows left: 3363\n",
      "Rows analyzed: 1258, Rows left: 3362\n",
      "Rows analyzed: 1259, Rows left: 3361\n"
     ]
    },
    {
     "name": "stderr",
     "output_type": "stream",
     "text": [
      "ERROR: [youtube] 7xJCa8S6ZvI: Private video. Sign in if you've been granted access to this video\n"
     ]
    },
    {
     "name": "stdout",
     "output_type": "stream",
     "text": [
      "Error checking language and duration for video 7xJCa8S6ZvI: ERROR: [youtube] 7xJCa8S6ZvI: Private video. Sign in if you've been granted access to this video\n",
      "Rows analyzed: 1260, Rows left: 3360\n",
      "Rows analyzed: 1261, Rows left: 3359\n",
      "Rows analyzed: 1262, Rows left: 3358\n",
      "Rows analyzed: 1263, Rows left: 3357\n",
      "Rows analyzed: 1264, Rows left: 3356\n",
      "Rows analyzed: 1265, Rows left: 3355\n",
      "Rows analyzed: 1266, Rows left: 3354\n",
      "Rows analyzed: 1267, Rows left: 3353\n",
      "Rows analyzed: 1268, Rows left: 3352\n",
      "Rows analyzed: 1269, Rows left: 3351\n",
      "Rows analyzed: 1270, Rows left: 3350\n",
      "Rows analyzed: 1271, Rows left: 3349\n",
      "Rows analyzed: 1272, Rows left: 3348\n",
      "Rows analyzed: 1273, Rows left: 3347\n",
      "Rows analyzed: 1274, Rows left: 3346\n"
     ]
    },
    {
     "name": "stderr",
     "output_type": "stream",
     "text": [
      "ERROR: [youtube] PUV7ogDxctQ: Video unavailable\n"
     ]
    },
    {
     "name": "stdout",
     "output_type": "stream",
     "text": [
      "Error checking language and duration for video PUV7ogDxctQ: ERROR: [youtube] PUV7ogDxctQ: Video unavailable\n",
      "Rows analyzed: 1275, Rows left: 3345\n",
      "Rows analyzed: 1276, Rows left: 3344\n",
      "Rows analyzed: 1277, Rows left: 3343\n",
      "Rows analyzed: 1278, Rows left: 3342\n"
     ]
    },
    {
     "name": "stderr",
     "output_type": "stream",
     "text": [
      "ERROR: [youtube] kzsHdPK5phg: Video unavailable\n"
     ]
    },
    {
     "name": "stdout",
     "output_type": "stream",
     "text": [
      "Error checking language and duration for video kzsHdPK5phg: ERROR: [youtube] kzsHdPK5phg: Video unavailable\n",
      "Rows analyzed: 1279, Rows left: 3341\n",
      "Rows analyzed: 1280, Rows left: 3340\n",
      "Rows analyzed: 1281, Rows left: 3339\n",
      "Rows analyzed: 1282, Rows left: 3338\n"
     ]
    },
    {
     "name": "stderr",
     "output_type": "stream",
     "text": [
      "ERROR: [youtube] FqIulm_sUKE: Private video. Sign in if you've been granted access to this video\n"
     ]
    },
    {
     "name": "stdout",
     "output_type": "stream",
     "text": [
      "Error checking language and duration for video FqIulm_sUKE: ERROR: [youtube] FqIulm_sUKE: Private video. Sign in if you've been granted access to this video\n",
      "Rows analyzed: 1283, Rows left: 3337\n",
      "Rows analyzed: 1284, Rows left: 3336\n",
      "Rows analyzed: 1285, Rows left: 3335\n",
      "Rows analyzed: 1286, Rows left: 3334\n",
      "Rows analyzed: 1287, Rows left: 3333\n",
      "Rows analyzed: 1288, Rows left: 3332\n",
      "Rows analyzed: 1289, Rows left: 3331\n",
      "Rows analyzed: 1290, Rows left: 3330\n",
      "Rows analyzed: 1291, Rows left: 3329\n"
     ]
    },
    {
     "name": "stderr",
     "output_type": "stream",
     "text": [
      "ERROR: [youtube] rmo1yB3Hrb8: Video unavailable\n"
     ]
    },
    {
     "name": "stdout",
     "output_type": "stream",
     "text": [
      "Error checking language and duration for video rmo1yB3Hrb8: ERROR: [youtube] rmo1yB3Hrb8: Video unavailable\n",
      "Rows analyzed: 1292, Rows left: 3328\n"
     ]
    },
    {
     "name": "stderr",
     "output_type": "stream",
     "text": [
      "ERROR: [youtube] cZZFbp8ynRQ: Private video. Sign in if you've been granted access to this video\n"
     ]
    },
    {
     "name": "stdout",
     "output_type": "stream",
     "text": [
      "Error checking language and duration for video cZZFbp8ynRQ: ERROR: [youtube] cZZFbp8ynRQ: Private video. Sign in if you've been granted access to this video\n",
      "Rows analyzed: 1293, Rows left: 3327\n",
      "Rows analyzed: 1294, Rows left: 3326\n"
     ]
    },
    {
     "name": "stderr",
     "output_type": "stream",
     "text": [
      "ERROR: [youtube] 00BloR7mTWM: Private video. Sign in if you've been granted access to this video\n"
     ]
    },
    {
     "name": "stdout",
     "output_type": "stream",
     "text": [
      "Error checking language and duration for video 00BloR7mTWM: ERROR: [youtube] 00BloR7mTWM: Private video. Sign in if you've been granted access to this video\n",
      "Rows analyzed: 1295, Rows left: 3325\n",
      "Rows analyzed: 1296, Rows left: 3324\n",
      "Rows analyzed: 1297, Rows left: 3323\n",
      "Rows analyzed: 1298, Rows left: 3322\n"
     ]
    },
    {
     "name": "stderr",
     "output_type": "stream",
     "text": [
      "ERROR: [youtube] e1aOiQV0wrc: Private video. Sign in if you've been granted access to this video\n"
     ]
    },
    {
     "name": "stdout",
     "output_type": "stream",
     "text": [
      "Error checking language and duration for video e1aOiQV0wrc: ERROR: [youtube] e1aOiQV0wrc: Private video. Sign in if you've been granted access to this video\n",
      "Rows analyzed: 1299, Rows left: 3321\n"
     ]
    },
    {
     "name": "stderr",
     "output_type": "stream",
     "text": [
      "ERROR: [youtube] oCiArVEHiuk: Sign in to confirm your age. This video may be inappropriate for some users.\n"
     ]
    },
    {
     "name": "stdout",
     "output_type": "stream",
     "text": [
      "Error checking language and duration for video oCiArVEHiuk: ERROR: [youtube] oCiArVEHiuk: Sign in to confirm your age. This video may be inappropriate for some users.\n",
      "Rows analyzed: 1300, Rows left: 3320\n",
      "Rows analyzed: 1301, Rows left: 3319\n",
      "Rows analyzed: 1302, Rows left: 3318\n",
      "Rows analyzed: 1303, Rows left: 3317\n",
      "Rows analyzed: 1304, Rows left: 3316\n"
     ]
    },
    {
     "name": "stderr",
     "output_type": "stream",
     "text": [
      "ERROR: [youtube] bHR_bwENo0A: Private video. Sign in if you've been granted access to this video\n"
     ]
    },
    {
     "name": "stdout",
     "output_type": "stream",
     "text": [
      "Error checking language and duration for video bHR_bwENo0A: ERROR: [youtube] bHR_bwENo0A: Private video. Sign in if you've been granted access to this video\n",
      "Rows analyzed: 1305, Rows left: 3315\n",
      "Rows analyzed: 1306, Rows left: 3314\n",
      "Rows analyzed: 1307, Rows left: 3313\n",
      "Rows analyzed: 1308, Rows left: 3312\n",
      "Rows analyzed: 1309, Rows left: 3311\n",
      "Rows analyzed: 1310, Rows left: 3310\n"
     ]
    },
    {
     "name": "stderr",
     "output_type": "stream",
     "text": [
      "ERROR: [youtube] FIxK7mEYFBI: Private video. Sign in if you've been granted access to this video\n"
     ]
    },
    {
     "name": "stdout",
     "output_type": "stream",
     "text": [
      "Error checking language and duration for video FIxK7mEYFBI: ERROR: [youtube] FIxK7mEYFBI: Private video. Sign in if you've been granted access to this video\n",
      "Rows analyzed: 1311, Rows left: 3309\n",
      "Rows analyzed: 1312, Rows left: 3308\n",
      "Rows analyzed: 1313, Rows left: 3307\n",
      "Rows analyzed: 1314, Rows left: 3306\n",
      "Rows analyzed: 1315, Rows left: 3305\n",
      "Rows analyzed: 1316, Rows left: 3304\n"
     ]
    },
    {
     "name": "stderr",
     "output_type": "stream",
     "text": [
      "ERROR: [youtube] s44xeSx_8JU: Video unavailable\n"
     ]
    },
    {
     "name": "stdout",
     "output_type": "stream",
     "text": [
      "Error checking language and duration for video s44xeSx_8JU: ERROR: [youtube] s44xeSx_8JU: Video unavailable\n",
      "Rows analyzed: 1317, Rows left: 3303\n"
     ]
    },
    {
     "name": "stderr",
     "output_type": "stream",
     "text": [
      "ERROR: [youtube] DPl_b-KpKO4: Private video. Sign in if you've been granted access to this video\n"
     ]
    },
    {
     "name": "stdout",
     "output_type": "stream",
     "text": [
      "Error checking language and duration for video DPl_b-KpKO4: ERROR: [youtube] DPl_b-KpKO4: Private video. Sign in if you've been granted access to this video\n",
      "Rows analyzed: 1318, Rows left: 3302\n",
      "Rows analyzed: 1319, Rows left: 3301\n",
      "Rows analyzed: 1320, Rows left: 3300\n"
     ]
    },
    {
     "name": "stderr",
     "output_type": "stream",
     "text": [
      "ERROR: [youtube] sg7mUJeu9iY: Private video. Sign in if you've been granted access to this video\n"
     ]
    },
    {
     "name": "stdout",
     "output_type": "stream",
     "text": [
      "Error checking language and duration for video sg7mUJeu9iY: ERROR: [youtube] sg7mUJeu9iY: Private video. Sign in if you've been granted access to this video\n",
      "Rows analyzed: 1321, Rows left: 3299\n"
     ]
    },
    {
     "name": "stderr",
     "output_type": "stream",
     "text": [
      "ERROR: [youtube] 7W-dLX4MGHQ: Private video. Sign in if you've been granted access to this video\n"
     ]
    },
    {
     "name": "stdout",
     "output_type": "stream",
     "text": [
      "Error checking language and duration for video 7W-dLX4MGHQ: ERROR: [youtube] 7W-dLX4MGHQ: Private video. Sign in if you've been granted access to this video\n",
      "Rows analyzed: 1322, Rows left: 3298\n",
      "Rows analyzed: 1323, Rows left: 3297\n",
      "Rows analyzed: 1324, Rows left: 3296\n"
     ]
    },
    {
     "name": "stderr",
     "output_type": "stream",
     "text": [
      "ERROR: [youtube] D7i2voAs1ao: Video unavailable. This video is no longer available because the YouTube account associated with this video has been terminated.\n"
     ]
    },
    {
     "name": "stdout",
     "output_type": "stream",
     "text": [
      "Error checking language and duration for video D7i2voAs1ao: ERROR: [youtube] D7i2voAs1ao: Video unavailable. This video is no longer available because the YouTube account associated with this video has been terminated.\n",
      "Rows analyzed: 1325, Rows left: 3295\n"
     ]
    },
    {
     "name": "stderr",
     "output_type": "stream",
     "text": [
      "ERROR: [youtube] Ogj9R4rjKzA: Video unavailable\n"
     ]
    },
    {
     "name": "stdout",
     "output_type": "stream",
     "text": [
      "Error checking language and duration for video Ogj9R4rjKzA: ERROR: [youtube] Ogj9R4rjKzA: Video unavailable\n",
      "Rows analyzed: 1326, Rows left: 3294\n",
      "Rows analyzed: 1327, Rows left: 3293\n",
      "Rows analyzed: 1328, Rows left: 3292\n",
      "Rows analyzed: 1329, Rows left: 3291\n",
      "Rows analyzed: 1330, Rows left: 3290\n",
      "Rows analyzed: 1331, Rows left: 3289\n",
      "Rows analyzed: 1332, Rows left: 3288\n",
      "Rows analyzed: 1333, Rows left: 3287\n",
      "Rows analyzed: 1334, Rows left: 3286\n",
      "Rows analyzed: 1335, Rows left: 3285\n"
     ]
    },
    {
     "name": "stderr",
     "output_type": "stream",
     "text": [
      "ERROR: [youtube] ZxZeiK1ua8k: Private video. Sign in if you've been granted access to this video\n"
     ]
    },
    {
     "name": "stdout",
     "output_type": "stream",
     "text": [
      "Error checking language and duration for video ZxZeiK1ua8k: ERROR: [youtube] ZxZeiK1ua8k: Private video. Sign in if you've been granted access to this video\n",
      "Rows analyzed: 1336, Rows left: 3284\n",
      "Rows analyzed: 1337, Rows left: 3283\n",
      "Rows analyzed: 1338, Rows left: 3282\n",
      "Rows analyzed: 1339, Rows left: 3281\n",
      "Rows analyzed: 1340, Rows left: 3280\n",
      "Rows analyzed: 1341, Rows left: 3279\n",
      "Rows analyzed: 1342, Rows left: 3278\n",
      "Rows analyzed: 1343, Rows left: 3277\n",
      "Rows analyzed: 1344, Rows left: 3276\n",
      "Rows analyzed: 1345, Rows left: 3275\n",
      "Rows analyzed: 1346, Rows left: 3274\n"
     ]
    },
    {
     "name": "stderr",
     "output_type": "stream",
     "text": [
      "ERROR: [youtube] BdBZwKEOROQ: Video unavailable\n"
     ]
    },
    {
     "name": "stdout",
     "output_type": "stream",
     "text": [
      "Error checking language and duration for video BdBZwKEOROQ: ERROR: [youtube] BdBZwKEOROQ: Video unavailable\n",
      "Rows analyzed: 1347, Rows left: 3273\n",
      "Rows analyzed: 1348, Rows left: 3272\n",
      "Rows analyzed: 1349, Rows left: 3271\n",
      "Rows analyzed: 1350, Rows left: 3270\n",
      "Rows analyzed: 1351, Rows left: 3269\n"
     ]
    },
    {
     "name": "stderr",
     "output_type": "stream",
     "text": [
      "ERROR: [youtube] 6KmxiGoSkfc: Private video. Sign in if you've been granted access to this video\n"
     ]
    },
    {
     "name": "stdout",
     "output_type": "stream",
     "text": [
      "Error checking language and duration for video 6KmxiGoSkfc: ERROR: [youtube] 6KmxiGoSkfc: Private video. Sign in if you've been granted access to this video\n",
      "Rows analyzed: 1352, Rows left: 3268\n"
     ]
    },
    {
     "name": "stderr",
     "output_type": "stream",
     "text": [
      "ERROR: [youtube] 1fHqBiN1HGY: Private video. Sign in if you've been granted access to this video\n"
     ]
    },
    {
     "name": "stdout",
     "output_type": "stream",
     "text": [
      "Error checking language and duration for video 1fHqBiN1HGY: ERROR: [youtube] 1fHqBiN1HGY: Private video. Sign in if you've been granted access to this video\n",
      "Rows analyzed: 1353, Rows left: 3267\n",
      "Rows analyzed: 1354, Rows left: 3266\n",
      "Rows analyzed: 1355, Rows left: 3265\n",
      "Rows analyzed: 1356, Rows left: 3264\n",
      "Rows analyzed: 1357, Rows left: 3263\n",
      "Rows analyzed: 1358, Rows left: 3262\n",
      "Rows analyzed: 1359, Rows left: 3261\n",
      "Rows analyzed: 1360, Rows left: 3260\n",
      "Rows analyzed: 1361, Rows left: 3259\n"
     ]
    },
    {
     "name": "stderr",
     "output_type": "stream",
     "text": [
      "ERROR: [youtube] XAZcn0VXDYo: Video unavailable. This video is no longer available because the YouTube account associated with this video has been terminated.\n"
     ]
    },
    {
     "name": "stdout",
     "output_type": "stream",
     "text": [
      "Error checking language and duration for video XAZcn0VXDYo: ERROR: [youtube] XAZcn0VXDYo: Video unavailable. This video is no longer available because the YouTube account associated with this video has been terminated.\n",
      "Rows analyzed: 1362, Rows left: 3258\n"
     ]
    },
    {
     "name": "stderr",
     "output_type": "stream",
     "text": [
      "ERROR: [youtube] PQj3ulNTioc: Private video. Sign in if you've been granted access to this video\n"
     ]
    },
    {
     "name": "stdout",
     "output_type": "stream",
     "text": [
      "Error checking language and duration for video PQj3ulNTioc: ERROR: [youtube] PQj3ulNTioc: Private video. Sign in if you've been granted access to this video\n",
      "Rows analyzed: 1363, Rows left: 3257\n",
      "Rows analyzed: 1364, Rows left: 3256\n",
      "Rows analyzed: 1365, Rows left: 3255\n"
     ]
    },
    {
     "name": "stderr",
     "output_type": "stream",
     "text": [
      "ERROR: [youtube] KBKAgSS403M: Video unavailable\n"
     ]
    },
    {
     "name": "stdout",
     "output_type": "stream",
     "text": [
      "Error checking language and duration for video KBKAgSS403M: ERROR: [youtube] KBKAgSS403M: Video unavailable\n",
      "Rows analyzed: 1366, Rows left: 3254\n",
      "Rows analyzed: 1367, Rows left: 3253\n",
      "Rows analyzed: 1368, Rows left: 3252\n",
      "Rows analyzed: 1369, Rows left: 3251\n",
      "Rows analyzed: 1370, Rows left: 3250\n",
      "Rows analyzed: 1371, Rows left: 3249\n",
      "Rows analyzed: 1372, Rows left: 3248\n",
      "Rows analyzed: 1373, Rows left: 3247\n",
      "Rows analyzed: 1374, Rows left: 3246\n",
      "Rows analyzed: 1375, Rows left: 3245\n",
      "Rows analyzed: 1376, Rows left: 3244\n",
      "Rows analyzed: 1377, Rows left: 3243\n",
      "Rows analyzed: 1378, Rows left: 3242\n",
      "Rows analyzed: 1379, Rows left: 3241\n",
      "Rows analyzed: 1380, Rows left: 3240\n",
      "Rows analyzed: 1381, Rows left: 3239\n",
      "Rows analyzed: 1382, Rows left: 3238\n"
     ]
    },
    {
     "name": "stderr",
     "output_type": "stream",
     "text": [
      "ERROR: [youtube] Cqv9gjUcklo: Private video. Sign in if you've been granted access to this video\n"
     ]
    },
    {
     "name": "stdout",
     "output_type": "stream",
     "text": [
      "Error checking language and duration for video Cqv9gjUcklo: ERROR: [youtube] Cqv9gjUcklo: Private video. Sign in if you've been granted access to this video\n",
      "Rows analyzed: 1383, Rows left: 3237\n",
      "Rows analyzed: 1384, Rows left: 3236\n",
      "Rows analyzed: 1385, Rows left: 3235\n",
      "Rows analyzed: 1386, Rows left: 3234\n",
      "Rows analyzed: 1387, Rows left: 3233\n",
      "Rows analyzed: 1388, Rows left: 3232\n",
      "Rows analyzed: 1389, Rows left: 3231\n",
      "Rows analyzed: 1390, Rows left: 3230\n",
      "Rows analyzed: 1391, Rows left: 3229\n",
      "Rows analyzed: 1392, Rows left: 3228\n"
     ]
    },
    {
     "name": "stderr",
     "output_type": "stream",
     "text": [
      "ERROR: [youtube] Glay3pvSXTE: Video unavailable. This video is no longer available because the YouTube account associated with this video has been terminated.\n"
     ]
    },
    {
     "name": "stdout",
     "output_type": "stream",
     "text": [
      "Error checking language and duration for video Glay3pvSXTE: ERROR: [youtube] Glay3pvSXTE: Video unavailable. This video is no longer available because the YouTube account associated with this video has been terminated.\n",
      "Rows analyzed: 1393, Rows left: 3227\n",
      "Rows analyzed: 1394, Rows left: 3226\n",
      "Rows analyzed: 1395, Rows left: 3225\n",
      "Rows analyzed: 1396, Rows left: 3224\n",
      "Rows analyzed: 1397, Rows left: 3223\n"
     ]
    },
    {
     "name": "stderr",
     "output_type": "stream",
     "text": [
      "ERROR: [youtube] XjlN6b_KwLE: Video unavailable. This video is no longer available because the YouTube account associated with this video has been terminated.\n"
     ]
    },
    {
     "name": "stdout",
     "output_type": "stream",
     "text": [
      "Error checking language and duration for video XjlN6b_KwLE: ERROR: [youtube] XjlN6b_KwLE: Video unavailable. This video is no longer available because the YouTube account associated with this video has been terminated.\n",
      "Rows analyzed: 1398, Rows left: 3222\n",
      "Rows analyzed: 1399, Rows left: 3221\n",
      "Rows analyzed: 1400, Rows left: 3220\n",
      "Rows analyzed: 1401, Rows left: 3219\n",
      "Rows analyzed: 1402, Rows left: 3218\n",
      "Rows analyzed: 1403, Rows left: 3217\n",
      "Rows analyzed: 1404, Rows left: 3216\n",
      "Rows analyzed: 1405, Rows left: 3215\n",
      "Rows analyzed: 1406, Rows left: 3214\n",
      "Rows analyzed: 1407, Rows left: 3213\n",
      "Rows analyzed: 1408, Rows left: 3212\n",
      "Rows analyzed: 1409, Rows left: 3211\n",
      "Rows analyzed: 1410, Rows left: 3210\n",
      "Rows analyzed: 1411, Rows left: 3209\n",
      "Rows analyzed: 1412, Rows left: 3208\n",
      "Rows analyzed: 1413, Rows left: 3207\n",
      "Rows analyzed: 1414, Rows left: 3206\n",
      "Rows analyzed: 1415, Rows left: 3205\n"
     ]
    },
    {
     "name": "stderr",
     "output_type": "stream",
     "text": [
      "ERROR: [youtube] elVMH4EDcxw: Video unavailable\n"
     ]
    },
    {
     "name": "stdout",
     "output_type": "stream",
     "text": [
      "Error checking language and duration for video elVMH4EDcxw: ERROR: [youtube] elVMH4EDcxw: Video unavailable\n",
      "Rows analyzed: 1416, Rows left: 3204\n"
     ]
    },
    {
     "name": "stderr",
     "output_type": "stream",
     "text": [
      "ERROR: [youtube] 46Kr4pJSmBo: Video unavailable. This video is no longer available due to a copyright claim by CBS\n"
     ]
    },
    {
     "name": "stdout",
     "output_type": "stream",
     "text": [
      "Error checking language and duration for video 46Kr4pJSmBo: ERROR: [youtube] 46Kr4pJSmBo: Video unavailable. This video is no longer available due to a copyright claim by CBS\n",
      "Rows analyzed: 1417, Rows left: 3203\n",
      "Rows analyzed: 1418, Rows left: 3202\n",
      "Rows analyzed: 1419, Rows left: 3201\n",
      "Rows analyzed: 1420, Rows left: 3200\n",
      "Rows analyzed: 1421, Rows left: 3199\n"
     ]
    },
    {
     "name": "stderr",
     "output_type": "stream",
     "text": [
      "ERROR: [youtube] iHwdkSKV7ss: Private video. Sign in if you've been granted access to this video\n"
     ]
    },
    {
     "name": "stdout",
     "output_type": "stream",
     "text": [
      "Error checking language and duration for video iHwdkSKV7ss: ERROR: [youtube] iHwdkSKV7ss: Private video. Sign in if you've been granted access to this video\n",
      "Rows analyzed: 1422, Rows left: 3198\n",
      "Rows analyzed: 1423, Rows left: 3197\n",
      "Rows analyzed: 1424, Rows left: 3196\n",
      "Rows analyzed: 1425, Rows left: 3195\n"
     ]
    },
    {
     "name": "stderr",
     "output_type": "stream",
     "text": [
      "ERROR: [youtube] BU59BZKEvgc: Private video. Sign in if you've been granted access to this video\n"
     ]
    },
    {
     "name": "stdout",
     "output_type": "stream",
     "text": [
      "Error checking language and duration for video BU59BZKEvgc: ERROR: [youtube] BU59BZKEvgc: Private video. Sign in if you've been granted access to this video\n",
      "Rows analyzed: 1426, Rows left: 3194\n",
      "Rows analyzed: 1427, Rows left: 3193\n",
      "Rows analyzed: 1428, Rows left: 3192\n",
      "Rows analyzed: 1429, Rows left: 3191\n",
      "Rows analyzed: 1430, Rows left: 3190\n",
      "Rows analyzed: 1431, Rows left: 3189\n",
      "Rows analyzed: 1432, Rows left: 3188\n"
     ]
    },
    {
     "name": "stderr",
     "output_type": "stream",
     "text": [
      "ERROR: [youtube] lSl8soNTuhs: Video unavailable. The uploader has not made this video available in your country\n"
     ]
    },
    {
     "name": "stdout",
     "output_type": "stream",
     "text": [
      "Error checking language and duration for video lSl8soNTuhs: ERROR: [youtube] lSl8soNTuhs: Video unavailable. The uploader has not made this video available in your country\n",
      "Rows analyzed: 1433, Rows left: 3187\n",
      "Rows analyzed: 1434, Rows left: 3186\n",
      "Rows analyzed: 1435, Rows left: 3185\n",
      "Rows analyzed: 1436, Rows left: 3184\n",
      "Rows analyzed: 1437, Rows left: 3183\n"
     ]
    },
    {
     "name": "stderr",
     "output_type": "stream",
     "text": [
      "ERROR: [youtube] uHROlcd9plk: Video unavailable\n"
     ]
    },
    {
     "name": "stdout",
     "output_type": "stream",
     "text": [
      "Error checking language and duration for video uHROlcd9plk: ERROR: [youtube] uHROlcd9plk: Video unavailable\n",
      "Rows analyzed: 1438, Rows left: 3182\n",
      "Rows analyzed: 1439, Rows left: 3181\n",
      "Rows analyzed: 1440, Rows left: 3180\n",
      "Rows analyzed: 1441, Rows left: 3179\n",
      "Rows analyzed: 1442, Rows left: 3178\n",
      "Rows analyzed: 1443, Rows left: 3177\n",
      "Rows analyzed: 1444, Rows left: 3176\n",
      "Rows analyzed: 1445, Rows left: 3175\n",
      "Rows analyzed: 1446, Rows left: 3174\n",
      "Rows analyzed: 1447, Rows left: 3173\n",
      "Rows analyzed: 1448, Rows left: 3172\n"
     ]
    },
    {
     "name": "stderr",
     "output_type": "stream",
     "text": [
      "ERROR: [youtube] 51X3b1JlWBs: Video unavailable. This video is no longer available because the YouTube account associated with this video has been terminated.\n"
     ]
    },
    {
     "name": "stdout",
     "output_type": "stream",
     "text": [
      "Error checking language and duration for video 51X3b1JlWBs: ERROR: [youtube] 51X3b1JlWBs: Video unavailable. This video is no longer available because the YouTube account associated with this video has been terminated.\n",
      "Rows analyzed: 1449, Rows left: 3171\n",
      "Rows analyzed: 1450, Rows left: 3170\n",
      "Rows analyzed: 1451, Rows left: 3169\n",
      "Rows analyzed: 1452, Rows left: 3168\n",
      "Rows analyzed: 1453, Rows left: 3167\n",
      "Rows analyzed: 1454, Rows left: 3166\n",
      "Rows analyzed: 1455, Rows left: 3165\n",
      "Rows analyzed: 1456, Rows left: 3164\n",
      "Rows analyzed: 1457, Rows left: 3163\n"
     ]
    },
    {
     "name": "stderr",
     "output_type": "stream",
     "text": [
      "ERROR: [youtube] F-gKfikZ6kg: Private video. Sign in if you've been granted access to this video\n"
     ]
    },
    {
     "name": "stdout",
     "output_type": "stream",
     "text": [
      "Error checking language and duration for video F-gKfikZ6kg: ERROR: [youtube] F-gKfikZ6kg: Private video. Sign in if you've been granted access to this video\n",
      "Rows analyzed: 1458, Rows left: 3162\n",
      "Rows analyzed: 1459, Rows left: 3161\n",
      "Rows analyzed: 1460, Rows left: 3160\n",
      "Rows analyzed: 1461, Rows left: 3159\n"
     ]
    },
    {
     "name": "stderr",
     "output_type": "stream",
     "text": [
      "ERROR: [youtube] 3iP-T6qTJek: Private video. Sign in if you've been granted access to this video\n"
     ]
    },
    {
     "name": "stdout",
     "output_type": "stream",
     "text": [
      "Error checking language and duration for video 3iP-T6qTJek: ERROR: [youtube] 3iP-T6qTJek: Private video. Sign in if you've been granted access to this video\n",
      "Rows analyzed: 1462, Rows left: 3158\n",
      "Rows analyzed: 1463, Rows left: 3157\n",
      "Rows analyzed: 1464, Rows left: 3156\n"
     ]
    },
    {
     "name": "stderr",
     "output_type": "stream",
     "text": [
      "ERROR: [youtube] i1pQZlgBwl8: Private video. Sign in if you've been granted access to this video\n"
     ]
    },
    {
     "name": "stdout",
     "output_type": "stream",
     "text": [
      "Error checking language and duration for video i1pQZlgBwl8: ERROR: [youtube] i1pQZlgBwl8: Private video. Sign in if you've been granted access to this video\n",
      "Rows analyzed: 1465, Rows left: 3155\n",
      "Rows analyzed: 1466, Rows left: 3154\n",
      "Rows analyzed: 1467, Rows left: 3153\n",
      "Rows analyzed: 1468, Rows left: 3152\n",
      "Rows analyzed: 1469, Rows left: 3151\n",
      "Rows analyzed: 1470, Rows left: 3150\n",
      "Rows analyzed: 1471, Rows left: 3149\n",
      "Rows analyzed: 1472, Rows left: 3148\n",
      "Rows analyzed: 1473, Rows left: 3147\n",
      "Rows analyzed: 1474, Rows left: 3146\n",
      "Rows analyzed: 1475, Rows left: 3145\n",
      "Rows analyzed: 1476, Rows left: 3144\n",
      "Rows analyzed: 1477, Rows left: 3143\n",
      "Rows analyzed: 1478, Rows left: 3142\n",
      "Rows analyzed: 1479, Rows left: 3141\n",
      "Rows analyzed: 1480, Rows left: 3140\n"
     ]
    },
    {
     "name": "stderr",
     "output_type": "stream",
     "text": [
      "ERROR: [youtube] bZbAvY_72XI: Video unavailable\n"
     ]
    },
    {
     "name": "stdout",
     "output_type": "stream",
     "text": [
      "Error checking language and duration for video bZbAvY_72XI: ERROR: [youtube] bZbAvY_72XI: Video unavailable\n",
      "Rows analyzed: 1481, Rows left: 3139\n",
      "Rows analyzed: 1482, Rows left: 3138\n",
      "Rows analyzed: 1483, Rows left: 3137\n"
     ]
    },
    {
     "name": "stderr",
     "output_type": "stream",
     "text": [
      "ERROR: [youtube] FtkXfWRnRD0: Video unavailable\n"
     ]
    },
    {
     "name": "stdout",
     "output_type": "stream",
     "text": [
      "Error checking language and duration for video FtkXfWRnRD0: ERROR: [youtube] FtkXfWRnRD0: Video unavailable\n",
      "Rows analyzed: 1484, Rows left: 3136\n",
      "Rows analyzed: 1485, Rows left: 3135\n",
      "Rows analyzed: 1486, Rows left: 3134\n",
      "Rows analyzed: 1487, Rows left: 3133\n",
      "Rows analyzed: 1488, Rows left: 3132\n",
      "Rows analyzed: 1489, Rows left: 3131\n"
     ]
    },
    {
     "name": "stderr",
     "output_type": "stream",
     "text": [
      "ERROR: [youtube] euM7-dxOyMA: Video unavailable\n"
     ]
    },
    {
     "name": "stdout",
     "output_type": "stream",
     "text": [
      "Error checking language and duration for video euM7-dxOyMA: ERROR: [youtube] euM7-dxOyMA: Video unavailable\n",
      "Rows analyzed: 1490, Rows left: 3130\n",
      "Rows analyzed: 1491, Rows left: 3129\n",
      "Rows analyzed: 1492, Rows left: 3128\n",
      "Rows analyzed: 1493, Rows left: 3127\n",
      "Rows analyzed: 1494, Rows left: 3126\n",
      "Rows analyzed: 1495, Rows left: 3125\n",
      "Rows analyzed: 1496, Rows left: 3124\n",
      "Rows analyzed: 1497, Rows left: 3123\n",
      "Rows analyzed: 1498, Rows left: 3122\n",
      "Rows analyzed: 1499, Rows left: 3121\n",
      "Rows analyzed: 1500, Rows left: 3120\n"
     ]
    },
    {
     "name": "stderr",
     "output_type": "stream",
     "text": [
      "ERROR: [youtube] ej5hr6Q_94g: Video unavailable. This video has been removed by the uploader\n"
     ]
    },
    {
     "name": "stdout",
     "output_type": "stream",
     "text": [
      "Error checking language and duration for video ej5hr6Q_94g: ERROR: [youtube] ej5hr6Q_94g: Video unavailable. This video has been removed by the uploader\n",
      "Rows analyzed: 1501, Rows left: 3119\n",
      "Rows analyzed: 1502, Rows left: 3118\n"
     ]
    },
    {
     "name": "stderr",
     "output_type": "stream",
     "text": [
      "ERROR: [youtube] -8PJzoCPaMQ: Video unavailable. This video contains content from DriveInComedy. It is not available.\n"
     ]
    },
    {
     "name": "stdout",
     "output_type": "stream",
     "text": [
      "Error checking language and duration for video -8PJzoCPaMQ: ERROR: [youtube] -8PJzoCPaMQ: Video unavailable. This video contains content from DriveInComedy. It is not available.\n",
      "Rows analyzed: 1503, Rows left: 3117\n",
      "Rows analyzed: 1504, Rows left: 3116\n",
      "Rows analyzed: 1505, Rows left: 3115\n",
      "Rows analyzed: 1506, Rows left: 3114\n"
     ]
    },
    {
     "name": "stderr",
     "output_type": "stream",
     "text": [
      "ERROR: [youtube] 0mdm6ldgb_M: Video unavailable\n"
     ]
    },
    {
     "name": "stdout",
     "output_type": "stream",
     "text": [
      "Error checking language and duration for video 0mdm6ldgb_M: ERROR: [youtube] 0mdm6ldgb_M: Video unavailable\n",
      "Rows analyzed: 1507, Rows left: 3113\n",
      "Rows analyzed: 1508, Rows left: 3112\n",
      "Rows analyzed: 1509, Rows left: 3111\n",
      "Rows analyzed: 1510, Rows left: 3110\n",
      "Rows analyzed: 1511, Rows left: 3109\n",
      "Rows analyzed: 1512, Rows left: 3108\n"
     ]
    },
    {
     "name": "stderr",
     "output_type": "stream",
     "text": [
      "ERROR: [youtube] ZQfFFzfO0KY: Video unavailable\n"
     ]
    },
    {
     "name": "stdout",
     "output_type": "stream",
     "text": [
      "Error checking language and duration for video ZQfFFzfO0KY: ERROR: [youtube] ZQfFFzfO0KY: Video unavailable\n",
      "Rows analyzed: 1513, Rows left: 3107\n",
      "Rows analyzed: 1514, Rows left: 3106\n"
     ]
    },
    {
     "name": "stderr",
     "output_type": "stream",
     "text": [
      "ERROR: [youtube] zz1-tjr5GfI: Video unavailable\n"
     ]
    },
    {
     "name": "stdout",
     "output_type": "stream",
     "text": [
      "Error checking language and duration for video zz1-tjr5GfI: ERROR: [youtube] zz1-tjr5GfI: Video unavailable\n",
      "Rows analyzed: 1515, Rows left: 3105\n"
     ]
    },
    {
     "name": "stderr",
     "output_type": "stream",
     "text": [
      "ERROR: [youtube] oCiArVEHiuk: Sign in to confirm your age. This video may be inappropriate for some users.\n"
     ]
    },
    {
     "name": "stdout",
     "output_type": "stream",
     "text": [
      "Error checking language and duration for video oCiArVEHiuk: ERROR: [youtube] oCiArVEHiuk: Sign in to confirm your age. This video may be inappropriate for some users.\n",
      "Rows analyzed: 1516, Rows left: 3104\n"
     ]
    },
    {
     "name": "stderr",
     "output_type": "stream",
     "text": [
      "ERROR: [youtube] 52mh5r6KFp8: Private video. Sign in if you've been granted access to this video\n"
     ]
    },
    {
     "name": "stdout",
     "output_type": "stream",
     "text": [
      "Error checking language and duration for video 52mh5r6KFp8: ERROR: [youtube] 52mh5r6KFp8: Private video. Sign in if you've been granted access to this video\n",
      "Rows analyzed: 1517, Rows left: 3103\n"
     ]
    },
    {
     "name": "stderr",
     "output_type": "stream",
     "text": [
      "ERROR: [youtube] 63l0ZQl81S0: Video unavailable. This video is no longer available because the YouTube account associated with this video has been terminated.\n"
     ]
    },
    {
     "name": "stdout",
     "output_type": "stream",
     "text": [
      "Error checking language and duration for video 63l0ZQl81S0: ERROR: [youtube] 63l0ZQl81S0: Video unavailable. This video is no longer available because the YouTube account associated with this video has been terminated.\n",
      "Rows analyzed: 1518, Rows left: 3102\n",
      "Rows analyzed: 1519, Rows left: 3101\n",
      "Rows analyzed: 1520, Rows left: 3100\n",
      "Rows analyzed: 1521, Rows left: 3099\n",
      "Rows analyzed: 1522, Rows left: 3098\n",
      "Rows analyzed: 1523, Rows left: 3097\n",
      "Rows analyzed: 1524, Rows left: 3096\n",
      "Rows analyzed: 1525, Rows left: 3095\n",
      "Rows analyzed: 1526, Rows left: 3094\n",
      "Rows analyzed: 1527, Rows left: 3093\n"
     ]
    },
    {
     "name": "stderr",
     "output_type": "stream",
     "text": [
      "ERROR: [youtube] ObK74CrFHVQ: Video unavailable. This video is no longer available because the YouTube account associated with this video has been terminated.\n"
     ]
    },
    {
     "name": "stdout",
     "output_type": "stream",
     "text": [
      "Error checking language and duration for video ObK74CrFHVQ: ERROR: [youtube] ObK74CrFHVQ: Video unavailable. This video is no longer available because the YouTube account associated with this video has been terminated.\n",
      "Rows analyzed: 1528, Rows left: 3092\n",
      "Rows analyzed: 1529, Rows left: 3091\n",
      "Rows analyzed: 1530, Rows left: 3090\n",
      "Rows analyzed: 1531, Rows left: 3089\n",
      "Rows analyzed: 1532, Rows left: 3088\n",
      "Rows analyzed: 1533, Rows left: 3087\n",
      "Rows analyzed: 1534, Rows left: 3086\n",
      "Rows analyzed: 1535, Rows left: 3085\n",
      "Rows analyzed: 1536, Rows left: 3084\n"
     ]
    },
    {
     "name": "stderr",
     "output_type": "stream",
     "text": [
      "ERROR: [youtube] BoSZw4nH9Ns: Video unavailable\n"
     ]
    },
    {
     "name": "stdout",
     "output_type": "stream",
     "text": [
      "Error checking language and duration for video BoSZw4nH9Ns: ERROR: [youtube] BoSZw4nH9Ns: Video unavailable\n",
      "Rows analyzed: 1537, Rows left: 3083\n",
      "Rows analyzed: 1538, Rows left: 3082\n"
     ]
    },
    {
     "name": "stderr",
     "output_type": "stream",
     "text": [
      "ERROR: [youtube] iwj3DqD5eCM: Video unavailable\n"
     ]
    },
    {
     "name": "stdout",
     "output_type": "stream",
     "text": [
      "Error checking language and duration for video iwj3DqD5eCM: ERROR: [youtube] iwj3DqD5eCM: Video unavailable\n",
      "Rows analyzed: 1539, Rows left: 3081\n",
      "Rows analyzed: 1540, Rows left: 3080\n",
      "Rows analyzed: 1541, Rows left: 3079\n",
      "Rows analyzed: 1542, Rows left: 3078\n"
     ]
    },
    {
     "name": "stderr",
     "output_type": "stream",
     "text": [
      "ERROR: [youtube] NnI1p0LFhoU: Video unavailable\n"
     ]
    },
    {
     "name": "stdout",
     "output_type": "stream",
     "text": [
      "Error checking language and duration for video NnI1p0LFhoU: ERROR: [youtube] NnI1p0LFhoU: Video unavailable\n",
      "Rows analyzed: 1543, Rows left: 3077\n",
      "Rows analyzed: 1544, Rows left: 3076\n",
      "Rows analyzed: 1545, Rows left: 3075\n"
     ]
    },
    {
     "name": "stderr",
     "output_type": "stream",
     "text": [
      "ERROR: [youtube] hzpFD5RXPHg: Video unavailable\n"
     ]
    },
    {
     "name": "stdout",
     "output_type": "stream",
     "text": [
      "Error checking language and duration for video hzpFD5RXPHg: ERROR: [youtube] hzpFD5RXPHg: Video unavailable\n",
      "Rows analyzed: 1546, Rows left: 3074\n",
      "Rows analyzed: 1547, Rows left: 3073\n",
      "Rows analyzed: 1548, Rows left: 3072\n",
      "Rows analyzed: 1549, Rows left: 3071\n",
      "Rows analyzed: 1550, Rows left: 3070\n"
     ]
    },
    {
     "name": "stderr",
     "output_type": "stream",
     "text": [
      "ERROR: [youtube] nhzQlN02jVE: Private video. Sign in if you've been granted access to this video\n"
     ]
    },
    {
     "name": "stdout",
     "output_type": "stream",
     "text": [
      "Error checking language and duration for video nhzQlN02jVE: ERROR: [youtube] nhzQlN02jVE: Private video. Sign in if you've been granted access to this video\n",
      "Rows analyzed: 1551, Rows left: 3069\n",
      "Rows analyzed: 1552, Rows left: 3068\n"
     ]
    },
    {
     "name": "stderr",
     "output_type": "stream",
     "text": [
      "ERROR: [youtube] vpU2dq_ObWY: Private video. Sign in if you've been granted access to this video\n"
     ]
    },
    {
     "name": "stdout",
     "output_type": "stream",
     "text": [
      "Error checking language and duration for video vpU2dq_ObWY: ERROR: [youtube] vpU2dq_ObWY: Private video. Sign in if you've been granted access to this video\n",
      "Rows analyzed: 1553, Rows left: 3067\n"
     ]
    },
    {
     "name": "stderr",
     "output_type": "stream",
     "text": [
      "ERROR: [youtube] C4O1GouedgU: Private video. Sign in if you've been granted access to this video\n"
     ]
    },
    {
     "name": "stdout",
     "output_type": "stream",
     "text": [
      "Error checking language and duration for video C4O1GouedgU: ERROR: [youtube] C4O1GouedgU: Private video. Sign in if you've been granted access to this video\n",
      "Rows analyzed: 1554, Rows left: 3066\n",
      "Rows analyzed: 1555, Rows left: 3065\n"
     ]
    },
    {
     "name": "stderr",
     "output_type": "stream",
     "text": [
      "ERROR: [youtube] FqIulm_sUKE: Private video. Sign in if you've been granted access to this video\n"
     ]
    },
    {
     "name": "stdout",
     "output_type": "stream",
     "text": [
      "Error checking language and duration for video FqIulm_sUKE: ERROR: [youtube] FqIulm_sUKE: Private video. Sign in if you've been granted access to this video\n",
      "Rows analyzed: 1556, Rows left: 3064\n"
     ]
    },
    {
     "name": "stderr",
     "output_type": "stream",
     "text": [
      "ERROR: [youtube] bpYYldYXybA: Private video. Sign in if you've been granted access to this video\n"
     ]
    },
    {
     "name": "stdout",
     "output_type": "stream",
     "text": [
      "Error checking language and duration for video bpYYldYXybA: ERROR: [youtube] bpYYldYXybA: Private video. Sign in if you've been granted access to this video\n",
      "Rows analyzed: 1557, Rows left: 3063\n",
      "Rows analyzed: 1558, Rows left: 3062\n",
      "Rows analyzed: 1559, Rows left: 3061\n"
     ]
    },
    {
     "name": "stderr",
     "output_type": "stream",
     "text": [
      "ERROR: [youtube] U3HyiMCse1c: Private video. Sign in if you've been granted access to this video\n"
     ]
    },
    {
     "name": "stdout",
     "output_type": "stream",
     "text": [
      "Error checking language and duration for video U3HyiMCse1c: ERROR: [youtube] U3HyiMCse1c: Private video. Sign in if you've been granted access to this video\n",
      "Rows analyzed: 1560, Rows left: 3060\n",
      "Rows analyzed: 1561, Rows left: 3059\n",
      "Rows analyzed: 1562, Rows left: 3058\n",
      "Rows analyzed: 1563, Rows left: 3057\n"
     ]
    },
    {
     "name": "stderr",
     "output_type": "stream",
     "text": [
      "ERROR: [youtube] uLNOpo1sBGI: Video unavailable\n"
     ]
    },
    {
     "name": "stdout",
     "output_type": "stream",
     "text": [
      "Error checking language and duration for video uLNOpo1sBGI: ERROR: [youtube] uLNOpo1sBGI: Video unavailable\n",
      "Rows analyzed: 1564, Rows left: 3056\n",
      "Rows analyzed: 1565, Rows left: 3055\n",
      "Rows analyzed: 1566, Rows left: 3054\n",
      "Rows analyzed: 1567, Rows left: 3053\n",
      "Rows analyzed: 1568, Rows left: 3052\n",
      "Rows analyzed: 1569, Rows left: 3051\n",
      "Rows analyzed: 1570, Rows left: 3050\n",
      "Rows analyzed: 1571, Rows left: 3049\n",
      "Rows analyzed: 1572, Rows left: 3048\n",
      "Rows analyzed: 1573, Rows left: 3047\n",
      "Rows analyzed: 1574, Rows left: 3046\n",
      "Rows analyzed: 1575, Rows left: 3045\n",
      "Rows analyzed: 1576, Rows left: 3044\n",
      "Rows analyzed: 1577, Rows left: 3043\n"
     ]
    },
    {
     "name": "stderr",
     "output_type": "stream",
     "text": [
      "ERROR: [youtube] MgEmSBbl1QA: Video unavailable. This video is no longer available because the YouTube account associated with this video has been terminated.\n"
     ]
    },
    {
     "name": "stdout",
     "output_type": "stream",
     "text": [
      "Error checking language and duration for video MgEmSBbl1QA: ERROR: [youtube] MgEmSBbl1QA: Video unavailable. This video is no longer available because the YouTube account associated with this video has been terminated.\n",
      "Rows analyzed: 1578, Rows left: 3042\n",
      "Rows analyzed: 1579, Rows left: 3041\n",
      "Rows analyzed: 1580, Rows left: 3040\n",
      "Rows analyzed: 1581, Rows left: 3039\n",
      "Rows analyzed: 1582, Rows left: 3038\n",
      "Rows analyzed: 1583, Rows left: 3037\n",
      "Rows analyzed: 1584, Rows left: 3036\n",
      "Rows analyzed: 1585, Rows left: 3035\n",
      "Rows analyzed: 1586, Rows left: 3034\n"
     ]
    },
    {
     "name": "stderr",
     "output_type": "stream",
     "text": [
      "ERROR: [youtube] Sg3c9yO4XH0: Private video. Sign in if you've been granted access to this video\n"
     ]
    },
    {
     "name": "stdout",
     "output_type": "stream",
     "text": [
      "Error checking language and duration for video Sg3c9yO4XH0: ERROR: [youtube] Sg3c9yO4XH0: Private video. Sign in if you've been granted access to this video\n",
      "Rows analyzed: 1587, Rows left: 3033\n"
     ]
    },
    {
     "name": "stderr",
     "output_type": "stream",
     "text": [
      "ERROR: [youtube] jyBML9c7_OA: Video unavailable. This video is no longer available because the YouTube account associated with this video has been terminated.\n"
     ]
    },
    {
     "name": "stdout",
     "output_type": "stream",
     "text": [
      "Error checking language and duration for video jyBML9c7_OA: ERROR: [youtube] jyBML9c7_OA: Video unavailable. This video is no longer available because the YouTube account associated with this video has been terminated.\n",
      "Rows analyzed: 1588, Rows left: 3032\n",
      "Rows analyzed: 1589, Rows left: 3031\n"
     ]
    },
    {
     "name": "stderr",
     "output_type": "stream",
     "text": [
      "ERROR: [youtube] O1hRtLvpjx4: Video unavailable. This video is no longer available because the YouTube account associated with this video has been terminated.\n"
     ]
    },
    {
     "name": "stdout",
     "output_type": "stream",
     "text": [
      "Error checking language and duration for video O1hRtLvpjx4: ERROR: [youtube] O1hRtLvpjx4: Video unavailable. This video is no longer available because the YouTube account associated with this video has been terminated.\n",
      "Rows analyzed: 1590, Rows left: 3030\n"
     ]
    },
    {
     "name": "stderr",
     "output_type": "stream",
     "text": [
      "ERROR: [youtube] ZNLHPt8QMx8: Video unavailable\n"
     ]
    },
    {
     "name": "stdout",
     "output_type": "stream",
     "text": [
      "Error checking language and duration for video ZNLHPt8QMx8: ERROR: [youtube] ZNLHPt8QMx8: Video unavailable\n",
      "Rows analyzed: 1591, Rows left: 3029\n",
      "Rows analyzed: 1592, Rows left: 3028\n",
      "Rows analyzed: 1593, Rows left: 3027\n",
      "Rows analyzed: 1594, Rows left: 3026\n",
      "Rows analyzed: 1595, Rows left: 3025\n",
      "Rows analyzed: 1596, Rows left: 3024\n"
     ]
    },
    {
     "name": "stderr",
     "output_type": "stream",
     "text": [
      "ERROR: [youtube] M2B-oSz3Juc: Video unavailable\n"
     ]
    },
    {
     "name": "stdout",
     "output_type": "stream",
     "text": [
      "Error checking language and duration for video M2B-oSz3Juc: ERROR: [youtube] M2B-oSz3Juc: Video unavailable\n",
      "Rows analyzed: 1597, Rows left: 3023\n",
      "Rows analyzed: 1598, Rows left: 3022\n",
      "Rows analyzed: 1599, Rows left: 3021\n",
      "Rows analyzed: 1600, Rows left: 3020\n",
      "Rows analyzed: 1601, Rows left: 3019\n",
      "Rows analyzed: 1602, Rows left: 3018\n"
     ]
    },
    {
     "name": "stderr",
     "output_type": "stream",
     "text": [
      "ERROR: [youtube] PZLHiIspRVE: Video unavailable\n"
     ]
    },
    {
     "name": "stdout",
     "output_type": "stream",
     "text": [
      "Error checking language and duration for video PZLHiIspRVE: ERROR: [youtube] PZLHiIspRVE: Video unavailable\n",
      "Rows analyzed: 1603, Rows left: 3017\n",
      "Rows analyzed: 1604, Rows left: 3016\n",
      "Rows analyzed: 1605, Rows left: 3015\n",
      "Rows analyzed: 1606, Rows left: 3014\n",
      "Rows analyzed: 1607, Rows left: 3013\n",
      "Rows analyzed: 1608, Rows left: 3012\n",
      "Rows analyzed: 1609, Rows left: 3011\n",
      "Rows analyzed: 1610, Rows left: 3010\n",
      "Rows analyzed: 1611, Rows left: 3009\n",
      "Rows analyzed: 1612, Rows left: 3008\n"
     ]
    },
    {
     "name": "stderr",
     "output_type": "stream",
     "text": [
      "ERROR: [youtube] w3CgX0C5_Nk: Private video. Sign in if you've been granted access to this video\n"
     ]
    },
    {
     "name": "stdout",
     "output_type": "stream",
     "text": [
      "Error checking language and duration for video w3CgX0C5_Nk: ERROR: [youtube] w3CgX0C5_Nk: Private video. Sign in if you've been granted access to this video\n",
      "Rows analyzed: 1613, Rows left: 3007\n",
      "Rows analyzed: 1614, Rows left: 3006\n",
      "Rows analyzed: 1615, Rows left: 3005\n",
      "Rows analyzed: 1616, Rows left: 3004\n",
      "Rows analyzed: 1617, Rows left: 3003\n",
      "Rows analyzed: 1618, Rows left: 3002\n",
      "Rows analyzed: 1619, Rows left: 3001\n"
     ]
    },
    {
     "name": "stderr",
     "output_type": "stream",
     "text": [
      "ERROR: [youtube] ZQRMHOsxdyI: Private video. Sign in if you've been granted access to this video\n"
     ]
    },
    {
     "name": "stdout",
     "output_type": "stream",
     "text": [
      "Error checking language and duration for video ZQRMHOsxdyI: ERROR: [youtube] ZQRMHOsxdyI: Private video. Sign in if you've been granted access to this video\n",
      "Rows analyzed: 1620, Rows left: 3000\n",
      "Rows analyzed: 1621, Rows left: 2999\n",
      "Rows analyzed: 1622, Rows left: 2998\n",
      "Rows analyzed: 1623, Rows left: 2997\n",
      "Rows analyzed: 1624, Rows left: 2996\n",
      "Rows analyzed: 1625, Rows left: 2995\n",
      "Rows analyzed: 1626, Rows left: 2994\n"
     ]
    },
    {
     "name": "stderr",
     "output_type": "stream",
     "text": [
      "ERROR: [youtube] qEJJpOh_dTQ: Private video. Sign in if you've been granted access to this video\n"
     ]
    },
    {
     "name": "stdout",
     "output_type": "stream",
     "text": [
      "Error checking language and duration for video qEJJpOh_dTQ: ERROR: [youtube] qEJJpOh_dTQ: Private video. Sign in if you've been granted access to this video\n",
      "Rows analyzed: 1627, Rows left: 2993\n",
      "Rows analyzed: 1628, Rows left: 2992\n"
     ]
    },
    {
     "name": "stderr",
     "output_type": "stream",
     "text": [
      "ERROR: [youtube] dlyCR848y-Y: Video unavailable\n"
     ]
    },
    {
     "name": "stdout",
     "output_type": "stream",
     "text": [
      "Error checking language and duration for video dlyCR848y-Y: ERROR: [youtube] dlyCR848y-Y: Video unavailable\n",
      "Rows analyzed: 1629, Rows left: 2991\n"
     ]
    },
    {
     "name": "stderr",
     "output_type": "stream",
     "text": [
      "ERROR: [youtube] _0FgNX704vw: Video unavailable\n"
     ]
    },
    {
     "name": "stdout",
     "output_type": "stream",
     "text": [
      "Error checking language and duration for video _0FgNX704vw: ERROR: [youtube] _0FgNX704vw: Video unavailable\n",
      "Rows analyzed: 1630, Rows left: 2990\n",
      "Rows analyzed: 1631, Rows left: 2989\n",
      "Rows analyzed: 1632, Rows left: 2988\n"
     ]
    },
    {
     "name": "stderr",
     "output_type": "stream",
     "text": [
      "ERROR: [youtube] MgEmSBbl1QA: Video unavailable. This video is no longer available because the YouTube account associated with this video has been terminated.\n"
     ]
    },
    {
     "name": "stdout",
     "output_type": "stream",
     "text": [
      "Error checking language and duration for video MgEmSBbl1QA: ERROR: [youtube] MgEmSBbl1QA: Video unavailable. This video is no longer available because the YouTube account associated with this video has been terminated.\n",
      "Rows analyzed: 1633, Rows left: 2987\n",
      "Rows analyzed: 1634, Rows left: 2986\n",
      "Rows analyzed: 1635, Rows left: 2985\n",
      "Rows analyzed: 1636, Rows left: 2984\n",
      "Rows analyzed: 1637, Rows left: 2983\n"
     ]
    },
    {
     "name": "stderr",
     "output_type": "stream",
     "text": [
      "ERROR: [youtube] cYAusP0QiUM: Sign in to confirm your age. This video may be inappropriate for some users.\n"
     ]
    },
    {
     "name": "stdout",
     "output_type": "stream",
     "text": [
      "Error checking language and duration for video cYAusP0QiUM: ERROR: [youtube] cYAusP0QiUM: Sign in to confirm your age. This video may be inappropriate for some users.\n",
      "Rows analyzed: 1638, Rows left: 2982\n",
      "Rows analyzed: 1639, Rows left: 2981\n",
      "Rows analyzed: 1640, Rows left: 2980\n",
      "Rows analyzed: 1641, Rows left: 2979\n",
      "Rows analyzed: 1642, Rows left: 2978\n",
      "Rows analyzed: 1643, Rows left: 2977\n",
      "Rows analyzed: 1644, Rows left: 2976\n",
      "Rows analyzed: 1645, Rows left: 2975\n",
      "Rows analyzed: 1646, Rows left: 2974\n",
      "Rows analyzed: 1647, Rows left: 2973\n",
      "Rows analyzed: 1648, Rows left: 2972\n",
      "Rows analyzed: 1649, Rows left: 2971\n"
     ]
    },
    {
     "name": "stderr",
     "output_type": "stream",
     "text": [
      "ERROR: [youtube] O3Get6pCDWo: Private video. Sign in if you've been granted access to this video\n"
     ]
    },
    {
     "name": "stdout",
     "output_type": "stream",
     "text": [
      "Error checking language and duration for video O3Get6pCDWo: ERROR: [youtube] O3Get6pCDWo: Private video. Sign in if you've been granted access to this video\n",
      "Rows analyzed: 1650, Rows left: 2970\n",
      "Rows analyzed: 1651, Rows left: 2969\n",
      "Rows analyzed: 1652, Rows left: 2968\n",
      "Rows analyzed: 1653, Rows left: 2967\n",
      "Rows analyzed: 1654, Rows left: 2966\n"
     ]
    },
    {
     "name": "stderr",
     "output_type": "stream",
     "text": [
      "ERROR: [youtube] 7Q9JThzEmiA: Video unavailable. This video is no longer available because the YouTube account associated with this video has been terminated.\n"
     ]
    },
    {
     "name": "stdout",
     "output_type": "stream",
     "text": [
      "Error checking language and duration for video 7Q9JThzEmiA: ERROR: [youtube] 7Q9JThzEmiA: Video unavailable. This video is no longer available because the YouTube account associated with this video has been terminated.\n",
      "Rows analyzed: 1655, Rows left: 2965\n",
      "Rows analyzed: 1656, Rows left: 2964\n",
      "Rows analyzed: 1657, Rows left: 2963\n",
      "Rows analyzed: 1658, Rows left: 2962\n",
      "Rows analyzed: 1659, Rows left: 2961\n",
      "Rows analyzed: 1660, Rows left: 2960\n",
      "Rows analyzed: 1661, Rows left: 2959\n",
      "Rows analyzed: 1662, Rows left: 2958\n",
      "Rows analyzed: 1663, Rows left: 2957\n",
      "Rows analyzed: 1664, Rows left: 2956\n"
     ]
    },
    {
     "name": "stderr",
     "output_type": "stream",
     "text": [
      "ERROR: [youtube] jEBceiDAM60: Video unavailable\n"
     ]
    },
    {
     "name": "stdout",
     "output_type": "stream",
     "text": [
      "Error checking language and duration for video jEBceiDAM60: ERROR: [youtube] jEBceiDAM60: Video unavailable\n",
      "Rows analyzed: 1665, Rows left: 2955\n",
      "Rows analyzed: 1666, Rows left: 2954\n",
      "Rows analyzed: 1667, Rows left: 2953\n",
      "Rows analyzed: 1668, Rows left: 2952\n",
      "Rows analyzed: 1669, Rows left: 2951\n",
      "Rows analyzed: 1670, Rows left: 2950\n",
      "Rows analyzed: 1671, Rows left: 2949\n",
      "Rows analyzed: 1672, Rows left: 2948\n"
     ]
    },
    {
     "name": "stderr",
     "output_type": "stream",
     "text": [
      "ERROR: [youtube] j2i_W5Axuio: Private video. Sign in if you've been granted access to this video\n"
     ]
    },
    {
     "name": "stdout",
     "output_type": "stream",
     "text": [
      "Error checking language and duration for video j2i_W5Axuio: ERROR: [youtube] j2i_W5Axuio: Private video. Sign in if you've been granted access to this video\n",
      "Rows analyzed: 1673, Rows left: 2947\n",
      "Rows analyzed: 1674, Rows left: 2946\n",
      "Rows analyzed: 1675, Rows left: 2945\n",
      "Rows analyzed: 1676, Rows left: 2944\n",
      "Rows analyzed: 1677, Rows left: 2943\n",
      "Rows analyzed: 1678, Rows left: 2942\n",
      "Rows analyzed: 1679, Rows left: 2941\n",
      "Rows analyzed: 1680, Rows left: 2940\n",
      "Rows analyzed: 1681, Rows left: 2939\n",
      "Rows analyzed: 1682, Rows left: 2938\n",
      "Rows analyzed: 1683, Rows left: 2937\n"
     ]
    },
    {
     "name": "stderr",
     "output_type": "stream",
     "text": [
      "ERROR: [youtube] IWm2noJVIhc: Private video. Sign in if you've been granted access to this video\n"
     ]
    },
    {
     "name": "stdout",
     "output_type": "stream",
     "text": [
      "Error checking language and duration for video IWm2noJVIhc: ERROR: [youtube] IWm2noJVIhc: Private video. Sign in if you've been granted access to this video\n",
      "Rows analyzed: 1684, Rows left: 2936\n"
     ]
    },
    {
     "name": "stderr",
     "output_type": "stream",
     "text": [
      "ERROR: [youtube] IWHgGkiIzfY: Private video. Sign in if you've been granted access to this video\n"
     ]
    },
    {
     "name": "stdout",
     "output_type": "stream",
     "text": [
      "Error checking language and duration for video IWHgGkiIzfY: ERROR: [youtube] IWHgGkiIzfY: Private video. Sign in if you've been granted access to this video\n",
      "Rows analyzed: 1685, Rows left: 2935\n",
      "Rows analyzed: 1686, Rows left: 2934\n",
      "Rows analyzed: 1687, Rows left: 2933\n",
      "Rows analyzed: 1688, Rows left: 2932\n",
      "Rows analyzed: 1689, Rows left: 2931\n",
      "Rows analyzed: 1690, Rows left: 2930\n",
      "Rows analyzed: 1691, Rows left: 2929\n",
      "Rows analyzed: 1692, Rows left: 2928\n",
      "Rows analyzed: 1693, Rows left: 2927\n",
      "Rows analyzed: 1694, Rows left: 2926\n",
      "Rows analyzed: 1695, Rows left: 2925\n"
     ]
    },
    {
     "name": "stderr",
     "output_type": "stream",
     "text": [
      "ERROR: [youtube] KHKvsFh4v3U: Video unavailable. This video is no longer available because the YouTube account associated with this video has been terminated.\n"
     ]
    },
    {
     "name": "stdout",
     "output_type": "stream",
     "text": [
      "Error checking language and duration for video KHKvsFh4v3U: ERROR: [youtube] KHKvsFh4v3U: Video unavailable. This video is no longer available because the YouTube account associated with this video has been terminated.\n",
      "Rows analyzed: 1696, Rows left: 2924\n",
      "Rows analyzed: 1697, Rows left: 2923\n",
      "Rows analyzed: 1698, Rows left: 2922\n",
      "Rows analyzed: 1699, Rows left: 2921\n",
      "Rows analyzed: 1700, Rows left: 2920\n",
      "Rows analyzed: 1701, Rows left: 2919\n",
      "Rows analyzed: 1702, Rows left: 2918\n",
      "Rows analyzed: 1703, Rows left: 2917\n",
      "Rows analyzed: 1704, Rows left: 2916\n",
      "Rows analyzed: 1705, Rows left: 2915\n",
      "Rows analyzed: 1706, Rows left: 2914\n",
      "Rows analyzed: 1707, Rows left: 2913\n",
      "Rows analyzed: 1708, Rows left: 2912\n"
     ]
    },
    {
     "name": "stderr",
     "output_type": "stream",
     "text": [
      "ERROR: [youtube] mBXeo6VRATw: Private video. Sign in if you've been granted access to this video\n"
     ]
    },
    {
     "name": "stdout",
     "output_type": "stream",
     "text": [
      "Error checking language and duration for video mBXeo6VRATw: ERROR: [youtube] mBXeo6VRATw: Private video. Sign in if you've been granted access to this video\n",
      "Rows analyzed: 1709, Rows left: 2911\n",
      "Rows analyzed: 1710, Rows left: 2910\n"
     ]
    },
    {
     "name": "stderr",
     "output_type": "stream",
     "text": [
      "ERROR: [youtube] Ogj9R4rjKzA: Video unavailable\n"
     ]
    },
    {
     "name": "stdout",
     "output_type": "stream",
     "text": [
      "Error checking language and duration for video Ogj9R4rjKzA: ERROR: [youtube] Ogj9R4rjKzA: Video unavailable\n",
      "Rows analyzed: 1711, Rows left: 2909\n",
      "Rows analyzed: 1712, Rows left: 2908\n"
     ]
    },
    {
     "name": "stderr",
     "output_type": "stream",
     "text": [
      "ERROR: [youtube] TWEoJsSLG3I: Private video. Sign in if you've been granted access to this video\n"
     ]
    },
    {
     "name": "stdout",
     "output_type": "stream",
     "text": [
      "Error checking language and duration for video TWEoJsSLG3I: ERROR: [youtube] TWEoJsSLG3I: Private video. Sign in if you've been granted access to this video\n",
      "Rows analyzed: 1713, Rows left: 2907\n",
      "Rows analyzed: 1714, Rows left: 2906\n",
      "Rows analyzed: 1715, Rows left: 2905\n"
     ]
    },
    {
     "name": "stderr",
     "output_type": "stream",
     "text": [
      "ERROR: [youtube] BA4wrpGTXNo: Video unavailable. This video is no longer available due to a copyright claim by Televisao Independente\n"
     ]
    },
    {
     "name": "stdout",
     "output_type": "stream",
     "text": [
      "Error checking language and duration for video BA4wrpGTXNo: ERROR: [youtube] BA4wrpGTXNo: Video unavailable. This video is no longer available due to a copyright claim by Televisao Independente\n",
      "Rows analyzed: 1716, Rows left: 2904\n",
      "Rows analyzed: 1717, Rows left: 2903\n",
      "Rows analyzed: 1718, Rows left: 2902\n"
     ]
    },
    {
     "name": "stderr",
     "output_type": "stream",
     "text": [
      "ERROR: [youtube] DF0yEsDHKSs: Video unavailable\n"
     ]
    },
    {
     "name": "stdout",
     "output_type": "stream",
     "text": [
      "Error checking language and duration for video DF0yEsDHKSs: ERROR: [youtube] DF0yEsDHKSs: Video unavailable\n",
      "Rows analyzed: 1719, Rows left: 2901\n",
      "Rows analyzed: 1720, Rows left: 2900\n",
      "Rows analyzed: 1721, Rows left: 2899\n",
      "Rows analyzed: 1722, Rows left: 2898\n",
      "Rows analyzed: 1723, Rows left: 2897\n"
     ]
    },
    {
     "name": "stderr",
     "output_type": "stream",
     "text": [
      "ERROR: [youtube] F1ao5_97Nto: Private video. Sign in if you've been granted access to this video\n"
     ]
    },
    {
     "name": "stdout",
     "output_type": "stream",
     "text": [
      "Error checking language and duration for video F1ao5_97Nto: ERROR: [youtube] F1ao5_97Nto: Private video. Sign in if you've been granted access to this video\n",
      "Rows analyzed: 1724, Rows left: 2896\n",
      "Rows analyzed: 1725, Rows left: 2895\n",
      "Rows analyzed: 1726, Rows left: 2894\n",
      "Rows analyzed: 1727, Rows left: 2893\n"
     ]
    },
    {
     "name": "stderr",
     "output_type": "stream",
     "text": [
      "ERROR: [youtube] bSYXazX5NP0: Private video. Sign in if you've been granted access to this video\n"
     ]
    },
    {
     "name": "stdout",
     "output_type": "stream",
     "text": [
      "Error checking language and duration for video bSYXazX5NP0: ERROR: [youtube] bSYXazX5NP0: Private video. Sign in if you've been granted access to this video\n",
      "Rows analyzed: 1728, Rows left: 2892\n",
      "Rows analyzed: 1729, Rows left: 2891\n",
      "Rows analyzed: 1730, Rows left: 2890\n",
      "Rows analyzed: 1731, Rows left: 2889\n",
      "Rows analyzed: 1732, Rows left: 2888\n",
      "Rows analyzed: 1733, Rows left: 2887\n"
     ]
    },
    {
     "name": "stderr",
     "output_type": "stream",
     "text": [
      "ERROR: [youtube] MzM48elTXdo: Video unavailable\n"
     ]
    },
    {
     "name": "stdout",
     "output_type": "stream",
     "text": [
      "Error checking language and duration for video MzM48elTXdo: ERROR: [youtube] MzM48elTXdo: Video unavailable\n",
      "Rows analyzed: 1734, Rows left: 2886\n"
     ]
    },
    {
     "name": "stderr",
     "output_type": "stream",
     "text": [
      "ERROR: [youtube] 7o-g3h0MtOM: Private video. Sign in if you've been granted access to this video\n"
     ]
    },
    {
     "name": "stdout",
     "output_type": "stream",
     "text": [
      "Error checking language and duration for video 7o-g3h0MtOM: ERROR: [youtube] 7o-g3h0MtOM: Private video. Sign in if you've been granted access to this video\n",
      "Rows analyzed: 1735, Rows left: 2885\n",
      "Rows analyzed: 1736, Rows left: 2884\n",
      "Rows analyzed: 1737, Rows left: 2883\n",
      "Rows analyzed: 1738, Rows left: 2882\n",
      "Rows analyzed: 1739, Rows left: 2881\n",
      "Rows analyzed: 1740, Rows left: 2880\n"
     ]
    },
    {
     "name": "stderr",
     "output_type": "stream",
     "text": [
      "ERROR: [youtube] 8JaeVGpXidU: Video unavailable\n"
     ]
    },
    {
     "name": "stdout",
     "output_type": "stream",
     "text": [
      "Error checking language and duration for video 8JaeVGpXidU: ERROR: [youtube] 8JaeVGpXidU: Video unavailable\n",
      "Rows analyzed: 1741, Rows left: 2879\n",
      "Rows analyzed: 1742, Rows left: 2878\n",
      "Rows analyzed: 1743, Rows left: 2877\n",
      "Rows analyzed: 1744, Rows left: 2876\n",
      "Rows analyzed: 1745, Rows left: 2875\n",
      "Rows analyzed: 1746, Rows left: 2874\n",
      "Rows analyzed: 1747, Rows left: 2873\n",
      "Rows analyzed: 1748, Rows left: 2872\n"
     ]
    },
    {
     "name": "stderr",
     "output_type": "stream",
     "text": [
      "ERROR: [youtube] _bKGobRXtzw: Video unavailable\n"
     ]
    },
    {
     "name": "stdout",
     "output_type": "stream",
     "text": [
      "Error checking language and duration for video _bKGobRXtzw: ERROR: [youtube] _bKGobRXtzw: Video unavailable\n",
      "Rows analyzed: 1749, Rows left: 2871\n",
      "Rows analyzed: 1750, Rows left: 2870\n",
      "Rows analyzed: 1751, Rows left: 2869\n",
      "Rows analyzed: 1752, Rows left: 2868\n",
      "Rows analyzed: 1753, Rows left: 2867\n",
      "Rows analyzed: 1754, Rows left: 2866\n",
      "Rows analyzed: 1755, Rows left: 2865\n",
      "Rows analyzed: 1756, Rows left: 2864\n",
      "Rows analyzed: 1757, Rows left: 2863\n",
      "Rows analyzed: 1758, Rows left: 2862\n",
      "Rows analyzed: 1759, Rows left: 2861\n"
     ]
    },
    {
     "name": "stderr",
     "output_type": "stream",
     "text": [
      "ERROR: [youtube] UUWObh3Kkvk: Private video. Sign in if you've been granted access to this video\n"
     ]
    },
    {
     "name": "stdout",
     "output_type": "stream",
     "text": [
      "Error checking language and duration for video UUWObh3Kkvk: ERROR: [youtube] UUWObh3Kkvk: Private video. Sign in if you've been granted access to this video\n",
      "Rows analyzed: 1760, Rows left: 2860\n",
      "Rows analyzed: 1761, Rows left: 2859\n",
      "Rows analyzed: 1762, Rows left: 2858\n",
      "Rows analyzed: 1763, Rows left: 2857\n",
      "Rows analyzed: 1764, Rows left: 2856\n"
     ]
    },
    {
     "name": "stderr",
     "output_type": "stream",
     "text": [
      "ERROR: [youtube] UXjC14EtgN0: Private video. Sign in if you've been granted access to this video\n"
     ]
    },
    {
     "name": "stdout",
     "output_type": "stream",
     "text": [
      "Error checking language and duration for video UXjC14EtgN0: ERROR: [youtube] UXjC14EtgN0: Private video. Sign in if you've been granted access to this video\n",
      "Rows analyzed: 1765, Rows left: 2855\n",
      "Rows analyzed: 1766, Rows left: 2854\n"
     ]
    },
    {
     "name": "stderr",
     "output_type": "stream",
     "text": [
      "ERROR: [youtube] erPeu68rjEk: Video unavailable\n"
     ]
    },
    {
     "name": "stdout",
     "output_type": "stream",
     "text": [
      "Error checking language and duration for video erPeu68rjEk: ERROR: [youtube] erPeu68rjEk: Video unavailable\n",
      "Rows analyzed: 1767, Rows left: 2853\n",
      "Rows analyzed: 1768, Rows left: 2852\n",
      "Rows analyzed: 1769, Rows left: 2851\n",
      "Rows analyzed: 1770, Rows left: 2850\n",
      "Rows analyzed: 1771, Rows left: 2849\n",
      "Rows analyzed: 1772, Rows left: 2848\n"
     ]
    },
    {
     "name": "stderr",
     "output_type": "stream",
     "text": [
      "ERROR: [youtube] IhtDNeXl2h4: Private video. Sign in if you've been granted access to this video\n"
     ]
    },
    {
     "name": "stdout",
     "output_type": "stream",
     "text": [
      "Error checking language and duration for video IhtDNeXl2h4: ERROR: [youtube] IhtDNeXl2h4: Private video. Sign in if you've been granted access to this video\n",
      "Rows analyzed: 1773, Rows left: 2847\n",
      "Rows analyzed: 1774, Rows left: 2846\n",
      "Rows analyzed: 1775, Rows left: 2845\n",
      "Rows analyzed: 1776, Rows left: 2844\n",
      "Rows analyzed: 1777, Rows left: 2843\n"
     ]
    },
    {
     "name": "stderr",
     "output_type": "stream",
     "text": [
      "ERROR: [youtube] PvO_u4s5pnM: Private video. Sign in if you've been granted access to this video\n"
     ]
    },
    {
     "name": "stdout",
     "output_type": "stream",
     "text": [
      "Error checking language and duration for video PvO_u4s5pnM: ERROR: [youtube] PvO_u4s5pnM: Private video. Sign in if you've been granted access to this video\n",
      "Rows analyzed: 1778, Rows left: 2842\n",
      "Rows analyzed: 1779, Rows left: 2841\n",
      "Rows analyzed: 1780, Rows left: 2840\n"
     ]
    },
    {
     "name": "stderr",
     "output_type": "stream",
     "text": [
      "ERROR: [youtube] zjGVsYNT4sI: Private video. Sign in if you've been granted access to this video\n"
     ]
    },
    {
     "name": "stdout",
     "output_type": "stream",
     "text": [
      "Error checking language and duration for video zjGVsYNT4sI: ERROR: [youtube] zjGVsYNT4sI: Private video. Sign in if you've been granted access to this video\n",
      "Rows analyzed: 1781, Rows left: 2839\n",
      "Rows analyzed: 1782, Rows left: 2838\n",
      "Rows analyzed: 1783, Rows left: 2837\n",
      "Rows analyzed: 1784, Rows left: 2836\n"
     ]
    },
    {
     "name": "stderr",
     "output_type": "stream",
     "text": [
      "ERROR: [youtube] Vur8YlV_tPI: Video unavailable\n"
     ]
    },
    {
     "name": "stdout",
     "output_type": "stream",
     "text": [
      "Error checking language and duration for video Vur8YlV_tPI: ERROR: [youtube] Vur8YlV_tPI: Video unavailable\n",
      "Rows analyzed: 1785, Rows left: 2835\n",
      "Rows analyzed: 1786, Rows left: 2834\n",
      "Rows analyzed: 1787, Rows left: 2833\n",
      "Rows analyzed: 1788, Rows left: 2832\n",
      "Rows analyzed: 1789, Rows left: 2831\n",
      "Rows analyzed: 1790, Rows left: 2830\n",
      "Rows analyzed: 1791, Rows left: 2829\n"
     ]
    },
    {
     "name": "stderr",
     "output_type": "stream",
     "text": [
      "ERROR: [youtube] 7pqgnR9tLvs: Video unavailable\n"
     ]
    },
    {
     "name": "stdout",
     "output_type": "stream",
     "text": [
      "Error checking language and duration for video 7pqgnR9tLvs: ERROR: [youtube] 7pqgnR9tLvs: Video unavailable\n",
      "Rows analyzed: 1792, Rows left: 2828\n",
      "Rows analyzed: 1793, Rows left: 2827\n",
      "Rows analyzed: 1794, Rows left: 2826\n"
     ]
    },
    {
     "name": "stderr",
     "output_type": "stream",
     "text": [
      "ERROR: [youtube] 3qhoLkZAtEk: Video unavailable\n"
     ]
    },
    {
     "name": "stdout",
     "output_type": "stream",
     "text": [
      "Error checking language and duration for video 3qhoLkZAtEk: ERROR: [youtube] 3qhoLkZAtEk: Video unavailable\n",
      "Rows analyzed: 1795, Rows left: 2825\n",
      "Rows analyzed: 1796, Rows left: 2824\n",
      "Rows analyzed: 1797, Rows left: 2823\n",
      "Rows analyzed: 1798, Rows left: 2822\n"
     ]
    },
    {
     "name": "stderr",
     "output_type": "stream",
     "text": [
      "ERROR: [youtube] 8Uiyt1mksmw: Private video. Sign in if you've been granted access to this video\n"
     ]
    },
    {
     "name": "stdout",
     "output_type": "stream",
     "text": [
      "Error checking language and duration for video 8Uiyt1mksmw: ERROR: [youtube] 8Uiyt1mksmw: Private video. Sign in if you've been granted access to this video\n",
      "Rows analyzed: 1799, Rows left: 2821\n"
     ]
    },
    {
     "name": "stderr",
     "output_type": "stream",
     "text": [
      "ERROR: [youtube] hlTpt7p7ycw: Video unavailable. This video is no longer available because the YouTube account associated with this video has been terminated.\n"
     ]
    },
    {
     "name": "stdout",
     "output_type": "stream",
     "text": [
      "Error checking language and duration for video hlTpt7p7ycw: ERROR: [youtube] hlTpt7p7ycw: Video unavailable. This video is no longer available because the YouTube account associated with this video has been terminated.\n",
      "Rows analyzed: 1800, Rows left: 2820\n",
      "Rows analyzed: 1801, Rows left: 2819\n"
     ]
    },
    {
     "name": "stderr",
     "output_type": "stream",
     "text": [
      "ERROR: [youtube] ssi9TIOqdVU: Private video. Sign in if you've been granted access to this video\n"
     ]
    },
    {
     "name": "stdout",
     "output_type": "stream",
     "text": [
      "Error checking language and duration for video ssi9TIOqdVU: ERROR: [youtube] ssi9TIOqdVU: Private video. Sign in if you've been granted access to this video\n",
      "Rows analyzed: 1802, Rows left: 2818\n",
      "Rows analyzed: 1803, Rows left: 2817\n",
      "Rows analyzed: 1804, Rows left: 2816\n",
      "Rows analyzed: 1805, Rows left: 2815\n",
      "Rows analyzed: 1806, Rows left: 2814\n",
      "Rows analyzed: 1807, Rows left: 2813\n",
      "Rows analyzed: 1808, Rows left: 2812\n",
      "Rows analyzed: 1809, Rows left: 2811\n",
      "Rows analyzed: 1810, Rows left: 2810\n"
     ]
    },
    {
     "name": "stderr",
     "output_type": "stream",
     "text": [
      "ERROR: [youtube] z8r5awdF52M: Video unavailable. The uploader has not made this video available in your country\n"
     ]
    },
    {
     "name": "stdout",
     "output_type": "stream",
     "text": [
      "Error checking language and duration for video z8r5awdF52M: ERROR: [youtube] z8r5awdF52M: Video unavailable. The uploader has not made this video available in your country\n",
      "Rows analyzed: 1811, Rows left: 2809\n",
      "Rows analyzed: 1812, Rows left: 2808\n",
      "Rows analyzed: 1813, Rows left: 2807\n"
     ]
    },
    {
     "name": "stderr",
     "output_type": "stream",
     "text": [
      "ERROR: [youtube] FPD5t3Opels: Private video. Sign in if you've been granted access to this video\n"
     ]
    },
    {
     "name": "stdout",
     "output_type": "stream",
     "text": [
      "Error checking language and duration for video FPD5t3Opels: ERROR: [youtube] FPD5t3Opels: Private video. Sign in if you've been granted access to this video\n",
      "Rows analyzed: 1814, Rows left: 2806\n",
      "Rows analyzed: 1815, Rows left: 2805\n",
      "Rows analyzed: 1816, Rows left: 2804\n",
      "Rows analyzed: 1817, Rows left: 2803\n",
      "Rows analyzed: 1818, Rows left: 2802\n",
      "Rows analyzed: 1819, Rows left: 2801\n",
      "Rows analyzed: 1820, Rows left: 2800\n",
      "Rows analyzed: 1821, Rows left: 2799\n",
      "Rows analyzed: 1822, Rows left: 2798\n",
      "Rows analyzed: 1823, Rows left: 2797\n",
      "Rows analyzed: 1824, Rows left: 2796\n",
      "Rows analyzed: 1825, Rows left: 2795\n",
      "Rows analyzed: 1826, Rows left: 2794\n",
      "Rows analyzed: 1827, Rows left: 2793\n"
     ]
    },
    {
     "name": "stderr",
     "output_type": "stream",
     "text": [
      "ERROR: [youtube] lMcYR0dlR7M: Private video. Sign in if you've been granted access to this video\n"
     ]
    },
    {
     "name": "stdout",
     "output_type": "stream",
     "text": [
      "Error checking language and duration for video lMcYR0dlR7M: ERROR: [youtube] lMcYR0dlR7M: Private video. Sign in if you've been granted access to this video\n",
      "Rows analyzed: 1828, Rows left: 2792\n",
      "Rows analyzed: 1829, Rows left: 2791\n",
      "Rows analyzed: 1830, Rows left: 2790\n",
      "Rows analyzed: 1831, Rows left: 2789\n",
      "Rows analyzed: 1832, Rows left: 2788\n",
      "Rows analyzed: 1833, Rows left: 2787\n",
      "Rows analyzed: 1834, Rows left: 2786\n",
      "Rows analyzed: 1835, Rows left: 2785\n",
      "Rows analyzed: 1836, Rows left: 2784\n"
     ]
    },
    {
     "name": "stderr",
     "output_type": "stream",
     "text": [
      "ERROR: [youtube] MgEmSBbl1QA: Video unavailable. This video is no longer available because the YouTube account associated with this video has been terminated.\n"
     ]
    },
    {
     "name": "stdout",
     "output_type": "stream",
     "text": [
      "Error checking language and duration for video MgEmSBbl1QA: ERROR: [youtube] MgEmSBbl1QA: Video unavailable. This video is no longer available because the YouTube account associated with this video has been terminated.\n",
      "Rows analyzed: 1837, Rows left: 2783\n"
     ]
    },
    {
     "name": "stderr",
     "output_type": "stream",
     "text": [
      "ERROR: [youtube] Idl87YlOmm4: Private video. Sign in if you've been granted access to this video\n"
     ]
    },
    {
     "name": "stdout",
     "output_type": "stream",
     "text": [
      "Error checking language and duration for video Idl87YlOmm4: ERROR: [youtube] Idl87YlOmm4: Private video. Sign in if you've been granted access to this video\n",
      "Rows analyzed: 1838, Rows left: 2782\n",
      "Rows analyzed: 1839, Rows left: 2781\n",
      "Rows analyzed: 1840, Rows left: 2780\n",
      "Rows analyzed: 1841, Rows left: 2779\n",
      "Rows analyzed: 1842, Rows left: 2778\n",
      "Rows analyzed: 1843, Rows left: 2777\n",
      "Rows analyzed: 1844, Rows left: 2776\n",
      "Rows analyzed: 1845, Rows left: 2775\n"
     ]
    },
    {
     "name": "stderr",
     "output_type": "stream",
     "text": [
      "ERROR: [youtube] AuASs4kqT5c: Video unavailable\n"
     ]
    },
    {
     "name": "stdout",
     "output_type": "stream",
     "text": [
      "Error checking language and duration for video AuASs4kqT5c: ERROR: [youtube] AuASs4kqT5c: Video unavailable\n",
      "Rows analyzed: 1846, Rows left: 2774\n",
      "Rows analyzed: 1847, Rows left: 2773\n",
      "Rows analyzed: 1848, Rows left: 2772\n",
      "Rows analyzed: 1849, Rows left: 2771\n",
      "Rows analyzed: 1850, Rows left: 2770\n",
      "Rows analyzed: 1851, Rows left: 2769\n",
      "Rows analyzed: 1852, Rows left: 2768\n",
      "Rows analyzed: 1853, Rows left: 2767\n",
      "Rows analyzed: 1854, Rows left: 2766\n",
      "Rows analyzed: 1855, Rows left: 2765\n",
      "Rows analyzed: 1856, Rows left: 2764\n",
      "Rows analyzed: 1857, Rows left: 2763\n",
      "Rows analyzed: 1858, Rows left: 2762\n",
      "Rows analyzed: 1859, Rows left: 2761\n",
      "Rows analyzed: 1860, Rows left: 2760\n"
     ]
    },
    {
     "name": "stderr",
     "output_type": "stream",
     "text": [
      "ERROR: [youtube] dndy4j2RTK0: Private video. Sign in if you've been granted access to this video\n"
     ]
    },
    {
     "name": "stdout",
     "output_type": "stream",
     "text": [
      "Error checking language and duration for video dndy4j2RTK0: ERROR: [youtube] dndy4j2RTK0: Private video. Sign in if you've been granted access to this video\n",
      "Rows analyzed: 1861, Rows left: 2759\n",
      "Rows analyzed: 1862, Rows left: 2758\n",
      "Rows analyzed: 1863, Rows left: 2757\n",
      "Rows analyzed: 1864, Rows left: 2756\n"
     ]
    },
    {
     "name": "stderr",
     "output_type": "stream",
     "text": [
      "ERROR: [youtube] u74KOFBLPGE: Private video. Sign in if you've been granted access to this video\n"
     ]
    },
    {
     "name": "stdout",
     "output_type": "stream",
     "text": [
      "Error checking language and duration for video u74KOFBLPGE: ERROR: [youtube] u74KOFBLPGE: Private video. Sign in if you've been granted access to this video\n",
      "Rows analyzed: 1865, Rows left: 2755\n",
      "Rows analyzed: 1866, Rows left: 2754\n"
     ]
    },
    {
     "name": "stderr",
     "output_type": "stream",
     "text": [
      "ERROR: [youtube] mIMirdcRVvE: Video unavailable. This video is no longer available because the YouTube account associated with this video has been terminated.\n"
     ]
    },
    {
     "name": "stdout",
     "output_type": "stream",
     "text": [
      "Error checking language and duration for video mIMirdcRVvE: ERROR: [youtube] mIMirdcRVvE: Video unavailable. This video is no longer available because the YouTube account associated with this video has been terminated.\n",
      "Rows analyzed: 1867, Rows left: 2753\n",
      "Rows analyzed: 1868, Rows left: 2752\n"
     ]
    },
    {
     "name": "stderr",
     "output_type": "stream",
     "text": [
      "ERROR: [youtube] br3wSa2tPpw: Private video. Sign in if you've been granted access to this video\n"
     ]
    },
    {
     "name": "stdout",
     "output_type": "stream",
     "text": [
      "Error checking language and duration for video br3wSa2tPpw: ERROR: [youtube] br3wSa2tPpw: Private video. Sign in if you've been granted access to this video\n",
      "Rows analyzed: 1869, Rows left: 2751\n",
      "Rows analyzed: 1870, Rows left: 2750\n",
      "Rows analyzed: 1871, Rows left: 2749\n",
      "Rows analyzed: 1872, Rows left: 2748\n"
     ]
    },
    {
     "name": "stderr",
     "output_type": "stream",
     "text": [
      "ERROR: [youtube] roDVIGNkSkw: Video unavailable\n"
     ]
    },
    {
     "name": "stdout",
     "output_type": "stream",
     "text": [
      "Error checking language and duration for video roDVIGNkSkw: ERROR: [youtube] roDVIGNkSkw: Video unavailable\n",
      "Rows analyzed: 1873, Rows left: 2747\n"
     ]
    },
    {
     "name": "stderr",
     "output_type": "stream",
     "text": [
      "ERROR: [youtube] RIBuIa36fHs: Video unavailable. This video is no longer available because the YouTube account associated with this video has been terminated.\n"
     ]
    },
    {
     "name": "stdout",
     "output_type": "stream",
     "text": [
      "Error checking language and duration for video RIBuIa36fHs: ERROR: [youtube] RIBuIa36fHs: Video unavailable. This video is no longer available because the YouTube account associated with this video has been terminated.\n",
      "Rows analyzed: 1874, Rows left: 2746\n",
      "Rows analyzed: 1875, Rows left: 2745\n",
      "Rows analyzed: 1876, Rows left: 2744\n",
      "Rows analyzed: 1877, Rows left: 2743\n",
      "Rows analyzed: 1878, Rows left: 2742\n",
      "Rows analyzed: 1879, Rows left: 2741\n",
      "Rows analyzed: 1880, Rows left: 2740\n",
      "Rows analyzed: 1881, Rows left: 2739\n",
      "Rows analyzed: 1882, Rows left: 2738\n",
      "Rows analyzed: 1883, Rows left: 2737\n",
      "Rows analyzed: 1884, Rows left: 2736\n",
      "Rows analyzed: 1885, Rows left: 2735\n"
     ]
    },
    {
     "name": "stderr",
     "output_type": "stream",
     "text": [
      "ERROR: [youtube] k5_5HSZ12oo: Video unavailable. This video is no longer available due to a copyright claim by CBS\n"
     ]
    },
    {
     "name": "stdout",
     "output_type": "stream",
     "text": [
      "Error checking language and duration for video k5_5HSZ12oo: ERROR: [youtube] k5_5HSZ12oo: Video unavailable. This video is no longer available due to a copyright claim by CBS\n",
      "Rows analyzed: 1886, Rows left: 2734\n",
      "Rows analyzed: 1887, Rows left: 2733\n",
      "Rows analyzed: 1888, Rows left: 2732\n",
      "Rows analyzed: 1889, Rows left: 2731\n",
      "Rows analyzed: 1890, Rows left: 2730\n",
      "Rows analyzed: 1891, Rows left: 2729\n"
     ]
    },
    {
     "name": "stderr",
     "output_type": "stream",
     "text": [
      "ERROR: [youtube] q2nlqW2IUiU: Video unavailable. This video is no longer available because the YouTube account associated with this video has been terminated.\n"
     ]
    },
    {
     "name": "stdout",
     "output_type": "stream",
     "text": [
      "Error checking language and duration for video q2nlqW2IUiU: ERROR: [youtube] q2nlqW2IUiU: Video unavailable. This video is no longer available because the YouTube account associated with this video has been terminated.\n",
      "Rows analyzed: 1892, Rows left: 2728\n"
     ]
    },
    {
     "name": "stderr",
     "output_type": "stream",
     "text": [
      "ERROR: [youtube] 4i9Bqe1BcmI: Private video. Sign in if you've been granted access to this video\n"
     ]
    },
    {
     "name": "stdout",
     "output_type": "stream",
     "text": [
      "Error checking language and duration for video 4i9Bqe1BcmI: ERROR: [youtube] 4i9Bqe1BcmI: Private video. Sign in if you've been granted access to this video\n",
      "Rows analyzed: 1893, Rows left: 2727\n",
      "Rows analyzed: 1894, Rows left: 2726\n",
      "Rows analyzed: 1895, Rows left: 2725\n",
      "Rows analyzed: 1896, Rows left: 2724\n",
      "Rows analyzed: 1897, Rows left: 2723\n",
      "Rows analyzed: 1898, Rows left: 2722\n",
      "Rows analyzed: 1899, Rows left: 2721\n",
      "Rows analyzed: 1900, Rows left: 2720\n",
      "Rows analyzed: 1901, Rows left: 2719\n",
      "Rows analyzed: 1902, Rows left: 2718\n"
     ]
    },
    {
     "name": "stderr",
     "output_type": "stream",
     "text": [
      "ERROR: [youtube] ZBruw5lu4uA: Private video. Sign in if you've been granted access to this video\n"
     ]
    },
    {
     "name": "stdout",
     "output_type": "stream",
     "text": [
      "Error checking language and duration for video ZBruw5lu4uA: ERROR: [youtube] ZBruw5lu4uA: Private video. Sign in if you've been granted access to this video\n",
      "Rows analyzed: 1903, Rows left: 2717\n",
      "Rows analyzed: 1904, Rows left: 2716\n"
     ]
    },
    {
     "name": "stderr",
     "output_type": "stream",
     "text": [
      "ERROR: [youtube] sHBHngHouh4: Video unavailable\n"
     ]
    },
    {
     "name": "stdout",
     "output_type": "stream",
     "text": [
      "Error checking language and duration for video sHBHngHouh4: ERROR: [youtube] sHBHngHouh4: Video unavailable\n",
      "Rows analyzed: 1905, Rows left: 2715\n",
      "Rows analyzed: 1906, Rows left: 2714\n",
      "Rows analyzed: 1907, Rows left: 2713\n"
     ]
    },
    {
     "name": "stderr",
     "output_type": "stream",
     "text": [
      "ERROR: [youtube] rmo1yB3Hrb8: Video unavailable\n"
     ]
    },
    {
     "name": "stdout",
     "output_type": "stream",
     "text": [
      "Error checking language and duration for video rmo1yB3Hrb8: ERROR: [youtube] rmo1yB3Hrb8: Video unavailable\n",
      "Rows analyzed: 1908, Rows left: 2712\n",
      "Rows analyzed: 1909, Rows left: 2711\n",
      "Rows analyzed: 1910, Rows left: 2710\n"
     ]
    },
    {
     "name": "stderr",
     "output_type": "stream",
     "text": [
      "ERROR: [youtube] 82oMArihR8g: Video unavailable. This video is no longer available because the YouTube account associated with this video has been terminated.\n"
     ]
    },
    {
     "name": "stdout",
     "output_type": "stream",
     "text": [
      "Error checking language and duration for video 82oMArihR8g: ERROR: [youtube] 82oMArihR8g: Video unavailable. This video is no longer available because the YouTube account associated with this video has been terminated.\n",
      "Rows analyzed: 1911, Rows left: 2709\n",
      "Rows analyzed: 1912, Rows left: 2708\n"
     ]
    },
    {
     "name": "stderr",
     "output_type": "stream",
     "text": [
      "ERROR: [youtube] oCiArVEHiuk: Sign in to confirm your age. This video may be inappropriate for some users.\n"
     ]
    },
    {
     "name": "stdout",
     "output_type": "stream",
     "text": [
      "Error checking language and duration for video oCiArVEHiuk: ERROR: [youtube] oCiArVEHiuk: Sign in to confirm your age. This video may be inappropriate for some users.\n",
      "Rows analyzed: 1913, Rows left: 2707\n"
     ]
    },
    {
     "name": "stderr",
     "output_type": "stream",
     "text": [
      "ERROR: [youtube] H0VMtFnIEN0: Video unavailable\n"
     ]
    },
    {
     "name": "stdout",
     "output_type": "stream",
     "text": [
      "Error checking language and duration for video H0VMtFnIEN0: ERROR: [youtube] H0VMtFnIEN0: Video unavailable\n",
      "Rows analyzed: 1914, Rows left: 2706\n"
     ]
    },
    {
     "name": "stderr",
     "output_type": "stream",
     "text": [
      "ERROR: [youtube] O3Get6pCDWo: Private video. Sign in if you've been granted access to this video\n"
     ]
    },
    {
     "name": "stdout",
     "output_type": "stream",
     "text": [
      "Error checking language and duration for video O3Get6pCDWo: ERROR: [youtube] O3Get6pCDWo: Private video. Sign in if you've been granted access to this video\n",
      "Rows analyzed: 1915, Rows left: 2705\n"
     ]
    },
    {
     "name": "stderr",
     "output_type": "stream",
     "text": [
      "ERROR: [youtube] 9YQZxZVflqE: Private video. Sign in if you've been granted access to this video\n"
     ]
    },
    {
     "name": "stdout",
     "output_type": "stream",
     "text": [
      "Error checking language and duration for video 9YQZxZVflqE: ERROR: [youtube] 9YQZxZVflqE: Private video. Sign in if you've been granted access to this video\n",
      "Rows analyzed: 1916, Rows left: 2704\n"
     ]
    },
    {
     "name": "stderr",
     "output_type": "stream",
     "text": [
      "ERROR: [youtube] kx_dBrzivLE: Private video. Sign in if you've been granted access to this video\n"
     ]
    },
    {
     "name": "stdout",
     "output_type": "stream",
     "text": [
      "Error checking language and duration for video kx_dBrzivLE: ERROR: [youtube] kx_dBrzivLE: Private video. Sign in if you've been granted access to this video\n",
      "Rows analyzed: 1917, Rows left: 2703\n",
      "Rows analyzed: 1918, Rows left: 2702\n"
     ]
    },
    {
     "name": "stderr",
     "output_type": "stream",
     "text": [
      "ERROR: [youtube] w5wU6aS1MVQ: Private video. Sign in if you've been granted access to this video\n"
     ]
    },
    {
     "name": "stdout",
     "output_type": "stream",
     "text": [
      "Error checking language and duration for video w5wU6aS1MVQ: ERROR: [youtube] w5wU6aS1MVQ: Private video. Sign in if you've been granted access to this video\n",
      "Rows analyzed: 1919, Rows left: 2701\n",
      "Rows analyzed: 1920, Rows left: 2700\n",
      "Rows analyzed: 1921, Rows left: 2699\n",
      "Rows analyzed: 1922, Rows left: 2698\n",
      "Rows analyzed: 1923, Rows left: 2697\n",
      "Rows analyzed: 1924, Rows left: 2696\n",
      "Rows analyzed: 1925, Rows left: 2695\n",
      "Rows analyzed: 1926, Rows left: 2694\n",
      "Rows analyzed: 1927, Rows left: 2693\n",
      "Rows analyzed: 1928, Rows left: 2692\n",
      "Rows analyzed: 1929, Rows left: 2691\n"
     ]
    },
    {
     "name": "stderr",
     "output_type": "stream",
     "text": [
      "ERROR: [youtube] LUe7aqZQ3HU: Video unavailable\n"
     ]
    },
    {
     "name": "stdout",
     "output_type": "stream",
     "text": [
      "Error checking language and duration for video LUe7aqZQ3HU: ERROR: [youtube] LUe7aqZQ3HU: Video unavailable\n",
      "Rows analyzed: 1930, Rows left: 2690\n",
      "Rows analyzed: 1931, Rows left: 2689\n",
      "Rows analyzed: 1932, Rows left: 2688\n"
     ]
    },
    {
     "name": "stderr",
     "output_type": "stream",
     "text": [
      "ERROR: [youtube] lwDQHOg98U4: Video unavailable\n"
     ]
    },
    {
     "name": "stdout",
     "output_type": "stream",
     "text": [
      "Error checking language and duration for video lwDQHOg98U4: ERROR: [youtube] lwDQHOg98U4: Video unavailable\n",
      "Rows analyzed: 1933, Rows left: 2687\n"
     ]
    },
    {
     "name": "stderr",
     "output_type": "stream",
     "text": [
      "ERROR: [youtube] f0PZrQbe8rU: Video unavailable. This video contains content from Al-Arabiya, who has blocked it on copyright grounds\n"
     ]
    },
    {
     "name": "stdout",
     "output_type": "stream",
     "text": [
      "Error checking language and duration for video f0PZrQbe8rU: ERROR: [youtube] f0PZrQbe8rU: Video unavailable. This video contains content from Al-Arabiya, who has blocked it on copyright grounds\n",
      "Rows analyzed: 1934, Rows left: 2686\n",
      "Rows analyzed: 1935, Rows left: 2685\n",
      "Rows analyzed: 1936, Rows left: 2684\n",
      "Rows analyzed: 1937, Rows left: 2683\n",
      "Rows analyzed: 1938, Rows left: 2682\n",
      "Rows analyzed: 1939, Rows left: 2681\n",
      "Rows analyzed: 1940, Rows left: 2680\n"
     ]
    },
    {
     "name": "stderr",
     "output_type": "stream",
     "text": [
      "ERROR: [youtube] 4z-dpVP5X30: Video unavailable\n"
     ]
    },
    {
     "name": "stdout",
     "output_type": "stream",
     "text": [
      "Error checking language and duration for video 4z-dpVP5X30: ERROR: [youtube] 4z-dpVP5X30: Video unavailable\n",
      "Rows analyzed: 1941, Rows left: 2679\n"
     ]
    },
    {
     "name": "stderr",
     "output_type": "stream",
     "text": [
      "ERROR: [youtube] 05gAnIzt01E: Video unavailable\n"
     ]
    },
    {
     "name": "stdout",
     "output_type": "stream",
     "text": [
      "Error checking language and duration for video 05gAnIzt01E: ERROR: [youtube] 05gAnIzt01E: Video unavailable\n",
      "Rows analyzed: 1942, Rows left: 2678\n",
      "Rows analyzed: 1943, Rows left: 2677\n",
      "Rows analyzed: 1944, Rows left: 2676\n",
      "Rows analyzed: 1945, Rows left: 2675\n",
      "Rows analyzed: 1946, Rows left: 2674\n",
      "Rows analyzed: 1947, Rows left: 2673\n",
      "Rows analyzed: 1948, Rows left: 2672\n"
     ]
    },
    {
     "name": "stderr",
     "output_type": "stream",
     "text": [
      "ERROR: [youtube] jBmLhJQuWA8: Video unavailable\n"
     ]
    },
    {
     "name": "stdout",
     "output_type": "stream",
     "text": [
      "Error checking language and duration for video jBmLhJQuWA8: ERROR: [youtube] jBmLhJQuWA8: Video unavailable\n",
      "Rows analyzed: 1949, Rows left: 2671\n"
     ]
    },
    {
     "name": "stderr",
     "output_type": "stream",
     "text": [
      "ERROR: [youtube] _bKGobRXtzw: Video unavailable\n"
     ]
    },
    {
     "name": "stdout",
     "output_type": "stream",
     "text": [
      "Error checking language and duration for video _bKGobRXtzw: ERROR: [youtube] _bKGobRXtzw: Video unavailable\n",
      "Rows analyzed: 1950, Rows left: 2670\n",
      "Rows analyzed: 1951, Rows left: 2669\n",
      "Rows analyzed: 1952, Rows left: 2668\n",
      "Rows analyzed: 1953, Rows left: 2667\n",
      "Rows analyzed: 1954, Rows left: 2666\n",
      "Rows analyzed: 1955, Rows left: 2665\n"
     ]
    },
    {
     "name": "stderr",
     "output_type": "stream",
     "text": [
      "ERROR: [youtube] PZLHiIspRVE: Video unavailable\n"
     ]
    },
    {
     "name": "stdout",
     "output_type": "stream",
     "text": [
      "Error checking language and duration for video PZLHiIspRVE: ERROR: [youtube] PZLHiIspRVE: Video unavailable\n",
      "Rows analyzed: 1956, Rows left: 2664\n",
      "Rows analyzed: 1957, Rows left: 2663\n"
     ]
    },
    {
     "name": "stderr",
     "output_type": "stream",
     "text": [
      "ERROR: [youtube] kmKLkBMVoQM: Video unavailable\n"
     ]
    },
    {
     "name": "stdout",
     "output_type": "stream",
     "text": [
      "Error checking language and duration for video kmKLkBMVoQM: ERROR: [youtube] kmKLkBMVoQM: Video unavailable\n",
      "Rows analyzed: 1958, Rows left: 2662\n",
      "Rows analyzed: 1959, Rows left: 2661\n",
      "Rows analyzed: 1960, Rows left: 2660\n",
      "Rows analyzed: 1961, Rows left: 2659\n"
     ]
    },
    {
     "name": "stderr",
     "output_type": "stream",
     "text": [
      "ERROR: [youtube] DfMsS1YqvhE: Video unavailable\n"
     ]
    },
    {
     "name": "stdout",
     "output_type": "stream",
     "text": [
      "Error checking language and duration for video DfMsS1YqvhE: ERROR: [youtube] DfMsS1YqvhE: Video unavailable\n",
      "Rows analyzed: 1962, Rows left: 2658\n"
     ]
    },
    {
     "name": "stderr",
     "output_type": "stream",
     "text": [
      "ERROR: [youtube] 4xriyqfC0Bs: Video unavailable\n"
     ]
    },
    {
     "name": "stdout",
     "output_type": "stream",
     "text": [
      "Error checking language and duration for video 4xriyqfC0Bs: ERROR: [youtube] 4xriyqfC0Bs: Video unavailable\n",
      "Rows analyzed: 1963, Rows left: 2657\n",
      "Rows analyzed: 1964, Rows left: 2656\n",
      "Rows analyzed: 1965, Rows left: 2655\n",
      "Rows analyzed: 1966, Rows left: 2654\n"
     ]
    },
    {
     "name": "stderr",
     "output_type": "stream",
     "text": [
      "ERROR: [youtube] zTxyZWq6TIk: Video unavailable. This video is no longer available due to a privacy claim by a third party\n"
     ]
    },
    {
     "name": "stdout",
     "output_type": "stream",
     "text": [
      "Error checking language and duration for video zTxyZWq6TIk: ERROR: [youtube] zTxyZWq6TIk: Video unavailable. This video is no longer available due to a privacy claim by a third party\n",
      "Rows analyzed: 1967, Rows left: 2653\n",
      "Rows analyzed: 1968, Rows left: 2652\n"
     ]
    },
    {
     "name": "stderr",
     "output_type": "stream",
     "text": [
      "ERROR: [youtube] RXymUUeHkSs: Private video. Sign in if you've been granted access to this video\n"
     ]
    },
    {
     "name": "stdout",
     "output_type": "stream",
     "text": [
      "Error checking language and duration for video RXymUUeHkSs: ERROR: [youtube] RXymUUeHkSs: Private video. Sign in if you've been granted access to this video\n",
      "Rows analyzed: 1969, Rows left: 2651\n",
      "Rows analyzed: 1970, Rows left: 2650\n",
      "Rows analyzed: 1971, Rows left: 2649\n",
      "Rows analyzed: 1972, Rows left: 2648\n",
      "Rows analyzed: 1973, Rows left: 2647\n",
      "Rows analyzed: 1974, Rows left: 2646\n",
      "Rows analyzed: 1975, Rows left: 2645\n"
     ]
    },
    {
     "name": "stderr",
     "output_type": "stream",
     "text": [
      "ERROR: [youtube] gGklrfM7ewA: Video unavailable\n"
     ]
    },
    {
     "name": "stdout",
     "output_type": "stream",
     "text": [
      "Error checking language and duration for video gGklrfM7ewA: ERROR: [youtube] gGklrfM7ewA: Video unavailable\n",
      "Rows analyzed: 1976, Rows left: 2644\n",
      "Rows analyzed: 1977, Rows left: 2643\n",
      "Rows analyzed: 1978, Rows left: 2642\n"
     ]
    },
    {
     "name": "stderr",
     "output_type": "stream",
     "text": [
      "ERROR: [youtube] 7Tv4eAWNgC0: Video unavailable\n"
     ]
    },
    {
     "name": "stdout",
     "output_type": "stream",
     "text": [
      "Error checking language and duration for video 7Tv4eAWNgC0: ERROR: [youtube] 7Tv4eAWNgC0: Video unavailable\n",
      "Rows analyzed: 1979, Rows left: 2641\n",
      "Rows analyzed: 1980, Rows left: 2640\n"
     ]
    },
    {
     "name": "stderr",
     "output_type": "stream",
     "text": [
      "ERROR: [youtube] 1qfFZBrQ0d8: Video unavailable\n"
     ]
    },
    {
     "name": "stdout",
     "output_type": "stream",
     "text": [
      "Error checking language and duration for video 1qfFZBrQ0d8: ERROR: [youtube] 1qfFZBrQ0d8: Video unavailable\n",
      "Rows analyzed: 1981, Rows left: 2639\n",
      "Rows analyzed: 1982, Rows left: 2638\n",
      "Rows analyzed: 1983, Rows left: 2637\n"
     ]
    },
    {
     "name": "stderr",
     "output_type": "stream",
     "text": [
      "ERROR: [youtube] i0OIFHLeGww: Video unavailable. This video is no longer available because the YouTube account associated with this video has been terminated.\n"
     ]
    },
    {
     "name": "stdout",
     "output_type": "stream",
     "text": [
      "Error checking language and duration for video i0OIFHLeGww: ERROR: [youtube] i0OIFHLeGww: Video unavailable. This video is no longer available because the YouTube account associated with this video has been terminated.\n",
      "Rows analyzed: 1984, Rows left: 2636\n",
      "Rows analyzed: 1985, Rows left: 2635\n"
     ]
    },
    {
     "name": "stderr",
     "output_type": "stream",
     "text": [
      "ERROR: [youtube] bulVqh4AkN0: Private video. Sign in if you've been granted access to this video\n"
     ]
    },
    {
     "name": "stdout",
     "output_type": "stream",
     "text": [
      "Error checking language and duration for video bulVqh4AkN0: ERROR: [youtube] bulVqh4AkN0: Private video. Sign in if you've been granted access to this video\n",
      "Rows analyzed: 1986, Rows left: 2634\n",
      "Rows analyzed: 1987, Rows left: 2633\n",
      "Rows analyzed: 1988, Rows left: 2632\n",
      "Rows analyzed: 1989, Rows left: 2631\n",
      "Rows analyzed: 1990, Rows left: 2630\n",
      "Rows analyzed: 1991, Rows left: 2629\n",
      "Rows analyzed: 1992, Rows left: 2628\n",
      "Rows analyzed: 1993, Rows left: 2627\n",
      "Rows analyzed: 1994, Rows left: 2626\n"
     ]
    },
    {
     "name": "stderr",
     "output_type": "stream",
     "text": [
      "ERROR: [youtube] fgViVdFMtPs: Private video. Sign in if you've been granted access to this video\n"
     ]
    },
    {
     "name": "stdout",
     "output_type": "stream",
     "text": [
      "Error checking language and duration for video fgViVdFMtPs: ERROR: [youtube] fgViVdFMtPs: Private video. Sign in if you've been granted access to this video\n",
      "Rows analyzed: 1995, Rows left: 2625\n",
      "Rows analyzed: 1996, Rows left: 2624\n",
      "Rows analyzed: 1997, Rows left: 2623\n",
      "Rows analyzed: 1998, Rows left: 2622\n",
      "Rows analyzed: 1999, Rows left: 2621\n"
     ]
    },
    {
     "name": "stderr",
     "output_type": "stream",
     "text": [
      "ERROR: [youtube] BdBZwKEOROQ: Video unavailable\n"
     ]
    },
    {
     "name": "stdout",
     "output_type": "stream",
     "text": [
      "Error checking language and duration for video BdBZwKEOROQ: ERROR: [youtube] BdBZwKEOROQ: Video unavailable\n",
      "Rows analyzed: 2000, Rows left: 2620\n"
     ]
    },
    {
     "name": "stderr",
     "output_type": "stream",
     "text": [
      "ERROR: [youtube] ryUPiVl9PfU: Video unavailable. This video contains content from RTVCM, who has blocked it on copyright grounds\n"
     ]
    },
    {
     "name": "stdout",
     "output_type": "stream",
     "text": [
      "Error checking language and duration for video ryUPiVl9PfU: ERROR: [youtube] ryUPiVl9PfU: Video unavailable. This video contains content from RTVCM, who has blocked it on copyright grounds\n",
      "Rows analyzed: 2001, Rows left: 2619\n",
      "Rows analyzed: 2002, Rows left: 2618\n",
      "Rows analyzed: 2003, Rows left: 2617\n"
     ]
    },
    {
     "name": "stderr",
     "output_type": "stream",
     "text": [
      "ERROR: [youtube] d3BMVKxoUWU: Video unavailable. This video is no longer available because the YouTube account associated with this video has been terminated.\n"
     ]
    },
    {
     "name": "stdout",
     "output_type": "stream",
     "text": [
      "Error checking language and duration for video d3BMVKxoUWU: ERROR: [youtube] d3BMVKxoUWU: Video unavailable. This video is no longer available because the YouTube account associated with this video has been terminated.\n",
      "Rows analyzed: 2004, Rows left: 2616\n",
      "Rows analyzed: 2005, Rows left: 2615\n"
     ]
    },
    {
     "name": "stderr",
     "output_type": "stream",
     "text": [
      "ERROR: [youtube] _5tyJFmjCzo: Video unavailable. This video is no longer available because the YouTube account associated with this video has been terminated.\n"
     ]
    },
    {
     "name": "stdout",
     "output_type": "stream",
     "text": [
      "Error checking language and duration for video _5tyJFmjCzo: ERROR: [youtube] _5tyJFmjCzo: Video unavailable. This video is no longer available because the YouTube account associated with this video has been terminated.\n",
      "Rows analyzed: 2006, Rows left: 2614\n",
      "Rows analyzed: 2007, Rows left: 2613\n"
     ]
    },
    {
     "name": "stderr",
     "output_type": "stream",
     "text": [
      "ERROR: [youtube] dndy4j2RTK0: Private video. Sign in if you've been granted access to this video\n"
     ]
    },
    {
     "name": "stdout",
     "output_type": "stream",
     "text": [
      "Error checking language and duration for video dndy4j2RTK0: ERROR: [youtube] dndy4j2RTK0: Private video. Sign in if you've been granted access to this video\n",
      "Rows analyzed: 2008, Rows left: 2612\n",
      "Rows analyzed: 2009, Rows left: 2611\n",
      "Rows analyzed: 2010, Rows left: 2610\n"
     ]
    },
    {
     "name": "stderr",
     "output_type": "stream",
     "text": [
      "ERROR: [youtube] JGybYfaPb2Y: Private video. Sign in if you've been granted access to this video\n"
     ]
    },
    {
     "name": "stdout",
     "output_type": "stream",
     "text": [
      "Error checking language and duration for video JGybYfaPb2Y: ERROR: [youtube] JGybYfaPb2Y: Private video. Sign in if you've been granted access to this video\n",
      "Rows analyzed: 2011, Rows left: 2609\n"
     ]
    },
    {
     "name": "stderr",
     "output_type": "stream",
     "text": [
      "ERROR: [youtube] 3dzzVFpA1Kk: Private video. Sign in if you've been granted access to this video\n"
     ]
    },
    {
     "name": "stdout",
     "output_type": "stream",
     "text": [
      "Error checking language and duration for video 3dzzVFpA1Kk: ERROR: [youtube] 3dzzVFpA1Kk: Private video. Sign in if you've been granted access to this video\n",
      "Rows analyzed: 2012, Rows left: 2608\n",
      "Rows analyzed: 2013, Rows left: 2607\n"
     ]
    },
    {
     "name": "stderr",
     "output_type": "stream",
     "text": [
      "ERROR: [youtube] JOu3Gp9cp7E: Private video. Sign in if you've been granted access to this video\n"
     ]
    },
    {
     "name": "stdout",
     "output_type": "stream",
     "text": [
      "Error checking language and duration for video JOu3Gp9cp7E: ERROR: [youtube] JOu3Gp9cp7E: Private video. Sign in if you've been granted access to this video\n",
      "Rows analyzed: 2014, Rows left: 2606\n",
      "Rows analyzed: 2015, Rows left: 2605\n",
      "Rows analyzed: 2016, Rows left: 2604\n"
     ]
    },
    {
     "name": "stderr",
     "output_type": "stream",
     "text": [
      "ERROR: [youtube] wdoYzL58-I4: Video unavailable\n"
     ]
    },
    {
     "name": "stdout",
     "output_type": "stream",
     "text": [
      "Error checking language and duration for video wdoYzL58-I4: ERROR: [youtube] wdoYzL58-I4: Video unavailable\n",
      "Rows analyzed: 2017, Rows left: 2603\n",
      "Rows analyzed: 2018, Rows left: 2602\n",
      "Rows analyzed: 2019, Rows left: 2601\n",
      "Rows analyzed: 2020, Rows left: 2600\n",
      "Rows analyzed: 2021, Rows left: 2599\n",
      "Rows analyzed: 2022, Rows left: 2598\n",
      "Rows analyzed: 2023, Rows left: 2597\n",
      "Rows analyzed: 2024, Rows left: 2596\n",
      "Rows analyzed: 2025, Rows left: 2595\n",
      "Rows analyzed: 2026, Rows left: 2594\n",
      "Rows analyzed: 2027, Rows left: 2593\n",
      "Rows analyzed: 2028, Rows left: 2592\n"
     ]
    },
    {
     "name": "stderr",
     "output_type": "stream",
     "text": [
      "ERROR: [youtube] _ljcUgrjHmM: Private video. Sign in if you've been granted access to this video\n"
     ]
    },
    {
     "name": "stdout",
     "output_type": "stream",
     "text": [
      "Error checking language and duration for video _ljcUgrjHmM: ERROR: [youtube] _ljcUgrjHmM: Private video. Sign in if you've been granted access to this video\n",
      "Rows analyzed: 2029, Rows left: 2591\n",
      "Rows analyzed: 2030, Rows left: 2590\n"
     ]
    },
    {
     "name": "stderr",
     "output_type": "stream",
     "text": [
      "ERROR: [youtube] edR8oGM6KcA: Video unavailable\n"
     ]
    },
    {
     "name": "stdout",
     "output_type": "stream",
     "text": [
      "Error checking language and duration for video edR8oGM6KcA: ERROR: [youtube] edR8oGM6KcA: Video unavailable\n",
      "Rows analyzed: 2031, Rows left: 2589\n"
     ]
    },
    {
     "name": "stderr",
     "output_type": "stream",
     "text": [
      "ERROR: [youtube] swdUYI0yz1k: Video unavailable. This video is no longer available because the YouTube account associated with this video has been terminated.\n"
     ]
    },
    {
     "name": "stdout",
     "output_type": "stream",
     "text": [
      "Error checking language and duration for video swdUYI0yz1k: ERROR: [youtube] swdUYI0yz1k: Video unavailable. This video is no longer available because the YouTube account associated with this video has been terminated.\n",
      "Rows analyzed: 2032, Rows left: 2588\n",
      "Rows analyzed: 2033, Rows left: 2587\n",
      "Rows analyzed: 2034, Rows left: 2586\n",
      "Rows analyzed: 2035, Rows left: 2585\n",
      "Rows analyzed: 2036, Rows left: 2584\n",
      "Rows analyzed: 2037, Rows left: 2583\n",
      "Rows analyzed: 2038, Rows left: 2582\n",
      "Rows analyzed: 2039, Rows left: 2581\n",
      "Rows analyzed: 2040, Rows left: 2580\n",
      "Rows analyzed: 2041, Rows left: 2579\n",
      "Rows analyzed: 2042, Rows left: 2578\n",
      "Rows analyzed: 2043, Rows left: 2577\n",
      "Rows analyzed: 2044, Rows left: 2576\n",
      "Rows analyzed: 2045, Rows left: 2575\n",
      "Rows analyzed: 2046, Rows left: 2574\n",
      "Rows analyzed: 2047, Rows left: 2573\n",
      "Rows analyzed: 2048, Rows left: 2572\n",
      "Rows analyzed: 2049, Rows left: 2571\n",
      "Rows analyzed: 2050, Rows left: 2570\n",
      "Rows analyzed: 2051, Rows left: 2569\n",
      "Rows analyzed: 2052, Rows left: 2568\n"
     ]
    },
    {
     "name": "stderr",
     "output_type": "stream",
     "text": [
      "ERROR: [youtube] GxkK-KsIAWk: Video unavailable. This video is no longer available because the YouTube account associated with this video has been terminated.\n"
     ]
    },
    {
     "name": "stdout",
     "output_type": "stream",
     "text": [
      "Error checking language and duration for video GxkK-KsIAWk: ERROR: [youtube] GxkK-KsIAWk: Video unavailable. This video is no longer available because the YouTube account associated with this video has been terminated.\n",
      "Rows analyzed: 2053, Rows left: 2567\n",
      "Rows analyzed: 2054, Rows left: 2566\n"
     ]
    },
    {
     "name": "stderr",
     "output_type": "stream",
     "text": [
      "ERROR: [youtube] gxSxjN1o9XI: Video unavailable\n"
     ]
    },
    {
     "name": "stdout",
     "output_type": "stream",
     "text": [
      "Error checking language and duration for video gxSxjN1o9XI: ERROR: [youtube] gxSxjN1o9XI: Video unavailable\n",
      "Rows analyzed: 2055, Rows left: 2565\n",
      "Rows analyzed: 2056, Rows left: 2564\n",
      "Rows analyzed: 2057, Rows left: 2563\n"
     ]
    },
    {
     "name": "stderr",
     "output_type": "stream",
     "text": [
      "ERROR: [youtube] v1vqTyxToy8: Private video. Sign in if you've been granted access to this video\n"
     ]
    },
    {
     "name": "stdout",
     "output_type": "stream",
     "text": [
      "Error checking language and duration for video v1vqTyxToy8: ERROR: [youtube] v1vqTyxToy8: Private video. Sign in if you've been granted access to this video\n",
      "Rows analyzed: 2058, Rows left: 2562\n",
      "Rows analyzed: 2059, Rows left: 2561\n",
      "Rows analyzed: 2060, Rows left: 2560\n",
      "Rows analyzed: 2061, Rows left: 2559\n"
     ]
    },
    {
     "name": "stderr",
     "output_type": "stream",
     "text": [
      "ERROR: [youtube] u76yIFVeI_E: Video unavailable\n"
     ]
    },
    {
     "name": "stdout",
     "output_type": "stream",
     "text": [
      "Error checking language and duration for video u76yIFVeI_E: ERROR: [youtube] u76yIFVeI_E: Video unavailable\n",
      "Rows analyzed: 2062, Rows left: 2558\n",
      "Rows analyzed: 2063, Rows left: 2557\n",
      "Rows analyzed: 2064, Rows left: 2556\n"
     ]
    },
    {
     "name": "stderr",
     "output_type": "stream",
     "text": [
      "ERROR: [youtube] 9Av6sLorTIA: This video has been removed for violating YouTube's Community Guidelines\n"
     ]
    },
    {
     "name": "stdout",
     "output_type": "stream",
     "text": [
      "Error checking language and duration for video 9Av6sLorTIA: ERROR: [youtube] 9Av6sLorTIA: This video has been removed for violating YouTube's Community Guidelines\n",
      "Rows analyzed: 2065, Rows left: 2555\n"
     ]
    },
    {
     "name": "stderr",
     "output_type": "stream",
     "text": [
      "ERROR: [youtube] rP3SzRx_dvY: Private video. Sign in if you've been granted access to this video\n"
     ]
    },
    {
     "name": "stdout",
     "output_type": "stream",
     "text": [
      "Error checking language and duration for video rP3SzRx_dvY: ERROR: [youtube] rP3SzRx_dvY: Private video. Sign in if you've been granted access to this video\n",
      "Rows analyzed: 2066, Rows left: 2554\n",
      "Rows analyzed: 2067, Rows left: 2553\n",
      "Rows analyzed: 2068, Rows left: 2552\n"
     ]
    },
    {
     "name": "stderr",
     "output_type": "stream",
     "text": [
      "ERROR: [youtube] MCdwUtFVOF8: Video unavailable\n"
     ]
    },
    {
     "name": "stdout",
     "output_type": "stream",
     "text": [
      "Error checking language and duration for video MCdwUtFVOF8: ERROR: [youtube] MCdwUtFVOF8: Video unavailable\n",
      "Rows analyzed: 2069, Rows left: 2551\n",
      "Rows analyzed: 2070, Rows left: 2550\n"
     ]
    },
    {
     "name": "stderr",
     "output_type": "stream",
     "text": [
      "ERROR: [youtube] dlyCR848y-Y: Video unavailable\n"
     ]
    },
    {
     "name": "stdout",
     "output_type": "stream",
     "text": [
      "Error checking language and duration for video dlyCR848y-Y: ERROR: [youtube] dlyCR848y-Y: Video unavailable\n",
      "Rows analyzed: 2071, Rows left: 2549\n",
      "Rows analyzed: 2072, Rows left: 2548\n"
     ]
    },
    {
     "name": "stderr",
     "output_type": "stream",
     "text": [
      "ERROR: [youtube] mrvkCXhAVQw: Private video. Sign in if you've been granted access to this video\n"
     ]
    },
    {
     "name": "stdout",
     "output_type": "stream",
     "text": [
      "Error checking language and duration for video mrvkCXhAVQw: ERROR: [youtube] mrvkCXhAVQw: Private video. Sign in if you've been granted access to this video\n",
      "Rows analyzed: 2073, Rows left: 2547\n",
      "Rows analyzed: 2074, Rows left: 2546\n",
      "Rows analyzed: 2075, Rows left: 2545\n",
      "Rows analyzed: 2076, Rows left: 2544\n",
      "Rows analyzed: 2077, Rows left: 2543\n",
      "Rows analyzed: 2078, Rows left: 2542\n",
      "Rows analyzed: 2079, Rows left: 2541\n",
      "Rows analyzed: 2080, Rows left: 2540\n",
      "Rows analyzed: 2081, Rows left: 2539\n",
      "Rows analyzed: 2082, Rows left: 2538\n",
      "Rows analyzed: 2083, Rows left: 2537\n"
     ]
    },
    {
     "name": "stderr",
     "output_type": "stream",
     "text": [
      "ERROR: [youtube] j1FDjjMNCxY: Private video. Sign in if you've been granted access to this video\n"
     ]
    },
    {
     "name": "stdout",
     "output_type": "stream",
     "text": [
      "Error checking language and duration for video j1FDjjMNCxY: ERROR: [youtube] j1FDjjMNCxY: Private video. Sign in if you've been granted access to this video\n",
      "Rows analyzed: 2084, Rows left: 2536\n",
      "Rows analyzed: 2085, Rows left: 2535\n",
      "Rows analyzed: 2086, Rows left: 2534\n",
      "Rows analyzed: 2087, Rows left: 2533\n",
      "Rows analyzed: 2088, Rows left: 2532\n",
      "Rows analyzed: 2089, Rows left: 2531\n",
      "Rows analyzed: 2090, Rows left: 2530\n",
      "Rows analyzed: 2091, Rows left: 2529\n",
      "Rows analyzed: 2092, Rows left: 2528\n",
      "Rows analyzed: 2093, Rows left: 2527\n",
      "Rows analyzed: 2094, Rows left: 2526\n"
     ]
    },
    {
     "name": "stderr",
     "output_type": "stream",
     "text": [
      "ERROR: [youtube] eCGZ1NFtgrU: Private video. Sign in if you've been granted access to this video\n"
     ]
    },
    {
     "name": "stdout",
     "output_type": "stream",
     "text": [
      "Error checking language and duration for video eCGZ1NFtgrU: ERROR: [youtube] eCGZ1NFtgrU: Private video. Sign in if you've been granted access to this video\n",
      "Rows analyzed: 2095, Rows left: 2525\n"
     ]
    },
    {
     "name": "stderr",
     "output_type": "stream",
     "text": [
      "ERROR: [youtube] 1-lkUq1LS3o: Private video. Sign in if you've been granted access to this video\n"
     ]
    },
    {
     "name": "stdout",
     "output_type": "stream",
     "text": [
      "Error checking language and duration for video 1-lkUq1LS3o: ERROR: [youtube] 1-lkUq1LS3o: Private video. Sign in if you've been granted access to this video\n",
      "Rows analyzed: 2096, Rows left: 2524\n",
      "Rows analyzed: 2097, Rows left: 2523\n",
      "Rows analyzed: 2098, Rows left: 2522\n",
      "Rows analyzed: 2099, Rows left: 2521\n",
      "Rows analyzed: 2100, Rows left: 2520\n",
      "Rows analyzed: 2101, Rows left: 2519\n",
      "Rows analyzed: 2102, Rows left: 2518\n",
      "Rows analyzed: 2103, Rows left: 2517\n",
      "Rows analyzed: 2104, Rows left: 2516\n"
     ]
    },
    {
     "name": "stderr",
     "output_type": "stream",
     "text": [
      "ERROR: [youtube] 9yRFFw4JdMM: Video unavailable\n"
     ]
    },
    {
     "name": "stdout",
     "output_type": "stream",
     "text": [
      "Error checking language and duration for video 9yRFFw4JdMM: ERROR: [youtube] 9yRFFw4JdMM: Video unavailable\n",
      "Rows analyzed: 2105, Rows left: 2515\n",
      "Rows analyzed: 2106, Rows left: 2514\n"
     ]
    },
    {
     "name": "stderr",
     "output_type": "stream",
     "text": [
      "ERROR: [youtube] D7i2voAs1ao: Video unavailable. This video is no longer available because the YouTube account associated with this video has been terminated.\n"
     ]
    },
    {
     "name": "stdout",
     "output_type": "stream",
     "text": [
      "Error checking language and duration for video D7i2voAs1ao: ERROR: [youtube] D7i2voAs1ao: Video unavailable. This video is no longer available because the YouTube account associated with this video has been terminated.\n",
      "Rows analyzed: 2107, Rows left: 2513\n",
      "Rows analyzed: 2108, Rows left: 2512\n"
     ]
    },
    {
     "name": "stderr",
     "output_type": "stream",
     "text": [
      "ERROR: [youtube] YY6aVyQ-Sw0: Private video. Sign in if you've been granted access to this video\n"
     ]
    },
    {
     "name": "stdout",
     "output_type": "stream",
     "text": [
      "Error checking language and duration for video YY6aVyQ-Sw0: ERROR: [youtube] YY6aVyQ-Sw0: Private video. Sign in if you've been granted access to this video\n",
      "Rows analyzed: 2109, Rows left: 2511\n",
      "Rows analyzed: 2110, Rows left: 2510\n",
      "Rows analyzed: 2111, Rows left: 2509\n",
      "Rows analyzed: 2112, Rows left: 2508\n"
     ]
    },
    {
     "name": "stderr",
     "output_type": "stream",
     "text": [
      "ERROR: [youtube] e3CpHmicKBE: Private video. Sign in if you've been granted access to this video\n"
     ]
    },
    {
     "name": "stdout",
     "output_type": "stream",
     "text": [
      "Error checking language and duration for video e3CpHmicKBE: ERROR: [youtube] e3CpHmicKBE: Private video. Sign in if you've been granted access to this video\n",
      "Rows analyzed: 2113, Rows left: 2507\n",
      "Rows analyzed: 2114, Rows left: 2506\n",
      "Rows analyzed: 2115, Rows left: 2505\n",
      "Rows analyzed: 2116, Rows left: 2504\n",
      "Rows analyzed: 2117, Rows left: 2503\n"
     ]
    },
    {
     "name": "stderr",
     "output_type": "stream",
     "text": [
      "ERROR: [youtube] KSdry0vPQdw: Private video. Sign in if you've been granted access to this video\n"
     ]
    },
    {
     "name": "stdout",
     "output_type": "stream",
     "text": [
      "Error checking language and duration for video KSdry0vPQdw: ERROR: [youtube] KSdry0vPQdw: Private video. Sign in if you've been granted access to this video\n",
      "Rows analyzed: 2118, Rows left: 2502\n",
      "Rows analyzed: 2119, Rows left: 2501\n",
      "Rows analyzed: 2120, Rows left: 2500\n",
      "Rows analyzed: 2121, Rows left: 2499\n"
     ]
    },
    {
     "name": "stderr",
     "output_type": "stream",
     "text": [
      "ERROR: [youtube] 6PPJiPTevaM: Video unavailable\n"
     ]
    },
    {
     "name": "stdout",
     "output_type": "stream",
     "text": [
      "Error checking language and duration for video 6PPJiPTevaM: ERROR: [youtube] 6PPJiPTevaM: Video unavailable\n",
      "Rows analyzed: 2122, Rows left: 2498\n",
      "Rows analyzed: 2123, Rows left: 2497\n"
     ]
    },
    {
     "name": "stderr",
     "output_type": "stream",
     "text": [
      "ERROR: [youtube] cXsrpAeM90c: Video unavailable. This video is no longer available because the YouTube account associated with this video has been terminated.\n"
     ]
    },
    {
     "name": "stdout",
     "output_type": "stream",
     "text": [
      "Error checking language and duration for video cXsrpAeM90c: ERROR: [youtube] cXsrpAeM90c: Video unavailable. This video is no longer available because the YouTube account associated with this video has been terminated.\n",
      "Rows analyzed: 2124, Rows left: 2496\n",
      "Rows analyzed: 2125, Rows left: 2495\n"
     ]
    },
    {
     "name": "stderr",
     "output_type": "stream",
     "text": [
      "ERROR: [youtube] dndy4j2RTK0: Private video. Sign in if you've been granted access to this video\n"
     ]
    },
    {
     "name": "stdout",
     "output_type": "stream",
     "text": [
      "Error checking language and duration for video dndy4j2RTK0: ERROR: [youtube] dndy4j2RTK0: Private video. Sign in if you've been granted access to this video\n",
      "Rows analyzed: 2126, Rows left: 2494\n",
      "Rows analyzed: 2127, Rows left: 2493\n",
      "Rows analyzed: 2128, Rows left: 2492\n",
      "Rows analyzed: 2129, Rows left: 2491\n",
      "Rows analyzed: 2130, Rows left: 2490\n",
      "Rows analyzed: 2131, Rows left: 2489\n",
      "Rows analyzed: 2132, Rows left: 2488\n",
      "Rows analyzed: 2133, Rows left: 2487\n",
      "Rows analyzed: 2134, Rows left: 2486\n",
      "Rows analyzed: 2135, Rows left: 2485\n",
      "Rows analyzed: 2136, Rows left: 2484\n",
      "Rows analyzed: 2137, Rows left: 2483\n",
      "Rows analyzed: 2138, Rows left: 2482\n",
      "Rows analyzed: 2139, Rows left: 2481\n",
      "Rows analyzed: 2140, Rows left: 2480\n",
      "Rows analyzed: 2141, Rows left: 2479\n",
      "Rows analyzed: 2142, Rows left: 2478\n",
      "Rows analyzed: 2143, Rows left: 2477\n",
      "Rows analyzed: 2144, Rows left: 2476\n",
      "Rows analyzed: 2145, Rows left: 2475\n",
      "Rows analyzed: 2146, Rows left: 2474\n",
      "Rows analyzed: 2147, Rows left: 2473\n",
      "Rows analyzed: 2148, Rows left: 2472\n",
      "Rows analyzed: 2149, Rows left: 2471\n",
      "Rows analyzed: 2150, Rows left: 2470\n",
      "Rows analyzed: 2151, Rows left: 2469\n",
      "Rows analyzed: 2152, Rows left: 2468\n",
      "Rows analyzed: 2153, Rows left: 2467\n",
      "Rows analyzed: 2154, Rows left: 2466\n"
     ]
    },
    {
     "name": "stderr",
     "output_type": "stream",
     "text": [
      "ERROR: [youtube] J2yrZRWyIFQ: Private video. Sign in if you've been granted access to this video\n"
     ]
    },
    {
     "name": "stdout",
     "output_type": "stream",
     "text": [
      "Error checking language and duration for video J2yrZRWyIFQ: ERROR: [youtube] J2yrZRWyIFQ: Private video. Sign in if you've been granted access to this video\n",
      "Rows analyzed: 2155, Rows left: 2465\n",
      "Rows analyzed: 2156, Rows left: 2464\n",
      "Rows analyzed: 2157, Rows left: 2463\n",
      "Rows analyzed: 2158, Rows left: 2462\n",
      "Rows analyzed: 2159, Rows left: 2461\n",
      "Rows analyzed: 2160, Rows left: 2460\n",
      "Rows analyzed: 2161, Rows left: 2459\n"
     ]
    },
    {
     "name": "stderr",
     "output_type": "stream",
     "text": [
      "ERROR: [youtube] I1bX05oIYdo: Video unavailable\n"
     ]
    },
    {
     "name": "stdout",
     "output_type": "stream",
     "text": [
      "Error checking language and duration for video I1bX05oIYdo: ERROR: [youtube] I1bX05oIYdo: Video unavailable\n",
      "Rows analyzed: 2162, Rows left: 2458\n",
      "Rows analyzed: 2163, Rows left: 2457\n",
      "Rows analyzed: 2164, Rows left: 2456\n",
      "Rows analyzed: 2165, Rows left: 2455\n",
      "Rows analyzed: 2166, Rows left: 2454\n"
     ]
    },
    {
     "name": "stderr",
     "output_type": "stream",
     "text": [
      "ERROR: [youtube] a3vhWuNuoss: Video unavailable\n"
     ]
    },
    {
     "name": "stdout",
     "output_type": "stream",
     "text": [
      "Error checking language and duration for video a3vhWuNuoss: ERROR: [youtube] a3vhWuNuoss: Video unavailable\n",
      "Rows analyzed: 2167, Rows left: 2453\n",
      "Rows analyzed: 2168, Rows left: 2452\n",
      "Rows analyzed: 2169, Rows left: 2451\n",
      "Rows analyzed: 2170, Rows left: 2450\n",
      "Rows analyzed: 2171, Rows left: 2449\n",
      "Rows analyzed: 2172, Rows left: 2448\n",
      "Rows analyzed: 2173, Rows left: 2447\n"
     ]
    },
    {
     "name": "stderr",
     "output_type": "stream",
     "text": [
      "ERROR: [youtube] 0aBapqkvR18: Video unavailable\n"
     ]
    },
    {
     "name": "stdout",
     "output_type": "stream",
     "text": [
      "Error checking language and duration for video 0aBapqkvR18: ERROR: [youtube] 0aBapqkvR18: Video unavailable\n",
      "Rows analyzed: 2174, Rows left: 2446\n",
      "Rows analyzed: 2175, Rows left: 2445\n",
      "Rows analyzed: 2176, Rows left: 2444\n",
      "Rows analyzed: 2177, Rows left: 2443\n",
      "Rows analyzed: 2178, Rows left: 2442\n"
     ]
    },
    {
     "name": "stderr",
     "output_type": "stream",
     "text": [
      "ERROR: [youtube] 4jl2jNxtVu0: Video unavailable. This video is no longer available because the YouTube account associated with this video has been terminated.\n"
     ]
    },
    {
     "name": "stdout",
     "output_type": "stream",
     "text": [
      "Error checking language and duration for video 4jl2jNxtVu0: ERROR: [youtube] 4jl2jNxtVu0: Video unavailable. This video is no longer available because the YouTube account associated with this video has been terminated.\n",
      "Rows analyzed: 2179, Rows left: 2441\n",
      "Rows analyzed: 2180, Rows left: 2440\n",
      "Rows analyzed: 2181, Rows left: 2439\n"
     ]
    },
    {
     "name": "stderr",
     "output_type": "stream",
     "text": [
      "ERROR: [youtube] zBWAzEtnlQU: Private video. Sign in if you've been granted access to this video\n"
     ]
    },
    {
     "name": "stdout",
     "output_type": "stream",
     "text": [
      "Error checking language and duration for video zBWAzEtnlQU: ERROR: [youtube] zBWAzEtnlQU: Private video. Sign in if you've been granted access to this video\n",
      "Rows analyzed: 2182, Rows left: 2438\n"
     ]
    },
    {
     "name": "stderr",
     "output_type": "stream",
     "text": [
      "ERROR: [youtube] glV0aTVVO8g: Video unavailable. This video is no longer available because the YouTube account associated with this video has been terminated.\n"
     ]
    },
    {
     "name": "stdout",
     "output_type": "stream",
     "text": [
      "Error checking language and duration for video glV0aTVVO8g: ERROR: [youtube] glV0aTVVO8g: Video unavailable. This video is no longer available because the YouTube account associated with this video has been terminated.\n",
      "Rows analyzed: 2183, Rows left: 2437\n",
      "Rows analyzed: 2184, Rows left: 2436\n"
     ]
    },
    {
     "name": "stderr",
     "output_type": "stream",
     "text": [
      "ERROR: [youtube] w3CgX0C5_Nk: Private video. Sign in if you've been granted access to this video\n"
     ]
    },
    {
     "name": "stdout",
     "output_type": "stream",
     "text": [
      "Error checking language and duration for video w3CgX0C5_Nk: ERROR: [youtube] w3CgX0C5_Nk: Private video. Sign in if you've been granted access to this video\n",
      "Rows analyzed: 2185, Rows left: 2435\n",
      "Rows analyzed: 2186, Rows left: 2434\n"
     ]
    },
    {
     "name": "stderr",
     "output_type": "stream",
     "text": [
      "ERROR: [youtube] 7Tv4eAWNgC0: Video unavailable\n"
     ]
    },
    {
     "name": "stdout",
     "output_type": "stream",
     "text": [
      "Error checking language and duration for video 7Tv4eAWNgC0: ERROR: [youtube] 7Tv4eAWNgC0: Video unavailable\n",
      "Rows analyzed: 2187, Rows left: 2433\n",
      "Rows analyzed: 2188, Rows left: 2432\n",
      "Rows analyzed: 2189, Rows left: 2431\n",
      "Rows analyzed: 2190, Rows left: 2430\n",
      "Rows analyzed: 2191, Rows left: 2429\n"
     ]
    },
    {
     "name": "stderr",
     "output_type": "stream",
     "text": [
      "ERROR: [youtube] qzRWfmaly7g: Video unavailable\n"
     ]
    },
    {
     "name": "stdout",
     "output_type": "stream",
     "text": [
      "Error checking language and duration for video qzRWfmaly7g: ERROR: [youtube] qzRWfmaly7g: Video unavailable\n",
      "Rows analyzed: 2192, Rows left: 2428\n",
      "Rows analyzed: 2193, Rows left: 2427\n",
      "Rows analyzed: 2194, Rows left: 2426\n",
      "Rows analyzed: 2195, Rows left: 2425\n",
      "Rows analyzed: 2196, Rows left: 2424\n",
      "Rows analyzed: 2197, Rows left: 2423\n",
      "Rows analyzed: 2198, Rows left: 2422\n"
     ]
    },
    {
     "name": "stderr",
     "output_type": "stream",
     "text": [
      "ERROR: [youtube] EY_C5rNf5ko: Private video. Sign in if you've been granted access to this video\n"
     ]
    },
    {
     "name": "stdout",
     "output_type": "stream",
     "text": [
      "Error checking language and duration for video EY_C5rNf5ko: ERROR: [youtube] EY_C5rNf5ko: Private video. Sign in if you've been granted access to this video\n",
      "Rows analyzed: 2199, Rows left: 2421\n",
      "Rows analyzed: 2200, Rows left: 2420\n"
     ]
    },
    {
     "name": "stderr",
     "output_type": "stream",
     "text": [
      "ERROR: [youtube] s44xeSx_8JU: Video unavailable\n"
     ]
    },
    {
     "name": "stdout",
     "output_type": "stream",
     "text": [
      "Error checking language and duration for video s44xeSx_8JU: ERROR: [youtube] s44xeSx_8JU: Video unavailable\n",
      "Rows analyzed: 2201, Rows left: 2419\n"
     ]
    },
    {
     "name": "stderr",
     "output_type": "stream",
     "text": [
      "ERROR: [youtube] t0oHFSn0HMs: Private video. Sign in if you've been granted access to this video\n"
     ]
    },
    {
     "name": "stdout",
     "output_type": "stream",
     "text": [
      "Error checking language and duration for video t0oHFSn0HMs: ERROR: [youtube] t0oHFSn0HMs: Private video. Sign in if you've been granted access to this video\n",
      "Rows analyzed: 2202, Rows left: 2418\n",
      "Rows analyzed: 2203, Rows left: 2417\n",
      "Rows analyzed: 2204, Rows left: 2416\n",
      "Rows analyzed: 2205, Rows left: 2415\n",
      "Rows analyzed: 2206, Rows left: 2414\n"
     ]
    },
    {
     "name": "stderr",
     "output_type": "stream",
     "text": [
      "ERROR: [youtube] o8gZBAA9rNA: Private video. Sign in if you've been granted access to this video\n"
     ]
    },
    {
     "name": "stdout",
     "output_type": "stream",
     "text": [
      "Error checking language and duration for video o8gZBAA9rNA: ERROR: [youtube] o8gZBAA9rNA: Private video. Sign in if you've been granted access to this video\n",
      "Rows analyzed: 2207, Rows left: 2413\n",
      "Rows analyzed: 2208, Rows left: 2412\n",
      "Rows analyzed: 2209, Rows left: 2411\n"
     ]
    },
    {
     "name": "stderr",
     "output_type": "stream",
     "text": [
      "ERROR: [youtube] QA0rk1Yc0qk: Video unavailable\n"
     ]
    },
    {
     "name": "stdout",
     "output_type": "stream",
     "text": [
      "Error checking language and duration for video QA0rk1Yc0qk: ERROR: [youtube] QA0rk1Yc0qk: Video unavailable\n",
      "Rows analyzed: 2210, Rows left: 2410\n",
      "Rows analyzed: 2211, Rows left: 2409\n"
     ]
    },
    {
     "name": "stderr",
     "output_type": "stream",
     "text": [
      "ERROR: [youtube] ArK7Tj6zS3Y: Private video. Sign in if you've been granted access to this video\n"
     ]
    },
    {
     "name": "stdout",
     "output_type": "stream",
     "text": [
      "Error checking language and duration for video ArK7Tj6zS3Y: ERROR: [youtube] ArK7Tj6zS3Y: Private video. Sign in if you've been granted access to this video\n",
      "Rows analyzed: 2212, Rows left: 2408\n",
      "Rows analyzed: 2213, Rows left: 2407\n",
      "Rows analyzed: 2214, Rows left: 2406\n",
      "Rows analyzed: 2215, Rows left: 2405\n",
      "Rows analyzed: 2216, Rows left: 2404\n"
     ]
    },
    {
     "name": "stderr",
     "output_type": "stream",
     "text": [
      "ERROR: [youtube] akTfZicWC7E: Private video. Sign in if you've been granted access to this video\n"
     ]
    },
    {
     "name": "stdout",
     "output_type": "stream",
     "text": [
      "Error checking language and duration for video akTfZicWC7E: ERROR: [youtube] akTfZicWC7E: Private video. Sign in if you've been granted access to this video\n",
      "Rows analyzed: 2217, Rows left: 2403\n"
     ]
    },
    {
     "name": "stderr",
     "output_type": "stream",
     "text": [
      "ERROR: [youtube] CQfehIY9qWc: Video unavailable\n"
     ]
    },
    {
     "name": "stdout",
     "output_type": "stream",
     "text": [
      "Error checking language and duration for video CQfehIY9qWc: ERROR: [youtube] CQfehIY9qWc: Video unavailable\n",
      "Rows analyzed: 2218, Rows left: 2402\n",
      "Rows analyzed: 2219, Rows left: 2401\n",
      "Rows analyzed: 2220, Rows left: 2400\n",
      "Rows analyzed: 2221, Rows left: 2399\n"
     ]
    },
    {
     "name": "stderr",
     "output_type": "stream",
     "text": [
      "ERROR: [youtube] hUBXB_DvxDM: Private video. Sign in if you've been granted access to this video\n"
     ]
    },
    {
     "name": "stdout",
     "output_type": "stream",
     "text": [
      "Error checking language and duration for video hUBXB_DvxDM: ERROR: [youtube] hUBXB_DvxDM: Private video. Sign in if you've been granted access to this video\n",
      "Rows analyzed: 2222, Rows left: 2398\n"
     ]
    },
    {
     "name": "stderr",
     "output_type": "stream",
     "text": [
      "ERROR: [youtube] qM1t69TFFVk: Video unavailable\n"
     ]
    },
    {
     "name": "stdout",
     "output_type": "stream",
     "text": [
      "Error checking language and duration for video qM1t69TFFVk: ERROR: [youtube] qM1t69TFFVk: Video unavailable\n",
      "Rows analyzed: 2223, Rows left: 2397\n",
      "Rows analyzed: 2224, Rows left: 2396\n",
      "Rows analyzed: 2225, Rows left: 2395\n"
     ]
    },
    {
     "name": "stderr",
     "output_type": "stream",
     "text": [
      "ERROR: [youtube] kzbYr6OysZM: Private video. Sign in if you've been granted access to this video\n"
     ]
    },
    {
     "name": "stdout",
     "output_type": "stream",
     "text": [
      "Error checking language and duration for video kzbYr6OysZM: ERROR: [youtube] kzbYr6OysZM: Private video. Sign in if you've been granted access to this video\n",
      "Rows analyzed: 2226, Rows left: 2394\n",
      "Rows analyzed: 2227, Rows left: 2393\n"
     ]
    },
    {
     "name": "stderr",
     "output_type": "stream",
     "text": [
      "ERROR: [youtube] WACWUXCe9wA: Private video. Sign in if you've been granted access to this video\n"
     ]
    },
    {
     "name": "stdout",
     "output_type": "stream",
     "text": [
      "Error checking language and duration for video WACWUXCe9wA: ERROR: [youtube] WACWUXCe9wA: Private video. Sign in if you've been granted access to this video\n",
      "Rows analyzed: 2228, Rows left: 2392\n",
      "Rows analyzed: 2229, Rows left: 2391\n"
     ]
    },
    {
     "name": "stderr",
     "output_type": "stream",
     "text": [
      "ERROR: [youtube] wDuLvERydNw: Private video. Sign in if you've been granted access to this video\n"
     ]
    },
    {
     "name": "stdout",
     "output_type": "stream",
     "text": [
      "Error checking language and duration for video wDuLvERydNw: ERROR: [youtube] wDuLvERydNw: Private video. Sign in if you've been granted access to this video\n",
      "Rows analyzed: 2230, Rows left: 2390\n",
      "Rows analyzed: 2231, Rows left: 2389\n"
     ]
    },
    {
     "name": "stderr",
     "output_type": "stream",
     "text": [
      "ERROR: [youtube] vAZXMfy1WKE: Private video. Sign in if you've been granted access to this video\n"
     ]
    },
    {
     "name": "stdout",
     "output_type": "stream",
     "text": [
      "Error checking language and duration for video vAZXMfy1WKE: ERROR: [youtube] vAZXMfy1WKE: Private video. Sign in if you've been granted access to this video\n",
      "Rows analyzed: 2232, Rows left: 2388\n",
      "Rows analyzed: 2233, Rows left: 2387\n",
      "Rows analyzed: 2234, Rows left: 2386\n"
     ]
    },
    {
     "name": "stderr",
     "output_type": "stream",
     "text": [
      "ERROR: [youtube] m77MWQEkRbc: Video unavailable. This video has been removed by the uploader\n"
     ]
    },
    {
     "name": "stdout",
     "output_type": "stream",
     "text": [
      "Error checking language and duration for video m77MWQEkRbc: ERROR: [youtube] m77MWQEkRbc: Video unavailable. This video has been removed by the uploader\n",
      "Rows analyzed: 2235, Rows left: 2385\n"
     ]
    },
    {
     "name": "stderr",
     "output_type": "stream",
     "text": [
      "ERROR: [youtube] e-qqxuRW4n0: Private video. Sign in if you've been granted access to this video\n"
     ]
    },
    {
     "name": "stdout",
     "output_type": "stream",
     "text": [
      "Error checking language and duration for video e-qqxuRW4n0: ERROR: [youtube] e-qqxuRW4n0: Private video. Sign in if you've been granted access to this video\n",
      "Rows analyzed: 2236, Rows left: 2384\n",
      "Rows analyzed: 2237, Rows left: 2383\n"
     ]
    },
    {
     "name": "stderr",
     "output_type": "stream",
     "text": [
      "ERROR: [youtube] MR44iP8DRdI: Private video. Sign in if you've been granted access to this video\n"
     ]
    },
    {
     "name": "stdout",
     "output_type": "stream",
     "text": [
      "Error checking language and duration for video MR44iP8DRdI: ERROR: [youtube] MR44iP8DRdI: Private video. Sign in if you've been granted access to this video\n",
      "Rows analyzed: 2238, Rows left: 2382\n",
      "Rows analyzed: 2239, Rows left: 2381\n",
      "Rows analyzed: 2240, Rows left: 2380\n",
      "Rows analyzed: 2241, Rows left: 2379\n",
      "Rows analyzed: 2242, Rows left: 2378\n",
      "Rows analyzed: 2243, Rows left: 2377\n",
      "Rows analyzed: 2244, Rows left: 2376\n",
      "Rows analyzed: 2245, Rows left: 2375\n"
     ]
    },
    {
     "name": "stderr",
     "output_type": "stream",
     "text": [
      "ERROR: [youtube] QRwO9ijybz0: Private video. Sign in if you've been granted access to this video\n"
     ]
    },
    {
     "name": "stdout",
     "output_type": "stream",
     "text": [
      "Error checking language and duration for video QRwO9ijybz0: ERROR: [youtube] QRwO9ijybz0: Private video. Sign in if you've been granted access to this video\n",
      "Rows analyzed: 2246, Rows left: 2374\n"
     ]
    },
    {
     "name": "stderr",
     "output_type": "stream",
     "text": [
      "ERROR: [youtube] zHlAUtHGKA0: Private video. Sign in if you've been granted access to this video\n"
     ]
    },
    {
     "name": "stdout",
     "output_type": "stream",
     "text": [
      "Error checking language and duration for video zHlAUtHGKA0: ERROR: [youtube] zHlAUtHGKA0: Private video. Sign in if you've been granted access to this video\n",
      "Rows analyzed: 2247, Rows left: 2373\n",
      "Rows analyzed: 2248, Rows left: 2372\n",
      "Rows analyzed: 2249, Rows left: 2371\n",
      "Rows analyzed: 2250, Rows left: 2370\n",
      "Rows analyzed: 2251, Rows left: 2369\n",
      "Rows analyzed: 2252, Rows left: 2368\n",
      "Rows analyzed: 2253, Rows left: 2367\n",
      "Rows analyzed: 2254, Rows left: 2366\n",
      "Rows analyzed: 2255, Rows left: 2365\n",
      "Rows analyzed: 2256, Rows left: 2364\n",
      "Rows analyzed: 2257, Rows left: 2363\n",
      "Rows analyzed: 2258, Rows left: 2362\n",
      "Rows analyzed: 2259, Rows left: 2361\n",
      "Rows analyzed: 2260, Rows left: 2360\n"
     ]
    },
    {
     "name": "stderr",
     "output_type": "stream",
     "text": [
      "ERROR: [youtube] EY4awN4h4Qc: Private video. Sign in if you've been granted access to this video\n"
     ]
    },
    {
     "name": "stdout",
     "output_type": "stream",
     "text": [
      "Error checking language and duration for video EY4awN4h4Qc: ERROR: [youtube] EY4awN4h4Qc: Private video. Sign in if you've been granted access to this video\n",
      "Rows analyzed: 2261, Rows left: 2359\n",
      "Rows analyzed: 2262, Rows left: 2358\n",
      "Rows analyzed: 2263, Rows left: 2357\n",
      "Rows analyzed: 2264, Rows left: 2356\n",
      "Rows analyzed: 2265, Rows left: 2355\n",
      "Rows analyzed: 2266, Rows left: 2354\n",
      "Rows analyzed: 2267, Rows left: 2353\n",
      "Rows analyzed: 2268, Rows left: 2352\n"
     ]
    },
    {
     "name": "stderr",
     "output_type": "stream",
     "text": [
      "ERROR: [youtube] leTwEzva3yg: Private video. Sign in if you've been granted access to this video\n"
     ]
    },
    {
     "name": "stdout",
     "output_type": "stream",
     "text": [
      "Error checking language and duration for video leTwEzva3yg: ERROR: [youtube] leTwEzva3yg: Private video. Sign in if you've been granted access to this video\n",
      "Rows analyzed: 2269, Rows left: 2351\n",
      "Rows analyzed: 2270, Rows left: 2350\n",
      "Rows analyzed: 2271, Rows left: 2349\n",
      "Rows analyzed: 2272, Rows left: 2348\n",
      "Rows analyzed: 2273, Rows left: 2347\n",
      "Rows analyzed: 2274, Rows left: 2346\n",
      "Rows analyzed: 2275, Rows left: 2345\n",
      "Rows analyzed: 2276, Rows left: 2344\n",
      "Rows analyzed: 2277, Rows left: 2343\n",
      "Rows analyzed: 2278, Rows left: 2342\n",
      "Rows analyzed: 2279, Rows left: 2341\n",
      "Rows analyzed: 2280, Rows left: 2340\n",
      "Rows analyzed: 2281, Rows left: 2339\n",
      "Rows analyzed: 2282, Rows left: 2338\n",
      "Rows analyzed: 2283, Rows left: 2337\n",
      "Rows analyzed: 2284, Rows left: 2336\n",
      "Rows analyzed: 2285, Rows left: 2335\n",
      "Rows analyzed: 2286, Rows left: 2334\n",
      "Rows analyzed: 2287, Rows left: 2333\n",
      "Rows analyzed: 2288, Rows left: 2332\n",
      "Rows analyzed: 2289, Rows left: 2331\n",
      "Rows analyzed: 2290, Rows left: 2330\n",
      "Rows analyzed: 2291, Rows left: 2329\n",
      "Rows analyzed: 2292, Rows left: 2328\n",
      "Rows analyzed: 2293, Rows left: 2327\n"
     ]
    },
    {
     "name": "stderr",
     "output_type": "stream",
     "text": [
      "ERROR: [youtube] 1hACuNgpZl0: Video unavailable. This video is no longer available because the YouTube account associated with this video has been terminated.\n"
     ]
    },
    {
     "name": "stdout",
     "output_type": "stream",
     "text": [
      "Error checking language and duration for video 1hACuNgpZl0: ERROR: [youtube] 1hACuNgpZl0: Video unavailable. This video is no longer available because the YouTube account associated with this video has been terminated.\n",
      "Rows analyzed: 2294, Rows left: 2326\n",
      "Rows analyzed: 2295, Rows left: 2325\n",
      "Rows analyzed: 2296, Rows left: 2324\n",
      "Rows analyzed: 2297, Rows left: 2323\n",
      "Rows analyzed: 2298, Rows left: 2322\n",
      "Rows analyzed: 2299, Rows left: 2321\n"
     ]
    },
    {
     "name": "stderr",
     "output_type": "stream",
     "text": [
      "ERROR: [youtube] wu5Ukz4R5Gk: Video unavailable. This video is no longer available because the YouTube account associated with this video has been terminated.\n"
     ]
    },
    {
     "name": "stdout",
     "output_type": "stream",
     "text": [
      "Error checking language and duration for video wu5Ukz4R5Gk: ERROR: [youtube] wu5Ukz4R5Gk: Video unavailable. This video is no longer available because the YouTube account associated with this video has been terminated.\n",
      "Rows analyzed: 2300, Rows left: 2320\n"
     ]
    },
    {
     "name": "stderr",
     "output_type": "stream",
     "text": [
      "ERROR: [youtube] _5eXnF5RdFI: Private video. Sign in if you've been granted access to this video\n"
     ]
    },
    {
     "name": "stdout",
     "output_type": "stream",
     "text": [
      "Error checking language and duration for video _5eXnF5RdFI: ERROR: [youtube] _5eXnF5RdFI: Private video. Sign in if you've been granted access to this video\n",
      "Rows analyzed: 2301, Rows left: 2319\n",
      "Rows analyzed: 2302, Rows left: 2318\n",
      "Rows analyzed: 2303, Rows left: 2317\n",
      "Rows analyzed: 2304, Rows left: 2316\n",
      "Rows analyzed: 2305, Rows left: 2315\n",
      "Rows analyzed: 2306, Rows left: 2314\n",
      "Rows analyzed: 2307, Rows left: 2313\n",
      "Rows analyzed: 2308, Rows left: 2312\n",
      "Rows analyzed: 2309, Rows left: 2311\n",
      "Rows analyzed: 2310, Rows left: 2310\n",
      "Rows analyzed: 2311, Rows left: 2309\n"
     ]
    },
    {
     "name": "stderr",
     "output_type": "stream",
     "text": [
      "ERROR: [youtube] bzuosKOD1co: Private video. Sign in if you've been granted access to this video\n"
     ]
    },
    {
     "name": "stdout",
     "output_type": "stream",
     "text": [
      "Error checking language and duration for video bzuosKOD1co: ERROR: [youtube] bzuosKOD1co: Private video. Sign in if you've been granted access to this video\n",
      "Rows analyzed: 2312, Rows left: 2308\n",
      "Rows analyzed: 2313, Rows left: 2307\n",
      "Rows analyzed: 2314, Rows left: 2306\n",
      "Rows analyzed: 2315, Rows left: 2305\n",
      "Rows analyzed: 2316, Rows left: 2304\n",
      "Rows analyzed: 2317, Rows left: 2303\n",
      "Rows analyzed: 2318, Rows left: 2302\n",
      "Rows analyzed: 2319, Rows left: 2301\n"
     ]
    },
    {
     "name": "stderr",
     "output_type": "stream",
     "text": [
      "ERROR: [youtube] kFLptU6THYk: Video unavailable. This video is no longer available because the YouTube account associated with this video has been terminated.\n"
     ]
    },
    {
     "name": "stdout",
     "output_type": "stream",
     "text": [
      "Error checking language and duration for video kFLptU6THYk: ERROR: [youtube] kFLptU6THYk: Video unavailable. This video is no longer available because the YouTube account associated with this video has been terminated.\n",
      "Rows analyzed: 2320, Rows left: 2300\n"
     ]
    },
    {
     "name": "stderr",
     "output_type": "stream",
     "text": [
      "ERROR: [youtube] O_dvcuhLd9w: Video unavailable\n"
     ]
    },
    {
     "name": "stdout",
     "output_type": "stream",
     "text": [
      "Error checking language and duration for video O_dvcuhLd9w: ERROR: [youtube] O_dvcuhLd9w: Video unavailable\n",
      "Rows analyzed: 2321, Rows left: 2299\n",
      "Rows analyzed: 2322, Rows left: 2298\n",
      "Rows analyzed: 2323, Rows left: 2297\n",
      "Rows analyzed: 2324, Rows left: 2296\n",
      "Rows analyzed: 2325, Rows left: 2295\n",
      "Rows analyzed: 2326, Rows left: 2294\n",
      "Rows analyzed: 2327, Rows left: 2293\n",
      "Rows analyzed: 2328, Rows left: 2292\n",
      "Rows analyzed: 2329, Rows left: 2291\n",
      "Rows analyzed: 2330, Rows left: 2290\n",
      "Rows analyzed: 2331, Rows left: 2289\n",
      "Rows analyzed: 2332, Rows left: 2288\n",
      "Rows analyzed: 2333, Rows left: 2287\n"
     ]
    },
    {
     "name": "stderr",
     "output_type": "stream",
     "text": [
      "ERROR: [youtube] N7bzq1aFvxs: Private video. Sign in if you've been granted access to this video\n"
     ]
    },
    {
     "name": "stdout",
     "output_type": "stream",
     "text": [
      "Error checking language and duration for video N7bzq1aFvxs: ERROR: [youtube] N7bzq1aFvxs: Private video. Sign in if you've been granted access to this video\n",
      "Rows analyzed: 2334, Rows left: 2286\n",
      "Rows analyzed: 2335, Rows left: 2285\n",
      "Rows analyzed: 2336, Rows left: 2284\n"
     ]
    },
    {
     "name": "stderr",
     "output_type": "stream",
     "text": [
      "ERROR: [youtube] jrHYXRlS1qA: Video unavailable. This video is no longer available because the YouTube account associated with this video has been terminated.\n"
     ]
    },
    {
     "name": "stdout",
     "output_type": "stream",
     "text": [
      "Error checking language and duration for video jrHYXRlS1qA: ERROR: [youtube] jrHYXRlS1qA: Video unavailable. This video is no longer available because the YouTube account associated with this video has been terminated.\n",
      "Rows analyzed: 2337, Rows left: 2283\n",
      "Rows analyzed: 2338, Rows left: 2282\n"
     ]
    },
    {
     "name": "stderr",
     "output_type": "stream",
     "text": [
      "ERROR: [youtube] kuFhcJN7fhg: Video unavailable. This video is no longer available because the YouTube account associated with this video has been terminated.\n"
     ]
    },
    {
     "name": "stdout",
     "output_type": "stream",
     "text": [
      "Error checking language and duration for video kuFhcJN7fhg: ERROR: [youtube] kuFhcJN7fhg: Video unavailable. This video is no longer available because the YouTube account associated with this video has been terminated.\n",
      "Rows analyzed: 2339, Rows left: 2281\n",
      "Rows analyzed: 2340, Rows left: 2280\n",
      "Rows analyzed: 2341, Rows left: 2279\n",
      "Rows analyzed: 2342, Rows left: 2278\n"
     ]
    },
    {
     "name": "stderr",
     "output_type": "stream",
     "text": [
      "ERROR: [youtube] TRExJvKDgXY: Private video. Sign in if you've been granted access to this video\n"
     ]
    },
    {
     "name": "stdout",
     "output_type": "stream",
     "text": [
      "Error checking language and duration for video TRExJvKDgXY: ERROR: [youtube] TRExJvKDgXY: Private video. Sign in if you've been granted access to this video\n",
      "Rows analyzed: 2343, Rows left: 2277\n"
     ]
    },
    {
     "name": "stderr",
     "output_type": "stream",
     "text": [
      "ERROR: [youtube] WWPXViZaiTI: Private video. Sign in if you've been granted access to this video\n"
     ]
    },
    {
     "name": "stdout",
     "output_type": "stream",
     "text": [
      "Error checking language and duration for video WWPXViZaiTI: ERROR: [youtube] WWPXViZaiTI: Private video. Sign in if you've been granted access to this video\n",
      "Rows analyzed: 2344, Rows left: 2276\n",
      "Rows analyzed: 2345, Rows left: 2275\n",
      "Rows analyzed: 2346, Rows left: 2274\n",
      "Rows analyzed: 2347, Rows left: 2273\n",
      "Rows analyzed: 2348, Rows left: 2272\n"
     ]
    },
    {
     "name": "stderr",
     "output_type": "stream",
     "text": [
      "ERROR: [youtube] U3HyiMCse1c: Private video. Sign in if you've been granted access to this video\n"
     ]
    },
    {
     "name": "stdout",
     "output_type": "stream",
     "text": [
      "Error checking language and duration for video U3HyiMCse1c: ERROR: [youtube] U3HyiMCse1c: Private video. Sign in if you've been granted access to this video\n",
      "Rows analyzed: 2349, Rows left: 2271\n",
      "Rows analyzed: 2350, Rows left: 2270\n",
      "Rows analyzed: 2351, Rows left: 2269\n",
      "Rows analyzed: 2352, Rows left: 2268\n"
     ]
    },
    {
     "name": "stderr",
     "output_type": "stream",
     "text": [
      "ERROR: [youtube] iQCDCpK1_m0: Private video. Sign in if you've been granted access to this video\n"
     ]
    },
    {
     "name": "stdout",
     "output_type": "stream",
     "text": [
      "Error checking language and duration for video iQCDCpK1_m0: ERROR: [youtube] iQCDCpK1_m0: Private video. Sign in if you've been granted access to this video\n",
      "Rows analyzed: 2353, Rows left: 2267\n",
      "Rows analyzed: 2354, Rows left: 2266\n",
      "Rows analyzed: 2355, Rows left: 2265\n",
      "Rows analyzed: 2356, Rows left: 2264\n",
      "Rows analyzed: 2357, Rows left: 2263\n",
      "Rows analyzed: 2358, Rows left: 2262\n",
      "Rows analyzed: 2359, Rows left: 2261\n",
      "Rows analyzed: 2360, Rows left: 2260\n",
      "Rows analyzed: 2361, Rows left: 2259\n",
      "Rows analyzed: 2362, Rows left: 2258\n",
      "Rows analyzed: 2363, Rows left: 2257\n",
      "Rows analyzed: 2364, Rows left: 2256\n",
      "Rows analyzed: 2365, Rows left: 2255\n",
      "Rows analyzed: 2366, Rows left: 2254\n"
     ]
    },
    {
     "name": "stderr",
     "output_type": "stream",
     "text": [
      "ERROR: [youtube] PUV7ogDxctQ: Video unavailable\n"
     ]
    },
    {
     "name": "stdout",
     "output_type": "stream",
     "text": [
      "Error checking language and duration for video PUV7ogDxctQ: ERROR: [youtube] PUV7ogDxctQ: Video unavailable\n",
      "Rows analyzed: 2367, Rows left: 2253\n",
      "Rows analyzed: 2368, Rows left: 2252\n",
      "Rows analyzed: 2369, Rows left: 2251\n",
      "Rows analyzed: 2370, Rows left: 2250\n",
      "Rows analyzed: 2371, Rows left: 2249\n"
     ]
    },
    {
     "name": "stderr",
     "output_type": "stream",
     "text": [
      "ERROR: [youtube] mxK_61vusjI: Video unavailable. This video is no longer available because the YouTube account associated with this video has been terminated.\n"
     ]
    },
    {
     "name": "stdout",
     "output_type": "stream",
     "text": [
      "Error checking language and duration for video mxK_61vusjI: ERROR: [youtube] mxK_61vusjI: Video unavailable. This video is no longer available because the YouTube account associated with this video has been terminated.\n",
      "Rows analyzed: 2372, Rows left: 2248\n",
      "Rows analyzed: 2373, Rows left: 2247\n",
      "Rows analyzed: 2374, Rows left: 2246\n",
      "Rows analyzed: 2375, Rows left: 2245\n",
      "Rows analyzed: 2376, Rows left: 2244\n",
      "Rows analyzed: 2377, Rows left: 2243\n",
      "Rows analyzed: 2378, Rows left: 2242\n",
      "Rows analyzed: 2379, Rows left: 2241\n",
      "Rows analyzed: 2380, Rows left: 2240\n",
      "Rows analyzed: 2381, Rows left: 2239\n",
      "Rows analyzed: 2382, Rows left: 2238\n",
      "Rows analyzed: 2383, Rows left: 2237\n",
      "Rows analyzed: 2384, Rows left: 2236\n"
     ]
    },
    {
     "name": "stderr",
     "output_type": "stream",
     "text": [
      "ERROR: [youtube] jO2vmX4OjuE: Private video. Sign in if you've been granted access to this video\n"
     ]
    },
    {
     "name": "stdout",
     "output_type": "stream",
     "text": [
      "Error checking language and duration for video jO2vmX4OjuE: ERROR: [youtube] jO2vmX4OjuE: Private video. Sign in if you've been granted access to this video\n",
      "Rows analyzed: 2385, Rows left: 2235\n",
      "Rows analyzed: 2386, Rows left: 2234\n",
      "Rows analyzed: 2387, Rows left: 2233\n",
      "Rows analyzed: 2388, Rows left: 2232\n",
      "Rows analyzed: 2389, Rows left: 2231\n",
      "Rows analyzed: 2390, Rows left: 2230\n",
      "Rows analyzed: 2391, Rows left: 2229\n",
      "Rows analyzed: 2392, Rows left: 2228\n",
      "Rows analyzed: 2393, Rows left: 2227\n"
     ]
    },
    {
     "name": "stderr",
     "output_type": "stream",
     "text": [
      "ERROR: [youtube] 0DrgBcivwxc: Video unavailable\n"
     ]
    },
    {
     "name": "stdout",
     "output_type": "stream",
     "text": [
      "Error checking language and duration for video 0DrgBcivwxc: ERROR: [youtube] 0DrgBcivwxc: Video unavailable\n",
      "Rows analyzed: 2394, Rows left: 2226\n",
      "Rows analyzed: 2395, Rows left: 2225\n",
      "Rows analyzed: 2396, Rows left: 2224\n",
      "Rows analyzed: 2397, Rows left: 2223\n"
     ]
    },
    {
     "name": "stderr",
     "output_type": "stream",
     "text": [
      "ERROR: [youtube] Ucs_ACbowKI: Video unavailable\n"
     ]
    },
    {
     "name": "stdout",
     "output_type": "stream",
     "text": [
      "Error checking language and duration for video Ucs_ACbowKI: ERROR: [youtube] Ucs_ACbowKI: Video unavailable\n",
      "Rows analyzed: 2398, Rows left: 2222\n",
      "Rows analyzed: 2399, Rows left: 2221\n",
      "Rows analyzed: 2400, Rows left: 2220\n",
      "Rows analyzed: 2401, Rows left: 2219\n",
      "Rows analyzed: 2402, Rows left: 2218\n",
      "Rows analyzed: 2403, Rows left: 2217\n",
      "Rows analyzed: 2404, Rows left: 2216\n",
      "Rows analyzed: 2405, Rows left: 2215\n",
      "Rows analyzed: 2406, Rows left: 2214\n",
      "Rows analyzed: 2407, Rows left: 2213\n",
      "Rows analyzed: 2408, Rows left: 2212\n",
      "Rows analyzed: 2409, Rows left: 2211\n",
      "Rows analyzed: 2410, Rows left: 2210\n"
     ]
    },
    {
     "name": "stderr",
     "output_type": "stream",
     "text": [
      "ERROR: [youtube] JJDt9OsCu48: Video unavailable\n"
     ]
    },
    {
     "name": "stdout",
     "output_type": "stream",
     "text": [
      "Error checking language and duration for video JJDt9OsCu48: ERROR: [youtube] JJDt9OsCu48: Video unavailable\n",
      "Rows analyzed: 2411, Rows left: 2209\n",
      "Rows analyzed: 2412, Rows left: 2208\n",
      "Rows analyzed: 2413, Rows left: 2207\n",
      "Rows analyzed: 2414, Rows left: 2206\n",
      "Rows analyzed: 2415, Rows left: 2205\n",
      "Rows analyzed: 2416, Rows left: 2204\n",
      "Rows analyzed: 2417, Rows left: 2203\n",
      "Rows analyzed: 2418, Rows left: 2202\n",
      "Rows analyzed: 2419, Rows left: 2201\n",
      "Rows analyzed: 2420, Rows left: 2200\n",
      "Rows analyzed: 2421, Rows left: 2199\n",
      "Rows analyzed: 2422, Rows left: 2198\n",
      "Rows analyzed: 2423, Rows left: 2197\n",
      "Rows analyzed: 2424, Rows left: 2196\n",
      "Rows analyzed: 2425, Rows left: 2195\n",
      "Rows analyzed: 2426, Rows left: 2194\n",
      "Rows analyzed: 2427, Rows left: 2193\n"
     ]
    },
    {
     "name": "stderr",
     "output_type": "stream",
     "text": [
      "ERROR: [youtube] O3xpAOaYofo: Private video. Sign in if you've been granted access to this video\n"
     ]
    },
    {
     "name": "stdout",
     "output_type": "stream",
     "text": [
      "Error checking language and duration for video O3xpAOaYofo: ERROR: [youtube] O3xpAOaYofo: Private video. Sign in if you've been granted access to this video\n",
      "Rows analyzed: 2428, Rows left: 2192\n",
      "Rows analyzed: 2429, Rows left: 2191\n"
     ]
    },
    {
     "name": "stderr",
     "output_type": "stream",
     "text": [
      "ERROR: [youtube] x3a9tBTpBf0: Private video. Sign in if you've been granted access to this video\n"
     ]
    },
    {
     "name": "stdout",
     "output_type": "stream",
     "text": [
      "Error checking language and duration for video x3a9tBTpBf0: ERROR: [youtube] x3a9tBTpBf0: Private video. Sign in if you've been granted access to this video\n",
      "Rows analyzed: 2430, Rows left: 2190\n",
      "Rows analyzed: 2431, Rows left: 2189\n",
      "Rows analyzed: 2432, Rows left: 2188\n",
      "Rows analyzed: 2433, Rows left: 2187\n",
      "Rows analyzed: 2434, Rows left: 2186\n"
     ]
    },
    {
     "name": "stderr",
     "output_type": "stream",
     "text": [
      "ERROR: [youtube] aKAhfxmRAVY: Video unavailable\n"
     ]
    },
    {
     "name": "stdout",
     "output_type": "stream",
     "text": [
      "Error checking language and duration for video aKAhfxmRAVY: ERROR: [youtube] aKAhfxmRAVY: Video unavailable\n",
      "Rows analyzed: 2435, Rows left: 2185\n",
      "Rows analyzed: 2436, Rows left: 2184\n"
     ]
    },
    {
     "name": "stderr",
     "output_type": "stream",
     "text": [
      "ERROR: [youtube] ayuz0lYpMYQ: Private video. Sign in if you've been granted access to this video\n"
     ]
    },
    {
     "name": "stdout",
     "output_type": "stream",
     "text": [
      "Error checking language and duration for video ayuz0lYpMYQ: ERROR: [youtube] ayuz0lYpMYQ: Private video. Sign in if you've been granted access to this video\n",
      "Rows analyzed: 2437, Rows left: 2183\n",
      "Rows analyzed: 2438, Rows left: 2182\n",
      "Rows analyzed: 2439, Rows left: 2181\n",
      "Rows analyzed: 2440, Rows left: 2180\n",
      "Rows analyzed: 2441, Rows left: 2179\n",
      "Rows analyzed: 2442, Rows left: 2178\n",
      "Rows analyzed: 2443, Rows left: 2177\n"
     ]
    },
    {
     "name": "stderr",
     "output_type": "stream",
     "text": [
      "ERROR: [youtube] lbJp9JuxBvo: Private video. Sign in if you've been granted access to this video\n"
     ]
    },
    {
     "name": "stdout",
     "output_type": "stream",
     "text": [
      "Error checking language and duration for video lbJp9JuxBvo: ERROR: [youtube] lbJp9JuxBvo: Private video. Sign in if you've been granted access to this video\n",
      "Rows analyzed: 2444, Rows left: 2176\n",
      "Rows analyzed: 2445, Rows left: 2175\n",
      "Rows analyzed: 2446, Rows left: 2174\n",
      "Rows analyzed: 2447, Rows left: 2173\n"
     ]
    },
    {
     "name": "stderr",
     "output_type": "stream",
     "text": [
      "ERROR: [youtube] CcEHP1aionY: Video unavailable\n"
     ]
    },
    {
     "name": "stdout",
     "output_type": "stream",
     "text": [
      "Error checking language and duration for video CcEHP1aionY: ERROR: [youtube] CcEHP1aionY: Video unavailable\n",
      "Rows analyzed: 2448, Rows left: 2172\n",
      "Rows analyzed: 2449, Rows left: 2171\n"
     ]
    },
    {
     "name": "stderr",
     "output_type": "stream",
     "text": [
      "ERROR: [youtube] BKwwyhtkDrg: Video unavailable\n"
     ]
    },
    {
     "name": "stdout",
     "output_type": "stream",
     "text": [
      "Error checking language and duration for video BKwwyhtkDrg: ERROR: [youtube] BKwwyhtkDrg: Video unavailable\n",
      "Rows analyzed: 2450, Rows left: 2170\n",
      "Rows analyzed: 2451, Rows left: 2169\n"
     ]
    },
    {
     "name": "stderr",
     "output_type": "stream",
     "text": [
      "ERROR: [youtube] JzYc9j4XBjo: Video unavailable\n"
     ]
    },
    {
     "name": "stdout",
     "output_type": "stream",
     "text": [
      "Error checking language and duration for video JzYc9j4XBjo: ERROR: [youtube] JzYc9j4XBjo: Video unavailable\n",
      "Rows analyzed: 2452, Rows left: 2168\n",
      "Rows analyzed: 2453, Rows left: 2167\n"
     ]
    },
    {
     "name": "stderr",
     "output_type": "stream",
     "text": [
      "ERROR: [youtube] Qds7mVOo9JE: Private video. Sign in if you've been granted access to this video\n"
     ]
    },
    {
     "name": "stdout",
     "output_type": "stream",
     "text": [
      "Error checking language and duration for video Qds7mVOo9JE: ERROR: [youtube] Qds7mVOo9JE: Private video. Sign in if you've been granted access to this video\n",
      "Rows analyzed: 2454, Rows left: 2166\n",
      "Rows analyzed: 2455, Rows left: 2165\n"
     ]
    },
    {
     "name": "stderr",
     "output_type": "stream",
     "text": [
      "ERROR: [youtube] Y4y2L-74lJU: Video unavailable\n"
     ]
    },
    {
     "name": "stdout",
     "output_type": "stream",
     "text": [
      "Error checking language and duration for video Y4y2L-74lJU: ERROR: [youtube] Y4y2L-74lJU: Video unavailable\n",
      "Rows analyzed: 2456, Rows left: 2164\n"
     ]
    },
    {
     "name": "stderr",
     "output_type": "stream",
     "text": [
      "ERROR: [youtube] VZO0_esfAVQ: Video unavailable\n"
     ]
    },
    {
     "name": "stdout",
     "output_type": "stream",
     "text": [
      "Error checking language and duration for video VZO0_esfAVQ: ERROR: [youtube] VZO0_esfAVQ: Video unavailable\n",
      "Rows analyzed: 2457, Rows left: 2163\n"
     ]
    },
    {
     "name": "stderr",
     "output_type": "stream",
     "text": [
      "ERROR: [youtube] IejY6qtFtxw: Video unavailable\n"
     ]
    },
    {
     "name": "stdout",
     "output_type": "stream",
     "text": [
      "Error checking language and duration for video IejY6qtFtxw: ERROR: [youtube] IejY6qtFtxw: Video unavailable\n",
      "Rows analyzed: 2458, Rows left: 2162\n",
      "Rows analyzed: 2459, Rows left: 2161\n"
     ]
    },
    {
     "name": "stderr",
     "output_type": "stream",
     "text": [
      "ERROR: [youtube] RE2y8k3-9bI: Private video. Sign in if you've been granted access to this video\n"
     ]
    },
    {
     "name": "stdout",
     "output_type": "stream",
     "text": [
      "Error checking language and duration for video RE2y8k3-9bI: ERROR: [youtube] RE2y8k3-9bI: Private video. Sign in if you've been granted access to this video\n",
      "Rows analyzed: 2460, Rows left: 2160\n",
      "Rows analyzed: 2461, Rows left: 2159\n",
      "Rows analyzed: 2462, Rows left: 2158\n",
      "Rows analyzed: 2463, Rows left: 2157\n"
     ]
    },
    {
     "name": "stderr",
     "output_type": "stream",
     "text": [
      "ERROR: [youtube] i5cLbjE2Cvo: Private video. Sign in if you've been granted access to this video\n"
     ]
    },
    {
     "name": "stdout",
     "output_type": "stream",
     "text": [
      "Error checking language and duration for video i5cLbjE2Cvo: ERROR: [youtube] i5cLbjE2Cvo: Private video. Sign in if you've been granted access to this video\n",
      "Rows analyzed: 2464, Rows left: 2156\n",
      "Rows analyzed: 2465, Rows left: 2155\n",
      "Rows analyzed: 2466, Rows left: 2154\n",
      "Rows analyzed: 2467, Rows left: 2153\n",
      "Rows analyzed: 2468, Rows left: 2152\n",
      "Rows analyzed: 2469, Rows left: 2151\n",
      "Rows analyzed: 2470, Rows left: 2150\n"
     ]
    },
    {
     "name": "stderr",
     "output_type": "stream",
     "text": [
      "ERROR: [youtube] uBqGG957W8E: Private video. Sign in if you've been granted access to this video\n"
     ]
    },
    {
     "name": "stdout",
     "output_type": "stream",
     "text": [
      "Error checking language and duration for video uBqGG957W8E: ERROR: [youtube] uBqGG957W8E: Private video. Sign in if you've been granted access to this video\n",
      "Rows analyzed: 2471, Rows left: 2149\n"
     ]
    },
    {
     "name": "stderr",
     "output_type": "stream",
     "text": [
      "ERROR: [youtube] oGngnWiZm9c: Private video. Sign in if you've been granted access to this video\n"
     ]
    },
    {
     "name": "stdout",
     "output_type": "stream",
     "text": [
      "Error checking language and duration for video oGngnWiZm9c: ERROR: [youtube] oGngnWiZm9c: Private video. Sign in if you've been granted access to this video\n",
      "Rows analyzed: 2472, Rows left: 2148\n"
     ]
    },
    {
     "name": "stderr",
     "output_type": "stream",
     "text": [
      "ERROR: [youtube] QjJv1eXmXa0: Video unavailable\n"
     ]
    },
    {
     "name": "stdout",
     "output_type": "stream",
     "text": [
      "Error checking language and duration for video QjJv1eXmXa0: ERROR: [youtube] QjJv1eXmXa0: Video unavailable\n",
      "Rows analyzed: 2473, Rows left: 2147\n",
      "Rows analyzed: 2474, Rows left: 2146\n",
      "Rows analyzed: 2475, Rows left: 2145\n",
      "Rows analyzed: 2476, Rows left: 2144\n",
      "Rows analyzed: 2477, Rows left: 2143\n",
      "Rows analyzed: 2478, Rows left: 2142\n",
      "Rows analyzed: 2479, Rows left: 2141\n",
      "Rows analyzed: 2480, Rows left: 2140\n",
      "Rows analyzed: 2481, Rows left: 2139\n",
      "Rows analyzed: 2482, Rows left: 2138\n",
      "Rows analyzed: 2483, Rows left: 2137\n",
      "Rows analyzed: 2484, Rows left: 2136\n",
      "Rows analyzed: 2485, Rows left: 2135\n",
      "Rows analyzed: 2486, Rows left: 2134\n",
      "Rows analyzed: 2487, Rows left: 2133\n",
      "Rows analyzed: 2488, Rows left: 2132\n",
      "Rows analyzed: 2489, Rows left: 2131\n",
      "Rows analyzed: 2490, Rows left: 2130\n",
      "Rows analyzed: 2491, Rows left: 2129\n",
      "Rows analyzed: 2492, Rows left: 2128\n",
      "Rows analyzed: 2493, Rows left: 2127\n",
      "Rows analyzed: 2494, Rows left: 2126\n",
      "Rows analyzed: 2495, Rows left: 2125\n",
      "Rows analyzed: 2496, Rows left: 2124\n",
      "Rows analyzed: 2497, Rows left: 2123\n",
      "Rows analyzed: 2498, Rows left: 2122\n"
     ]
    },
    {
     "name": "stderr",
     "output_type": "stream",
     "text": [
      "ERROR: [youtube] TSeHpgHz7mk: Video unavailable\n"
     ]
    },
    {
     "name": "stdout",
     "output_type": "stream",
     "text": [
      "Error checking language and duration for video TSeHpgHz7mk: ERROR: [youtube] TSeHpgHz7mk: Video unavailable\n",
      "Rows analyzed: 2499, Rows left: 2121\n",
      "Rows analyzed: 2500, Rows left: 2120\n",
      "Rows analyzed: 2501, Rows left: 2119\n",
      "Rows analyzed: 2502, Rows left: 2118\n"
     ]
    },
    {
     "name": "stderr",
     "output_type": "stream",
     "text": [
      "ERROR: [youtube] TGRQIf4zNg0: Private video. Sign in if you've been granted access to this video\n"
     ]
    },
    {
     "name": "stdout",
     "output_type": "stream",
     "text": [
      "Error checking language and duration for video TGRQIf4zNg0: ERROR: [youtube] TGRQIf4zNg0: Private video. Sign in if you've been granted access to this video\n",
      "Rows analyzed: 2503, Rows left: 2117\n",
      "Rows analyzed: 2504, Rows left: 2116\n"
     ]
    },
    {
     "name": "stderr",
     "output_type": "stream",
     "text": [
      "ERROR: [youtube] 6-przjvuBog: Video unavailable\n"
     ]
    },
    {
     "name": "stdout",
     "output_type": "stream",
     "text": [
      "Error checking language and duration for video 6-przjvuBog: ERROR: [youtube] 6-przjvuBog: Video unavailable\n",
      "Rows analyzed: 2505, Rows left: 2115\n",
      "Rows analyzed: 2506, Rows left: 2114\n",
      "Rows analyzed: 2507, Rows left: 2113\n",
      "Rows analyzed: 2508, Rows left: 2112\n",
      "Rows analyzed: 2509, Rows left: 2111\n"
     ]
    },
    {
     "name": "stderr",
     "output_type": "stream",
     "text": [
      "ERROR: [youtube] mIMirdcRVvE: Video unavailable. This video is no longer available because the YouTube account associated with this video has been terminated.\n"
     ]
    },
    {
     "name": "stdout",
     "output_type": "stream",
     "text": [
      "Error checking language and duration for video mIMirdcRVvE: ERROR: [youtube] mIMirdcRVvE: Video unavailable. This video is no longer available because the YouTube account associated with this video has been terminated.\n",
      "Rows analyzed: 2510, Rows left: 2110\n",
      "Rows analyzed: 2511, Rows left: 2109\n",
      "Rows analyzed: 2512, Rows left: 2108\n"
     ]
    },
    {
     "name": "stderr",
     "output_type": "stream",
     "text": [
      "ERROR: [youtube] VvcwAGkSy2o: Sign in to confirm your age. This video may be inappropriate for some users.\n"
     ]
    },
    {
     "name": "stdout",
     "output_type": "stream",
     "text": [
      "Error checking language and duration for video VvcwAGkSy2o: ERROR: [youtube] VvcwAGkSy2o: Sign in to confirm your age. This video may be inappropriate for some users.\n",
      "Rows analyzed: 2513, Rows left: 2107\n",
      "Rows analyzed: 2514, Rows left: 2106\n",
      "Rows analyzed: 2515, Rows left: 2105\n",
      "Rows analyzed: 2516, Rows left: 2104\n"
     ]
    },
    {
     "name": "stderr",
     "output_type": "stream",
     "text": [
      "ERROR: [youtube] BXD8Zl30o_I: Video unavailable. This video is no longer available due to a copyright claim by GRUPO CTO CENTRO DE FORMACIÓN MÉXICO, S.A.P.I. DE C.V.\n"
     ]
    },
    {
     "name": "stdout",
     "output_type": "stream",
     "text": [
      "Error checking language and duration for video BXD8Zl30o_I: ERROR: [youtube] BXD8Zl30o_I: Video unavailable. This video is no longer available due to a copyright claim by GRUPO CTO CENTRO DE FORMACIÓN MÉXICO, S.A.P.I. DE C.V.\n",
      "Rows analyzed: 2517, Rows left: 2103\n",
      "Rows analyzed: 2518, Rows left: 2102\n",
      "Rows analyzed: 2519, Rows left: 2101\n",
      "Rows analyzed: 2520, Rows left: 2100\n",
      "Rows analyzed: 2521, Rows left: 2099\n",
      "Rows analyzed: 2522, Rows left: 2098\n",
      "Rows analyzed: 2523, Rows left: 2097\n",
      "Rows analyzed: 2524, Rows left: 2096\n"
     ]
    },
    {
     "name": "stderr",
     "output_type": "stream",
     "text": [
      "ERROR: [youtube] cnaMKkza8Ek: Video unavailable\n"
     ]
    },
    {
     "name": "stdout",
     "output_type": "stream",
     "text": [
      "Error checking language and duration for video cnaMKkza8Ek: ERROR: [youtube] cnaMKkza8Ek: Video unavailable\n",
      "Rows analyzed: 2525, Rows left: 2095\n"
     ]
    },
    {
     "name": "stderr",
     "output_type": "stream",
     "text": [
      "ERROR: [youtube] YQv7LGqQSYs: Video unavailable. This video is no longer available because the YouTube account associated with this video has been terminated.\n"
     ]
    },
    {
     "name": "stdout",
     "output_type": "stream",
     "text": [
      "Error checking language and duration for video YQv7LGqQSYs: ERROR: [youtube] YQv7LGqQSYs: Video unavailable. This video is no longer available because the YouTube account associated with this video has been terminated.\n",
      "Rows analyzed: 2526, Rows left: 2094\n"
     ]
    },
    {
     "name": "stderr",
     "output_type": "stream",
     "text": [
      "ERROR: [youtube] IRlj7m8hCf8: Private video. Sign in if you've been granted access to this video\n"
     ]
    },
    {
     "name": "stdout",
     "output_type": "stream",
     "text": [
      "Error checking language and duration for video IRlj7m8hCf8: ERROR: [youtube] IRlj7m8hCf8: Private video. Sign in if you've been granted access to this video\n",
      "Rows analyzed: 2527, Rows left: 2093\n",
      "Rows analyzed: 2528, Rows left: 2092\n"
     ]
    },
    {
     "name": "stderr",
     "output_type": "stream",
     "text": [
      "ERROR: [youtube] bbIOZi9rEVI: Video unavailable. This video is no longer available because the YouTube account associated with this video has been terminated.\n"
     ]
    },
    {
     "name": "stdout",
     "output_type": "stream",
     "text": [
      "Error checking language and duration for video bbIOZi9rEVI: ERROR: [youtube] bbIOZi9rEVI: Video unavailable. This video is no longer available because the YouTube account associated with this video has been terminated.\n",
      "Rows analyzed: 2529, Rows left: 2091\n"
     ]
    },
    {
     "name": "stderr",
     "output_type": "stream",
     "text": [
      "ERROR: [youtube] uy-Ze9LOOik: Private video. Sign in if you've been granted access to this video\n"
     ]
    },
    {
     "name": "stdout",
     "output_type": "stream",
     "text": [
      "Error checking language and duration for video uy-Ze9LOOik: ERROR: [youtube] uy-Ze9LOOik: Private video. Sign in if you've been granted access to this video\n",
      "Rows analyzed: 2530, Rows left: 2090\n",
      "Rows analyzed: 2531, Rows left: 2089\n",
      "Rows analyzed: 2532, Rows left: 2088\n",
      "Rows analyzed: 2533, Rows left: 2087\n",
      "Rows analyzed: 2534, Rows left: 2086\n",
      "Rows analyzed: 2535, Rows left: 2085\n"
     ]
    },
    {
     "name": "stderr",
     "output_type": "stream",
     "text": [
      "ERROR: [youtube] XPZblfu_QHk: Private video. Sign in if you've been granted access to this video\n"
     ]
    },
    {
     "name": "stdout",
     "output_type": "stream",
     "text": [
      "Error checking language and duration for video XPZblfu_QHk: ERROR: [youtube] XPZblfu_QHk: Private video. Sign in if you've been granted access to this video\n",
      "Rows analyzed: 2536, Rows left: 2084\n",
      "Rows analyzed: 2537, Rows left: 2083\n",
      "Rows analyzed: 2538, Rows left: 2082\n",
      "Rows analyzed: 2539, Rows left: 2081\n",
      "Rows analyzed: 2540, Rows left: 2080\n",
      "Rows analyzed: 2541, Rows left: 2079\n",
      "Rows analyzed: 2542, Rows left: 2078\n"
     ]
    },
    {
     "name": "stderr",
     "output_type": "stream",
     "text": [
      "ERROR: [youtube] iSFrcHNmNCA: Private video. Sign in if you've been granted access to this video\n"
     ]
    },
    {
     "name": "stdout",
     "output_type": "stream",
     "text": [
      "Error checking language and duration for video iSFrcHNmNCA: ERROR: [youtube] iSFrcHNmNCA: Private video. Sign in if you've been granted access to this video\n",
      "Rows analyzed: 2543, Rows left: 2077\n"
     ]
    },
    {
     "name": "stderr",
     "output_type": "stream",
     "text": [
      "ERROR: [youtube] RKRD-Usrw-s: Video unavailable. This video contains content from Learn Engineering, who has blocked it on copyright grounds\n"
     ]
    },
    {
     "name": "stdout",
     "output_type": "stream",
     "text": [
      "Error checking language and duration for video RKRD-Usrw-s: ERROR: [youtube] RKRD-Usrw-s: Video unavailable. This video contains content from Learn Engineering, who has blocked it on copyright grounds\n",
      "Rows analyzed: 2544, Rows left: 2076\n"
     ]
    },
    {
     "name": "stderr",
     "output_type": "stream",
     "text": [
      "ERROR: [youtube] kx_dBrzivLE: Private video. Sign in if you've been granted access to this video\n"
     ]
    },
    {
     "name": "stdout",
     "output_type": "stream",
     "text": [
      "Error checking language and duration for video kx_dBrzivLE: ERROR: [youtube] kx_dBrzivLE: Private video. Sign in if you've been granted access to this video\n",
      "Rows analyzed: 2545, Rows left: 2075\n",
      "Rows analyzed: 2546, Rows left: 2074\n",
      "Rows analyzed: 2547, Rows left: 2073\n",
      "Rows analyzed: 2548, Rows left: 2072\n",
      "Rows analyzed: 2549, Rows left: 2071\n"
     ]
    },
    {
     "name": "stderr",
     "output_type": "stream",
     "text": [
      "ERROR: [youtube] YszeIdjpYyI: Private video. Sign in if you've been granted access to this video\n"
     ]
    },
    {
     "name": "stdout",
     "output_type": "stream",
     "text": [
      "Error checking language and duration for video YszeIdjpYyI: ERROR: [youtube] YszeIdjpYyI: Private video. Sign in if you've been granted access to this video\n",
      "Rows analyzed: 2550, Rows left: 2070\n",
      "Rows analyzed: 2551, Rows left: 2069\n",
      "Rows analyzed: 2552, Rows left: 2068\n",
      "Rows analyzed: 2553, Rows left: 2067\n"
     ]
    },
    {
     "name": "stderr",
     "output_type": "stream",
     "text": [
      "ERROR: [youtube] bP_4ELcOWiA: Video unavailable\n"
     ]
    },
    {
     "name": "stdout",
     "output_type": "stream",
     "text": [
      "Error checking language and duration for video bP_4ELcOWiA: ERROR: [youtube] bP_4ELcOWiA: Video unavailable\n",
      "Rows analyzed: 2554, Rows left: 2066\n",
      "Rows analyzed: 2555, Rows left: 2065\n",
      "Rows analyzed: 2556, Rows left: 2064\n",
      "Rows analyzed: 2557, Rows left: 2063\n",
      "Rows analyzed: 2558, Rows left: 2062\n",
      "Rows analyzed: 2559, Rows left: 2061\n",
      "Rows analyzed: 2560, Rows left: 2060\n",
      "Rows analyzed: 2561, Rows left: 2059\n"
     ]
    },
    {
     "name": "stderr",
     "output_type": "stream",
     "text": [
      "ERROR: [youtube] tkOfpmNNR68: Video unavailable\n"
     ]
    },
    {
     "name": "stdout",
     "output_type": "stream",
     "text": [
      "Error checking language and duration for video tkOfpmNNR68: ERROR: [youtube] tkOfpmNNR68: Video unavailable\n",
      "Rows analyzed: 2562, Rows left: 2058\n",
      "Rows analyzed: 2563, Rows left: 2057\n"
     ]
    },
    {
     "name": "stderr",
     "output_type": "stream",
     "text": [
      "ERROR: [youtube] Qds7mVOo9JE: Private video. Sign in if you've been granted access to this video\n"
     ]
    },
    {
     "name": "stdout",
     "output_type": "stream",
     "text": [
      "Error checking language and duration for video Qds7mVOo9JE: ERROR: [youtube] Qds7mVOo9JE: Private video. Sign in if you've been granted access to this video\n",
      "Rows analyzed: 2564, Rows left: 2056\n",
      "Rows analyzed: 2565, Rows left: 2055\n",
      "Rows analyzed: 2566, Rows left: 2054\n",
      "Rows analyzed: 2567, Rows left: 2053\n",
      "Rows analyzed: 2568, Rows left: 2052\n",
      "Rows analyzed: 2569, Rows left: 2051\n"
     ]
    },
    {
     "name": "stderr",
     "output_type": "stream",
     "text": [
      "ERROR: [youtube] J5UEiYTheCk: Private video. Sign in if you've been granted access to this video\n"
     ]
    },
    {
     "name": "stdout",
     "output_type": "stream",
     "text": [
      "Error checking language and duration for video J5UEiYTheCk: ERROR: [youtube] J5UEiYTheCk: Private video. Sign in if you've been granted access to this video\n",
      "Rows analyzed: 2570, Rows left: 2050\n"
     ]
    },
    {
     "name": "stderr",
     "output_type": "stream",
     "text": [
      "ERROR: [youtube] nAYywmJnvO4: Private video. Sign in if you've been granted access to this video\n"
     ]
    },
    {
     "name": "stdout",
     "output_type": "stream",
     "text": [
      "Error checking language and duration for video nAYywmJnvO4: ERROR: [youtube] nAYywmJnvO4: Private video. Sign in if you've been granted access to this video\n",
      "Rows analyzed: 2571, Rows left: 2049\n",
      "Rows analyzed: 2572, Rows left: 2048\n",
      "Rows analyzed: 2573, Rows left: 2047\n",
      "Rows analyzed: 2574, Rows left: 2046\n",
      "Rows analyzed: 2575, Rows left: 2045\n",
      "Rows analyzed: 2576, Rows left: 2044\n"
     ]
    },
    {
     "name": "stderr",
     "output_type": "stream",
     "text": [
      "ERROR: [youtube] ndxdjH2D_WM: Private video. Sign in if you've been granted access to this video\n"
     ]
    },
    {
     "name": "stdout",
     "output_type": "stream",
     "text": [
      "Error checking language and duration for video ndxdjH2D_WM: ERROR: [youtube] ndxdjH2D_WM: Private video. Sign in if you've been granted access to this video\n",
      "Rows analyzed: 2577, Rows left: 2043\n",
      "Rows analyzed: 2578, Rows left: 2042\n"
     ]
    },
    {
     "name": "stderr",
     "output_type": "stream",
     "text": [
      "ERROR: [youtube] afcgV7-9mjQ: Video unavailable\n"
     ]
    },
    {
     "name": "stdout",
     "output_type": "stream",
     "text": [
      "Error checking language and duration for video afcgV7-9mjQ: ERROR: [youtube] afcgV7-9mjQ: Video unavailable\n",
      "Rows analyzed: 2579, Rows left: 2041\n",
      "Rows analyzed: 2580, Rows left: 2040\n",
      "Rows analyzed: 2581, Rows left: 2039\n",
      "Rows analyzed: 2582, Rows left: 2038\n",
      "Rows analyzed: 2583, Rows left: 2037\n",
      "Rows analyzed: 2584, Rows left: 2036\n",
      "Rows analyzed: 2585, Rows left: 2035\n",
      "Rows analyzed: 2586, Rows left: 2034\n",
      "Rows analyzed: 2587, Rows left: 2033\n",
      "Rows analyzed: 2588, Rows left: 2032\n",
      "Rows analyzed: 2589, Rows left: 2031\n"
     ]
    },
    {
     "name": "stderr",
     "output_type": "stream",
     "text": [
      "ERROR: [youtube] ukj9KQkv8BE: Video unavailable\n"
     ]
    },
    {
     "name": "stdout",
     "output_type": "stream",
     "text": [
      "Error checking language and duration for video ukj9KQkv8BE: ERROR: [youtube] ukj9KQkv8BE: Video unavailable\n",
      "Rows analyzed: 2590, Rows left: 2030\n",
      "Rows analyzed: 2591, Rows left: 2029\n",
      "Rows analyzed: 2592, Rows left: 2028\n",
      "Rows analyzed: 2593, Rows left: 2027\n"
     ]
    },
    {
     "name": "stderr",
     "output_type": "stream",
     "text": [
      "ERROR: [youtube] yfyZu5t02sE: Video unavailable. This video is no longer available because the YouTube account associated with this video has been terminated.\n"
     ]
    },
    {
     "name": "stdout",
     "output_type": "stream",
     "text": [
      "Error checking language and duration for video yfyZu5t02sE: ERROR: [youtube] yfyZu5t02sE: Video unavailable. This video is no longer available because the YouTube account associated with this video has been terminated.\n",
      "Rows analyzed: 2594, Rows left: 2026\n",
      "Rows analyzed: 2595, Rows left: 2025\n",
      "Rows analyzed: 2596, Rows left: 2024\n",
      "Rows analyzed: 2597, Rows left: 2023\n",
      "Rows analyzed: 2598, Rows left: 2022\n"
     ]
    },
    {
     "name": "stderr",
     "output_type": "stream",
     "text": [
      "ERROR: [youtube] IN4qUs_Pc8c: Video unavailable\n"
     ]
    },
    {
     "name": "stdout",
     "output_type": "stream",
     "text": [
      "Error checking language and duration for video IN4qUs_Pc8c: ERROR: [youtube] IN4qUs_Pc8c: Video unavailable\n",
      "Rows analyzed: 2599, Rows left: 2021\n",
      "Rows analyzed: 2600, Rows left: 2020\n",
      "Rows analyzed: 2601, Rows left: 2019\n",
      "Rows analyzed: 2602, Rows left: 2018\n"
     ]
    },
    {
     "name": "stderr",
     "output_type": "stream",
     "text": [
      "ERROR: [youtube] VEumaUnnU44: Private video. Sign in if you've been granted access to this video\n"
     ]
    },
    {
     "name": "stdout",
     "output_type": "stream",
     "text": [
      "Error checking language and duration for video VEumaUnnU44: ERROR: [youtube] VEumaUnnU44: Private video. Sign in if you've been granted access to this video\n",
      "Rows analyzed: 2603, Rows left: 2017\n"
     ]
    },
    {
     "name": "stderr",
     "output_type": "stream",
     "text": [
      "ERROR: [youtube] we02QOQr4Qc: Video unavailable. This video has been removed by the uploader\n"
     ]
    },
    {
     "name": "stdout",
     "output_type": "stream",
     "text": [
      "Error checking language and duration for video we02QOQr4Qc: ERROR: [youtube] we02QOQr4Qc: Video unavailable. This video has been removed by the uploader\n",
      "Rows analyzed: 2604, Rows left: 2016\n",
      "Rows analyzed: 2605, Rows left: 2015\n",
      "Rows analyzed: 2606, Rows left: 2014\n",
      "Rows analyzed: 2607, Rows left: 2013\n",
      "Rows analyzed: 2608, Rows left: 2012\n",
      "Rows analyzed: 2609, Rows left: 2011\n",
      "Rows analyzed: 2610, Rows left: 2010\n",
      "Rows analyzed: 2611, Rows left: 2009\n",
      "Rows analyzed: 2612, Rows left: 2008\n",
      "Rows analyzed: 2613, Rows left: 2007\n",
      "Rows analyzed: 2614, Rows left: 2006\n",
      "Rows analyzed: 2615, Rows left: 2005\n"
     ]
    },
    {
     "name": "stderr",
     "output_type": "stream",
     "text": [
      "ERROR: [youtube] 8PxwsDWbEAY: Private video. Sign in if you've been granted access to this video\n"
     ]
    },
    {
     "name": "stdout",
     "output_type": "stream",
     "text": [
      "Error checking language and duration for video 8PxwsDWbEAY: ERROR: [youtube] 8PxwsDWbEAY: Private video. Sign in if you've been granted access to this video\n",
      "Rows analyzed: 2616, Rows left: 2004\n"
     ]
    },
    {
     "name": "stderr",
     "output_type": "stream",
     "text": [
      "ERROR: [youtube] qpJWo02O0jo: Private video. Sign in if you've been granted access to this video\n"
     ]
    },
    {
     "name": "stdout",
     "output_type": "stream",
     "text": [
      "Error checking language and duration for video qpJWo02O0jo: ERROR: [youtube] qpJWo02O0jo: Private video. Sign in if you've been granted access to this video\n",
      "Rows analyzed: 2617, Rows left: 2003\n",
      "Rows analyzed: 2618, Rows left: 2002\n",
      "Rows analyzed: 2619, Rows left: 2001\n",
      "Rows analyzed: 2620, Rows left: 2000\n",
      "Rows analyzed: 2621, Rows left: 1999\n",
      "Rows analyzed: 2622, Rows left: 1998\n",
      "Rows analyzed: 2623, Rows left: 1997\n",
      "Rows analyzed: 2624, Rows left: 1996\n"
     ]
    },
    {
     "name": "stderr",
     "output_type": "stream",
     "text": [
      "ERROR: [youtube] 5zSm0wnSIc0: Video unavailable. This video is not available\n"
     ]
    },
    {
     "name": "stdout",
     "output_type": "stream",
     "text": [
      "Error checking language and duration for video 5zSm0wnSIc0: ERROR: [youtube] 5zSm0wnSIc0: Video unavailable. This video is not available\n",
      "Rows analyzed: 2625, Rows left: 1995\n",
      "Rows analyzed: 2626, Rows left: 1994\n",
      "Rows analyzed: 2627, Rows left: 1993\n",
      "Rows analyzed: 2628, Rows left: 1992\n"
     ]
    },
    {
     "name": "stderr",
     "output_type": "stream",
     "text": [
      "ERROR: [youtube] zoG9WJusNNA: Video unavailable. This video is no longer available because the YouTube account associated with this video has been terminated.\n"
     ]
    },
    {
     "name": "stdout",
     "output_type": "stream",
     "text": [
      "Error checking language and duration for video zoG9WJusNNA: ERROR: [youtube] zoG9WJusNNA: Video unavailable. This video is no longer available because the YouTube account associated with this video has been terminated.\n",
      "Rows analyzed: 2629, Rows left: 1991\n"
     ]
    },
    {
     "name": "stderr",
     "output_type": "stream",
     "text": [
      "ERROR: [youtube] 6pLSkOpz2Ks: Video unavailable\n"
     ]
    },
    {
     "name": "stdout",
     "output_type": "stream",
     "text": [
      "Error checking language and duration for video 6pLSkOpz2Ks: ERROR: [youtube] 6pLSkOpz2Ks: Video unavailable\n",
      "Rows analyzed: 2630, Rows left: 1990\n"
     ]
    },
    {
     "name": "stderr",
     "output_type": "stream",
     "text": [
      "ERROR: [youtube] lW_Bwk_qERk: Video unavailable\n"
     ]
    },
    {
     "name": "stdout",
     "output_type": "stream",
     "text": [
      "Error checking language and duration for video lW_Bwk_qERk: ERROR: [youtube] lW_Bwk_qERk: Video unavailable\n",
      "Rows analyzed: 2631, Rows left: 1989\n",
      "Rows analyzed: 2632, Rows left: 1988\n",
      "Rows analyzed: 2633, Rows left: 1987\n",
      "Rows analyzed: 2634, Rows left: 1986\n",
      "Rows analyzed: 2635, Rows left: 1985\n",
      "Rows analyzed: 2636, Rows left: 1984\n"
     ]
    },
    {
     "name": "stderr",
     "output_type": "stream",
     "text": [
      "ERROR: [youtube] NkAvV_c5KJ4: Private video. Sign in if you've been granted access to this video\n"
     ]
    },
    {
     "name": "stdout",
     "output_type": "stream",
     "text": [
      "Error checking language and duration for video NkAvV_c5KJ4: ERROR: [youtube] NkAvV_c5KJ4: Private video. Sign in if you've been granted access to this video\n",
      "Rows analyzed: 2637, Rows left: 1983\n",
      "Rows analyzed: 2638, Rows left: 1982\n",
      "Rows analyzed: 2639, Rows left: 1981\n",
      "Rows analyzed: 2640, Rows left: 1980\n"
     ]
    },
    {
     "name": "stderr",
     "output_type": "stream",
     "text": [
      "ERROR: [youtube] X4IqCONIdSg: Video unavailable\n"
     ]
    },
    {
     "name": "stdout",
     "output_type": "stream",
     "text": [
      "Error checking language and duration for video X4IqCONIdSg: ERROR: [youtube] X4IqCONIdSg: Video unavailable\n",
      "Rows analyzed: 2641, Rows left: 1979\n"
     ]
    },
    {
     "name": "stderr",
     "output_type": "stream",
     "text": [
      "ERROR: [youtube] L6hO9-3-CHs: Video unavailable. This video is no longer available because the YouTube account associated with this video has been terminated.\n"
     ]
    },
    {
     "name": "stdout",
     "output_type": "stream",
     "text": [
      "Error checking language and duration for video L6hO9-3-CHs: ERROR: [youtube] L6hO9-3-CHs: Video unavailable. This video is no longer available because the YouTube account associated with this video has been terminated.\n",
      "Rows analyzed: 2642, Rows left: 1978\n",
      "Rows analyzed: 2643, Rows left: 1977\n",
      "Rows analyzed: 2644, Rows left: 1976\n",
      "Rows analyzed: 2645, Rows left: 1975\n",
      "Rows analyzed: 2646, Rows left: 1974\n",
      "Rows analyzed: 2647, Rows left: 1973\n",
      "Rows analyzed: 2648, Rows left: 1972\n",
      "Rows analyzed: 2649, Rows left: 1971\n",
      "Rows analyzed: 2650, Rows left: 1970\n",
      "Rows analyzed: 2651, Rows left: 1969\n",
      "Rows analyzed: 2652, Rows left: 1968\n",
      "Rows analyzed: 2653, Rows left: 1967\n"
     ]
    },
    {
     "name": "stderr",
     "output_type": "stream",
     "text": [
      "ERROR: [youtube] u3NaAn-CBhQ: Private video. Sign in if you've been granted access to this video\n"
     ]
    },
    {
     "name": "stdout",
     "output_type": "stream",
     "text": [
      "Error checking language and duration for video u3NaAn-CBhQ: ERROR: [youtube] u3NaAn-CBhQ: Private video. Sign in if you've been granted access to this video\n",
      "Rows analyzed: 2654, Rows left: 1966\n",
      "Rows analyzed: 2655, Rows left: 1965\n",
      "Rows analyzed: 2656, Rows left: 1964\n",
      "Rows analyzed: 2657, Rows left: 1963\n"
     ]
    },
    {
     "name": "stderr",
     "output_type": "stream",
     "text": [
      "ERROR: [youtube] ivqsDUMAnMk: Sign in to confirm your age. This video may be inappropriate for some users.\n"
     ]
    },
    {
     "name": "stdout",
     "output_type": "stream",
     "text": [
      "Error checking language and duration for video ivqsDUMAnMk: ERROR: [youtube] ivqsDUMAnMk: Sign in to confirm your age. This video may be inappropriate for some users.\n",
      "Rows analyzed: 2658, Rows left: 1962\n"
     ]
    },
    {
     "name": "stderr",
     "output_type": "stream",
     "text": [
      "ERROR: [youtube] 9j0bLixP-7Y: Video unavailable. This video is unavailable\n"
     ]
    },
    {
     "name": "stdout",
     "output_type": "stream",
     "text": [
      "Error checking language and duration for video 9j0bLixP-7Y: ERROR: [youtube] 9j0bLixP-7Y: Video unavailable. This video is unavailable\n",
      "Rows analyzed: 2659, Rows left: 1961\n",
      "Rows analyzed: 2660, Rows left: 1960\n"
     ]
    },
    {
     "name": "stderr",
     "output_type": "stream",
     "text": [
      "ERROR: [youtube] 8f7uEhdnMwM: Private video. Sign in if you've been granted access to this video\n"
     ]
    },
    {
     "name": "stdout",
     "output_type": "stream",
     "text": [
      "Error checking language and duration for video 8f7uEhdnMwM: ERROR: [youtube] 8f7uEhdnMwM: Private video. Sign in if you've been granted access to this video\n",
      "Rows analyzed: 2661, Rows left: 1959\n",
      "Rows analyzed: 2662, Rows left: 1958\n"
     ]
    },
    {
     "name": "stderr",
     "output_type": "stream",
     "text": [
      "ERROR: [youtube] IYLyZ-96Vd8: Video unavailable\n"
     ]
    },
    {
     "name": "stdout",
     "output_type": "stream",
     "text": [
      "Error checking language and duration for video IYLyZ-96Vd8: ERROR: [youtube] IYLyZ-96Vd8: Video unavailable\n",
      "Rows analyzed: 2663, Rows left: 1957\n"
     ]
    },
    {
     "name": "stderr",
     "output_type": "stream",
     "text": [
      "ERROR: [youtube] _5tyJFmjCzo: Video unavailable. This video is no longer available because the YouTube account associated with this video has been terminated.\n"
     ]
    },
    {
     "name": "stdout",
     "output_type": "stream",
     "text": [
      "Error checking language and duration for video _5tyJFmjCzo: ERROR: [youtube] _5tyJFmjCzo: Video unavailable. This video is no longer available because the YouTube account associated with this video has been terminated.\n",
      "Rows analyzed: 2664, Rows left: 1956\n",
      "Rows analyzed: 2665, Rows left: 1955\n",
      "Rows analyzed: 2666, Rows left: 1954\n",
      "Rows analyzed: 2667, Rows left: 1953\n",
      "Rows analyzed: 2668, Rows left: 1952\n",
      "Rows analyzed: 2669, Rows left: 1951\n"
     ]
    },
    {
     "name": "stderr",
     "output_type": "stream",
     "text": [
      "ERROR: [youtube] 6Ed2wSeBTkM: Video unavailable\n"
     ]
    },
    {
     "name": "stdout",
     "output_type": "stream",
     "text": [
      "Error checking language and duration for video 6Ed2wSeBTkM: ERROR: [youtube] 6Ed2wSeBTkM: Video unavailable\n",
      "Rows analyzed: 2670, Rows left: 1950\n",
      "Rows analyzed: 2671, Rows left: 1949\n",
      "Rows analyzed: 2672, Rows left: 1948\n",
      "Rows analyzed: 2673, Rows left: 1947\n",
      "Rows analyzed: 2674, Rows left: 1946\n",
      "Rows analyzed: 2675, Rows left: 1945\n",
      "Rows analyzed: 2676, Rows left: 1944\n",
      "Rows analyzed: 2677, Rows left: 1943\n",
      "Rows analyzed: 2678, Rows left: 1942\n",
      "Rows analyzed: 2679, Rows left: 1941\n"
     ]
    },
    {
     "name": "stderr",
     "output_type": "stream",
     "text": [
      "ERROR: [youtube] 3Kt_cccCgQM: Private video. Sign in if you've been granted access to this video\n"
     ]
    },
    {
     "name": "stdout",
     "output_type": "stream",
     "text": [
      "Error checking language and duration for video 3Kt_cccCgQM: ERROR: [youtube] 3Kt_cccCgQM: Private video. Sign in if you've been granted access to this video\n",
      "Rows analyzed: 2680, Rows left: 1940\n",
      "Rows analyzed: 2681, Rows left: 1939\n",
      "Rows analyzed: 2682, Rows left: 1938\n",
      "Rows analyzed: 2683, Rows left: 1937\n",
      "Rows analyzed: 2684, Rows left: 1936\n",
      "Rows analyzed: 2685, Rows left: 1935\n",
      "Rows analyzed: 2686, Rows left: 1934\n",
      "Rows analyzed: 2687, Rows left: 1933\n",
      "Rows analyzed: 2688, Rows left: 1932\n",
      "Rows analyzed: 2689, Rows left: 1931\n",
      "Rows analyzed: 2690, Rows left: 1930\n",
      "Rows analyzed: 2691, Rows left: 1929\n",
      "Rows analyzed: 2692, Rows left: 1928\n",
      "Rows analyzed: 2693, Rows left: 1927\n",
      "Rows analyzed: 2694, Rows left: 1926\n",
      "Rows analyzed: 2695, Rows left: 1925\n",
      "Rows analyzed: 2696, Rows left: 1924\n"
     ]
    },
    {
     "name": "stderr",
     "output_type": "stream",
     "text": [
      "ERROR: [youtube] 7YxocC2qloE: Video unavailable\n"
     ]
    },
    {
     "name": "stdout",
     "output_type": "stream",
     "text": [
      "Error checking language and duration for video 7YxocC2qloE: ERROR: [youtube] 7YxocC2qloE: Video unavailable\n",
      "Rows analyzed: 2697, Rows left: 1923\n",
      "Rows analyzed: 2698, Rows left: 1922\n",
      "Rows analyzed: 2699, Rows left: 1921\n"
     ]
    },
    {
     "name": "stderr",
     "output_type": "stream",
     "text": [
      "ERROR: [youtube] L0u8o5PX-Wk: Video unavailable\n"
     ]
    },
    {
     "name": "stdout",
     "output_type": "stream",
     "text": [
      "Error checking language and duration for video L0u8o5PX-Wk: ERROR: [youtube] L0u8o5PX-Wk: Video unavailable\n",
      "Rows analyzed: 2700, Rows left: 1920\n",
      "Rows analyzed: 2701, Rows left: 1919\n",
      "Rows analyzed: 2702, Rows left: 1918\n",
      "Rows analyzed: 2703, Rows left: 1917\n",
      "Rows analyzed: 2704, Rows left: 1916\n",
      "Rows analyzed: 2705, Rows left: 1915\n"
     ]
    },
    {
     "name": "stderr",
     "output_type": "stream",
     "text": [
      "ERROR: [youtube] G15RNDUiYds: Private video. Sign in if you've been granted access to this video\n"
     ]
    },
    {
     "name": "stdout",
     "output_type": "stream",
     "text": [
      "Error checking language and duration for video G15RNDUiYds: ERROR: [youtube] G15RNDUiYds: Private video. Sign in if you've been granted access to this video\n",
      "Rows analyzed: 2706, Rows left: 1914\n",
      "Rows analyzed: 2707, Rows left: 1913\n",
      "Rows analyzed: 2708, Rows left: 1912\n",
      "Rows analyzed: 2709, Rows left: 1911\n",
      "Rows analyzed: 2710, Rows left: 1910\n"
     ]
    },
    {
     "name": "stderr",
     "output_type": "stream",
     "text": [
      "ERROR: [youtube] 9aGaH2UqV20: Private video. Sign in if you've been granted access to this video\n"
     ]
    },
    {
     "name": "stdout",
     "output_type": "stream",
     "text": [
      "Error checking language and duration for video 9aGaH2UqV20: ERROR: [youtube] 9aGaH2UqV20: Private video. Sign in if you've been granted access to this video\n",
      "Rows analyzed: 2711, Rows left: 1909\n",
      "Rows analyzed: 2712, Rows left: 1908\n",
      "Rows analyzed: 2713, Rows left: 1907\n",
      "Rows analyzed: 2714, Rows left: 1906\n",
      "Rows analyzed: 2715, Rows left: 1905\n",
      "Rows analyzed: 2716, Rows left: 1904\n",
      "Rows analyzed: 2717, Rows left: 1903\n",
      "Rows analyzed: 2718, Rows left: 1902\n"
     ]
    },
    {
     "name": "stderr",
     "output_type": "stream",
     "text": [
      "ERROR: [youtube] Y9gJr8wzcP0: Private video. Sign in if you've been granted access to this video\n"
     ]
    },
    {
     "name": "stdout",
     "output_type": "stream",
     "text": [
      "Error checking language and duration for video Y9gJr8wzcP0: ERROR: [youtube] Y9gJr8wzcP0: Private video. Sign in if you've been granted access to this video\n",
      "Rows analyzed: 2719, Rows left: 1901\n",
      "Rows analyzed: 2720, Rows left: 1900\n",
      "Rows analyzed: 2721, Rows left: 1899\n"
     ]
    },
    {
     "name": "stderr",
     "output_type": "stream",
     "text": [
      "ERROR: [youtube] HwP-XiPbiRE: Sign in to confirm your age. This video may be inappropriate for some users.\n"
     ]
    },
    {
     "name": "stdout",
     "output_type": "stream",
     "text": [
      "Error checking language and duration for video HwP-XiPbiRE: ERROR: [youtube] HwP-XiPbiRE: Sign in to confirm your age. This video may be inappropriate for some users.\n",
      "Rows analyzed: 2722, Rows left: 1898\n",
      "Rows analyzed: 2723, Rows left: 1897\n"
     ]
    },
    {
     "name": "stderr",
     "output_type": "stream",
     "text": [
      "ERROR: [youtube] BzLCZf8ARm8: Private video. Sign in if you've been granted access to this video\n"
     ]
    },
    {
     "name": "stdout",
     "output_type": "stream",
     "text": [
      "Error checking language and duration for video BzLCZf8ARm8: ERROR: [youtube] BzLCZf8ARm8: Private video. Sign in if you've been granted access to this video\n",
      "Rows analyzed: 2724, Rows left: 1896\n",
      "Rows analyzed: 2725, Rows left: 1895\n",
      "Rows analyzed: 2726, Rows left: 1894\n",
      "Rows analyzed: 2727, Rows left: 1893\n",
      "Rows analyzed: 2728, Rows left: 1892\n",
      "Rows analyzed: 2729, Rows left: 1891\n",
      "Rows analyzed: 2730, Rows left: 1890\n",
      "Rows analyzed: 2731, Rows left: 1889\n",
      "Rows analyzed: 2732, Rows left: 1888\n"
     ]
    },
    {
     "name": "stderr",
     "output_type": "stream",
     "text": [
      "ERROR: [youtube] OhvGyz773XQ: Video unavailable\n"
     ]
    },
    {
     "name": "stdout",
     "output_type": "stream",
     "text": [
      "Error checking language and duration for video OhvGyz773XQ: ERROR: [youtube] OhvGyz773XQ: Video unavailable\n",
      "Rows analyzed: 2733, Rows left: 1887\n"
     ]
    },
    {
     "name": "stderr",
     "output_type": "stream",
     "text": [
      "ERROR: [youtube] LdZZHFjw9fI: Private video. Sign in if you've been granted access to this video\n"
     ]
    },
    {
     "name": "stdout",
     "output_type": "stream",
     "text": [
      "Error checking language and duration for video LdZZHFjw9fI: ERROR: [youtube] LdZZHFjw9fI: Private video. Sign in if you've been granted access to this video\n",
      "Rows analyzed: 2734, Rows left: 1886\n",
      "Rows analyzed: 2735, Rows left: 1885\n"
     ]
    },
    {
     "name": "stderr",
     "output_type": "stream",
     "text": [
      "ERROR: [youtube] 7KHcUKQ3JM4: Video unavailable. This video is no longer available because the YouTube account associated with this video has been terminated.\n"
     ]
    },
    {
     "name": "stdout",
     "output_type": "stream",
     "text": [
      "Error checking language and duration for video 7KHcUKQ3JM4: ERROR: [youtube] 7KHcUKQ3JM4: Video unavailable. This video is no longer available because the YouTube account associated with this video has been terminated.\n",
      "Rows analyzed: 2736, Rows left: 1884\n",
      "Rows analyzed: 2737, Rows left: 1883\n",
      "Rows analyzed: 2738, Rows left: 1882\n",
      "Rows analyzed: 2739, Rows left: 1881\n",
      "Rows analyzed: 2740, Rows left: 1880\n",
      "Rows analyzed: 2741, Rows left: 1879\n",
      "Rows analyzed: 2742, Rows left: 1878\n",
      "Rows analyzed: 2743, Rows left: 1877\n",
      "Rows analyzed: 2744, Rows left: 1876\n"
     ]
    },
    {
     "name": "stderr",
     "output_type": "stream",
     "text": [
      "ERROR: [youtube] TGRQIf4zNg0: Private video. Sign in if you've been granted access to this video\n"
     ]
    },
    {
     "name": "stdout",
     "output_type": "stream",
     "text": [
      "Error checking language and duration for video TGRQIf4zNg0: ERROR: [youtube] TGRQIf4zNg0: Private video. Sign in if you've been granted access to this video\n",
      "Rows analyzed: 2745, Rows left: 1875\n"
     ]
    },
    {
     "name": "stderr",
     "output_type": "stream",
     "text": [
      "ERROR: [youtube] tBmoQDFr60w: Video unavailable. This video is no longer available because the YouTube account associated with this video has been terminated.\n"
     ]
    },
    {
     "name": "stdout",
     "output_type": "stream",
     "text": [
      "Error checking language and duration for video tBmoQDFr60w: ERROR: [youtube] tBmoQDFr60w: Video unavailable. This video is no longer available because the YouTube account associated with this video has been terminated.\n",
      "Rows analyzed: 2746, Rows left: 1874\n",
      "Rows analyzed: 2747, Rows left: 1873\n",
      "Rows analyzed: 2748, Rows left: 1872\n",
      "Rows analyzed: 2749, Rows left: 1871\n",
      "Rows analyzed: 2750, Rows left: 1870\n"
     ]
    },
    {
     "name": "stderr",
     "output_type": "stream",
     "text": [
      "ERROR: [youtube] VoE075m0r7s: Video unavailable\n"
     ]
    },
    {
     "name": "stdout",
     "output_type": "stream",
     "text": [
      "Error checking language and duration for video VoE075m0r7s: ERROR: [youtube] VoE075m0r7s: Video unavailable\n",
      "Rows analyzed: 2751, Rows left: 1869\n",
      "Rows analyzed: 2752, Rows left: 1868\n",
      "Rows analyzed: 2753, Rows left: 1867\n",
      "Rows analyzed: 2754, Rows left: 1866\n",
      "Rows analyzed: 2755, Rows left: 1865\n"
     ]
    },
    {
     "name": "stderr",
     "output_type": "stream",
     "text": [
      "ERROR: [youtube] 6Gijm_HhpXs: Video unavailable\n"
     ]
    },
    {
     "name": "stdout",
     "output_type": "stream",
     "text": [
      "Error checking language and duration for video 6Gijm_HhpXs: ERROR: [youtube] 6Gijm_HhpXs: Video unavailable\n",
      "Rows analyzed: 2756, Rows left: 1864\n",
      "Rows analyzed: 2757, Rows left: 1863\n",
      "Rows analyzed: 2758, Rows left: 1862\n"
     ]
    },
    {
     "name": "stderr",
     "output_type": "stream",
     "text": [
      "ERROR: [youtube] aqbjwahlDOE: Video unavailable\n"
     ]
    },
    {
     "name": "stdout",
     "output_type": "stream",
     "text": [
      "Error checking language and duration for video aqbjwahlDOE: ERROR: [youtube] aqbjwahlDOE: Video unavailable\n",
      "Rows analyzed: 2759, Rows left: 1861\n",
      "Rows analyzed: 2760, Rows left: 1860\n",
      "Rows analyzed: 2761, Rows left: 1859\n"
     ]
    },
    {
     "name": "stderr",
     "output_type": "stream",
     "text": [
      "ERROR: [youtube] oXifyfKIPpw: Sign in to confirm your age. This video may be inappropriate for some users.\n"
     ]
    },
    {
     "name": "stdout",
     "output_type": "stream",
     "text": [
      "Error checking language and duration for video oXifyfKIPpw: ERROR: [youtube] oXifyfKIPpw: Sign in to confirm your age. This video may be inappropriate for some users.\n",
      "Rows analyzed: 2762, Rows left: 1858\n"
     ]
    },
    {
     "name": "stderr",
     "output_type": "stream",
     "text": [
      "ERROR: [youtube] Ntd3uj0n57g: Private video. Sign in if you've been granted access to this video\n"
     ]
    },
    {
     "name": "stdout",
     "output_type": "stream",
     "text": [
      "Error checking language and duration for video Ntd3uj0n57g: ERROR: [youtube] Ntd3uj0n57g: Private video. Sign in if you've been granted access to this video\n",
      "Rows analyzed: 2763, Rows left: 1857\n",
      "Rows analyzed: 2764, Rows left: 1856\n"
     ]
    },
    {
     "name": "stderr",
     "output_type": "stream",
     "text": [
      "ERROR: [youtube] 7uhpbkSee5M: Private video. Sign in if you've been granted access to this video\n"
     ]
    },
    {
     "name": "stdout",
     "output_type": "stream",
     "text": [
      "Error checking language and duration for video 7uhpbkSee5M: ERROR: [youtube] 7uhpbkSee5M: Private video. Sign in if you've been granted access to this video\n",
      "Rows analyzed: 2765, Rows left: 1855\n",
      "Rows analyzed: 2766, Rows left: 1854\n",
      "Rows analyzed: 2767, Rows left: 1853\n",
      "Rows analyzed: 2768, Rows left: 1852\n",
      "Rows analyzed: 2769, Rows left: 1851\n"
     ]
    },
    {
     "name": "stderr",
     "output_type": "stream",
     "text": [
      "ERROR: [youtube] _E28NS_BXEY: Video unavailable. This video is no longer available because the YouTube account associated with this video has been terminated.\n"
     ]
    },
    {
     "name": "stdout",
     "output_type": "stream",
     "text": [
      "Error checking language and duration for video _E28NS_BXEY: ERROR: [youtube] _E28NS_BXEY: Video unavailable. This video is no longer available because the YouTube account associated with this video has been terminated.\n",
      "Rows analyzed: 2770, Rows left: 1850\n",
      "Rows analyzed: 2771, Rows left: 1849\n",
      "Rows analyzed: 2772, Rows left: 1848\n",
      "Rows analyzed: 2773, Rows left: 1847\n",
      "Rows analyzed: 2774, Rows left: 1846\n",
      "Rows analyzed: 2775, Rows left: 1845\n",
      "Rows analyzed: 2776, Rows left: 1844\n",
      "Rows analyzed: 2777, Rows left: 1843\n",
      "Rows analyzed: 2778, Rows left: 1842\n",
      "Rows analyzed: 2779, Rows left: 1841\n",
      "Rows analyzed: 2780, Rows left: 1840\n",
      "Rows analyzed: 2781, Rows left: 1839\n",
      "Rows analyzed: 2782, Rows left: 1838\n",
      "Rows analyzed: 2783, Rows left: 1837\n",
      "Rows analyzed: 2784, Rows left: 1836\n",
      "Rows analyzed: 2785, Rows left: 1835\n",
      "Rows analyzed: 2786, Rows left: 1834\n",
      "Rows analyzed: 2787, Rows left: 1833\n"
     ]
    },
    {
     "name": "stderr",
     "output_type": "stream",
     "text": [
      "ERROR: [youtube] OTqRyldjSe4: Private video. Sign in if you've been granted access to this video\n"
     ]
    },
    {
     "name": "stdout",
     "output_type": "stream",
     "text": [
      "Error checking language and duration for video OTqRyldjSe4: ERROR: [youtube] OTqRyldjSe4: Private video. Sign in if you've been granted access to this video\n",
      "Rows analyzed: 2788, Rows left: 1832\n",
      "Rows analyzed: 2789, Rows left: 1831\n"
     ]
    },
    {
     "name": "stderr",
     "output_type": "stream",
     "text": [
      "ERROR: [youtube] rqk9sqHAkW4: Private video. Sign in if you've been granted access to this video\n"
     ]
    },
    {
     "name": "stdout",
     "output_type": "stream",
     "text": [
      "Error checking language and duration for video rqk9sqHAkW4: ERROR: [youtube] rqk9sqHAkW4: Private video. Sign in if you've been granted access to this video\n",
      "Rows analyzed: 2790, Rows left: 1830\n",
      "Rows analyzed: 2791, Rows left: 1829\n",
      "Rows analyzed: 2792, Rows left: 1828\n"
     ]
    },
    {
     "name": "stderr",
     "output_type": "stream",
     "text": [
      "ERROR: [youtube] tbzUOuh-gZE: Video unavailable\n"
     ]
    },
    {
     "name": "stdout",
     "output_type": "stream",
     "text": [
      "Error checking language and duration for video tbzUOuh-gZE: ERROR: [youtube] tbzUOuh-gZE: Video unavailable\n",
      "Rows analyzed: 2793, Rows left: 1827\n"
     ]
    },
    {
     "name": "stderr",
     "output_type": "stream",
     "text": [
      "ERROR: [youtube] O1LdLTPYA_8: Video unavailable. This video is no longer available because the YouTube account associated with this video has been terminated.\n"
     ]
    },
    {
     "name": "stdout",
     "output_type": "stream",
     "text": [
      "Error checking language and duration for video O1LdLTPYA_8: ERROR: [youtube] O1LdLTPYA_8: Video unavailable. This video is no longer available because the YouTube account associated with this video has been terminated.\n",
      "Rows analyzed: 2794, Rows left: 1826\n"
     ]
    },
    {
     "name": "stderr",
     "output_type": "stream",
     "text": [
      "ERROR: [youtube] PgaUu_6rRXo: Video unavailable. This video is no longer available because the YouTube account associated with this video has been terminated.\n"
     ]
    },
    {
     "name": "stdout",
     "output_type": "stream",
     "text": [
      "Error checking language and duration for video PgaUu_6rRXo: ERROR: [youtube] PgaUu_6rRXo: Video unavailable. This video is no longer available because the YouTube account associated with this video has been terminated.\n",
      "Rows analyzed: 2795, Rows left: 1825\n",
      "Rows analyzed: 2796, Rows left: 1824\n",
      "Rows analyzed: 2797, Rows left: 1823\n",
      "Rows analyzed: 2798, Rows left: 1822\n"
     ]
    },
    {
     "name": "stderr",
     "output_type": "stream",
     "text": [
      "ERROR: [youtube] hZY4p9Vhrbs: Video unavailable\n"
     ]
    },
    {
     "name": "stdout",
     "output_type": "stream",
     "text": [
      "Error checking language and duration for video hZY4p9Vhrbs: ERROR: [youtube] hZY4p9Vhrbs: Video unavailable\n",
      "Rows analyzed: 2799, Rows left: 1821\n",
      "Rows analyzed: 2800, Rows left: 1820\n"
     ]
    },
    {
     "name": "stderr",
     "output_type": "stream",
     "text": [
      "ERROR: [youtube] xv_TBT3eLCw: Private video. Sign in if you've been granted access to this video\n"
     ]
    },
    {
     "name": "stdout",
     "output_type": "stream",
     "text": [
      "Error checking language and duration for video xv_TBT3eLCw: ERROR: [youtube] xv_TBT3eLCw: Private video. Sign in if you've been granted access to this video\n",
      "Rows analyzed: 2801, Rows left: 1819\n",
      "Rows analyzed: 2802, Rows left: 1818\n"
     ]
    },
    {
     "name": "stderr",
     "output_type": "stream",
     "text": [
      "ERROR: [youtube] r2oypNKOq1E: Private video. Sign in if you've been granted access to this video\n"
     ]
    },
    {
     "name": "stdout",
     "output_type": "stream",
     "text": [
      "Error checking language and duration for video r2oypNKOq1E: ERROR: [youtube] r2oypNKOq1E: Private video. Sign in if you've been granted access to this video\n",
      "Rows analyzed: 2803, Rows left: 1817\n",
      "Rows analyzed: 2804, Rows left: 1816\n",
      "Rows analyzed: 2805, Rows left: 1815\n"
     ]
    },
    {
     "name": "stderr",
     "output_type": "stream",
     "text": [
      "ERROR: [youtube] sORL59yB-1o: Video unavailable\n"
     ]
    },
    {
     "name": "stdout",
     "output_type": "stream",
     "text": [
      "Error checking language and duration for video sORL59yB-1o: ERROR: [youtube] sORL59yB-1o: Video unavailable\n",
      "Rows analyzed: 2806, Rows left: 1814\n",
      "Rows analyzed: 2807, Rows left: 1813\n",
      "Rows analyzed: 2808, Rows left: 1812\n",
      "Rows analyzed: 2809, Rows left: 1811\n",
      "Rows analyzed: 2810, Rows left: 1810\n",
      "Rows analyzed: 2811, Rows left: 1809\n",
      "Rows analyzed: 2812, Rows left: 1808\n",
      "Rows analyzed: 2813, Rows left: 1807\n",
      "Rows analyzed: 2814, Rows left: 1806\n",
      "Rows analyzed: 2815, Rows left: 1805\n",
      "Rows analyzed: 2816, Rows left: 1804\n",
      "Rows analyzed: 2817, Rows left: 1803\n",
      "Rows analyzed: 2818, Rows left: 1802\n",
      "Rows analyzed: 2819, Rows left: 1801\n",
      "Rows analyzed: 2820, Rows left: 1800\n",
      "Rows analyzed: 2821, Rows left: 1799\n",
      "Rows analyzed: 2822, Rows left: 1798\n"
     ]
    },
    {
     "name": "stderr",
     "output_type": "stream",
     "text": [
      "ERROR: [youtube] i5cLbjE2Cvo: Private video. Sign in if you've been granted access to this video\n"
     ]
    },
    {
     "name": "stdout",
     "output_type": "stream",
     "text": [
      "Error checking language and duration for video i5cLbjE2Cvo: ERROR: [youtube] i5cLbjE2Cvo: Private video. Sign in if you've been granted access to this video\n",
      "Rows analyzed: 2823, Rows left: 1797\n",
      "Rows analyzed: 2824, Rows left: 1796\n",
      "Rows analyzed: 2825, Rows left: 1795\n",
      "Rows analyzed: 2826, Rows left: 1794\n"
     ]
    },
    {
     "name": "stderr",
     "output_type": "stream",
     "text": [
      "ERROR: [youtube] k0eMM32uMQw: Private video. Sign in if you've been granted access to this video\n"
     ]
    },
    {
     "name": "stdout",
     "output_type": "stream",
     "text": [
      "Error checking language and duration for video k0eMM32uMQw: ERROR: [youtube] k0eMM32uMQw: Private video. Sign in if you've been granted access to this video\n",
      "Rows analyzed: 2827, Rows left: 1793\n",
      "Rows analyzed: 2828, Rows left: 1792\n"
     ]
    },
    {
     "name": "stderr",
     "output_type": "stream",
     "text": [
      "ERROR: [youtube] TamZu3q8HtU: Private video. Sign in if you've been granted access to this video\n"
     ]
    },
    {
     "name": "stdout",
     "output_type": "stream",
     "text": [
      "Error checking language and duration for video TamZu3q8HtU: ERROR: [youtube] TamZu3q8HtU: Private video. Sign in if you've been granted access to this video\n",
      "Rows analyzed: 2829, Rows left: 1791\n"
     ]
    },
    {
     "name": "stderr",
     "output_type": "stream",
     "text": [
      "ERROR: [youtube] NSqUJMUJajY: Private video. Sign in if you've been granted access to this video\n"
     ]
    },
    {
     "name": "stdout",
     "output_type": "stream",
     "text": [
      "Error checking language and duration for video NSqUJMUJajY: ERROR: [youtube] NSqUJMUJajY: Private video. Sign in if you've been granted access to this video\n",
      "Rows analyzed: 2830, Rows left: 1790\n",
      "Rows analyzed: 2831, Rows left: 1789\n",
      "Rows analyzed: 2832, Rows left: 1788\n",
      "Rows analyzed: 2833, Rows left: 1787\n",
      "Rows analyzed: 2834, Rows left: 1786\n",
      "Rows analyzed: 2835, Rows left: 1785\n"
     ]
    },
    {
     "name": "stderr",
     "output_type": "stream",
     "text": [
      "ERROR: [youtube] e1aOiQV0wrc: Private video. Sign in if you've been granted access to this video\n"
     ]
    },
    {
     "name": "stdout",
     "output_type": "stream",
     "text": [
      "Error checking language and duration for video e1aOiQV0wrc: ERROR: [youtube] e1aOiQV0wrc: Private video. Sign in if you've been granted access to this video\n",
      "Rows analyzed: 2836, Rows left: 1784\n",
      "Rows analyzed: 2837, Rows left: 1783\n",
      "Rows analyzed: 2838, Rows left: 1782\n",
      "Rows analyzed: 2839, Rows left: 1781\n",
      "Rows analyzed: 2840, Rows left: 1780\n",
      "Rows analyzed: 2841, Rows left: 1779\n",
      "Rows analyzed: 2842, Rows left: 1778\n",
      "Rows analyzed: 2843, Rows left: 1777\n",
      "Rows analyzed: 2844, Rows left: 1776\n",
      "Rows analyzed: 2845, Rows left: 1775\n"
     ]
    },
    {
     "name": "stderr",
     "output_type": "stream",
     "text": [
      "ERROR: [youtube] igEhj5nmHDU: Private video. Sign in if you've been granted access to this video\n"
     ]
    },
    {
     "name": "stdout",
     "output_type": "stream",
     "text": [
      "Error checking language and duration for video igEhj5nmHDU: ERROR: [youtube] igEhj5nmHDU: Private video. Sign in if you've been granted access to this video\n",
      "Rows analyzed: 2846, Rows left: 1774\n"
     ]
    },
    {
     "name": "stderr",
     "output_type": "stream",
     "text": [
      "ERROR: [youtube] BKwwyhtkDrg: Video unavailable\n"
     ]
    },
    {
     "name": "stdout",
     "output_type": "stream",
     "text": [
      "Error checking language and duration for video BKwwyhtkDrg: ERROR: [youtube] BKwwyhtkDrg: Video unavailable\n",
      "Rows analyzed: 2847, Rows left: 1773\n"
     ]
    },
    {
     "name": "stderr",
     "output_type": "stream",
     "text": [
      "ERROR: [youtube] KwURA0q1Jzc: Video unavailable\n"
     ]
    },
    {
     "name": "stdout",
     "output_type": "stream",
     "text": [
      "Error checking language and duration for video KwURA0q1Jzc: ERROR: [youtube] KwURA0q1Jzc: Video unavailable\n",
      "Rows analyzed: 2848, Rows left: 1772\n",
      "Rows analyzed: 2849, Rows left: 1771\n",
      "Rows analyzed: 2850, Rows left: 1770\n",
      "Rows analyzed: 2851, Rows left: 1769\n"
     ]
    },
    {
     "name": "stderr",
     "output_type": "stream",
     "text": [
      "ERROR: [youtube] 5ju5SiVilEE: Video unavailable\n"
     ]
    },
    {
     "name": "stdout",
     "output_type": "stream",
     "text": [
      "Error checking language and duration for video 5ju5SiVilEE: ERROR: [youtube] 5ju5SiVilEE: Video unavailable\n",
      "Rows analyzed: 2852, Rows left: 1768\n",
      "Rows analyzed: 2853, Rows left: 1767\n",
      "Rows analyzed: 2854, Rows left: 1766\n"
     ]
    },
    {
     "name": "stderr",
     "output_type": "stream",
     "text": [
      "ERROR: [youtube] ibj7cMrS82g: Private video. Sign in if you've been granted access to this video\n"
     ]
    },
    {
     "name": "stdout",
     "output_type": "stream",
     "text": [
      "Error checking language and duration for video ibj7cMrS82g: ERROR: [youtube] ibj7cMrS82g: Private video. Sign in if you've been granted access to this video\n",
      "Rows analyzed: 2855, Rows left: 1765\n",
      "Rows analyzed: 2856, Rows left: 1764\n",
      "Rows analyzed: 2857, Rows left: 1763\n",
      "Rows analyzed: 2858, Rows left: 1762\n",
      "Rows analyzed: 2859, Rows left: 1761\n",
      "Rows analyzed: 2860, Rows left: 1760\n"
     ]
    },
    {
     "name": "stderr",
     "output_type": "stream",
     "text": [
      "ERROR: [youtube] xcalNcDuL1s: Private video. Sign in if you've been granted access to this video\n"
     ]
    },
    {
     "name": "stdout",
     "output_type": "stream",
     "text": [
      "Error checking language and duration for video xcalNcDuL1s: ERROR: [youtube] xcalNcDuL1s: Private video. Sign in if you've been granted access to this video\n",
      "Rows analyzed: 2861, Rows left: 1759\n",
      "Rows analyzed: 2862, Rows left: 1758\n",
      "Rows analyzed: 2863, Rows left: 1757\n",
      "Rows analyzed: 2864, Rows left: 1756\n"
     ]
    },
    {
     "name": "stderr",
     "output_type": "stream",
     "text": [
      "ERROR: [youtube] lr7Jv1gLMco: Private video. Sign in if you've been granted access to this video\n"
     ]
    },
    {
     "name": "stdout",
     "output_type": "stream",
     "text": [
      "Error checking language and duration for video lr7Jv1gLMco: ERROR: [youtube] lr7Jv1gLMco: Private video. Sign in if you've been granted access to this video\n",
      "Rows analyzed: 2865, Rows left: 1755\n",
      "Rows analyzed: 2866, Rows left: 1754\n",
      "Rows analyzed: 2867, Rows left: 1753\n"
     ]
    },
    {
     "name": "stderr",
     "output_type": "stream",
     "text": [
      "ERROR: [youtube] sISii7Bg6_M: Private video. Sign in if you've been granted access to this video\n"
     ]
    },
    {
     "name": "stdout",
     "output_type": "stream",
     "text": [
      "Error checking language and duration for video sISii7Bg6_M: ERROR: [youtube] sISii7Bg6_M: Private video. Sign in if you've been granted access to this video\n",
      "Rows analyzed: 2868, Rows left: 1752\n",
      "Rows analyzed: 2869, Rows left: 1751\n",
      "Rows analyzed: 2870, Rows left: 1750\n",
      "Rows analyzed: 2871, Rows left: 1749\n",
      "Rows analyzed: 2872, Rows left: 1748\n",
      "Rows analyzed: 2873, Rows left: 1747\n",
      "Rows analyzed: 2874, Rows left: 1746\n"
     ]
    },
    {
     "name": "stderr",
     "output_type": "stream",
     "text": [
      "ERROR: [youtube] AjH9DUylRrs: Private video. Sign in if you've been granted access to this video\n"
     ]
    },
    {
     "name": "stdout",
     "output_type": "stream",
     "text": [
      "Error checking language and duration for video AjH9DUylRrs: ERROR: [youtube] AjH9DUylRrs: Private video. Sign in if you've been granted access to this video\n",
      "Rows analyzed: 2875, Rows left: 1745\n",
      "Rows analyzed: 2876, Rows left: 1744\n",
      "Rows analyzed: 2877, Rows left: 1743\n",
      "Rows analyzed: 2878, Rows left: 1742\n",
      "Rows analyzed: 2879, Rows left: 1741\n",
      "Rows analyzed: 2880, Rows left: 1740\n",
      "Rows analyzed: 2881, Rows left: 1739\n",
      "Rows analyzed: 2882, Rows left: 1738\n",
      "Rows analyzed: 2883, Rows left: 1737\n"
     ]
    },
    {
     "name": "stderr",
     "output_type": "stream",
     "text": [
      "ERROR: [youtube] llKP-TdsgUw: Private video. Sign in if you've been granted access to this video\n"
     ]
    },
    {
     "name": "stdout",
     "output_type": "stream",
     "text": [
      "Error checking language and duration for video llKP-TdsgUw: ERROR: [youtube] llKP-TdsgUw: Private video. Sign in if you've been granted access to this video\n",
      "Rows analyzed: 2884, Rows left: 1736\n",
      "Rows analyzed: 2885, Rows left: 1735\n",
      "Rows analyzed: 2886, Rows left: 1734\n",
      "Rows analyzed: 2887, Rows left: 1733\n",
      "Rows analyzed: 2888, Rows left: 1732\n",
      "Rows analyzed: 2889, Rows left: 1731\n",
      "Rows analyzed: 2890, Rows left: 1730\n"
     ]
    },
    {
     "name": "stderr",
     "output_type": "stream",
     "text": [
      "ERROR: [youtube] UWX6UaTNLVI: Video unavailable\n"
     ]
    },
    {
     "name": "stdout",
     "output_type": "stream",
     "text": [
      "Error checking language and duration for video UWX6UaTNLVI: ERROR: [youtube] UWX6UaTNLVI: Video unavailable\n",
      "Rows analyzed: 2891, Rows left: 1729\n",
      "Rows analyzed: 2892, Rows left: 1728\n",
      "Rows analyzed: 2893, Rows left: 1727\n",
      "Rows analyzed: 2894, Rows left: 1726\n",
      "Rows analyzed: 2895, Rows left: 1725\n",
      "Rows analyzed: 2896, Rows left: 1724\n",
      "Rows analyzed: 2897, Rows left: 1723\n",
      "Rows analyzed: 2898, Rows left: 1722\n",
      "Rows analyzed: 2899, Rows left: 1721\n"
     ]
    },
    {
     "name": "stderr",
     "output_type": "stream",
     "text": [
      "ERROR: [youtube] hmwhUvapGg8: Private video. Sign in if you've been granted access to this video\n"
     ]
    },
    {
     "name": "stdout",
     "output_type": "stream",
     "text": [
      "Error checking language and duration for video hmwhUvapGg8: ERROR: [youtube] hmwhUvapGg8: Private video. Sign in if you've been granted access to this video\n",
      "Rows analyzed: 2900, Rows left: 1720\n",
      "Rows analyzed: 2901, Rows left: 1719\n",
      "Rows analyzed: 2902, Rows left: 1718\n",
      "Rows analyzed: 2903, Rows left: 1717\n",
      "Rows analyzed: 2904, Rows left: 1716\n",
      "Rows analyzed: 2905, Rows left: 1715\n",
      "Rows analyzed: 2906, Rows left: 1714\n",
      "Rows analyzed: 2907, Rows left: 1713\n",
      "Rows analyzed: 2908, Rows left: 1712\n",
      "Rows analyzed: 2909, Rows left: 1711\n"
     ]
    },
    {
     "name": "stderr",
     "output_type": "stream",
     "text": [
      "ERROR: [youtube] rag3jXi1aE4: Video unavailable\n"
     ]
    },
    {
     "name": "stdout",
     "output_type": "stream",
     "text": [
      "Error checking language and duration for video rag3jXi1aE4: ERROR: [youtube] rag3jXi1aE4: Video unavailable\n",
      "Rows analyzed: 2910, Rows left: 1710\n"
     ]
    },
    {
     "name": "stderr",
     "output_type": "stream",
     "text": [
      "ERROR: [youtube] QZoYe1Uf7Qk: Private video. Sign in if you've been granted access to this video\n"
     ]
    },
    {
     "name": "stdout",
     "output_type": "stream",
     "text": [
      "Error checking language and duration for video QZoYe1Uf7Qk: ERROR: [youtube] QZoYe1Uf7Qk: Private video. Sign in if you've been granted access to this video\n",
      "Rows analyzed: 2911, Rows left: 1709\n",
      "Rows analyzed: 2912, Rows left: 1708\n",
      "Rows analyzed: 2913, Rows left: 1707\n",
      "Rows analyzed: 2914, Rows left: 1706\n",
      "Rows analyzed: 2915, Rows left: 1705\n",
      "Rows analyzed: 2916, Rows left: 1704\n"
     ]
    },
    {
     "name": "stderr",
     "output_type": "stream",
     "text": [
      "ERROR: [youtube] 1PlGpuZ5T-A: Video unavailable. This video contains content from Reshet-media, who has blocked it in your country on copyright grounds\n"
     ]
    },
    {
     "name": "stdout",
     "output_type": "stream",
     "text": [
      "Error checking language and duration for video 1PlGpuZ5T-A: ERROR: [youtube] 1PlGpuZ5T-A: Video unavailable. This video contains content from Reshet-media, who has blocked it in your country on copyright grounds\n",
      "Rows analyzed: 2917, Rows left: 1703\n",
      "Rows analyzed: 2918, Rows left: 1702\n",
      "Rows analyzed: 2919, Rows left: 1701\n",
      "Rows analyzed: 2920, Rows left: 1700\n",
      "Rows analyzed: 2921, Rows left: 1699\n",
      "Rows analyzed: 2922, Rows left: 1698\n"
     ]
    },
    {
     "name": "stderr",
     "output_type": "stream",
     "text": [
      "ERROR: [youtube] na53opHxtwc: Private video. Sign in if you've been granted access to this video\n"
     ]
    },
    {
     "name": "stdout",
     "output_type": "stream",
     "text": [
      "Error checking language and duration for video na53opHxtwc: ERROR: [youtube] na53opHxtwc: Private video. Sign in if you've been granted access to this video\n",
      "Rows analyzed: 2923, Rows left: 1697\n",
      "Rows analyzed: 2924, Rows left: 1696\n",
      "Rows analyzed: 2925, Rows left: 1695\n",
      "Rows analyzed: 2926, Rows left: 1694\n",
      "Rows analyzed: 2927, Rows left: 1693\n",
      "Rows analyzed: 2928, Rows left: 1692\n",
      "Rows analyzed: 2929, Rows left: 1691\n",
      "Rows analyzed: 2930, Rows left: 1690\n",
      "Rows analyzed: 2931, Rows left: 1689\n",
      "Rows analyzed: 2932, Rows left: 1688\n"
     ]
    },
    {
     "name": "stderr",
     "output_type": "stream",
     "text": [
      "ERROR: [youtube] XPZblfu_QHk: Private video. Sign in if you've been granted access to this video\n"
     ]
    },
    {
     "name": "stdout",
     "output_type": "stream",
     "text": [
      "Error checking language and duration for video XPZblfu_QHk: ERROR: [youtube] XPZblfu_QHk: Private video. Sign in if you've been granted access to this video\n",
      "Rows analyzed: 2933, Rows left: 1687\n",
      "Rows analyzed: 2934, Rows left: 1686\n",
      "Rows analyzed: 2935, Rows left: 1685\n",
      "Rows analyzed: 2936, Rows left: 1684\n",
      "Rows analyzed: 2937, Rows left: 1683\n",
      "Rows analyzed: 2938, Rows left: 1682\n",
      "Rows analyzed: 2939, Rows left: 1681\n",
      "Rows analyzed: 2940, Rows left: 1680\n"
     ]
    },
    {
     "name": "stderr",
     "output_type": "stream",
     "text": [
      "ERROR: [youtube] BdBZwKEOROQ: Video unavailable\n"
     ]
    },
    {
     "name": "stdout",
     "output_type": "stream",
     "text": [
      "Error checking language and duration for video BdBZwKEOROQ: ERROR: [youtube] BdBZwKEOROQ: Video unavailable\n",
      "Rows analyzed: 2941, Rows left: 1679\n",
      "Rows analyzed: 2942, Rows left: 1678\n",
      "Rows analyzed: 2943, Rows left: 1677\n"
     ]
    },
    {
     "name": "stderr",
     "output_type": "stream",
     "text": [
      "ERROR: [youtube] IlsCy_fvnW4: Video unavailable. This video is no longer available because the YouTube account associated with this video has been terminated.\n"
     ]
    },
    {
     "name": "stdout",
     "output_type": "stream",
     "text": [
      "Error checking language and duration for video IlsCy_fvnW4: ERROR: [youtube] IlsCy_fvnW4: Video unavailable. This video is no longer available because the YouTube account associated with this video has been terminated.\n",
      "Rows analyzed: 2944, Rows left: 1676\n",
      "Rows analyzed: 2945, Rows left: 1675\n",
      "Rows analyzed: 2946, Rows left: 1674\n",
      "Rows analyzed: 2947, Rows left: 1673\n",
      "Rows analyzed: 2948, Rows left: 1672\n",
      "Rows analyzed: 2949, Rows left: 1671\n"
     ]
    },
    {
     "name": "stderr",
     "output_type": "stream",
     "text": [
      "ERROR: [youtube] 7Q9JThzEmiA: Video unavailable. This video is no longer available because the YouTube account associated with this video has been terminated.\n"
     ]
    },
    {
     "name": "stdout",
     "output_type": "stream",
     "text": [
      "Error checking language and duration for video 7Q9JThzEmiA: ERROR: [youtube] 7Q9JThzEmiA: Video unavailable. This video is no longer available because the YouTube account associated with this video has been terminated.\n",
      "Rows analyzed: 2950, Rows left: 1670\n",
      "Rows analyzed: 2951, Rows left: 1669\n",
      "Rows analyzed: 2952, Rows left: 1668\n",
      "Rows analyzed: 2953, Rows left: 1667\n",
      "Rows analyzed: 2954, Rows left: 1666\n",
      "Rows analyzed: 2955, Rows left: 1665\n",
      "Rows analyzed: 2956, Rows left: 1664\n",
      "Rows analyzed: 2957, Rows left: 1663\n",
      "Rows analyzed: 2958, Rows left: 1662\n",
      "Rows analyzed: 2959, Rows left: 1661\n",
      "Rows analyzed: 2960, Rows left: 1660\n",
      "Rows analyzed: 2961, Rows left: 1659\n",
      "Rows analyzed: 2962, Rows left: 1658\n",
      "Rows analyzed: 2963, Rows left: 1657\n",
      "Rows analyzed: 2964, Rows left: 1656\n",
      "Rows analyzed: 2965, Rows left: 1655\n",
      "Rows analyzed: 2966, Rows left: 1654\n",
      "Rows analyzed: 2967, Rows left: 1653\n",
      "Rows analyzed: 2968, Rows left: 1652\n",
      "Rows analyzed: 2969, Rows left: 1651\n",
      "Rows analyzed: 2970, Rows left: 1650\n",
      "Rows analyzed: 2971, Rows left: 1649\n"
     ]
    },
    {
     "name": "stderr",
     "output_type": "stream",
     "text": [
      "ERROR: [youtube] zzGcvHI0DHU: Video unavailable\n"
     ]
    },
    {
     "name": "stdout",
     "output_type": "stream",
     "text": [
      "Error checking language and duration for video zzGcvHI0DHU: ERROR: [youtube] zzGcvHI0DHU: Video unavailable\n",
      "Rows analyzed: 2972, Rows left: 1648\n",
      "Rows analyzed: 2973, Rows left: 1647\n",
      "Rows analyzed: 2974, Rows left: 1646\n",
      "Rows analyzed: 2975, Rows left: 1645\n"
     ]
    },
    {
     "name": "stderr",
     "output_type": "stream",
     "text": [
      "ERROR: [youtube] TRExJvKDgXY: Private video. Sign in if you've been granted access to this video\n"
     ]
    },
    {
     "name": "stdout",
     "output_type": "stream",
     "text": [
      "Error checking language and duration for video TRExJvKDgXY: ERROR: [youtube] TRExJvKDgXY: Private video. Sign in if you've been granted access to this video\n",
      "Rows analyzed: 2976, Rows left: 1644\n",
      "Rows analyzed: 2977, Rows left: 1643\n",
      "Rows analyzed: 2978, Rows left: 1642\n",
      "Rows analyzed: 2979, Rows left: 1641\n",
      "Rows analyzed: 2980, Rows left: 1640\n",
      "Rows analyzed: 2981, Rows left: 1639\n",
      "Rows analyzed: 2982, Rows left: 1638\n",
      "Rows analyzed: 2983, Rows left: 1637\n",
      "Rows analyzed: 2984, Rows left: 1636\n"
     ]
    },
    {
     "name": "stderr",
     "output_type": "stream",
     "text": [
      "ERROR: [youtube] 9KqeP_gDgfs: Private video. Sign in if you've been granted access to this video\n"
     ]
    },
    {
     "name": "stdout",
     "output_type": "stream",
     "text": [
      "Error checking language and duration for video 9KqeP_gDgfs: ERROR: [youtube] 9KqeP_gDgfs: Private video. Sign in if you've been granted access to this video\n",
      "Rows analyzed: 2985, Rows left: 1635\n",
      "Rows analyzed: 2986, Rows left: 1634\n",
      "Rows analyzed: 2987, Rows left: 1633\n",
      "Rows analyzed: 2988, Rows left: 1632\n",
      "Rows analyzed: 2989, Rows left: 1631\n",
      "Rows analyzed: 2990, Rows left: 1630\n"
     ]
    },
    {
     "name": "stderr",
     "output_type": "stream",
     "text": [
      "ERROR: [youtube] yknHVmgr1mQ: Video unavailable\n"
     ]
    },
    {
     "name": "stdout",
     "output_type": "stream",
     "text": [
      "Error checking language and duration for video yknHVmgr1mQ: ERROR: [youtube] yknHVmgr1mQ: Video unavailable\n",
      "Rows analyzed: 2991, Rows left: 1629\n",
      "Rows analyzed: 2992, Rows left: 1628\n",
      "Rows analyzed: 2993, Rows left: 1627\n"
     ]
    },
    {
     "name": "stderr",
     "output_type": "stream",
     "text": [
      "ERROR: [youtube] mbvfUQd-Axc: Video unavailable\n"
     ]
    },
    {
     "name": "stdout",
     "output_type": "stream",
     "text": [
      "Error checking language and duration for video mbvfUQd-Axc: ERROR: [youtube] mbvfUQd-Axc: Video unavailable\n",
      "Rows analyzed: 2994, Rows left: 1626\n",
      "Rows analyzed: 2995, Rows left: 1625\n",
      "Rows analyzed: 2996, Rows left: 1624\n",
      "Rows analyzed: 2997, Rows left: 1623\n",
      "Rows analyzed: 2998, Rows left: 1622\n",
      "Rows analyzed: 2999, Rows left: 1621\n",
      "Rows analyzed: 3000, Rows left: 1620\n",
      "Rows analyzed: 3001, Rows left: 1619\n",
      "Rows analyzed: 3002, Rows left: 1618\n",
      "Rows analyzed: 3003, Rows left: 1617\n",
      "Rows analyzed: 3004, Rows left: 1616\n",
      "Rows analyzed: 3005, Rows left: 1615\n",
      "Rows analyzed: 3006, Rows left: 1614\n",
      "Rows analyzed: 3007, Rows left: 1613\n",
      "Rows analyzed: 3008, Rows left: 1612\n"
     ]
    },
    {
     "name": "stderr",
     "output_type": "stream",
     "text": [
      "ERROR: [youtube] aKAhfxmRAVY: Video unavailable\n"
     ]
    },
    {
     "name": "stdout",
     "output_type": "stream",
     "text": [
      "Error checking language and duration for video aKAhfxmRAVY: ERROR: [youtube] aKAhfxmRAVY: Video unavailable\n",
      "Rows analyzed: 3009, Rows left: 1611\n",
      "Rows analyzed: 3010, Rows left: 1610\n",
      "Rows analyzed: 3011, Rows left: 1609\n",
      "Rows analyzed: 3012, Rows left: 1608\n"
     ]
    },
    {
     "name": "stderr",
     "output_type": "stream",
     "text": [
      "ERROR: [youtube] ch7-xW-5PHc: Video unavailable\n"
     ]
    },
    {
     "name": "stdout",
     "output_type": "stream",
     "text": [
      "Error checking language and duration for video ch7-xW-5PHc: ERROR: [youtube] ch7-xW-5PHc: Video unavailable\n",
      "Rows analyzed: 3013, Rows left: 1607\n",
      "Rows analyzed: 3014, Rows left: 1606\n",
      "Rows analyzed: 3015, Rows left: 1605\n",
      "Rows analyzed: 3016, Rows left: 1604\n",
      "Rows analyzed: 3017, Rows left: 1603\n",
      "Rows analyzed: 3018, Rows left: 1602\n",
      "Rows analyzed: 3019, Rows left: 1601\n",
      "Rows analyzed: 3020, Rows left: 1600\n",
      "Rows analyzed: 3021, Rows left: 1599\n"
     ]
    },
    {
     "name": "stderr",
     "output_type": "stream",
     "text": [
      "ERROR: [youtube] Lglam1sJyRo: Private video. Sign in if you've been granted access to this video\n"
     ]
    },
    {
     "name": "stdout",
     "output_type": "stream",
     "text": [
      "Error checking language and duration for video Lglam1sJyRo: ERROR: [youtube] Lglam1sJyRo: Private video. Sign in if you've been granted access to this video\n",
      "Rows analyzed: 3022, Rows left: 1598\n",
      "Rows analyzed: 3023, Rows left: 1597\n",
      "Rows analyzed: 3024, Rows left: 1596\n",
      "Rows analyzed: 3025, Rows left: 1595\n",
      "Rows analyzed: 3026, Rows left: 1594\n",
      "Rows analyzed: 3027, Rows left: 1593\n",
      "Rows analyzed: 3028, Rows left: 1592\n",
      "Rows analyzed: 3029, Rows left: 1591\n",
      "Rows analyzed: 3030, Rows left: 1590\n",
      "Rows analyzed: 3031, Rows left: 1589\n"
     ]
    },
    {
     "name": "stderr",
     "output_type": "stream",
     "text": [
      "ERROR: [youtube] 0gMjayJ1MXI: Video unavailable\n"
     ]
    },
    {
     "name": "stdout",
     "output_type": "stream",
     "text": [
      "Error checking language and duration for video 0gMjayJ1MXI: ERROR: [youtube] 0gMjayJ1MXI: Video unavailable\n",
      "Rows analyzed: 3032, Rows left: 1588\n",
      "Rows analyzed: 3033, Rows left: 1587\n",
      "Rows analyzed: 3034, Rows left: 1586\n",
      "Rows analyzed: 3035, Rows left: 1585\n",
      "Rows analyzed: 3036, Rows left: 1584\n"
     ]
    },
    {
     "name": "stderr",
     "output_type": "stream",
     "text": [
      "ERROR: [youtube] ZgspZDFA9Ms: Private video. Sign in if you've been granted access to this video\n"
     ]
    },
    {
     "name": "stdout",
     "output_type": "stream",
     "text": [
      "Error checking language and duration for video ZgspZDFA9Ms: ERROR: [youtube] ZgspZDFA9Ms: Private video. Sign in if you've been granted access to this video\n",
      "Rows analyzed: 3037, Rows left: 1583\n",
      "Rows analyzed: 3038, Rows left: 1582\n"
     ]
    },
    {
     "name": "stderr",
     "output_type": "stream",
     "text": [
      "ERROR: [youtube] bAsFckqA8a4: Private video. Sign in if you've been granted access to this video\n"
     ]
    },
    {
     "name": "stdout",
     "output_type": "stream",
     "text": [
      "Error checking language and duration for video bAsFckqA8a4: ERROR: [youtube] bAsFckqA8a4: Private video. Sign in if you've been granted access to this video\n",
      "Rows analyzed: 3039, Rows left: 1581\n",
      "Rows analyzed: 3040, Rows left: 1580\n",
      "Rows analyzed: 3041, Rows left: 1579\n"
     ]
    },
    {
     "name": "stderr",
     "output_type": "stream",
     "text": [
      "ERROR: [youtube] F_MmQMfsFQM: Video unavailable. This video contains content from gedipe, who has blocked it on copyright grounds\n"
     ]
    },
    {
     "name": "stdout",
     "output_type": "stream",
     "text": [
      "Error checking language and duration for video F_MmQMfsFQM: ERROR: [youtube] F_MmQMfsFQM: Video unavailable. This video contains content from gedipe, who has blocked it on copyright grounds\n",
      "Rows analyzed: 3042, Rows left: 1578\n"
     ]
    },
    {
     "name": "stderr",
     "output_type": "stream",
     "text": [
      "ERROR: [youtube] 3NIK8aMvEzI: Private video. Sign in if you've been granted access to this video\n"
     ]
    },
    {
     "name": "stdout",
     "output_type": "stream",
     "text": [
      "Error checking language and duration for video 3NIK8aMvEzI: ERROR: [youtube] 3NIK8aMvEzI: Private video. Sign in if you've been granted access to this video\n",
      "Rows analyzed: 3043, Rows left: 1577\n"
     ]
    },
    {
     "name": "stderr",
     "output_type": "stream",
     "text": [
      "ERROR: [youtube] gZ1VfB3hmbg: Private video. Sign in if you've been granted access to this video\n"
     ]
    },
    {
     "name": "stdout",
     "output_type": "stream",
     "text": [
      "Error checking language and duration for video gZ1VfB3hmbg: ERROR: [youtube] gZ1VfB3hmbg: Private video. Sign in if you've been granted access to this video\n",
      "Rows analyzed: 3044, Rows left: 1576\n"
     ]
    },
    {
     "name": "stderr",
     "output_type": "stream",
     "text": [
      "ERROR: [youtube] sgB-7VU3NhY: Private video. Sign in if you've been granted access to this video\n"
     ]
    },
    {
     "name": "stdout",
     "output_type": "stream",
     "text": [
      "Error checking language and duration for video sgB-7VU3NhY: ERROR: [youtube] sgB-7VU3NhY: Private video. Sign in if you've been granted access to this video\n",
      "Rows analyzed: 3045, Rows left: 1575\n",
      "Rows analyzed: 3046, Rows left: 1574\n",
      "Rows analyzed: 3047, Rows left: 1573\n",
      "Rows analyzed: 3048, Rows left: 1572\n"
     ]
    },
    {
     "name": "stderr",
     "output_type": "stream",
     "text": [
      "ERROR: [youtube] G64eVNGnFbk: Private video. Sign in if you've been granted access to this video\n"
     ]
    },
    {
     "name": "stdout",
     "output_type": "stream",
     "text": [
      "Error checking language and duration for video G64eVNGnFbk: ERROR: [youtube] G64eVNGnFbk: Private video. Sign in if you've been granted access to this video\n",
      "Rows analyzed: 3049, Rows left: 1571\n",
      "Rows analyzed: 3050, Rows left: 1570\n",
      "Rows analyzed: 3051, Rows left: 1569\n",
      "Rows analyzed: 3052, Rows left: 1568\n",
      "Rows analyzed: 3053, Rows left: 1567\n",
      "Rows analyzed: 3054, Rows left: 1566\n",
      "Rows analyzed: 3055, Rows left: 1565\n",
      "Rows analyzed: 3056, Rows left: 1564\n",
      "Rows analyzed: 3057, Rows left: 1563\n",
      "Rows analyzed: 3058, Rows left: 1562\n",
      "Rows analyzed: 3059, Rows left: 1561\n",
      "Rows analyzed: 3060, Rows left: 1560\n",
      "Rows analyzed: 3061, Rows left: 1559\n",
      "Rows analyzed: 3062, Rows left: 1558\n",
      "Rows analyzed: 3063, Rows left: 1557\n",
      "Rows analyzed: 3064, Rows left: 1556\n",
      "Rows analyzed: 3065, Rows left: 1555\n",
      "Rows analyzed: 3066, Rows left: 1554\n",
      "Rows analyzed: 3067, Rows left: 1553\n",
      "Rows analyzed: 3068, Rows left: 1552\n",
      "Rows analyzed: 3069, Rows left: 1551\n",
      "Rows analyzed: 3070, Rows left: 1550\n",
      "Rows analyzed: 3071, Rows left: 1549\n",
      "Rows analyzed: 3072, Rows left: 1548\n",
      "Rows analyzed: 3073, Rows left: 1547\n",
      "Rows analyzed: 3074, Rows left: 1546\n",
      "Rows analyzed: 3075, Rows left: 1545\n"
     ]
    },
    {
     "name": "stderr",
     "output_type": "stream",
     "text": [
      "ERROR: [youtube] 2nGtIr8AYEU: Private video. Sign in if you've been granted access to this video\n"
     ]
    },
    {
     "name": "stdout",
     "output_type": "stream",
     "text": [
      "Error checking language and duration for video 2nGtIr8AYEU: ERROR: [youtube] 2nGtIr8AYEU: Private video. Sign in if you've been granted access to this video\n",
      "Rows analyzed: 3076, Rows left: 1544\n",
      "Rows analyzed: 3077, Rows left: 1543\n",
      "Rows analyzed: 3078, Rows left: 1542\n"
     ]
    },
    {
     "name": "stderr",
     "output_type": "stream",
     "text": [
      "ERROR: [youtube] 7XxzQFUXlbI: Private video. Sign in if you've been granted access to this video\n"
     ]
    },
    {
     "name": "stdout",
     "output_type": "stream",
     "text": [
      "Error checking language and duration for video 7XxzQFUXlbI: ERROR: [youtube] 7XxzQFUXlbI: Private video. Sign in if you've been granted access to this video\n",
      "Rows analyzed: 3079, Rows left: 1541\n",
      "Rows analyzed: 3080, Rows left: 1540\n",
      "Rows analyzed: 3081, Rows left: 1539\n"
     ]
    },
    {
     "name": "stderr",
     "output_type": "stream",
     "text": [
      "ERROR: [youtube] j2DGEgW-swI: Video unavailable. This video is no longer available because the YouTube account associated with this video has been terminated.\n"
     ]
    },
    {
     "name": "stdout",
     "output_type": "stream",
     "text": [
      "Error checking language and duration for video j2DGEgW-swI: ERROR: [youtube] j2DGEgW-swI: Video unavailable. This video is no longer available because the YouTube account associated with this video has been terminated.\n",
      "Rows analyzed: 3082, Rows left: 1538\n",
      "Rows analyzed: 3083, Rows left: 1537\n",
      "Rows analyzed: 3084, Rows left: 1536\n",
      "Rows analyzed: 3085, Rows left: 1535\n",
      "Rows analyzed: 3086, Rows left: 1534\n"
     ]
    },
    {
     "name": "stderr",
     "output_type": "stream",
     "text": [
      "ERROR: [youtube] yDGtJy2T_Sk: Private video. Sign in if you've been granted access to this video\n"
     ]
    },
    {
     "name": "stdout",
     "output_type": "stream",
     "text": [
      "Error checking language and duration for video yDGtJy2T_Sk: ERROR: [youtube] yDGtJy2T_Sk: Private video. Sign in if you've been granted access to this video\n",
      "Rows analyzed: 3087, Rows left: 1533\n",
      "Rows analyzed: 3088, Rows left: 1532\n",
      "Rows analyzed: 3089, Rows left: 1531\n",
      "Rows analyzed: 3090, Rows left: 1530\n",
      "Rows analyzed: 3091, Rows left: 1529\n",
      "Rows analyzed: 3092, Rows left: 1528\n",
      "Rows analyzed: 3093, Rows left: 1527\n"
     ]
    },
    {
     "name": "stderr",
     "output_type": "stream",
     "text": [
      "ERROR: [youtube] dXXf95wdqeg: Private video. Sign in if you've been granted access to this video\n"
     ]
    },
    {
     "name": "stdout",
     "output_type": "stream",
     "text": [
      "Error checking language and duration for video dXXf95wdqeg: ERROR: [youtube] dXXf95wdqeg: Private video. Sign in if you've been granted access to this video\n",
      "Rows analyzed: 3094, Rows left: 1526\n",
      "Rows analyzed: 3095, Rows left: 1525\n",
      "Rows analyzed: 3096, Rows left: 1524\n",
      "Rows analyzed: 3097, Rows left: 1523\n",
      "Rows analyzed: 3098, Rows left: 1522\n",
      "Rows analyzed: 3099, Rows left: 1521\n",
      "Rows analyzed: 3100, Rows left: 1520\n",
      "Rows analyzed: 3101, Rows left: 1519\n",
      "Rows analyzed: 3102, Rows left: 1518\n"
     ]
    },
    {
     "name": "stderr",
     "output_type": "stream",
     "text": [
      "ERROR: [youtube] 7KHcUKQ3JM4: Video unavailable. This video is no longer available because the YouTube account associated with this video has been terminated.\n"
     ]
    },
    {
     "name": "stdout",
     "output_type": "stream",
     "text": [
      "Error checking language and duration for video 7KHcUKQ3JM4: ERROR: [youtube] 7KHcUKQ3JM4: Video unavailable. This video is no longer available because the YouTube account associated with this video has been terminated.\n",
      "Rows analyzed: 3103, Rows left: 1517\n"
     ]
    },
    {
     "name": "stderr",
     "output_type": "stream",
     "text": [
      "ERROR: [youtube] rgl4DlUWQ_c: Private video. Sign in if you've been granted access to this video\n"
     ]
    },
    {
     "name": "stdout",
     "output_type": "stream",
     "text": [
      "Error checking language and duration for video rgl4DlUWQ_c: ERROR: [youtube] rgl4DlUWQ_c: Private video. Sign in if you've been granted access to this video\n",
      "Rows analyzed: 3104, Rows left: 1516\n"
     ]
    },
    {
     "name": "stderr",
     "output_type": "stream",
     "text": [
      "ERROR: [youtube] ssi9TIOqdVU: Private video. Sign in if you've been granted access to this video\n"
     ]
    },
    {
     "name": "stdout",
     "output_type": "stream",
     "text": [
      "Error checking language and duration for video ssi9TIOqdVU: ERROR: [youtube] ssi9TIOqdVU: Private video. Sign in if you've been granted access to this video\n",
      "Rows analyzed: 3105, Rows left: 1515\n",
      "Rows analyzed: 3106, Rows left: 1514\n",
      "Rows analyzed: 3107, Rows left: 1513\n",
      "Rows analyzed: 3108, Rows left: 1512\n",
      "Rows analyzed: 3109, Rows left: 1511\n",
      "Rows analyzed: 3110, Rows left: 1510\n"
     ]
    },
    {
     "name": "stderr",
     "output_type": "stream",
     "text": [
      "ERROR: [youtube] 6I06f4yXGZg: Private video. Sign in if you've been granted access to this video\n"
     ]
    },
    {
     "name": "stdout",
     "output_type": "stream",
     "text": [
      "Error checking language and duration for video 6I06f4yXGZg: ERROR: [youtube] 6I06f4yXGZg: Private video. Sign in if you've been granted access to this video\n",
      "Rows analyzed: 3111, Rows left: 1509\n",
      "Rows analyzed: 3112, Rows left: 1508\n",
      "Rows analyzed: 3113, Rows left: 1507\n",
      "Rows analyzed: 3114, Rows left: 1506\n",
      "Rows analyzed: 3115, Rows left: 1505\n",
      "Rows analyzed: 3116, Rows left: 1504\n"
     ]
    },
    {
     "name": "stderr",
     "output_type": "stream",
     "text": [
      "ERROR: [youtube] kZSPPCAtvPs: Private video. Sign in if you've been granted access to this video\n"
     ]
    },
    {
     "name": "stdout",
     "output_type": "stream",
     "text": [
      "Error checking language and duration for video kZSPPCAtvPs: ERROR: [youtube] kZSPPCAtvPs: Private video. Sign in if you've been granted access to this video\n",
      "Rows analyzed: 3117, Rows left: 1503\n"
     ]
    },
    {
     "name": "stderr",
     "output_type": "stream",
     "text": [
      "ERROR: [youtube] 9YzOLlvukRI: Private video. Sign in if you've been granted access to this video\n"
     ]
    },
    {
     "name": "stdout",
     "output_type": "stream",
     "text": [
      "Error checking language and duration for video 9YzOLlvukRI: ERROR: [youtube] 9YzOLlvukRI: Private video. Sign in if you've been granted access to this video\n",
      "Rows analyzed: 3118, Rows left: 1502\n",
      "Rows analyzed: 3119, Rows left: 1501\n",
      "Rows analyzed: 3120, Rows left: 1500\n",
      "Rows analyzed: 3121, Rows left: 1499\n",
      "Rows analyzed: 3122, Rows left: 1498\n"
     ]
    },
    {
     "name": "stderr",
     "output_type": "stream",
     "text": [
      "ERROR: [youtube] -3tH1xXMiZo: Private video. Sign in if you've been granted access to this video\n"
     ]
    },
    {
     "name": "stdout",
     "output_type": "stream",
     "text": [
      "Error checking language and duration for video -3tH1xXMiZo: ERROR: [youtube] -3tH1xXMiZo: Private video. Sign in if you've been granted access to this video\n",
      "Rows analyzed: 3123, Rows left: 1497\n",
      "Rows analyzed: 3124, Rows left: 1496\n",
      "Rows analyzed: 3125, Rows left: 1495\n",
      "Rows analyzed: 3126, Rows left: 1494\n",
      "Rows analyzed: 3127, Rows left: 1493\n",
      "Rows analyzed: 3128, Rows left: 1492\n",
      "Rows analyzed: 3129, Rows left: 1491\n",
      "Rows analyzed: 3130, Rows left: 1490\n",
      "Rows analyzed: 3131, Rows left: 1489\n",
      "Rows analyzed: 3132, Rows left: 1488\n",
      "Rows analyzed: 3133, Rows left: 1487\n",
      "Rows analyzed: 3134, Rows left: 1486\n",
      "Rows analyzed: 3135, Rows left: 1485\n",
      "Rows analyzed: 3136, Rows left: 1484\n"
     ]
    },
    {
     "name": "stderr",
     "output_type": "stream",
     "text": [
      "ERROR: [youtube] nvSArGsRUfc: Private video. Sign in if you've been granted access to this video\n"
     ]
    },
    {
     "name": "stdout",
     "output_type": "stream",
     "text": [
      "Error checking language and duration for video nvSArGsRUfc: ERROR: [youtube] nvSArGsRUfc: Private video. Sign in if you've been granted access to this video\n",
      "Rows analyzed: 3137, Rows left: 1483\n",
      "Rows analyzed: 3138, Rows left: 1482\n",
      "Rows analyzed: 3139, Rows left: 1481\n",
      "Rows analyzed: 3140, Rows left: 1480\n",
      "Rows analyzed: 3141, Rows left: 1479\n",
      "Rows analyzed: 3142, Rows left: 1478\n",
      "Rows analyzed: 3143, Rows left: 1477\n"
     ]
    },
    {
     "name": "stderr",
     "output_type": "stream",
     "text": [
      "ERROR: [youtube] HrLn14NHLpg: Video unavailable\n"
     ]
    },
    {
     "name": "stdout",
     "output_type": "stream",
     "text": [
      "Error checking language and duration for video HrLn14NHLpg: ERROR: [youtube] HrLn14NHLpg: Video unavailable\n",
      "Rows analyzed: 3144, Rows left: 1476\n",
      "Rows analyzed: 3145, Rows left: 1475\n",
      "Rows analyzed: 3146, Rows left: 1474\n",
      "Rows analyzed: 3147, Rows left: 1473\n",
      "Rows analyzed: 3148, Rows left: 1472\n",
      "Rows analyzed: 3149, Rows left: 1471\n",
      "Rows analyzed: 3150, Rows left: 1470\n"
     ]
    },
    {
     "name": "stderr",
     "output_type": "stream",
     "text": [
      "ERROR: [youtube] HIoxmd8iu2k: Video unavailable\n"
     ]
    },
    {
     "name": "stdout",
     "output_type": "stream",
     "text": [
      "Error checking language and duration for video HIoxmd8iu2k: ERROR: [youtube] HIoxmd8iu2k: Video unavailable\n",
      "Rows analyzed: 3151, Rows left: 1469\n",
      "Rows analyzed: 3152, Rows left: 1468\n",
      "Rows analyzed: 3153, Rows left: 1467\n",
      "Rows analyzed: 3154, Rows left: 1466\n",
      "Rows analyzed: 3155, Rows left: 1465\n",
      "Rows analyzed: 3156, Rows left: 1464\n",
      "Rows analyzed: 3157, Rows left: 1463\n"
     ]
    },
    {
     "name": "stderr",
     "output_type": "stream",
     "text": [
      "ERROR: [youtube] gD5OS83QCUM: Private video. Sign in if you've been granted access to this video\n"
     ]
    },
    {
     "name": "stdout",
     "output_type": "stream",
     "text": [
      "Error checking language and duration for video gD5OS83QCUM: ERROR: [youtube] gD5OS83QCUM: Private video. Sign in if you've been granted access to this video\n",
      "Rows analyzed: 3158, Rows left: 1462\n",
      "Rows analyzed: 3159, Rows left: 1461\n",
      "Rows analyzed: 3160, Rows left: 1460\n",
      "Rows analyzed: 3161, Rows left: 1459\n",
      "Rows analyzed: 3162, Rows left: 1458\n",
      "Rows analyzed: 3163, Rows left: 1457\n"
     ]
    },
    {
     "name": "stderr",
     "output_type": "stream",
     "text": [
      "ERROR: [youtube] _gA-EsfBYiw: Video unavailable\n"
     ]
    },
    {
     "name": "stdout",
     "output_type": "stream",
     "text": [
      "Error checking language and duration for video _gA-EsfBYiw: ERROR: [youtube] _gA-EsfBYiw: Video unavailable\n",
      "Rows analyzed: 3164, Rows left: 1456\n",
      "Rows analyzed: 3165, Rows left: 1455\n"
     ]
    },
    {
     "name": "stderr",
     "output_type": "stream",
     "text": [
      "ERROR: [youtube] EFaJyyc2Dw0: Video unavailable. This video is no longer available because the YouTube account associated with this video has been terminated.\n"
     ]
    },
    {
     "name": "stdout",
     "output_type": "stream",
     "text": [
      "Error checking language and duration for video EFaJyyc2Dw0: ERROR: [youtube] EFaJyyc2Dw0: Video unavailable. This video is no longer available because the YouTube account associated with this video has been terminated.\n",
      "Rows analyzed: 3166, Rows left: 1454\n",
      "Rows analyzed: 3167, Rows left: 1453\n",
      "Rows analyzed: 3168, Rows left: 1452\n"
     ]
    },
    {
     "name": "stderr",
     "output_type": "stream",
     "text": [
      "ERROR: [youtube] 11UXpojLA-Y: Private video. Sign in if you've been granted access to this video\n"
     ]
    },
    {
     "name": "stdout",
     "output_type": "stream",
     "text": [
      "Error checking language and duration for video 11UXpojLA-Y: ERROR: [youtube] 11UXpojLA-Y: Private video. Sign in if you've been granted access to this video\n",
      "Rows analyzed: 3169, Rows left: 1451\n",
      "Rows analyzed: 3170, Rows left: 1450\n",
      "Rows analyzed: 3171, Rows left: 1449\n",
      "Rows analyzed: 3172, Rows left: 1448\n",
      "Rows analyzed: 3173, Rows left: 1447\n",
      "Rows analyzed: 3174, Rows left: 1446\n",
      "Rows analyzed: 3175, Rows left: 1445\n",
      "Rows analyzed: 3176, Rows left: 1444\n"
     ]
    },
    {
     "name": "stderr",
     "output_type": "stream",
     "text": [
      "ERROR: [youtube] FgUMipX3qgo: Video unavailable\n"
     ]
    },
    {
     "name": "stdout",
     "output_type": "stream",
     "text": [
      "Error checking language and duration for video FgUMipX3qgo: ERROR: [youtube] FgUMipX3qgo: Video unavailable\n",
      "Rows analyzed: 3177, Rows left: 1443\n"
     ]
    },
    {
     "name": "stderr",
     "output_type": "stream",
     "text": [
      "ERROR: [youtube] sfAXlRx3tmw: Video unavailable. This video is no longer available because the YouTube account associated with this video has been terminated.\n"
     ]
    },
    {
     "name": "stdout",
     "output_type": "stream",
     "text": [
      "Error checking language and duration for video sfAXlRx3tmw: ERROR: [youtube] sfAXlRx3tmw: Video unavailable. This video is no longer available because the YouTube account associated with this video has been terminated.\n",
      "Rows analyzed: 3178, Rows left: 1442\n",
      "Rows analyzed: 3179, Rows left: 1441\n",
      "Rows analyzed: 3180, Rows left: 1440\n",
      "Rows analyzed: 3181, Rows left: 1439\n",
      "Rows analyzed: 3182, Rows left: 1438\n"
     ]
    },
    {
     "name": "stderr",
     "output_type": "stream",
     "text": [
      "ERROR: [youtube] IHQ8ofjn3Jw: Private video. Sign in if you've been granted access to this video\n"
     ]
    },
    {
     "name": "stdout",
     "output_type": "stream",
     "text": [
      "Error checking language and duration for video IHQ8ofjn3Jw: ERROR: [youtube] IHQ8ofjn3Jw: Private video. Sign in if you've been granted access to this video\n",
      "Rows analyzed: 3183, Rows left: 1437\n",
      "Rows analyzed: 3184, Rows left: 1436\n",
      "Rows analyzed: 3185, Rows left: 1435\n",
      "Rows analyzed: 3186, Rows left: 1434\n"
     ]
    },
    {
     "name": "stderr",
     "output_type": "stream",
     "text": [
      "ERROR: [youtube] AJqqx2rP79Y: Private video. Sign in if you've been granted access to this video\n"
     ]
    },
    {
     "name": "stdout",
     "output_type": "stream",
     "text": [
      "Error checking language and duration for video AJqqx2rP79Y: ERROR: [youtube] AJqqx2rP79Y: Private video. Sign in if you've been granted access to this video\n",
      "Rows analyzed: 3187, Rows left: 1433\n",
      "Rows analyzed: 3188, Rows left: 1432\n",
      "Rows analyzed: 3189, Rows left: 1431\n",
      "Rows analyzed: 3190, Rows left: 1430\n",
      "Rows analyzed: 3191, Rows left: 1429\n",
      "Rows analyzed: 3192, Rows left: 1428\n",
      "Rows analyzed: 3193, Rows left: 1427\n",
      "Rows analyzed: 3194, Rows left: 1426\n"
     ]
    },
    {
     "name": "stderr",
     "output_type": "stream",
     "text": [
      "ERROR: [youtube] BUPgOPmJLhI: Private video. Sign in if you've been granted access to this video\n"
     ]
    },
    {
     "name": "stdout",
     "output_type": "stream",
     "text": [
      "Error checking language and duration for video BUPgOPmJLhI: ERROR: [youtube] BUPgOPmJLhI: Private video. Sign in if you've been granted access to this video\n",
      "Rows analyzed: 3195, Rows left: 1425\n",
      "Rows analyzed: 3196, Rows left: 1424\n",
      "Rows analyzed: 3197, Rows left: 1423\n"
     ]
    },
    {
     "name": "stderr",
     "output_type": "stream",
     "text": [
      "ERROR: [youtube] z8r5awdF52M: Video unavailable. The uploader has not made this video available in your country\n"
     ]
    },
    {
     "name": "stdout",
     "output_type": "stream",
     "text": [
      "Error checking language and duration for video z8r5awdF52M: ERROR: [youtube] z8r5awdF52M: Video unavailable. The uploader has not made this video available in your country\n",
      "Rows analyzed: 3198, Rows left: 1422\n"
     ]
    },
    {
     "name": "stderr",
     "output_type": "stream",
     "text": [
      "ERROR: [youtube] B1wJu6je_YI: Video unavailable. This video is no longer available because the YouTube account associated with this video has been terminated.\n"
     ]
    },
    {
     "name": "stdout",
     "output_type": "stream",
     "text": [
      "Error checking language and duration for video B1wJu6je_YI: ERROR: [youtube] B1wJu6je_YI: Video unavailable. This video is no longer available because the YouTube account associated with this video has been terminated.\n",
      "Rows analyzed: 3199, Rows left: 1421\n"
     ]
    },
    {
     "name": "stderr",
     "output_type": "stream",
     "text": [
      "ERROR: [youtube] 4WrbE91LdMY: Video unavailable\n"
     ]
    },
    {
     "name": "stdout",
     "output_type": "stream",
     "text": [
      "Error checking language and duration for video 4WrbE91LdMY: ERROR: [youtube] 4WrbE91LdMY: Video unavailable\n",
      "Rows analyzed: 3200, Rows left: 1420\n",
      "Rows analyzed: 3201, Rows left: 1419\n",
      "Rows analyzed: 3202, Rows left: 1418\n",
      "Rows analyzed: 3203, Rows left: 1417\n"
     ]
    },
    {
     "name": "stderr",
     "output_type": "stream",
     "text": [
      "ERROR: [youtube] k5_5HSZ12oo: Video unavailable. This video is no longer available due to a copyright claim by CBS\n"
     ]
    },
    {
     "name": "stdout",
     "output_type": "stream",
     "text": [
      "Error checking language and duration for video k5_5HSZ12oo: ERROR: [youtube] k5_5HSZ12oo: Video unavailable. This video is no longer available due to a copyright claim by CBS\n",
      "Rows analyzed: 3204, Rows left: 1416\n",
      "Rows analyzed: 3205, Rows left: 1415\n",
      "Rows analyzed: 3206, Rows left: 1414\n",
      "Rows analyzed: 3207, Rows left: 1413\n",
      "Rows analyzed: 3208, Rows left: 1412\n"
     ]
    },
    {
     "name": "stderr",
     "output_type": "stream",
     "text": [
      "ERROR: [youtube] Ipivrbnsz8A: Private video. Sign in if you've been granted access to this video\n"
     ]
    },
    {
     "name": "stdout",
     "output_type": "stream",
     "text": [
      "Error checking language and duration for video Ipivrbnsz8A: ERROR: [youtube] Ipivrbnsz8A: Private video. Sign in if you've been granted access to this video\n",
      "Rows analyzed: 3209, Rows left: 1411\n",
      "Rows analyzed: 3210, Rows left: 1410\n",
      "Rows analyzed: 3211, Rows left: 1409\n"
     ]
    },
    {
     "name": "stderr",
     "output_type": "stream",
     "text": [
      "ERROR: [youtube] O5svrAoOris: Video unavailable\n"
     ]
    },
    {
     "name": "stdout",
     "output_type": "stream",
     "text": [
      "Error checking language and duration for video O5svrAoOris: ERROR: [youtube] O5svrAoOris: Video unavailable\n",
      "Rows analyzed: 3212, Rows left: 1408\n"
     ]
    },
    {
     "name": "stderr",
     "output_type": "stream",
     "text": [
      "ERROR: [youtube] gU196vdTyVY: Private video. Sign in if you've been granted access to this video\n"
     ]
    },
    {
     "name": "stdout",
     "output_type": "stream",
     "text": [
      "Error checking language and duration for video gU196vdTyVY: ERROR: [youtube] gU196vdTyVY: Private video. Sign in if you've been granted access to this video\n",
      "Rows analyzed: 3213, Rows left: 1407\n",
      "Rows analyzed: 3214, Rows left: 1406\n"
     ]
    },
    {
     "name": "stderr",
     "output_type": "stream",
     "text": [
      "ERROR: [youtube] ZhN45_pOIUM: Private video. Sign in if you've been granted access to this video\n"
     ]
    },
    {
     "name": "stdout",
     "output_type": "stream",
     "text": [
      "Error checking language and duration for video ZhN45_pOIUM: ERROR: [youtube] ZhN45_pOIUM: Private video. Sign in if you've been granted access to this video\n",
      "Rows analyzed: 3215, Rows left: 1405\n",
      "Rows analyzed: 3216, Rows left: 1404\n",
      "Rows analyzed: 3217, Rows left: 1403\n"
     ]
    },
    {
     "name": "stderr",
     "output_type": "stream",
     "text": [
      "ERROR: [youtube] Uokm1c-0oKQ: Private video. Sign in if you've been granted access to this video\n"
     ]
    },
    {
     "name": "stdout",
     "output_type": "stream",
     "text": [
      "Error checking language and duration for video Uokm1c-0oKQ: ERROR: [youtube] Uokm1c-0oKQ: Private video. Sign in if you've been granted access to this video\n",
      "Rows analyzed: 3218, Rows left: 1402\n"
     ]
    },
    {
     "name": "stderr",
     "output_type": "stream",
     "text": [
      "ERROR: [youtube] oGngnWiZm9c: Private video. Sign in if you've been granted access to this video\n"
     ]
    },
    {
     "name": "stdout",
     "output_type": "stream",
     "text": [
      "Error checking language and duration for video oGngnWiZm9c: ERROR: [youtube] oGngnWiZm9c: Private video. Sign in if you've been granted access to this video\n",
      "Rows analyzed: 3219, Rows left: 1401\n",
      "Rows analyzed: 3220, Rows left: 1400\n",
      "Rows analyzed: 3221, Rows left: 1399\n",
      "Rows analyzed: 3222, Rows left: 1398\n",
      "Rows analyzed: 3223, Rows left: 1397\n",
      "Rows analyzed: 3224, Rows left: 1396\n",
      "Rows analyzed: 3225, Rows left: 1395\n",
      "Rows analyzed: 3226, Rows left: 1394\n",
      "Rows analyzed: 3227, Rows left: 1393\n",
      "Rows analyzed: 3228, Rows left: 1392\n",
      "Rows analyzed: 3229, Rows left: 1391\n",
      "Rows analyzed: 3230, Rows left: 1390\n",
      "Rows analyzed: 3231, Rows left: 1389\n",
      "Rows analyzed: 3232, Rows left: 1388\n",
      "Rows analyzed: 3233, Rows left: 1387\n"
     ]
    },
    {
     "name": "stderr",
     "output_type": "stream",
     "text": [
      "ERROR: [youtube] TzaKorCgedQ: Private video. Sign in if you've been granted access to this video\n"
     ]
    },
    {
     "name": "stdout",
     "output_type": "stream",
     "text": [
      "Error checking language and duration for video TzaKorCgedQ: ERROR: [youtube] TzaKorCgedQ: Private video. Sign in if you've been granted access to this video\n",
      "Rows analyzed: 3234, Rows left: 1386\n",
      "Rows analyzed: 3235, Rows left: 1385\n"
     ]
    },
    {
     "name": "stderr",
     "output_type": "stream",
     "text": [
      "ERROR: [youtube] f-rMKaGe6CA: This video has been removed for violating YouTube's policy on nudity or sexual content\n"
     ]
    },
    {
     "name": "stdout",
     "output_type": "stream",
     "text": [
      "Error checking language and duration for video f-rMKaGe6CA: ERROR: [youtube] f-rMKaGe6CA: This video has been removed for violating YouTube's policy on nudity or sexual content\n",
      "Rows analyzed: 3236, Rows left: 1384\n",
      "Rows analyzed: 3237, Rows left: 1383\n",
      "Rows analyzed: 3238, Rows left: 1382\n"
     ]
    },
    {
     "name": "stderr",
     "output_type": "stream",
     "text": [
      "ERROR: [youtube] SfovmBmRJL0: Private video. Sign in if you've been granted access to this video\n"
     ]
    },
    {
     "name": "stdout",
     "output_type": "stream",
     "text": [
      "Error checking language and duration for video SfovmBmRJL0: ERROR: [youtube] SfovmBmRJL0: Private video. Sign in if you've been granted access to this video\n",
      "Rows analyzed: 3239, Rows left: 1381\n",
      "Rows analyzed: 3240, Rows left: 1380\n",
      "Rows analyzed: 3241, Rows left: 1379\n"
     ]
    },
    {
     "name": "stderr",
     "output_type": "stream",
     "text": [
      "ERROR: [youtube] SEe8iinEQE8: Video unavailable. This video is no longer available because the YouTube account associated with this video has been terminated.\n"
     ]
    },
    {
     "name": "stdout",
     "output_type": "stream",
     "text": [
      "Error checking language and duration for video SEe8iinEQE8: ERROR: [youtube] SEe8iinEQE8: Video unavailable. This video is no longer available because the YouTube account associated with this video has been terminated.\n",
      "Rows analyzed: 3242, Rows left: 1378\n",
      "Rows analyzed: 3243, Rows left: 1377\n"
     ]
    },
    {
     "name": "stderr",
     "output_type": "stream",
     "text": [
      "ERROR: [youtube] ZcAJ8-lnW-Y: Video unavailable\n"
     ]
    },
    {
     "name": "stdout",
     "output_type": "stream",
     "text": [
      "Error checking language and duration for video ZcAJ8-lnW-Y: ERROR: [youtube] ZcAJ8-lnW-Y: Video unavailable\n",
      "Rows analyzed: 3244, Rows left: 1376\n"
     ]
    },
    {
     "name": "stderr",
     "output_type": "stream",
     "text": [
      "ERROR: [youtube] RBGpAie-P_Y: Video unavailable. This video is no longer available because the YouTube account associated with this video has been terminated.\n"
     ]
    },
    {
     "name": "stdout",
     "output_type": "stream",
     "text": [
      "Error checking language and duration for video RBGpAie-P_Y: ERROR: [youtube] RBGpAie-P_Y: Video unavailable. This video is no longer available because the YouTube account associated with this video has been terminated.\n",
      "Rows analyzed: 3245, Rows left: 1375\n",
      "Rows analyzed: 3246, Rows left: 1374\n",
      "Rows analyzed: 3247, Rows left: 1373\n",
      "Rows analyzed: 3248, Rows left: 1372\n",
      "Rows analyzed: 3249, Rows left: 1371\n",
      "Rows analyzed: 3250, Rows left: 1370\n",
      "Rows analyzed: 3251, Rows left: 1369\n",
      "Rows analyzed: 3252, Rows left: 1368\n"
     ]
    },
    {
     "name": "stderr",
     "output_type": "stream",
     "text": [
      "ERROR: [youtube] fyWQfx-tTUo: Private video. Sign in if you've been granted access to this video\n"
     ]
    },
    {
     "name": "stdout",
     "output_type": "stream",
     "text": [
      "Error checking language and duration for video fyWQfx-tTUo: ERROR: [youtube] fyWQfx-tTUo: Private video. Sign in if you've been granted access to this video\n",
      "Rows analyzed: 3253, Rows left: 1367\n"
     ]
    },
    {
     "name": "stderr",
     "output_type": "stream",
     "text": [
      "ERROR: [youtube] Mem0dlukl7c: Video unavailable\n"
     ]
    },
    {
     "name": "stdout",
     "output_type": "stream",
     "text": [
      "Error checking language and duration for video Mem0dlukl7c: ERROR: [youtube] Mem0dlukl7c: Video unavailable\n",
      "Rows analyzed: 3254, Rows left: 1366\n",
      "Rows analyzed: 3255, Rows left: 1365\n",
      "Rows analyzed: 3256, Rows left: 1364\n",
      "Rows analyzed: 3257, Rows left: 1363\n",
      "Rows analyzed: 3258, Rows left: 1362\n",
      "Rows analyzed: 3259, Rows left: 1361\n",
      "Rows analyzed: 3260, Rows left: 1360\n"
     ]
    },
    {
     "name": "stderr",
     "output_type": "stream",
     "text": [
      "ERROR: [youtube] bkefDbPu-9A: Private video. Sign in if you've been granted access to this video\n"
     ]
    },
    {
     "name": "stdout",
     "output_type": "stream",
     "text": [
      "Error checking language and duration for video bkefDbPu-9A: ERROR: [youtube] bkefDbPu-9A: Private video. Sign in if you've been granted access to this video\n",
      "Rows analyzed: 3261, Rows left: 1359\n",
      "Rows analyzed: 3262, Rows left: 1358\n",
      "Rows analyzed: 3263, Rows left: 1357\n",
      "Rows analyzed: 3264, Rows left: 1356\n",
      "Rows analyzed: 3265, Rows left: 1355\n",
      "Rows analyzed: 3266, Rows left: 1354\n",
      "Rows analyzed: 3267, Rows left: 1353\n",
      "Rows analyzed: 3268, Rows left: 1352\n",
      "Rows analyzed: 3269, Rows left: 1351\n",
      "Rows analyzed: 3270, Rows left: 1350\n",
      "Rows analyzed: 3271, Rows left: 1349\n",
      "Rows analyzed: 3272, Rows left: 1348\n",
      "Rows analyzed: 3273, Rows left: 1347\n",
      "Rows analyzed: 3274, Rows left: 1346\n"
     ]
    },
    {
     "name": "stderr",
     "output_type": "stream",
     "text": [
      "ERROR: [youtube] RkmFHdNpgRg: This video has been removed for violating YouTube's policy on hate speech. Learn more about combating hate speech in your country.\n"
     ]
    },
    {
     "name": "stdout",
     "output_type": "stream",
     "text": [
      "Error checking language and duration for video RkmFHdNpgRg: ERROR: [youtube] RkmFHdNpgRg: This video has been removed for violating YouTube's policy on hate speech. Learn more about combating hate speech in your country.\n",
      "Rows analyzed: 3275, Rows left: 1345\n",
      "Rows analyzed: 3276, Rows left: 1344\n"
     ]
    },
    {
     "name": "stderr",
     "output_type": "stream",
     "text": [
      "ERROR: [youtube] zzGcvHI0DHU: Video unavailable\n"
     ]
    },
    {
     "name": "stdout",
     "output_type": "stream",
     "text": [
      "Error checking language and duration for video zzGcvHI0DHU: ERROR: [youtube] zzGcvHI0DHU: Video unavailable\n",
      "Rows analyzed: 3277, Rows left: 1343\n",
      "Rows analyzed: 3278, Rows left: 1342\n",
      "Rows analyzed: 3279, Rows left: 1341\n",
      "Rows analyzed: 3280, Rows left: 1340\n",
      "Rows analyzed: 3281, Rows left: 1339\n",
      "Rows analyzed: 3282, Rows left: 1338\n"
     ]
    },
    {
     "name": "stderr",
     "output_type": "stream",
     "text": [
      "ERROR: [youtube] QyH5l7Xh3Uw: Private video. Sign in if you've been granted access to this video\n"
     ]
    },
    {
     "name": "stdout",
     "output_type": "stream",
     "text": [
      "Error checking language and duration for video QyH5l7Xh3Uw: ERROR: [youtube] QyH5l7Xh3Uw: Private video. Sign in if you've been granted access to this video\n",
      "Rows analyzed: 3283, Rows left: 1337\n",
      "Rows analyzed: 3284, Rows left: 1336\n",
      "Rows analyzed: 3285, Rows left: 1335\n",
      "Rows analyzed: 3286, Rows left: 1334\n"
     ]
    },
    {
     "name": "stderr",
     "output_type": "stream",
     "text": [
      "ERROR: [youtube] pD9oI1aX0Yw: Video unavailable\n"
     ]
    },
    {
     "name": "stdout",
     "output_type": "stream",
     "text": [
      "Error checking language and duration for video pD9oI1aX0Yw: ERROR: [youtube] pD9oI1aX0Yw: Video unavailable\n",
      "Rows analyzed: 3287, Rows left: 1333\n",
      "Rows analyzed: 3288, Rows left: 1332\n"
     ]
    },
    {
     "name": "stderr",
     "output_type": "stream",
     "text": [
      "ERROR: [youtube] JfTkopml7bw: Private video. Sign in if you've been granted access to this video\n"
     ]
    },
    {
     "name": "stdout",
     "output_type": "stream",
     "text": [
      "Error checking language and duration for video JfTkopml7bw: ERROR: [youtube] JfTkopml7bw: Private video. Sign in if you've been granted access to this video\n",
      "Rows analyzed: 3289, Rows left: 1331\n",
      "Rows analyzed: 3290, Rows left: 1330\n",
      "Rows analyzed: 3291, Rows left: 1329\n",
      "Rows analyzed: 3292, Rows left: 1328\n"
     ]
    },
    {
     "name": "stderr",
     "output_type": "stream",
     "text": [
      "ERROR: [youtube] zMsAYUjYeJ0: Private video. Sign in if you've been granted access to this video\n"
     ]
    },
    {
     "name": "stdout",
     "output_type": "stream",
     "text": [
      "Error checking language and duration for video zMsAYUjYeJ0: ERROR: [youtube] zMsAYUjYeJ0: Private video. Sign in if you've been granted access to this video\n",
      "Rows analyzed: 3293, Rows left: 1327\n",
      "Rows analyzed: 3294, Rows left: 1326\n",
      "Rows analyzed: 3295, Rows left: 1325\n",
      "Rows analyzed: 3296, Rows left: 1324\n",
      "Rows analyzed: 3297, Rows left: 1323\n",
      "Rows analyzed: 3298, Rows left: 1322\n",
      "Rows analyzed: 3299, Rows left: 1321\n",
      "Rows analyzed: 3300, Rows left: 1320\n",
      "Rows analyzed: 3301, Rows left: 1319\n"
     ]
    },
    {
     "name": "stderr",
     "output_type": "stream",
     "text": [
      "ERROR: [youtube] p-lXBQQeCfQ: Private video. Sign in if you've been granted access to this video\n"
     ]
    },
    {
     "name": "stdout",
     "output_type": "stream",
     "text": [
      "Error checking language and duration for video p-lXBQQeCfQ: ERROR: [youtube] p-lXBQQeCfQ: Private video. Sign in if you've been granted access to this video\n",
      "Rows analyzed: 3302, Rows left: 1318\n",
      "Rows analyzed: 3303, Rows left: 1317\n",
      "Rows analyzed: 3304, Rows left: 1316\n",
      "Rows analyzed: 3305, Rows left: 1315\n",
      "Rows analyzed: 3306, Rows left: 1314\n",
      "Rows analyzed: 3307, Rows left: 1313\n",
      "Rows analyzed: 3308, Rows left: 1312\n",
      "Rows analyzed: 3309, Rows left: 1311\n",
      "Rows analyzed: 3310, Rows left: 1310\n",
      "Rows analyzed: 3311, Rows left: 1309\n",
      "Rows analyzed: 3312, Rows left: 1308\n",
      "Rows analyzed: 3313, Rows left: 1307\n",
      "Rows analyzed: 3314, Rows left: 1306\n",
      "Rows analyzed: 3315, Rows left: 1305\n",
      "Rows analyzed: 3316, Rows left: 1304\n",
      "Rows analyzed: 3317, Rows left: 1303\n",
      "Rows analyzed: 3318, Rows left: 1302\n",
      "Rows analyzed: 3319, Rows left: 1301\n"
     ]
    },
    {
     "name": "stderr",
     "output_type": "stream",
     "text": [
      "ERROR: [youtube] M9HHOBY63ho: Video unavailable\n"
     ]
    },
    {
     "name": "stdout",
     "output_type": "stream",
     "text": [
      "Error checking language and duration for video M9HHOBY63ho: ERROR: [youtube] M9HHOBY63ho: Video unavailable\n",
      "Rows analyzed: 3320, Rows left: 1300\n",
      "Rows analyzed: 3321, Rows left: 1299\n",
      "Rows analyzed: 3322, Rows left: 1298\n",
      "Rows analyzed: 3323, Rows left: 1297\n",
      "Rows analyzed: 3324, Rows left: 1296\n"
     ]
    },
    {
     "name": "stderr",
     "output_type": "stream",
     "text": [
      "ERROR: [youtube] cNo8HAEgzbo: Video unavailable\n"
     ]
    },
    {
     "name": "stdout",
     "output_type": "stream",
     "text": [
      "Error checking language and duration for video cNo8HAEgzbo: ERROR: [youtube] cNo8HAEgzbo: Video unavailable\n",
      "Rows analyzed: 3325, Rows left: 1295\n",
      "Rows analyzed: 3326, Rows left: 1294\n",
      "Rows analyzed: 3327, Rows left: 1293\n",
      "Rows analyzed: 3328, Rows left: 1292\n"
     ]
    },
    {
     "name": "stderr",
     "output_type": "stream",
     "text": [
      "ERROR: [youtube] wYx3927OtNc: Private video. Sign in if you've been granted access to this video\n"
     ]
    },
    {
     "name": "stdout",
     "output_type": "stream",
     "text": [
      "Error checking language and duration for video wYx3927OtNc: ERROR: [youtube] wYx3927OtNc: Private video. Sign in if you've been granted access to this video\n",
      "Rows analyzed: 3329, Rows left: 1291\n",
      "Rows analyzed: 3330, Rows left: 1290\n",
      "Rows analyzed: 3331, Rows left: 1289\n",
      "Rows analyzed: 3332, Rows left: 1288\n",
      "Rows analyzed: 3333, Rows left: 1287\n",
      "Rows analyzed: 3334, Rows left: 1286\n",
      "Rows analyzed: 3335, Rows left: 1285\n"
     ]
    },
    {
     "name": "stderr",
     "output_type": "stream",
     "text": [
      "ERROR: [youtube] ZQzj4epdUXc: Video unavailable\n"
     ]
    },
    {
     "name": "stdout",
     "output_type": "stream",
     "text": [
      "Error checking language and duration for video ZQzj4epdUXc: ERROR: [youtube] ZQzj4epdUXc: Video unavailable\n",
      "Rows analyzed: 3336, Rows left: 1284\n",
      "Rows analyzed: 3337, Rows left: 1283\n",
      "Rows analyzed: 3338, Rows left: 1282\n",
      "Rows analyzed: 3339, Rows left: 1281\n",
      "Rows analyzed: 3340, Rows left: 1280\n"
     ]
    },
    {
     "name": "stderr",
     "output_type": "stream",
     "text": [
      "ERROR: [youtube] w3CgX0C5_Nk: Private video. Sign in if you've been granted access to this video\n"
     ]
    },
    {
     "name": "stdout",
     "output_type": "stream",
     "text": [
      "Error checking language and duration for video w3CgX0C5_Nk: ERROR: [youtube] w3CgX0C5_Nk: Private video. Sign in if you've been granted access to this video\n",
      "Rows analyzed: 3341, Rows left: 1279\n",
      "Rows analyzed: 3342, Rows left: 1278\n",
      "Rows analyzed: 3343, Rows left: 1277\n",
      "Rows analyzed: 3344, Rows left: 1276\n",
      "Rows analyzed: 3345, Rows left: 1275\n",
      "Rows analyzed: 3346, Rows left: 1274\n",
      "Rows analyzed: 3347, Rows left: 1273\n",
      "Rows analyzed: 3348, Rows left: 1272\n",
      "Rows analyzed: 3349, Rows left: 1271\n",
      "Rows analyzed: 3350, Rows left: 1270\n",
      "Rows analyzed: 3351, Rows left: 1269\n",
      "Rows analyzed: 3352, Rows left: 1268\n",
      "Rows analyzed: 3353, Rows left: 1267\n",
      "Rows analyzed: 3354, Rows left: 1266\n",
      "Rows analyzed: 3355, Rows left: 1265\n",
      "Rows analyzed: 3356, Rows left: 1264\n",
      "Rows analyzed: 3357, Rows left: 1263\n"
     ]
    },
    {
     "name": "stderr",
     "output_type": "stream",
     "text": [
      "ERROR: [youtube] HZtX2CFkjBM: Private video. Sign in if you've been granted access to this video\n"
     ]
    },
    {
     "name": "stdout",
     "output_type": "stream",
     "text": [
      "Error checking language and duration for video HZtX2CFkjBM: ERROR: [youtube] HZtX2CFkjBM: Private video. Sign in if you've been granted access to this video\n",
      "Rows analyzed: 3358, Rows left: 1262\n",
      "Rows analyzed: 3359, Rows left: 1261\n",
      "Rows analyzed: 3360, Rows left: 1260\n",
      "Rows analyzed: 3361, Rows left: 1259\n",
      "Rows analyzed: 3362, Rows left: 1258\n",
      "Rows analyzed: 3363, Rows left: 1257\n",
      "Rows analyzed: 3364, Rows left: 1256\n",
      "Rows analyzed: 3365, Rows left: 1255\n",
      "Rows analyzed: 3366, Rows left: 1254\n",
      "Rows analyzed: 3367, Rows left: 1253\n",
      "Rows analyzed: 3368, Rows left: 1252\n",
      "Rows analyzed: 3369, Rows left: 1251\n"
     ]
    },
    {
     "name": "stderr",
     "output_type": "stream",
     "text": [
      "ERROR: [youtube] guDMJu96lpg: Private video. Sign in if you've been granted access to this video\n"
     ]
    },
    {
     "name": "stdout",
     "output_type": "stream",
     "text": [
      "Error checking language and duration for video guDMJu96lpg: ERROR: [youtube] guDMJu96lpg: Private video. Sign in if you've been granted access to this video\n",
      "Rows analyzed: 3370, Rows left: 1250\n",
      "Rows analyzed: 3371, Rows left: 1249\n"
     ]
    },
    {
     "name": "stderr",
     "output_type": "stream",
     "text": [
      "ERROR: [youtube] OTqRyldjSe4: Private video. Sign in if you've been granted access to this video\n"
     ]
    },
    {
     "name": "stdout",
     "output_type": "stream",
     "text": [
      "Error checking language and duration for video OTqRyldjSe4: ERROR: [youtube] OTqRyldjSe4: Private video. Sign in if you've been granted access to this video\n",
      "Rows analyzed: 3372, Rows left: 1248\n"
     ]
    },
    {
     "name": "stderr",
     "output_type": "stream",
     "text": [
      "ERROR: [youtube] fAOmqPTOnXg: Private video. Sign in if you've been granted access to this video\n"
     ]
    },
    {
     "name": "stdout",
     "output_type": "stream",
     "text": [
      "Error checking language and duration for video fAOmqPTOnXg: ERROR: [youtube] fAOmqPTOnXg: Private video. Sign in if you've been granted access to this video\n",
      "Rows analyzed: 3373, Rows left: 1247\n"
     ]
    },
    {
     "name": "stderr",
     "output_type": "stream",
     "text": [
      "ERROR: [youtube] JJ8wyTfAXtM: Video unavailable. This video is no longer available because the YouTube account associated with this video has been terminated.\n"
     ]
    },
    {
     "name": "stdout",
     "output_type": "stream",
     "text": [
      "Error checking language and duration for video JJ8wyTfAXtM: ERROR: [youtube] JJ8wyTfAXtM: Video unavailable. This video is no longer available because the YouTube account associated with this video has been terminated.\n",
      "Rows analyzed: 3374, Rows left: 1246\n",
      "Rows analyzed: 3375, Rows left: 1245\n",
      "Rows analyzed: 3376, Rows left: 1244\n",
      "Rows analyzed: 3377, Rows left: 1243\n"
     ]
    },
    {
     "name": "stderr",
     "output_type": "stream",
     "text": [
      "ERROR: [youtube] eos-l-kpa2c: Video unavailable\n"
     ]
    },
    {
     "name": "stdout",
     "output_type": "stream",
     "text": [
      "Error checking language and duration for video eos-l-kpa2c: ERROR: [youtube] eos-l-kpa2c: Video unavailable\n",
      "Rows analyzed: 3378, Rows left: 1242\n",
      "Rows analyzed: 3379, Rows left: 1241\n",
      "Rows analyzed: 3380, Rows left: 1240\n",
      "Rows analyzed: 3381, Rows left: 1239\n",
      "Rows analyzed: 3382, Rows left: 1238\n",
      "Rows analyzed: 3383, Rows left: 1237\n",
      "Rows analyzed: 3384, Rows left: 1236\n",
      "Rows analyzed: 3385, Rows left: 1235\n",
      "Rows analyzed: 3386, Rows left: 1234\n"
     ]
    },
    {
     "name": "stderr",
     "output_type": "stream",
     "text": [
      "ERROR: [youtube] W5g3yZY2uXQ: Private video. Sign in if you've been granted access to this video\n"
     ]
    },
    {
     "name": "stdout",
     "output_type": "stream",
     "text": [
      "Error checking language and duration for video W5g3yZY2uXQ: ERROR: [youtube] W5g3yZY2uXQ: Private video. Sign in if you've been granted access to this video\n",
      "Rows analyzed: 3387, Rows left: 1233\n",
      "Rows analyzed: 3388, Rows left: 1232\n",
      "Rows analyzed: 3389, Rows left: 1231\n",
      "Rows analyzed: 3390, Rows left: 1230\n",
      "Rows analyzed: 3391, Rows left: 1229\n",
      "Rows analyzed: 3392, Rows left: 1228\n",
      "Rows analyzed: 3393, Rows left: 1227\n",
      "Rows analyzed: 3394, Rows left: 1226\n",
      "Rows analyzed: 3395, Rows left: 1225\n",
      "Rows analyzed: 3396, Rows left: 1224\n"
     ]
    },
    {
     "name": "stderr",
     "output_type": "stream",
     "text": [
      "ERROR: [youtube] wZ15O8hRdKE: Private video. Sign in if you've been granted access to this video\n"
     ]
    },
    {
     "name": "stdout",
     "output_type": "stream",
     "text": [
      "Error checking language and duration for video wZ15O8hRdKE: ERROR: [youtube] wZ15O8hRdKE: Private video. Sign in if you've been granted access to this video\n",
      "Rows analyzed: 3397, Rows left: 1223\n",
      "Rows analyzed: 3398, Rows left: 1222\n",
      "Rows analyzed: 3399, Rows left: 1221\n",
      "Rows analyzed: 3400, Rows left: 1220\n"
     ]
    },
    {
     "name": "stderr",
     "output_type": "stream",
     "text": [
      "ERROR: [youtube] sxVLyhhEKAA: Video unavailable. This video is no longer available because the YouTube account associated with this video has been terminated.\n"
     ]
    },
    {
     "name": "stdout",
     "output_type": "stream",
     "text": [
      "Error checking language and duration for video sxVLyhhEKAA: ERROR: [youtube] sxVLyhhEKAA: Video unavailable. This video is no longer available because the YouTube account associated with this video has been terminated.\n",
      "Rows analyzed: 3401, Rows left: 1219\n",
      "Rows analyzed: 3402, Rows left: 1218\n",
      "Rows analyzed: 3403, Rows left: 1217\n",
      "Rows analyzed: 3404, Rows left: 1216\n",
      "Rows analyzed: 3405, Rows left: 1215\n",
      "Rows analyzed: 3406, Rows left: 1214\n"
     ]
    },
    {
     "name": "stderr",
     "output_type": "stream",
     "text": [
      "ERROR: [youtube] MzM48elTXdo: Video unavailable\n"
     ]
    },
    {
     "name": "stdout",
     "output_type": "stream",
     "text": [
      "Error checking language and duration for video MzM48elTXdo: ERROR: [youtube] MzM48elTXdo: Video unavailable\n",
      "Rows analyzed: 3407, Rows left: 1213\n",
      "Rows analyzed: 3408, Rows left: 1212\n",
      "Rows analyzed: 3409, Rows left: 1211\n",
      "Rows analyzed: 3410, Rows left: 1210\n",
      "Rows analyzed: 3411, Rows left: 1209\n"
     ]
    },
    {
     "name": "stderr",
     "output_type": "stream",
     "text": [
      "ERROR: [youtube] El78i0F9Mcg: Private video. Sign in if you've been granted access to this video\n"
     ]
    },
    {
     "name": "stdout",
     "output_type": "stream",
     "text": [
      "Error checking language and duration for video El78i0F9Mcg: ERROR: [youtube] El78i0F9Mcg: Private video. Sign in if you've been granted access to this video\n",
      "Rows analyzed: 3412, Rows left: 1208\n",
      "Rows analyzed: 3413, Rows left: 1207\n",
      "Rows analyzed: 3414, Rows left: 1206\n",
      "Rows analyzed: 3415, Rows left: 1205\n",
      "Rows analyzed: 3416, Rows left: 1204\n",
      "Rows analyzed: 3417, Rows left: 1203\n",
      "Rows analyzed: 3418, Rows left: 1202\n",
      "Rows analyzed: 3419, Rows left: 1201\n",
      "Rows analyzed: 3420, Rows left: 1200\n"
     ]
    },
    {
     "name": "stderr",
     "output_type": "stream",
     "text": [
      "ERROR: [youtube] BTuS5pet5m0: Private video. Sign in if you've been granted access to this video\n"
     ]
    },
    {
     "name": "stdout",
     "output_type": "stream",
     "text": [
      "Error checking language and duration for video BTuS5pet5m0: ERROR: [youtube] BTuS5pet5m0: Private video. Sign in if you've been granted access to this video\n",
      "Rows analyzed: 3421, Rows left: 1199\n",
      "Rows analyzed: 3422, Rows left: 1198\n"
     ]
    },
    {
     "name": "stderr",
     "output_type": "stream",
     "text": [
      "ERROR: [youtube] 5A3WBkgtdH8: Private video. Sign in if you've been granted access to this video\n"
     ]
    },
    {
     "name": "stdout",
     "output_type": "stream",
     "text": [
      "Error checking language and duration for video 5A3WBkgtdH8: ERROR: [youtube] 5A3WBkgtdH8: Private video. Sign in if you've been granted access to this video\n",
      "Rows analyzed: 3423, Rows left: 1197\n"
     ]
    },
    {
     "name": "stderr",
     "output_type": "stream",
     "text": [
      "ERROR: [youtube] VJSTwHZH8Go: Private video. Sign in if you've been granted access to this video\n"
     ]
    },
    {
     "name": "stdout",
     "output_type": "stream",
     "text": [
      "Error checking language and duration for video VJSTwHZH8Go: ERROR: [youtube] VJSTwHZH8Go: Private video. Sign in if you've been granted access to this video\n",
      "Rows analyzed: 3424, Rows left: 1196\n"
     ]
    },
    {
     "name": "stderr",
     "output_type": "stream",
     "text": [
      "ERROR: [youtube] CXJLOHrsPQs: Private video. Sign in if you've been granted access to this video\n"
     ]
    },
    {
     "name": "stdout",
     "output_type": "stream",
     "text": [
      "Error checking language and duration for video CXJLOHrsPQs: ERROR: [youtube] CXJLOHrsPQs: Private video. Sign in if you've been granted access to this video\n",
      "Rows analyzed: 3425, Rows left: 1195\n",
      "Rows analyzed: 3426, Rows left: 1194\n",
      "Rows analyzed: 3427, Rows left: 1193\n",
      "Rows analyzed: 3428, Rows left: 1192\n",
      "Rows analyzed: 3429, Rows left: 1191\n",
      "Rows analyzed: 3430, Rows left: 1190\n",
      "Rows analyzed: 3431, Rows left: 1189\n"
     ]
    },
    {
     "name": "stderr",
     "output_type": "stream",
     "text": [
      "ERROR: [youtube] ApqrEwxXaAM: Private video. Sign in if you've been granted access to this video\n"
     ]
    },
    {
     "name": "stdout",
     "output_type": "stream",
     "text": [
      "Error checking language and duration for video ApqrEwxXaAM: ERROR: [youtube] ApqrEwxXaAM: Private video. Sign in if you've been granted access to this video\n",
      "Rows analyzed: 3432, Rows left: 1188\n",
      "Rows analyzed: 3433, Rows left: 1187\n",
      "Rows analyzed: 3434, Rows left: 1186\n",
      "Rows analyzed: 3435, Rows left: 1185\n"
     ]
    },
    {
     "name": "stderr",
     "output_type": "stream",
     "text": [
      "ERROR: [youtube] q6XwAVhDTGo: Video unavailable\n"
     ]
    },
    {
     "name": "stdout",
     "output_type": "stream",
     "text": [
      "Error checking language and duration for video q6XwAVhDTGo: ERROR: [youtube] q6XwAVhDTGo: Video unavailable\n",
      "Rows analyzed: 3436, Rows left: 1184\n",
      "Rows analyzed: 3437, Rows left: 1183\n",
      "Rows analyzed: 3438, Rows left: 1182\n"
     ]
    },
    {
     "name": "stderr",
     "output_type": "stream",
     "text": [
      "ERROR: [youtube] hUPbFMYDZ-w: Private video. Sign in if you've been granted access to this video\n"
     ]
    },
    {
     "name": "stdout",
     "output_type": "stream",
     "text": [
      "Error checking language and duration for video hUPbFMYDZ-w: ERROR: [youtube] hUPbFMYDZ-w: Private video. Sign in if you've been granted access to this video\n",
      "Rows analyzed: 3439, Rows left: 1181\n"
     ]
    },
    {
     "name": "stderr",
     "output_type": "stream",
     "text": [
      "ERROR: [youtube] S68O3E9iDMw: Private video. Sign in if you've been granted access to this video\n"
     ]
    },
    {
     "name": "stdout",
     "output_type": "stream",
     "text": [
      "Error checking language and duration for video S68O3E9iDMw: ERROR: [youtube] S68O3E9iDMw: Private video. Sign in if you've been granted access to this video\n",
      "Rows analyzed: 3440, Rows left: 1180\n",
      "Rows analyzed: 3441, Rows left: 1179\n",
      "Rows analyzed: 3442, Rows left: 1178\n",
      "Rows analyzed: 3443, Rows left: 1177\n",
      "Rows analyzed: 3444, Rows left: 1176\n",
      "Rows analyzed: 3445, Rows left: 1175\n"
     ]
    },
    {
     "name": "stderr",
     "output_type": "stream",
     "text": [
      "ERROR: [youtube] jyBML9c7_OA: Video unavailable. This video is no longer available because the YouTube account associated with this video has been terminated.\n"
     ]
    },
    {
     "name": "stdout",
     "output_type": "stream",
     "text": [
      "Error checking language and duration for video jyBML9c7_OA: ERROR: [youtube] jyBML9c7_OA: Video unavailable. This video is no longer available because the YouTube account associated with this video has been terminated.\n",
      "Rows analyzed: 3446, Rows left: 1174\n",
      "Rows analyzed: 3447, Rows left: 1173\n"
     ]
    },
    {
     "name": "stderr",
     "output_type": "stream",
     "text": [
      "ERROR: [youtube] lNBX13mrJzc: Video unavailable. This video is no longer available because the YouTube account associated with this video has been terminated.\n"
     ]
    },
    {
     "name": "stdout",
     "output_type": "stream",
     "text": [
      "Error checking language and duration for video lNBX13mrJzc: ERROR: [youtube] lNBX13mrJzc: Video unavailable. This video is no longer available because the YouTube account associated with this video has been terminated.\n",
      "Rows analyzed: 3448, Rows left: 1172\n"
     ]
    },
    {
     "name": "stderr",
     "output_type": "stream",
     "text": [
      "ERROR: [youtube] W_Sz5bO2WO8: Video unavailable\n"
     ]
    },
    {
     "name": "stdout",
     "output_type": "stream",
     "text": [
      "Error checking language and duration for video W_Sz5bO2WO8: ERROR: [youtube] W_Sz5bO2WO8: Video unavailable\n",
      "Rows analyzed: 3449, Rows left: 1171\n",
      "Rows analyzed: 3450, Rows left: 1170\n",
      "Rows analyzed: 3451, Rows left: 1169\n",
      "Rows analyzed: 3452, Rows left: 1168\n",
      "Rows analyzed: 3453, Rows left: 1167\n"
     ]
    },
    {
     "name": "stderr",
     "output_type": "stream",
     "text": [
      "ERROR: [youtube] 0J4E9xZVAwM: Private video. Sign in if you've been granted access to this video\n"
     ]
    },
    {
     "name": "stdout",
     "output_type": "stream",
     "text": [
      "Error checking language and duration for video 0J4E9xZVAwM: ERROR: [youtube] 0J4E9xZVAwM: Private video. Sign in if you've been granted access to this video\n",
      "Rows analyzed: 3454, Rows left: 1166\n",
      "Rows analyzed: 3455, Rows left: 1165\n",
      "Rows analyzed: 3456, Rows left: 1164\n",
      "Rows analyzed: 3457, Rows left: 1163\n",
      "Rows analyzed: 3458, Rows left: 1162\n",
      "Rows analyzed: 3459, Rows left: 1161\n",
      "Rows analyzed: 3460, Rows left: 1160\n",
      "Rows analyzed: 3461, Rows left: 1159\n",
      "Rows analyzed: 3462, Rows left: 1158\n",
      "Rows analyzed: 3463, Rows left: 1157\n",
      "Rows analyzed: 3464, Rows left: 1156\n",
      "Rows analyzed: 3465, Rows left: 1155\n"
     ]
    },
    {
     "name": "stderr",
     "output_type": "stream",
     "text": [
      "ERROR: [youtube] NriOaFCnrWo: Private video. Sign in if you've been granted access to this video\n"
     ]
    },
    {
     "name": "stdout",
     "output_type": "stream",
     "text": [
      "Error checking language and duration for video NriOaFCnrWo: ERROR: [youtube] NriOaFCnrWo: Private video. Sign in if you've been granted access to this video\n",
      "Rows analyzed: 3466, Rows left: 1154\n",
      "Rows analyzed: 3467, Rows left: 1153\n"
     ]
    },
    {
     "name": "stderr",
     "output_type": "stream",
     "text": [
      "ERROR: [youtube] 7xJCa8S6ZvI: Private video. Sign in if you've been granted access to this video\n"
     ]
    },
    {
     "name": "stdout",
     "output_type": "stream",
     "text": [
      "Error checking language and duration for video 7xJCa8S6ZvI: ERROR: [youtube] 7xJCa8S6ZvI: Private video. Sign in if you've been granted access to this video\n",
      "Rows analyzed: 3468, Rows left: 1152\n",
      "Rows analyzed: 3469, Rows left: 1151\n",
      "Rows analyzed: 3470, Rows left: 1150\n",
      "Rows analyzed: 3471, Rows left: 1149\n",
      "Rows analyzed: 3472, Rows left: 1148\n",
      "Rows analyzed: 3473, Rows left: 1147\n",
      "Rows analyzed: 3474, Rows left: 1146\n",
      "Rows analyzed: 3475, Rows left: 1145\n",
      "Rows analyzed: 3476, Rows left: 1144\n",
      "Rows analyzed: 3477, Rows left: 1143\n",
      "Rows analyzed: 3478, Rows left: 1142\n",
      "Rows analyzed: 3479, Rows left: 1141\n",
      "Rows analyzed: 3480, Rows left: 1140\n",
      "Rows analyzed: 3481, Rows left: 1139\n",
      "Rows analyzed: 3482, Rows left: 1138\n",
      "Rows analyzed: 3483, Rows left: 1137\n",
      "Rows analyzed: 3484, Rows left: 1136\n"
     ]
    },
    {
     "name": "stderr",
     "output_type": "stream",
     "text": [
      "ERROR: [youtube] Q9f5R1dV55Q: Video unavailable\n"
     ]
    },
    {
     "name": "stdout",
     "output_type": "stream",
     "text": [
      "Error checking language and duration for video Q9f5R1dV55Q: ERROR: [youtube] Q9f5R1dV55Q: Video unavailable\n",
      "Rows analyzed: 3485, Rows left: 1135\n",
      "Rows analyzed: 3486, Rows left: 1134\n"
     ]
    },
    {
     "name": "stderr",
     "output_type": "stream",
     "text": [
      "ERROR: [youtube] Hz2FP82YDHI: Video unavailable\n"
     ]
    },
    {
     "name": "stdout",
     "output_type": "stream",
     "text": [
      "Error checking language and duration for video Hz2FP82YDHI: ERROR: [youtube] Hz2FP82YDHI: Video unavailable\n",
      "Rows analyzed: 3487, Rows left: 1133\n",
      "Rows analyzed: 3488, Rows left: 1132\n",
      "Rows analyzed: 3489, Rows left: 1131\n",
      "Rows analyzed: 3490, Rows left: 1130\n",
      "Rows analyzed: 3491, Rows left: 1129\n",
      "Rows analyzed: 3492, Rows left: 1128\n",
      "Rows analyzed: 3493, Rows left: 1127\n",
      "Rows analyzed: 3494, Rows left: 1126\n",
      "Rows analyzed: 3495, Rows left: 1125\n"
     ]
    },
    {
     "name": "stderr",
     "output_type": "stream",
     "text": [
      "ERROR: [youtube] Qa7wkelXxrE: Video unavailable\n"
     ]
    },
    {
     "name": "stdout",
     "output_type": "stream",
     "text": [
      "Error checking language and duration for video Qa7wkelXxrE: ERROR: [youtube] Qa7wkelXxrE: Video unavailable\n",
      "Rows analyzed: 3496, Rows left: 1124\n",
      "Rows analyzed: 3497, Rows left: 1123\n",
      "Rows analyzed: 3498, Rows left: 1122\n",
      "Rows analyzed: 3499, Rows left: 1121\n"
     ]
    },
    {
     "name": "stderr",
     "output_type": "stream",
     "text": [
      "ERROR: [youtube] 6KmxiGoSkfc: Private video. Sign in if you've been granted access to this video\n"
     ]
    },
    {
     "name": "stdout",
     "output_type": "stream",
     "text": [
      "Error checking language and duration for video 6KmxiGoSkfc: ERROR: [youtube] 6KmxiGoSkfc: Private video. Sign in if you've been granted access to this video\n",
      "Rows analyzed: 3500, Rows left: 1120\n",
      "Rows analyzed: 3501, Rows left: 1119\n",
      "Rows analyzed: 3502, Rows left: 1118\n",
      "Rows analyzed: 3503, Rows left: 1117\n",
      "Rows analyzed: 3504, Rows left: 1116\n",
      "Rows analyzed: 3505, Rows left: 1115\n",
      "Rows analyzed: 3506, Rows left: 1114\n",
      "Rows analyzed: 3507, Rows left: 1113\n",
      "Rows analyzed: 3508, Rows left: 1112\n",
      "Rows analyzed: 3509, Rows left: 1111\n",
      "Rows analyzed: 3510, Rows left: 1110\n",
      "Rows analyzed: 3511, Rows left: 1109\n",
      "Rows analyzed: 3512, Rows left: 1108\n",
      "Rows analyzed: 3513, Rows left: 1107\n",
      "Rows analyzed: 3514, Rows left: 1106\n",
      "Rows analyzed: 3515, Rows left: 1105\n"
     ]
    },
    {
     "name": "stderr",
     "output_type": "stream",
     "text": [
      "ERROR: [youtube] 6VQ1DM6z7_Q: Video unavailable\n"
     ]
    },
    {
     "name": "stdout",
     "output_type": "stream",
     "text": [
      "Error checking language and duration for video 6VQ1DM6z7_Q: ERROR: [youtube] 6VQ1DM6z7_Q: Video unavailable\n",
      "Rows analyzed: 3516, Rows left: 1104\n"
     ]
    },
    {
     "name": "stderr",
     "output_type": "stream",
     "text": [
      "ERROR: [youtube] yR1lcvUF1_Q: Private video. Sign in if you've been granted access to this video\n"
     ]
    },
    {
     "name": "stdout",
     "output_type": "stream",
     "text": [
      "Error checking language and duration for video yR1lcvUF1_Q: ERROR: [youtube] yR1lcvUF1_Q: Private video. Sign in if you've been granted access to this video\n",
      "Rows analyzed: 3517, Rows left: 1103\n",
      "Rows analyzed: 3518, Rows left: 1102\n",
      "Rows analyzed: 3519, Rows left: 1101\n"
     ]
    },
    {
     "name": "stderr",
     "output_type": "stream",
     "text": [
      "ERROR: [youtube] bYh5Xc9XaGg: Video unavailable. The uploader has not made this video available in your country\n"
     ]
    },
    {
     "name": "stdout",
     "output_type": "stream",
     "text": [
      "Error checking language and duration for video bYh5Xc9XaGg: ERROR: [youtube] bYh5Xc9XaGg: Video unavailable. The uploader has not made this video available in your country\n",
      "Rows analyzed: 3520, Rows left: 1100\n"
     ]
    },
    {
     "name": "stderr",
     "output_type": "stream",
     "text": [
      "ERROR: [youtube] OOamcM_th84: Private video. Sign in if you've been granted access to this video\n"
     ]
    },
    {
     "name": "stdout",
     "output_type": "stream",
     "text": [
      "Error checking language and duration for video OOamcM_th84: ERROR: [youtube] OOamcM_th84: Private video. Sign in if you've been granted access to this video\n",
      "Rows analyzed: 3521, Rows left: 1099\n",
      "Rows analyzed: 3522, Rows left: 1098\n"
     ]
    },
    {
     "name": "stderr",
     "output_type": "stream",
     "text": [
      "ERROR: [youtube] l5dV_VtTT5g: Private video. Sign in if you've been granted access to this video\n"
     ]
    },
    {
     "name": "stdout",
     "output_type": "stream",
     "text": [
      "Error checking language and duration for video l5dV_VtTT5g: ERROR: [youtube] l5dV_VtTT5g: Private video. Sign in if you've been granted access to this video\n",
      "Rows analyzed: 3523, Rows left: 1097\n"
     ]
    },
    {
     "name": "stderr",
     "output_type": "stream",
     "text": [
      "ERROR: [youtube] nj7Ef63u47s: Private video. Sign in if you've been granted access to this video\n"
     ]
    },
    {
     "name": "stdout",
     "output_type": "stream",
     "text": [
      "Error checking language and duration for video nj7Ef63u47s: ERROR: [youtube] nj7Ef63u47s: Private video. Sign in if you've been granted access to this video\n",
      "Rows analyzed: 3524, Rows left: 1096\n",
      "Rows analyzed: 3525, Rows left: 1095\n"
     ]
    },
    {
     "name": "stderr",
     "output_type": "stream",
     "text": [
      "ERROR: [youtube] qBXZwYjeNAw: Private video. Sign in if you've been granted access to this video\n"
     ]
    },
    {
     "name": "stdout",
     "output_type": "stream",
     "text": [
      "Error checking language and duration for video qBXZwYjeNAw: ERROR: [youtube] qBXZwYjeNAw: Private video. Sign in if you've been granted access to this video\n",
      "Rows analyzed: 3526, Rows left: 1094\n",
      "Rows analyzed: 3527, Rows left: 1093\n",
      "Rows analyzed: 3528, Rows left: 1092\n"
     ]
    },
    {
     "name": "stderr",
     "output_type": "stream",
     "text": [
      "ERROR: [youtube] kyJlcQOUAoA: Video unavailable\n"
     ]
    },
    {
     "name": "stdout",
     "output_type": "stream",
     "text": [
      "Error checking language and duration for video kyJlcQOUAoA: ERROR: [youtube] kyJlcQOUAoA: Video unavailable\n",
      "Rows analyzed: 3529, Rows left: 1091\n",
      "Rows analyzed: 3530, Rows left: 1090\n",
      "Rows analyzed: 3531, Rows left: 1089\n",
      "Rows analyzed: 3532, Rows left: 1088\n"
     ]
    },
    {
     "name": "stderr",
     "output_type": "stream",
     "text": [
      "ERROR: [youtube] diEkHPkwXxE: Private video. Sign in if you've been granted access to this video\n"
     ]
    },
    {
     "name": "stdout",
     "output_type": "stream",
     "text": [
      "Error checking language and duration for video diEkHPkwXxE: ERROR: [youtube] diEkHPkwXxE: Private video. Sign in if you've been granted access to this video\n",
      "Rows analyzed: 3533, Rows left: 1087\n",
      "Rows analyzed: 3534, Rows left: 1086\n",
      "Rows analyzed: 3535, Rows left: 1085\n",
      "Rows analyzed: 3536, Rows left: 1084\n",
      "Rows analyzed: 3537, Rows left: 1083\n",
      "Rows analyzed: 3538, Rows left: 1082\n",
      "Rows analyzed: 3539, Rows left: 1081\n",
      "Rows analyzed: 3540, Rows left: 1080\n",
      "Rows analyzed: 3541, Rows left: 1079\n",
      "Rows analyzed: 3542, Rows left: 1078\n",
      "Rows analyzed: 3543, Rows left: 1077\n",
      "Rows analyzed: 3544, Rows left: 1076\n",
      "Rows analyzed: 3545, Rows left: 1075\n",
      "Rows analyzed: 3546, Rows left: 1074\n",
      "Rows analyzed: 3547, Rows left: 1073\n",
      "Rows analyzed: 3548, Rows left: 1072\n",
      "Rows analyzed: 3549, Rows left: 1071\n"
     ]
    },
    {
     "name": "stderr",
     "output_type": "stream",
     "text": [
      "ERROR: [youtube] rrRjBlymHWc: Private video. Sign in if you've been granted access to this video\n"
     ]
    },
    {
     "name": "stdout",
     "output_type": "stream",
     "text": [
      "Error checking language and duration for video rrRjBlymHWc: ERROR: [youtube] rrRjBlymHWc: Private video. Sign in if you've been granted access to this video\n",
      "Rows analyzed: 3550, Rows left: 1070\n",
      "Rows analyzed: 3551, Rows left: 1069\n",
      "Rows analyzed: 3552, Rows left: 1068\n",
      "Rows analyzed: 3553, Rows left: 1067\n",
      "Rows analyzed: 3554, Rows left: 1066\n"
     ]
    },
    {
     "name": "stderr",
     "output_type": "stream",
     "text": [
      "ERROR: [youtube] TWEoJsSLG3I: Private video. Sign in if you've been granted access to this video\n"
     ]
    },
    {
     "name": "stdout",
     "output_type": "stream",
     "text": [
      "Error checking language and duration for video TWEoJsSLG3I: ERROR: [youtube] TWEoJsSLG3I: Private video. Sign in if you've been granted access to this video\n",
      "Rows analyzed: 3555, Rows left: 1065\n",
      "Rows analyzed: 3556, Rows left: 1064\n",
      "Rows analyzed: 3557, Rows left: 1063\n",
      "Rows analyzed: 3558, Rows left: 1062\n",
      "Rows analyzed: 3559, Rows left: 1061\n"
     ]
    },
    {
     "name": "stderr",
     "output_type": "stream",
     "text": [
      "ERROR: [youtube] 0JxlhOv3Mcs: Video unavailable\n"
     ]
    },
    {
     "name": "stdout",
     "output_type": "stream",
     "text": [
      "Error checking language and duration for video 0JxlhOv3Mcs: ERROR: [youtube] 0JxlhOv3Mcs: Video unavailable\n",
      "Rows analyzed: 3560, Rows left: 1060\n"
     ]
    },
    {
     "name": "stderr",
     "output_type": "stream",
     "text": [
      "ERROR: [youtube] wu5Ukz4R5Gk: Video unavailable. This video is no longer available because the YouTube account associated with this video has been terminated.\n"
     ]
    },
    {
     "name": "stdout",
     "output_type": "stream",
     "text": [
      "Error checking language and duration for video wu5Ukz4R5Gk: ERROR: [youtube] wu5Ukz4R5Gk: Video unavailable. This video is no longer available because the YouTube account associated with this video has been terminated.\n",
      "Rows analyzed: 3561, Rows left: 1059\n",
      "Rows analyzed: 3562, Rows left: 1058\n",
      "Rows analyzed: 3563, Rows left: 1057\n",
      "Rows analyzed: 3564, Rows left: 1056\n"
     ]
    },
    {
     "name": "stderr",
     "output_type": "stream",
     "text": [
      "ERROR: [youtube] N-sNx4WziXA: Video unavailable\n"
     ]
    },
    {
     "name": "stdout",
     "output_type": "stream",
     "text": [
      "Error checking language and duration for video N-sNx4WziXA: ERROR: [youtube] N-sNx4WziXA: Video unavailable\n",
      "Rows analyzed: 3565, Rows left: 1055\n",
      "Rows analyzed: 3566, Rows left: 1054\n",
      "Rows analyzed: 3567, Rows left: 1053\n",
      "Rows analyzed: 3568, Rows left: 1052\n",
      "Rows analyzed: 3569, Rows left: 1051\n",
      "Rows analyzed: 3570, Rows left: 1050\n",
      "Rows analyzed: 3571, Rows left: 1049\n",
      "Rows analyzed: 3572, Rows left: 1048\n",
      "Rows analyzed: 3573, Rows left: 1047\n",
      "Rows analyzed: 3574, Rows left: 1046\n",
      "Rows analyzed: 3575, Rows left: 1045\n",
      "Rows analyzed: 3576, Rows left: 1044\n",
      "Rows analyzed: 3577, Rows left: 1043\n",
      "Rows analyzed: 3578, Rows left: 1042\n",
      "Rows analyzed: 3579, Rows left: 1041\n"
     ]
    },
    {
     "name": "stderr",
     "output_type": "stream",
     "text": [
      "ERROR: [youtube] z5TDkH_u2ow: Video unavailable. This video is no longer available because the YouTube account associated with this video has been terminated.\n"
     ]
    },
    {
     "name": "stdout",
     "output_type": "stream",
     "text": [
      "Error checking language and duration for video z5TDkH_u2ow: ERROR: [youtube] z5TDkH_u2ow: Video unavailable. This video is no longer available because the YouTube account associated with this video has been terminated.\n",
      "Rows analyzed: 3580, Rows left: 1040\n"
     ]
    },
    {
     "name": "stderr",
     "output_type": "stream",
     "text": [
      "ERROR: [youtube] Mu_uoaawBcw: Video unavailable\n"
     ]
    },
    {
     "name": "stdout",
     "output_type": "stream",
     "text": [
      "Error checking language and duration for video Mu_uoaawBcw: ERROR: [youtube] Mu_uoaawBcw: Video unavailable\n",
      "Rows analyzed: 3581, Rows left: 1039\n",
      "Rows analyzed: 3582, Rows left: 1038\n",
      "Rows analyzed: 3583, Rows left: 1037\n",
      "Rows analyzed: 3584, Rows left: 1036\n"
     ]
    },
    {
     "name": "stderr",
     "output_type": "stream",
     "text": [
      "ERROR: [youtube] zzGcvHI0DHU: Video unavailable\n"
     ]
    },
    {
     "name": "stdout",
     "output_type": "stream",
     "text": [
      "Error checking language and duration for video zzGcvHI0DHU: ERROR: [youtube] zzGcvHI0DHU: Video unavailable\n",
      "Rows analyzed: 3585, Rows left: 1035\n",
      "Rows analyzed: 3586, Rows left: 1034\n",
      "Rows analyzed: 3587, Rows left: 1033\n",
      "Rows analyzed: 3588, Rows left: 1032\n"
     ]
    },
    {
     "name": "stderr",
     "output_type": "stream",
     "text": [
      "ERROR: [youtube] bIaA7-Eady0: Video unavailable\n"
     ]
    },
    {
     "name": "stdout",
     "output_type": "stream",
     "text": [
      "Error checking language and duration for video bIaA7-Eady0: ERROR: [youtube] bIaA7-Eady0: Video unavailable\n",
      "Rows analyzed: 3589, Rows left: 1031\n",
      "Rows analyzed: 3590, Rows left: 1030\n",
      "Rows analyzed: 3591, Rows left: 1029\n",
      "Rows analyzed: 3592, Rows left: 1028\n",
      "Rows analyzed: 3593, Rows left: 1027\n",
      "Rows analyzed: 3594, Rows left: 1026\n"
     ]
    },
    {
     "name": "stderr",
     "output_type": "stream",
     "text": [
      "ERROR: [youtube] w5wU6aS1MVQ: Private video. Sign in if you've been granted access to this video\n"
     ]
    },
    {
     "name": "stdout",
     "output_type": "stream",
     "text": [
      "Error checking language and duration for video w5wU6aS1MVQ: ERROR: [youtube] w5wU6aS1MVQ: Private video. Sign in if you've been granted access to this video\n",
      "Rows analyzed: 3595, Rows left: 1025\n",
      "Rows analyzed: 3596, Rows left: 1024\n",
      "Rows analyzed: 3597, Rows left: 1023\n",
      "Rows analyzed: 3598, Rows left: 1022\n",
      "Rows analyzed: 3599, Rows left: 1021\n",
      "Rows analyzed: 3600, Rows left: 1020\n",
      "Rows analyzed: 3601, Rows left: 1019\n",
      "Rows analyzed: 3602, Rows left: 1018\n",
      "Rows analyzed: 3603, Rows left: 1017\n"
     ]
    },
    {
     "name": "stderr",
     "output_type": "stream",
     "text": [
      "ERROR: [youtube] wA8qeEw2Yo8: Private video. Sign in if you've been granted access to this video\n"
     ]
    },
    {
     "name": "stdout",
     "output_type": "stream",
     "text": [
      "Error checking language and duration for video wA8qeEw2Yo8: ERROR: [youtube] wA8qeEw2Yo8: Private video. Sign in if you've been granted access to this video\n",
      "Rows analyzed: 3604, Rows left: 1016\n",
      "Rows analyzed: 3605, Rows left: 1015\n",
      "Rows analyzed: 3606, Rows left: 1014\n",
      "Rows analyzed: 3607, Rows left: 1013\n",
      "Rows analyzed: 3608, Rows left: 1012\n",
      "Rows analyzed: 3609, Rows left: 1011\n",
      "Rows analyzed: 3610, Rows left: 1010\n",
      "Rows analyzed: 3611, Rows left: 1009\n",
      "Rows analyzed: 3612, Rows left: 1008\n",
      "Rows analyzed: 3613, Rows left: 1007\n",
      "Rows analyzed: 3614, Rows left: 1006\n",
      "Rows analyzed: 3615, Rows left: 1005\n",
      "Rows analyzed: 3616, Rows left: 1004\n",
      "Rows analyzed: 3617, Rows left: 1003\n"
     ]
    },
    {
     "name": "stderr",
     "output_type": "stream",
     "text": [
      "ERROR: [youtube] R-tqiR2CpSI: Private video. Sign in if you've been granted access to this video\n"
     ]
    },
    {
     "name": "stdout",
     "output_type": "stream",
     "text": [
      "Error checking language and duration for video R-tqiR2CpSI: ERROR: [youtube] R-tqiR2CpSI: Private video. Sign in if you've been granted access to this video\n",
      "Rows analyzed: 3618, Rows left: 1002\n",
      "Rows analyzed: 3619, Rows left: 1001\n"
     ]
    },
    {
     "name": "stderr",
     "output_type": "stream",
     "text": [
      "ERROR: [youtube] 5Eg-25jjjJ8: Video unavailable\n"
     ]
    },
    {
     "name": "stdout",
     "output_type": "stream",
     "text": [
      "Error checking language and duration for video 5Eg-25jjjJ8: ERROR: [youtube] 5Eg-25jjjJ8: Video unavailable\n",
      "Rows analyzed: 3620, Rows left: 1000\n",
      "Rows analyzed: 3621, Rows left: 999\n"
     ]
    },
    {
     "name": "stderr",
     "output_type": "stream",
     "text": [
      "ERROR: [youtube] urZEWOB13T0: Private video. Sign in if you've been granted access to this video\n"
     ]
    },
    {
     "name": "stdout",
     "output_type": "stream",
     "text": [
      "Error checking language and duration for video urZEWOB13T0: ERROR: [youtube] urZEWOB13T0: Private video. Sign in if you've been granted access to this video\n",
      "Rows analyzed: 3622, Rows left: 998\n"
     ]
    },
    {
     "name": "stderr",
     "output_type": "stream",
     "text": [
      "ERROR: [youtube] PU0GW57RPMU: Private video. Sign in if you've been granted access to this video\n"
     ]
    },
    {
     "name": "stdout",
     "output_type": "stream",
     "text": [
      "Error checking language and duration for video PU0GW57RPMU: ERROR: [youtube] PU0GW57RPMU: Private video. Sign in if you've been granted access to this video\n",
      "Rows analyzed: 3623, Rows left: 997\n",
      "Rows analyzed: 3624, Rows left: 996\n",
      "Rows analyzed: 3625, Rows left: 995\n"
     ]
    },
    {
     "name": "stderr",
     "output_type": "stream",
     "text": [
      "ERROR: [youtube] 1b75X92ApIM: Private video. Sign in if you've been granted access to this video\n"
     ]
    },
    {
     "name": "stdout",
     "output_type": "stream",
     "text": [
      "Error checking language and duration for video 1b75X92ApIM: ERROR: [youtube] 1b75X92ApIM: Private video. Sign in if you've been granted access to this video\n",
      "Rows analyzed: 3626, Rows left: 994\n"
     ]
    },
    {
     "name": "stderr",
     "output_type": "stream",
     "text": [
      "ERROR: [youtube] OzY8wo0Bqgo: Video unavailable\n"
     ]
    },
    {
     "name": "stdout",
     "output_type": "stream",
     "text": [
      "Error checking language and duration for video OzY8wo0Bqgo: ERROR: [youtube] OzY8wo0Bqgo: Video unavailable\n",
      "Rows analyzed: 3627, Rows left: 993\n",
      "Rows analyzed: 3628, Rows left: 992\n",
      "Rows analyzed: 3629, Rows left: 991\n",
      "Rows analyzed: 3630, Rows left: 990\n",
      "Rows analyzed: 3631, Rows left: 989\n"
     ]
    },
    {
     "name": "stderr",
     "output_type": "stream",
     "text": [
      "ERROR: [youtube] Z0NAazD5mck: Video unavailable. This video is no longer available because the YouTube account associated with this video has been terminated.\n"
     ]
    },
    {
     "name": "stdout",
     "output_type": "stream",
     "text": [
      "Error checking language and duration for video Z0NAazD5mck: ERROR: [youtube] Z0NAazD5mck: Video unavailable. This video is no longer available because the YouTube account associated with this video has been terminated.\n",
      "Rows analyzed: 3632, Rows left: 988\n",
      "Rows analyzed: 3633, Rows left: 987\n"
     ]
    },
    {
     "name": "stderr",
     "output_type": "stream",
     "text": [
      "ERROR: [youtube] v5YwngI-OqU: Video unavailable. The uploader has not made this video available in your country\n"
     ]
    },
    {
     "name": "stdout",
     "output_type": "stream",
     "text": [
      "Error checking language and duration for video v5YwngI-OqU: ERROR: [youtube] v5YwngI-OqU: Video unavailable. The uploader has not made this video available in your country\n",
      "Rows analyzed: 3634, Rows left: 986\n",
      "Rows analyzed: 3635, Rows left: 985\n",
      "Rows analyzed: 3636, Rows left: 984\n",
      "Rows analyzed: 3637, Rows left: 983\n",
      "Rows analyzed: 3638, Rows left: 982\n",
      "Rows analyzed: 3639, Rows left: 981\n",
      "Rows analyzed: 3640, Rows left: 980\n",
      "Rows analyzed: 3641, Rows left: 979\n",
      "Rows analyzed: 3642, Rows left: 978\n",
      "Rows analyzed: 3643, Rows left: 977\n",
      "Rows analyzed: 3644, Rows left: 976\n",
      "Rows analyzed: 3645, Rows left: 975\n",
      "Rows analyzed: 3646, Rows left: 974\n",
      "Rows analyzed: 3647, Rows left: 973\n",
      "Rows analyzed: 3648, Rows left: 972\n"
     ]
    },
    {
     "name": "stderr",
     "output_type": "stream",
     "text": [
      "ERROR: [youtube] rqkR1xxZd74: Video unavailable. This video is no longer available because the YouTube account associated with this video has been terminated.\n"
     ]
    },
    {
     "name": "stdout",
     "output_type": "stream",
     "text": [
      "Error checking language and duration for video rqkR1xxZd74: ERROR: [youtube] rqkR1xxZd74: Video unavailable. This video is no longer available because the YouTube account associated with this video has been terminated.\n",
      "Rows analyzed: 3649, Rows left: 971\n",
      "Rows analyzed: 3650, Rows left: 970\n",
      "Rows analyzed: 3651, Rows left: 969\n",
      "Rows analyzed: 3652, Rows left: 968\n",
      "Rows analyzed: 3653, Rows left: 967\n",
      "Rows analyzed: 3654, Rows left: 966\n",
      "Rows analyzed: 3655, Rows left: 965\n",
      "Rows analyzed: 3656, Rows left: 964\n",
      "Rows analyzed: 3657, Rows left: 963\n"
     ]
    },
    {
     "name": "stderr",
     "output_type": "stream",
     "text": [
      "ERROR: [youtube] bnE8WUEflOY: Video unavailable. This video is no longer available because the YouTube account associated with this video has been terminated.\n"
     ]
    },
    {
     "name": "stdout",
     "output_type": "stream",
     "text": [
      "Error checking language and duration for video bnE8WUEflOY: ERROR: [youtube] bnE8WUEflOY: Video unavailable. This video is no longer available because the YouTube account associated with this video has been terminated.\n",
      "Rows analyzed: 3658, Rows left: 962\n",
      "Rows analyzed: 3659, Rows left: 961\n",
      "Rows analyzed: 3660, Rows left: 960\n"
     ]
    },
    {
     "name": "stderr",
     "output_type": "stream",
     "text": [
      "ERROR: [youtube] Cqv9gjUcklo: Private video. Sign in if you've been granted access to this video\n"
     ]
    },
    {
     "name": "stdout",
     "output_type": "stream",
     "text": [
      "Error checking language and duration for video Cqv9gjUcklo: ERROR: [youtube] Cqv9gjUcklo: Private video. Sign in if you've been granted access to this video\n",
      "Rows analyzed: 3661, Rows left: 959\n",
      "Rows analyzed: 3662, Rows left: 958\n",
      "Rows analyzed: 3663, Rows left: 957\n",
      "Rows analyzed: 3664, Rows left: 956\n",
      "Rows analyzed: 3665, Rows left: 955\n"
     ]
    },
    {
     "name": "stderr",
     "output_type": "stream",
     "text": [
      "ERROR: [youtube] 6-nNMOJq74Y: Private video. Sign in if you've been granted access to this video\n"
     ]
    },
    {
     "name": "stdout",
     "output_type": "stream",
     "text": [
      "Error checking language and duration for video 6-nNMOJq74Y: ERROR: [youtube] 6-nNMOJq74Y: Private video. Sign in if you've been granted access to this video\n",
      "Rows analyzed: 3666, Rows left: 954\n",
      "Rows analyzed: 3667, Rows left: 953\n",
      "Rows analyzed: 3668, Rows left: 952\n",
      "Rows analyzed: 3669, Rows left: 951\n",
      "Rows analyzed: 3670, Rows left: 950\n",
      "Rows analyzed: 3671, Rows left: 949\n",
      "Rows analyzed: 3672, Rows left: 948\n"
     ]
    },
    {
     "name": "stderr",
     "output_type": "stream",
     "text": [
      "ERROR: [youtube] Yuz4LSH__Pk: Video unavailable\n"
     ]
    },
    {
     "name": "stdout",
     "output_type": "stream",
     "text": [
      "Error checking language and duration for video Yuz4LSH__Pk: ERROR: [youtube] Yuz4LSH__Pk: Video unavailable\n",
      "Rows analyzed: 3673, Rows left: 947\n",
      "Rows analyzed: 3674, Rows left: 946\n"
     ]
    },
    {
     "name": "stderr",
     "output_type": "stream",
     "text": [
      "ERROR: [youtube] cmHbomaVBlc: Private video. Sign in if you've been granted access to this video\n"
     ]
    },
    {
     "name": "stdout",
     "output_type": "stream",
     "text": [
      "Error checking language and duration for video cmHbomaVBlc: ERROR: [youtube] cmHbomaVBlc: Private video. Sign in if you've been granted access to this video\n",
      "Rows analyzed: 3675, Rows left: 945\n",
      "Rows analyzed: 3676, Rows left: 944\n",
      "Rows analyzed: 3677, Rows left: 943\n",
      "Rows analyzed: 3678, Rows left: 942\n",
      "Rows analyzed: 3679, Rows left: 941\n"
     ]
    },
    {
     "name": "stderr",
     "output_type": "stream",
     "text": [
      "ERROR: [youtube] GxkK-KsIAWk: Video unavailable. This video is no longer available because the YouTube account associated with this video has been terminated.\n"
     ]
    },
    {
     "name": "stdout",
     "output_type": "stream",
     "text": [
      "Error checking language and duration for video GxkK-KsIAWk: ERROR: [youtube] GxkK-KsIAWk: Video unavailable. This video is no longer available because the YouTube account associated with this video has been terminated.\n",
      "Rows analyzed: 3680, Rows left: 940\n",
      "Rows analyzed: 3681, Rows left: 939\n"
     ]
    },
    {
     "name": "stderr",
     "output_type": "stream",
     "text": [
      "ERROR: [youtube] rbnSCs8TngM: Video unavailable. This video is no longer available because the YouTube account associated with this video has been terminated.\n"
     ]
    },
    {
     "name": "stdout",
     "output_type": "stream",
     "text": [
      "Error checking language and duration for video rbnSCs8TngM: ERROR: [youtube] rbnSCs8TngM: Video unavailable. This video is no longer available because the YouTube account associated with this video has been terminated.\n",
      "Rows analyzed: 3682, Rows left: 938\n",
      "Rows analyzed: 3683, Rows left: 937\n"
     ]
    },
    {
     "name": "stderr",
     "output_type": "stream",
     "text": [
      "ERROR: [youtube] QWw1BCTQN_M: Private video. Sign in if you've been granted access to this video\n"
     ]
    },
    {
     "name": "stdout",
     "output_type": "stream",
     "text": [
      "Error checking language and duration for video QWw1BCTQN_M: ERROR: [youtube] QWw1BCTQN_M: Private video. Sign in if you've been granted access to this video\n",
      "Rows analyzed: 3684, Rows left: 936\n",
      "Rows analyzed: 3685, Rows left: 935\n"
     ]
    },
    {
     "name": "stderr",
     "output_type": "stream",
     "text": [
      "ERROR: [youtube] dh_IYTxlZ2c: Private video. Sign in if you've been granted access to this video\n"
     ]
    },
    {
     "name": "stdout",
     "output_type": "stream",
     "text": [
      "Error checking language and duration for video dh_IYTxlZ2c: ERROR: [youtube] dh_IYTxlZ2c: Private video. Sign in if you've been granted access to this video\n",
      "Rows analyzed: 3686, Rows left: 934\n",
      "Rows analyzed: 3687, Rows left: 933\n",
      "Rows analyzed: 3688, Rows left: 932\n",
      "Rows analyzed: 3689, Rows left: 931\n",
      "Rows analyzed: 3690, Rows left: 930\n",
      "Rows analyzed: 3691, Rows left: 929\n",
      "Rows analyzed: 3692, Rows left: 928\n",
      "Rows analyzed: 3693, Rows left: 927\n",
      "Rows analyzed: 3694, Rows left: 926\n",
      "Rows analyzed: 3695, Rows left: 925\n",
      "Rows analyzed: 3696, Rows left: 924\n",
      "Rows analyzed: 3697, Rows left: 923\n",
      "Rows analyzed: 3698, Rows left: 922\n",
      "Rows analyzed: 3699, Rows left: 921\n",
      "Rows analyzed: 3700, Rows left: 920\n",
      "Rows analyzed: 3701, Rows left: 919\n",
      "Rows analyzed: 3702, Rows left: 918\n"
     ]
    },
    {
     "name": "stderr",
     "output_type": "stream",
     "text": [
      "ERROR: [youtube] kIhhCISLbq0: Private video. Sign in if you've been granted access to this video\n"
     ]
    },
    {
     "name": "stdout",
     "output_type": "stream",
     "text": [
      "Error checking language and duration for video kIhhCISLbq0: ERROR: [youtube] kIhhCISLbq0: Private video. Sign in if you've been granted access to this video\n",
      "Rows analyzed: 3703, Rows left: 917\n",
      "Rows analyzed: 3704, Rows left: 916\n",
      "Rows analyzed: 3705, Rows left: 915\n"
     ]
    },
    {
     "name": "stderr",
     "output_type": "stream",
     "text": [
      "ERROR: [youtube] uiP0k7XOMks: Video unavailable. This video is no longer available because the YouTube account associated with this video has been terminated.\n"
     ]
    },
    {
     "name": "stdout",
     "output_type": "stream",
     "text": [
      "Error checking language and duration for video uiP0k7XOMks: ERROR: [youtube] uiP0k7XOMks: Video unavailable. This video is no longer available because the YouTube account associated with this video has been terminated.\n",
      "Rows analyzed: 3706, Rows left: 914\n",
      "Rows analyzed: 3707, Rows left: 913\n",
      "Rows analyzed: 3708, Rows left: 912\n",
      "Rows analyzed: 3709, Rows left: 911\n",
      "Rows analyzed: 3710, Rows left: 910\n",
      "Rows analyzed: 3711, Rows left: 909\n"
     ]
    },
    {
     "name": "stderr",
     "output_type": "stream",
     "text": [
      "ERROR: [youtube] I-4j7QNR3nA: Video unavailable\n"
     ]
    },
    {
     "name": "stdout",
     "output_type": "stream",
     "text": [
      "Error checking language and duration for video I-4j7QNR3nA: ERROR: [youtube] I-4j7QNR3nA: Video unavailable\n",
      "Rows analyzed: 3712, Rows left: 908\n",
      "Rows analyzed: 3713, Rows left: 907\n",
      "Rows analyzed: 3714, Rows left: 906\n",
      "Rows analyzed: 3715, Rows left: 905\n",
      "Rows analyzed: 3716, Rows left: 904\n",
      "Rows analyzed: 3717, Rows left: 903\n",
      "Rows analyzed: 3718, Rows left: 902\n",
      "Rows analyzed: 3719, Rows left: 901\n"
     ]
    },
    {
     "name": "stderr",
     "output_type": "stream",
     "text": [
      "ERROR: [youtube] _ljcUgrjHmM: Private video. Sign in if you've been granted access to this video\n"
     ]
    },
    {
     "name": "stdout",
     "output_type": "stream",
     "text": [
      "Error checking language and duration for video _ljcUgrjHmM: ERROR: [youtube] _ljcUgrjHmM: Private video. Sign in if you've been granted access to this video\n",
      "Rows analyzed: 3720, Rows left: 900\n",
      "Rows analyzed: 3721, Rows left: 899\n",
      "Rows analyzed: 3722, Rows left: 898\n",
      "Rows analyzed: 3723, Rows left: 897\n",
      "Rows analyzed: 3724, Rows left: 896\n",
      "Rows analyzed: 3725, Rows left: 895\n",
      "Rows analyzed: 3726, Rows left: 894\n",
      "Rows analyzed: 3727, Rows left: 893\n",
      "Rows analyzed: 3728, Rows left: 892\n",
      "Rows analyzed: 3729, Rows left: 891\n",
      "Rows analyzed: 3730, Rows left: 890\n",
      "Rows analyzed: 3731, Rows left: 889\n",
      "Rows analyzed: 3732, Rows left: 888\n"
     ]
    },
    {
     "name": "stderr",
     "output_type": "stream",
     "text": [
      "ERROR: [youtube] WXJtb-0LYEY: Video unavailable\n"
     ]
    },
    {
     "name": "stdout",
     "output_type": "stream",
     "text": [
      "Error checking language and duration for video WXJtb-0LYEY: ERROR: [youtube] WXJtb-0LYEY: Video unavailable\n",
      "Rows analyzed: 3733, Rows left: 887\n",
      "Rows analyzed: 3734, Rows left: 886\n",
      "Rows analyzed: 3735, Rows left: 885\n",
      "Rows analyzed: 3736, Rows left: 884\n",
      "Rows analyzed: 3737, Rows left: 883\n",
      "Rows analyzed: 3738, Rows left: 882\n",
      "Rows analyzed: 3739, Rows left: 881\n",
      "Rows analyzed: 3740, Rows left: 880\n",
      "Rows analyzed: 3741, Rows left: 879\n",
      "Rows analyzed: 3742, Rows left: 878\n",
      "Rows analyzed: 3743, Rows left: 877\n",
      "Rows analyzed: 3744, Rows left: 876\n",
      "Rows analyzed: 3745, Rows left: 875\n",
      "Rows analyzed: 3746, Rows left: 874\n",
      "Rows analyzed: 3747, Rows left: 873\n",
      "Rows analyzed: 3748, Rows left: 872\n",
      "Rows analyzed: 3749, Rows left: 871\n",
      "Rows analyzed: 3750, Rows left: 870\n",
      "Rows analyzed: 3751, Rows left: 869\n"
     ]
    },
    {
     "name": "stderr",
     "output_type": "stream",
     "text": [
      "ERROR: [youtube] lB9cVBdC4do: Private video. Sign in if you've been granted access to this video\n"
     ]
    },
    {
     "name": "stdout",
     "output_type": "stream",
     "text": [
      "Error checking language and duration for video lB9cVBdC4do: ERROR: [youtube] lB9cVBdC4do: Private video. Sign in if you've been granted access to this video\n",
      "Rows analyzed: 3752, Rows left: 868\n",
      "Rows analyzed: 3753, Rows left: 867\n",
      "Rows analyzed: 3754, Rows left: 866\n",
      "Rows analyzed: 3755, Rows left: 865\n",
      "Rows analyzed: 3756, Rows left: 864\n",
      "Rows analyzed: 3757, Rows left: 863\n",
      "Rows analyzed: 3758, Rows left: 862\n",
      "Rows analyzed: 3759, Rows left: 861\n"
     ]
    },
    {
     "name": "stderr",
     "output_type": "stream",
     "text": [
      "ERROR: [youtube] jyBML9c7_OA: Video unavailable. This video is no longer available because the YouTube account associated with this video has been terminated.\n"
     ]
    },
    {
     "name": "stdout",
     "output_type": "stream",
     "text": [
      "Error checking language and duration for video jyBML9c7_OA: ERROR: [youtube] jyBML9c7_OA: Video unavailable. This video is no longer available because the YouTube account associated with this video has been terminated.\n",
      "Rows analyzed: 3760, Rows left: 860\n",
      "Rows analyzed: 3761, Rows left: 859\n",
      "Rows analyzed: 3762, Rows left: 858\n",
      "Rows analyzed: 3763, Rows left: 857\n",
      "Rows analyzed: 3764, Rows left: 856\n",
      "Rows analyzed: 3765, Rows left: 855\n",
      "Rows analyzed: 3766, Rows left: 854\n",
      "Rows analyzed: 3767, Rows left: 853\n",
      "Rows analyzed: 3768, Rows left: 852\n",
      "Rows analyzed: 3769, Rows left: 851\n"
     ]
    },
    {
     "name": "stderr",
     "output_type": "stream",
     "text": [
      "ERROR: [youtube] b5c7gJe4Puc: Private video. Sign in if you've been granted access to this video\n"
     ]
    },
    {
     "name": "stdout",
     "output_type": "stream",
     "text": [
      "Error checking language and duration for video b5c7gJe4Puc: ERROR: [youtube] b5c7gJe4Puc: Private video. Sign in if you've been granted access to this video\n",
      "Rows analyzed: 3770, Rows left: 850\n",
      "Rows analyzed: 3771, Rows left: 849\n"
     ]
    },
    {
     "name": "stderr",
     "output_type": "stream",
     "text": [
      "ERROR: [youtube] BjQvt84baZ0: Private video. Sign in if you've been granted access to this video\n"
     ]
    },
    {
     "name": "stdout",
     "output_type": "stream",
     "text": [
      "Error checking language and duration for video BjQvt84baZ0: ERROR: [youtube] BjQvt84baZ0: Private video. Sign in if you've been granted access to this video\n",
      "Rows analyzed: 3772, Rows left: 848\n",
      "Rows analyzed: 3773, Rows left: 847\n",
      "Rows analyzed: 3774, Rows left: 846\n",
      "Rows analyzed: 3775, Rows left: 845\n",
      "Rows analyzed: 3776, Rows left: 844\n"
     ]
    },
    {
     "name": "stderr",
     "output_type": "stream",
     "text": [
      "ERROR: [youtube] w480DRvizwg: Video unavailable. This video is no longer available because the YouTube account associated with this video has been terminated.\n"
     ]
    },
    {
     "name": "stdout",
     "output_type": "stream",
     "text": [
      "Error checking language and duration for video w480DRvizwg: ERROR: [youtube] w480DRvizwg: Video unavailable. This video is no longer available because the YouTube account associated with this video has been terminated.\n",
      "Rows analyzed: 3777, Rows left: 843\n",
      "Rows analyzed: 3778, Rows left: 842\n",
      "Rows analyzed: 3779, Rows left: 841\n",
      "Rows analyzed: 3780, Rows left: 840\n",
      "Rows analyzed: 3781, Rows left: 839\n",
      "Rows analyzed: 3782, Rows left: 838\n",
      "Rows analyzed: 3783, Rows left: 837\n",
      "Rows analyzed: 3784, Rows left: 836\n",
      "Rows analyzed: 3785, Rows left: 835\n",
      "Rows analyzed: 3786, Rows left: 834\n",
      "Rows analyzed: 3787, Rows left: 833\n",
      "Rows analyzed: 3788, Rows left: 832\n",
      "Rows analyzed: 3789, Rows left: 831\n",
      "Rows analyzed: 3790, Rows left: 830\n",
      "Rows analyzed: 3791, Rows left: 829\n"
     ]
    },
    {
     "name": "stderr",
     "output_type": "stream",
     "text": [
      "ERROR: [youtube] rrh0LVqYbTE: Private video. Sign in if you've been granted access to this video\n"
     ]
    },
    {
     "name": "stdout",
     "output_type": "stream",
     "text": [
      "Error checking language and duration for video rrh0LVqYbTE: ERROR: [youtube] rrh0LVqYbTE: Private video. Sign in if you've been granted access to this video\n",
      "Rows analyzed: 3792, Rows left: 828\n",
      "Rows analyzed: 3793, Rows left: 827\n",
      "Rows analyzed: 3794, Rows left: 826\n",
      "Rows analyzed: 3795, Rows left: 825\n"
     ]
    },
    {
     "name": "stderr",
     "output_type": "stream",
     "text": [
      "ERROR: [youtube] wu5Ukz4R5Gk: Video unavailable. This video is no longer available because the YouTube account associated with this video has been terminated.\n"
     ]
    },
    {
     "name": "stdout",
     "output_type": "stream",
     "text": [
      "Error checking language and duration for video wu5Ukz4R5Gk: ERROR: [youtube] wu5Ukz4R5Gk: Video unavailable. This video is no longer available because the YouTube account associated with this video has been terminated.\n",
      "Rows analyzed: 3796, Rows left: 824\n"
     ]
    },
    {
     "name": "stderr",
     "output_type": "stream",
     "text": [
      "ERROR: [youtube] U15Q8yAM6Vo: Private video. Sign in if you've been granted access to this video\n"
     ]
    },
    {
     "name": "stdout",
     "output_type": "stream",
     "text": [
      "Error checking language and duration for video U15Q8yAM6Vo: ERROR: [youtube] U15Q8yAM6Vo: Private video. Sign in if you've been granted access to this video\n",
      "Rows analyzed: 3797, Rows left: 823\n",
      "Rows analyzed: 3798, Rows left: 822\n",
      "Rows analyzed: 3799, Rows left: 821\n",
      "Rows analyzed: 3800, Rows left: 820\n",
      "Rows analyzed: 3801, Rows left: 819\n",
      "Rows analyzed: 3802, Rows left: 818\n",
      "Rows analyzed: 3803, Rows left: 817\n",
      "Rows analyzed: 3804, Rows left: 816\n",
      "Rows analyzed: 3805, Rows left: 815\n",
      "Rows analyzed: 3806, Rows left: 814\n",
      "Rows analyzed: 3807, Rows left: 813\n",
      "Rows analyzed: 3808, Rows left: 812\n",
      "Rows analyzed: 3809, Rows left: 811\n",
      "Rows analyzed: 3810, Rows left: 810\n",
      "Rows analyzed: 3811, Rows left: 809\n",
      "Rows analyzed: 3812, Rows left: 808\n",
      "Rows analyzed: 3813, Rows left: 807\n",
      "Rows analyzed: 3814, Rows left: 806\n",
      "Rows analyzed: 3815, Rows left: 805\n",
      "Rows analyzed: 3816, Rows left: 804\n"
     ]
    },
    {
     "name": "stderr",
     "output_type": "stream",
     "text": [
      "ERROR: [youtube] 1-lkUq1LS3o: Private video. Sign in if you've been granted access to this video\n"
     ]
    },
    {
     "name": "stdout",
     "output_type": "stream",
     "text": [
      "Error checking language and duration for video 1-lkUq1LS3o: ERROR: [youtube] 1-lkUq1LS3o: Private video. Sign in if you've been granted access to this video\n",
      "Rows analyzed: 3817, Rows left: 803\n",
      "Rows analyzed: 3818, Rows left: 802\n",
      "Rows analyzed: 3819, Rows left: 801\n"
     ]
    },
    {
     "name": "stderr",
     "output_type": "stream",
     "text": [
      "ERROR: [youtube] bASq2Wn1l64: Video unavailable. This video is no longer available because the YouTube account associated with this video has been terminated.\n"
     ]
    },
    {
     "name": "stdout",
     "output_type": "stream",
     "text": [
      "Error checking language and duration for video bASq2Wn1l64: ERROR: [youtube] bASq2Wn1l64: Video unavailable. This video is no longer available because the YouTube account associated with this video has been terminated.\n",
      "Rows analyzed: 3820, Rows left: 800\n"
     ]
    },
    {
     "name": "stderr",
     "output_type": "stream",
     "text": [
      "ERROR: [youtube] WuwBnFijCPk: Private video. Sign in if you've been granted access to this video\n"
     ]
    },
    {
     "name": "stdout",
     "output_type": "stream",
     "text": [
      "Error checking language and duration for video WuwBnFijCPk: ERROR: [youtube] WuwBnFijCPk: Private video. Sign in if you've been granted access to this video\n",
      "Rows analyzed: 3821, Rows left: 799\n",
      "Rows analyzed: 3822, Rows left: 798\n",
      "Rows analyzed: 3823, Rows left: 797\n",
      "Rows analyzed: 3824, Rows left: 796\n",
      "Rows analyzed: 3825, Rows left: 795\n",
      "Rows analyzed: 3826, Rows left: 794\n"
     ]
    },
    {
     "name": "stderr",
     "output_type": "stream",
     "text": [
      "ERROR: [youtube] P6IHWzkhTWk: Video unavailable\n"
     ]
    },
    {
     "name": "stdout",
     "output_type": "stream",
     "text": [
      "Error checking language and duration for video P6IHWzkhTWk: ERROR: [youtube] P6IHWzkhTWk: Video unavailable\n",
      "Rows analyzed: 3827, Rows left: 793\n",
      "Rows analyzed: 3828, Rows left: 792\n",
      "Rows analyzed: 3829, Rows left: 791\n",
      "Rows analyzed: 3830, Rows left: 790\n",
      "Rows analyzed: 3831, Rows left: 789\n",
      "Rows analyzed: 3832, Rows left: 788\n",
      "Rows analyzed: 3833, Rows left: 787\n",
      "Rows analyzed: 3834, Rows left: 786\n",
      "Rows analyzed: 3835, Rows left: 785\n"
     ]
    },
    {
     "name": "stderr",
     "output_type": "stream",
     "text": [
      "ERROR: [youtube] kxR0ZK10eh0: Private video. Sign in if you've been granted access to this video\n"
     ]
    },
    {
     "name": "stdout",
     "output_type": "stream",
     "text": [
      "Error checking language and duration for video kxR0ZK10eh0: ERROR: [youtube] kxR0ZK10eh0: Private video. Sign in if you've been granted access to this video\n",
      "Rows analyzed: 3836, Rows left: 784\n"
     ]
    },
    {
     "name": "stderr",
     "output_type": "stream",
     "text": [
      "ERROR: [youtube] wMYuT07vMSs: Video unavailable\n"
     ]
    },
    {
     "name": "stdout",
     "output_type": "stream",
     "text": [
      "Error checking language and duration for video wMYuT07vMSs: ERROR: [youtube] wMYuT07vMSs: Video unavailable\n",
      "Rows analyzed: 3837, Rows left: 783\n"
     ]
    },
    {
     "name": "stderr",
     "output_type": "stream",
     "text": [
      "ERROR: [youtube] pUwjunrcHqo: Private video. Sign in if you've been granted access to this video\n"
     ]
    },
    {
     "name": "stdout",
     "output_type": "stream",
     "text": [
      "Error checking language and duration for video pUwjunrcHqo: ERROR: [youtube] pUwjunrcHqo: Private video. Sign in if you've been granted access to this video\n",
      "Rows analyzed: 3838, Rows left: 782\n"
     ]
    },
    {
     "name": "stderr",
     "output_type": "stream",
     "text": [
      "ERROR: [youtube] rrp0i2zWT3Y: Private video. Sign in if you've been granted access to this video\n"
     ]
    },
    {
     "name": "stdout",
     "output_type": "stream",
     "text": [
      "Error checking language and duration for video rrp0i2zWT3Y: ERROR: [youtube] rrp0i2zWT3Y: Private video. Sign in if you've been granted access to this video\n",
      "Rows analyzed: 3839, Rows left: 781\n",
      "Rows analyzed: 3840, Rows left: 780\n",
      "Rows analyzed: 3841, Rows left: 779\n",
      "Rows analyzed: 3842, Rows left: 778\n",
      "Rows analyzed: 3843, Rows left: 777\n"
     ]
    },
    {
     "name": "stderr",
     "output_type": "stream",
     "text": [
      "ERROR: [youtube] 753wyXVsXJs: Video unavailable. This video is no longer available because the YouTube account associated with this video has been terminated.\n"
     ]
    },
    {
     "name": "stdout",
     "output_type": "stream",
     "text": [
      "Error checking language and duration for video 753wyXVsXJs: ERROR: [youtube] 753wyXVsXJs: Video unavailable. This video is no longer available because the YouTube account associated with this video has been terminated.\n",
      "Rows analyzed: 3844, Rows left: 776\n",
      "Rows analyzed: 3845, Rows left: 775\n",
      "Rows analyzed: 3846, Rows left: 774\n",
      "Rows analyzed: 3847, Rows left: 773\n",
      "Rows analyzed: 3848, Rows left: 772\n",
      "Rows analyzed: 3849, Rows left: 771\n",
      "Rows analyzed: 3850, Rows left: 770\n",
      "Rows analyzed: 3851, Rows left: 769\n"
     ]
    },
    {
     "name": "stderr",
     "output_type": "stream",
     "text": [
      "ERROR: [youtube] ysACLsrbsXA: Video unavailable\n"
     ]
    },
    {
     "name": "stdout",
     "output_type": "stream",
     "text": [
      "Error checking language and duration for video ysACLsrbsXA: ERROR: [youtube] ysACLsrbsXA: Video unavailable\n",
      "Rows analyzed: 3852, Rows left: 768\n"
     ]
    },
    {
     "name": "stderr",
     "output_type": "stream",
     "text": [
      "ERROR: [youtube] J5UEiYTheCk: Private video. Sign in if you've been granted access to this video\n"
     ]
    },
    {
     "name": "stdout",
     "output_type": "stream",
     "text": [
      "Error checking language and duration for video J5UEiYTheCk: ERROR: [youtube] J5UEiYTheCk: Private video. Sign in if you've been granted access to this video\n",
      "Rows analyzed: 3853, Rows left: 767\n"
     ]
    },
    {
     "name": "stderr",
     "output_type": "stream",
     "text": [
      "ERROR: [youtube] cmFx2cQ93E4: Private video. Sign in if you've been granted access to this video\n"
     ]
    },
    {
     "name": "stdout",
     "output_type": "stream",
     "text": [
      "Error checking language and duration for video cmFx2cQ93E4: ERROR: [youtube] cmFx2cQ93E4: Private video. Sign in if you've been granted access to this video\n",
      "Rows analyzed: 3854, Rows left: 766\n",
      "Rows analyzed: 3855, Rows left: 765\n",
      "Rows analyzed: 3856, Rows left: 764\n",
      "Rows analyzed: 3857, Rows left: 763\n",
      "Rows analyzed: 3858, Rows left: 762\n",
      "Rows analyzed: 3859, Rows left: 761\n"
     ]
    },
    {
     "name": "stderr",
     "output_type": "stream",
     "text": [
      "ERROR: [youtube] EmZvBWqbfZc: Video unavailable. This video is no longer available because the YouTube account associated with this video has been terminated.\n"
     ]
    },
    {
     "name": "stdout",
     "output_type": "stream",
     "text": [
      "Error checking language and duration for video EmZvBWqbfZc: ERROR: [youtube] EmZvBWqbfZc: Video unavailable. This video is no longer available because the YouTube account associated with this video has been terminated.\n",
      "Rows analyzed: 3860, Rows left: 760\n",
      "Rows analyzed: 3861, Rows left: 759\n"
     ]
    },
    {
     "name": "stderr",
     "output_type": "stream",
     "text": [
      "ERROR: [youtube] s44xeSx_8JU: Video unavailable\n"
     ]
    },
    {
     "name": "stdout",
     "output_type": "stream",
     "text": [
      "Error checking language and duration for video s44xeSx_8JU: ERROR: [youtube] s44xeSx_8JU: Video unavailable\n",
      "Rows analyzed: 3862, Rows left: 758\n",
      "Rows analyzed: 3863, Rows left: 757\n",
      "Rows analyzed: 3864, Rows left: 756\n",
      "Rows analyzed: 3865, Rows left: 755\n",
      "Rows analyzed: 3866, Rows left: 754\n",
      "Rows analyzed: 3867, Rows left: 753\n",
      "Rows analyzed: 3868, Rows left: 752\n",
      "Rows analyzed: 3869, Rows left: 751\n",
      "Rows analyzed: 3870, Rows left: 750\n"
     ]
    },
    {
     "name": "stderr",
     "output_type": "stream",
     "text": [
      "ERROR: [youtube] ioeatmljve0: Video unavailable. This video is no longer available because the YouTube account associated with this video has been terminated.\n"
     ]
    },
    {
     "name": "stdout",
     "output_type": "stream",
     "text": [
      "Error checking language and duration for video ioeatmljve0: ERROR: [youtube] ioeatmljve0: Video unavailable. This video is no longer available because the YouTube account associated with this video has been terminated.\n",
      "Rows analyzed: 3871, Rows left: 749\n",
      "Rows analyzed: 3872, Rows left: 748\n"
     ]
    },
    {
     "name": "stderr",
     "output_type": "stream",
     "text": [
      "ERROR: [youtube] RiYz3Ms4fFA: Video unavailable\n"
     ]
    },
    {
     "name": "stdout",
     "output_type": "stream",
     "text": [
      "Error checking language and duration for video RiYz3Ms4fFA: ERROR: [youtube] RiYz3Ms4fFA: Video unavailable\n",
      "Rows analyzed: 3873, Rows left: 747\n",
      "Rows analyzed: 3874, Rows left: 746\n",
      "Rows analyzed: 3875, Rows left: 745\n",
      "Rows analyzed: 3876, Rows left: 744\n",
      "Rows analyzed: 3877, Rows left: 743\n",
      "Rows analyzed: 3878, Rows left: 742\n",
      "Rows analyzed: 3879, Rows left: 741\n",
      "Rows analyzed: 3880, Rows left: 740\n",
      "Rows analyzed: 3881, Rows left: 739\n"
     ]
    },
    {
     "name": "stderr",
     "output_type": "stream",
     "text": [
      "ERROR: [youtube] YFUGf3_HxRQ: Private video. Sign in if you've been granted access to this video\n"
     ]
    },
    {
     "name": "stdout",
     "output_type": "stream",
     "text": [
      "Error checking language and duration for video YFUGf3_HxRQ: ERROR: [youtube] YFUGf3_HxRQ: Private video. Sign in if you've been granted access to this video\n",
      "Rows analyzed: 3882, Rows left: 738\n",
      "Rows analyzed: 3883, Rows left: 737\n",
      "Rows analyzed: 3884, Rows left: 736\n",
      "Rows analyzed: 3885, Rows left: 735\n"
     ]
    },
    {
     "name": "stderr",
     "output_type": "stream",
     "text": [
      "ERROR: [youtube] 7YxocC2qloE: Video unavailable\n"
     ]
    },
    {
     "name": "stdout",
     "output_type": "stream",
     "text": [
      "Error checking language and duration for video 7YxocC2qloE: ERROR: [youtube] 7YxocC2qloE: Video unavailable\n",
      "Rows analyzed: 3886, Rows left: 734\n",
      "Rows analyzed: 3887, Rows left: 733\n",
      "Rows analyzed: 3888, Rows left: 732\n",
      "Rows analyzed: 3889, Rows left: 731\n",
      "Rows analyzed: 3890, Rows left: 730\n"
     ]
    },
    {
     "name": "stderr",
     "output_type": "stream",
     "text": [
      "ERROR: [youtube] SoGoQP6-10I: Private video. Sign in if you've been granted access to this video\n"
     ]
    },
    {
     "name": "stdout",
     "output_type": "stream",
     "text": [
      "Error checking language and duration for video SoGoQP6-10I: ERROR: [youtube] SoGoQP6-10I: Private video. Sign in if you've been granted access to this video\n",
      "Rows analyzed: 3891, Rows left: 729\n",
      "Rows analyzed: 3892, Rows left: 728\n"
     ]
    },
    {
     "name": "stderr",
     "output_type": "stream",
     "text": [
      "ERROR: [youtube] FgUMipX3qgo: Video unavailable\n"
     ]
    },
    {
     "name": "stdout",
     "output_type": "stream",
     "text": [
      "Error checking language and duration for video FgUMipX3qgo: ERROR: [youtube] FgUMipX3qgo: Video unavailable\n",
      "Rows analyzed: 3893, Rows left: 727\n",
      "Rows analyzed: 3894, Rows left: 726\n",
      "Rows analyzed: 3895, Rows left: 725\n"
     ]
    },
    {
     "name": "stderr",
     "output_type": "stream",
     "text": [
      "ERROR: [youtube] GzCqZv4KdhA: Video unavailable. This video is no longer available because the YouTube account associated with this video has been terminated.\n"
     ]
    },
    {
     "name": "stdout",
     "output_type": "stream",
     "text": [
      "Error checking language and duration for video GzCqZv4KdhA: ERROR: [youtube] GzCqZv4KdhA: Video unavailable. This video is no longer available because the YouTube account associated with this video has been terminated.\n",
      "Rows analyzed: 3896, Rows left: 724\n"
     ]
    },
    {
     "name": "stderr",
     "output_type": "stream",
     "text": [
      "ERROR: [youtube] 4aRoJtbhbJ0: Private video. Sign in if you've been granted access to this video\n"
     ]
    },
    {
     "name": "stdout",
     "output_type": "stream",
     "text": [
      "Error checking language and duration for video 4aRoJtbhbJ0: ERROR: [youtube] 4aRoJtbhbJ0: Private video. Sign in if you've been granted access to this video\n",
      "Rows analyzed: 3897, Rows left: 723\n",
      "Rows analyzed: 3898, Rows left: 722\n"
     ]
    },
    {
     "name": "stderr",
     "output_type": "stream",
     "text": [
      "ERROR: [youtube] A7vPEVx3_m4: Private video. Sign in if you've been granted access to this video\n"
     ]
    },
    {
     "name": "stdout",
     "output_type": "stream",
     "text": [
      "Error checking language and duration for video A7vPEVx3_m4: ERROR: [youtube] A7vPEVx3_m4: Private video. Sign in if you've been granted access to this video\n",
      "Rows analyzed: 3899, Rows left: 721\n",
      "Rows analyzed: 3900, Rows left: 720\n",
      "Rows analyzed: 3901, Rows left: 719\n",
      "Rows analyzed: 3902, Rows left: 718\n",
      "Rows analyzed: 3903, Rows left: 717\n",
      "Rows analyzed: 3904, Rows left: 716\n",
      "Rows analyzed: 3905, Rows left: 715\n",
      "Rows analyzed: 3906, Rows left: 714\n",
      "Rows analyzed: 3907, Rows left: 713\n",
      "Rows analyzed: 3908, Rows left: 712\n",
      "Rows analyzed: 3909, Rows left: 711\n",
      "Rows analyzed: 3910, Rows left: 710\n"
     ]
    },
    {
     "name": "stderr",
     "output_type": "stream",
     "text": [
      "ERROR: [youtube] ScvhsJkQVHY: Private video. Sign in if you've been granted access to this video\n"
     ]
    },
    {
     "name": "stdout",
     "output_type": "stream",
     "text": [
      "Error checking language and duration for video ScvhsJkQVHY: ERROR: [youtube] ScvhsJkQVHY: Private video. Sign in if you've been granted access to this video\n",
      "Rows analyzed: 3911, Rows left: 709\n",
      "Rows analyzed: 3912, Rows left: 708\n"
     ]
    },
    {
     "name": "stderr",
     "output_type": "stream",
     "text": [
      "ERROR: [youtube] XN2I06aHCLw: Video unavailable. This video is no longer available because the YouTube account associated with this video has been terminated.\n"
     ]
    },
    {
     "name": "stdout",
     "output_type": "stream",
     "text": [
      "Error checking language and duration for video XN2I06aHCLw: ERROR: [youtube] XN2I06aHCLw: Video unavailable. This video is no longer available because the YouTube account associated with this video has been terminated.\n",
      "Rows analyzed: 3913, Rows left: 707\n",
      "Rows analyzed: 3914, Rows left: 706\n",
      "Rows analyzed: 3915, Rows left: 705\n"
     ]
    },
    {
     "name": "stderr",
     "output_type": "stream",
     "text": [
      "ERROR: [youtube] 82oMArihR8g: Video unavailable. This video is no longer available because the YouTube account associated with this video has been terminated.\n"
     ]
    },
    {
     "name": "stdout",
     "output_type": "stream",
     "text": [
      "Error checking language and duration for video 82oMArihR8g: ERROR: [youtube] 82oMArihR8g: Video unavailable. This video is no longer available because the YouTube account associated with this video has been terminated.\n",
      "Rows analyzed: 3916, Rows left: 704\n"
     ]
    },
    {
     "name": "stderr",
     "output_type": "stream",
     "text": [
      "ERROR: [youtube] 9kA5ZTAPFRI: Private video. Sign in if you've been granted access to this video\n"
     ]
    },
    {
     "name": "stdout",
     "output_type": "stream",
     "text": [
      "Error checking language and duration for video 9kA5ZTAPFRI: ERROR: [youtube] 9kA5ZTAPFRI: Private video. Sign in if you've been granted access to this video\n",
      "Rows analyzed: 3917, Rows left: 703\n",
      "Rows analyzed: 3918, Rows left: 702\n",
      "Rows analyzed: 3919, Rows left: 701\n",
      "Rows analyzed: 3920, Rows left: 700\n",
      "Rows analyzed: 3921, Rows left: 699\n",
      "Rows analyzed: 3922, Rows left: 698\n",
      "Rows analyzed: 3923, Rows left: 697\n",
      "Rows analyzed: 3924, Rows left: 696\n"
     ]
    },
    {
     "name": "stderr",
     "output_type": "stream",
     "text": [
      "ERROR: [youtube] tDuGk9b2G4s: Private video. Sign in if you've been granted access to this video\n"
     ]
    },
    {
     "name": "stdout",
     "output_type": "stream",
     "text": [
      "Error checking language and duration for video tDuGk9b2G4s: ERROR: [youtube] tDuGk9b2G4s: Private video. Sign in if you've been granted access to this video\n",
      "Rows analyzed: 3925, Rows left: 695\n"
     ]
    },
    {
     "name": "stderr",
     "output_type": "stream",
     "text": [
      "ERROR: [youtube] 3wnW_7NDm-s: Video unavailable\n"
     ]
    },
    {
     "name": "stdout",
     "output_type": "stream",
     "text": [
      "Error checking language and duration for video 3wnW_7NDm-s: ERROR: [youtube] 3wnW_7NDm-s: Video unavailable\n",
      "Rows analyzed: 3926, Rows left: 694\n",
      "Rows analyzed: 3927, Rows left: 693\n",
      "Rows analyzed: 3928, Rows left: 692\n",
      "Rows analyzed: 3929, Rows left: 691\n",
      "Rows analyzed: 3930, Rows left: 690\n",
      "Rows analyzed: 3931, Rows left: 689\n",
      "Rows analyzed: 3932, Rows left: 688\n",
      "Rows analyzed: 3933, Rows left: 687\n",
      "Rows analyzed: 3934, Rows left: 686\n"
     ]
    },
    {
     "name": "stderr",
     "output_type": "stream",
     "text": [
      "ERROR: [youtube] EjkoVOXNZqU: Video unavailable\n"
     ]
    },
    {
     "name": "stdout",
     "output_type": "stream",
     "text": [
      "Error checking language and duration for video EjkoVOXNZqU: ERROR: [youtube] EjkoVOXNZqU: Video unavailable\n",
      "Rows analyzed: 3935, Rows left: 685\n"
     ]
    },
    {
     "name": "stderr",
     "output_type": "stream",
     "text": [
      "ERROR: [youtube] UdxTZZ2jdyA: Video unavailable. This video is no longer available because the YouTube account associated with this video has been terminated.\n"
     ]
    },
    {
     "name": "stdout",
     "output_type": "stream",
     "text": [
      "Error checking language and duration for video UdxTZZ2jdyA: ERROR: [youtube] UdxTZZ2jdyA: Video unavailable. This video is no longer available because the YouTube account associated with this video has been terminated.\n",
      "Rows analyzed: 3936, Rows left: 684\n",
      "Rows analyzed: 3937, Rows left: 683\n",
      "Rows analyzed: 3938, Rows left: 682\n",
      "Rows analyzed: 3939, Rows left: 681\n"
     ]
    },
    {
     "name": "stderr",
     "output_type": "stream",
     "text": [
      "ERROR: [youtube] c2sFuc7OiOY: Private video. Sign in if you've been granted access to this video\n"
     ]
    },
    {
     "name": "stdout",
     "output_type": "stream",
     "text": [
      "Error checking language and duration for video c2sFuc7OiOY: ERROR: [youtube] c2sFuc7OiOY: Private video. Sign in if you've been granted access to this video\n",
      "Rows analyzed: 3940, Rows left: 680\n"
     ]
    },
    {
     "name": "stderr",
     "output_type": "stream",
     "text": [
      "ERROR: [youtube] TcqQC7DQQXg: Private video. Sign in if you've been granted access to this video\n"
     ]
    },
    {
     "name": "stdout",
     "output_type": "stream",
     "text": [
      "Error checking language and duration for video TcqQC7DQQXg: ERROR: [youtube] TcqQC7DQQXg: Private video. Sign in if you've been granted access to this video\n",
      "Rows analyzed: 3941, Rows left: 679\n",
      "Rows analyzed: 3942, Rows left: 678\n",
      "Rows analyzed: 3943, Rows left: 677\n",
      "Rows analyzed: 3944, Rows left: 676\n",
      "Rows analyzed: 3945, Rows left: 675\n",
      "Rows analyzed: 3946, Rows left: 674\n",
      "Rows analyzed: 3947, Rows left: 673\n",
      "Rows analyzed: 3948, Rows left: 672\n",
      "Rows analyzed: 3949, Rows left: 671\n"
     ]
    },
    {
     "name": "stderr",
     "output_type": "stream",
     "text": [
      "ERROR: [youtube] OM-aCFQKsG4: Video unavailable. The uploader has not made this video available in your country\n"
     ]
    },
    {
     "name": "stdout",
     "output_type": "stream",
     "text": [
      "Error checking language and duration for video OM-aCFQKsG4: ERROR: [youtube] OM-aCFQKsG4: Video unavailable. The uploader has not made this video available in your country\n",
      "Rows analyzed: 3950, Rows left: 670\n",
      "Rows analyzed: 3951, Rows left: 669\n",
      "Rows analyzed: 3952, Rows left: 668\n"
     ]
    },
    {
     "name": "stderr",
     "output_type": "stream",
     "text": [
      "ERROR: [youtube] xWSGj9QabK4: Video unavailable\n"
     ]
    },
    {
     "name": "stdout",
     "output_type": "stream",
     "text": [
      "Error checking language and duration for video xWSGj9QabK4: ERROR: [youtube] xWSGj9QabK4: Video unavailable\n",
      "Rows analyzed: 3953, Rows left: 667\n",
      "Rows analyzed: 3954, Rows left: 666\n",
      "Rows analyzed: 3955, Rows left: 665\n",
      "Rows analyzed: 3956, Rows left: 664\n",
      "Rows analyzed: 3957, Rows left: 663\n",
      "Rows analyzed: 3958, Rows left: 662\n",
      "Rows analyzed: 3959, Rows left: 661\n",
      "Rows analyzed: 3960, Rows left: 660\n",
      "Rows analyzed: 3961, Rows left: 659\n",
      "Rows analyzed: 3962, Rows left: 658\n",
      "Rows analyzed: 3963, Rows left: 657\n",
      "Rows analyzed: 3964, Rows left: 656\n",
      "Rows analyzed: 3965, Rows left: 655\n",
      "Rows analyzed: 3966, Rows left: 654\n",
      "Rows analyzed: 3967, Rows left: 653\n",
      "Rows analyzed: 3968, Rows left: 652\n",
      "Rows analyzed: 3969, Rows left: 651\n"
     ]
    },
    {
     "name": "stderr",
     "output_type": "stream",
     "text": [
      "ERROR: [youtube] J6l7vk2OxCo: Private video. Sign in if you've been granted access to this video\n"
     ]
    },
    {
     "name": "stdout",
     "output_type": "stream",
     "text": [
      "Error checking language and duration for video J6l7vk2OxCo: ERROR: [youtube] J6l7vk2OxCo: Private video. Sign in if you've been granted access to this video\n",
      "Rows analyzed: 3970, Rows left: 650\n",
      "Rows analyzed: 3971, Rows left: 649\n",
      "Rows analyzed: 3972, Rows left: 648\n",
      "Rows analyzed: 3973, Rows left: 647\n",
      "Rows analyzed: 3974, Rows left: 646\n"
     ]
    },
    {
     "name": "stderr",
     "output_type": "stream",
     "text": [
      "ERROR: [youtube] afcgV7-9mjQ: Video unavailable\n"
     ]
    },
    {
     "name": "stdout",
     "output_type": "stream",
     "text": [
      "Error checking language and duration for video afcgV7-9mjQ: ERROR: [youtube] afcgV7-9mjQ: Video unavailable\n",
      "Rows analyzed: 3975, Rows left: 645\n",
      "Rows analyzed: 3976, Rows left: 644\n"
     ]
    },
    {
     "name": "stderr",
     "output_type": "stream",
     "text": [
      "ERROR: [youtube] QYKIJXseDDI: Private video. Sign in if you've been granted access to this video\n"
     ]
    },
    {
     "name": "stdout",
     "output_type": "stream",
     "text": [
      "Error checking language and duration for video QYKIJXseDDI: ERROR: [youtube] QYKIJXseDDI: Private video. Sign in if you've been granted access to this video\n",
      "Rows analyzed: 3977, Rows left: 643\n",
      "Rows analyzed: 3978, Rows left: 642\n",
      "Rows analyzed: 3979, Rows left: 641\n"
     ]
    },
    {
     "name": "stderr",
     "output_type": "stream",
     "text": [
      "ERROR: [youtube] -1WNKykqxb4: Private video. Sign in if you've been granted access to this video\n"
     ]
    },
    {
     "name": "stdout",
     "output_type": "stream",
     "text": [
      "Error checking language and duration for video -1WNKykqxb4: ERROR: [youtube] -1WNKykqxb4: Private video. Sign in if you've been granted access to this video\n",
      "Rows analyzed: 3980, Rows left: 640\n"
     ]
    },
    {
     "name": "stderr",
     "output_type": "stream",
     "text": [
      "ERROR: [youtube] EOpt1-P2LOM: Private video. Sign in if you've been granted access to this video\n"
     ]
    },
    {
     "name": "stdout",
     "output_type": "stream",
     "text": [
      "Error checking language and duration for video EOpt1-P2LOM: ERROR: [youtube] EOpt1-P2LOM: Private video. Sign in if you've been granted access to this video\n",
      "Rows analyzed: 3981, Rows left: 639\n",
      "Rows analyzed: 3982, Rows left: 638\n",
      "Rows analyzed: 3983, Rows left: 637\n",
      "Rows analyzed: 3984, Rows left: 636\n",
      "Rows analyzed: 3985, Rows left: 635\n"
     ]
    },
    {
     "name": "stderr",
     "output_type": "stream",
     "text": [
      "ERROR: [youtube] mYemjV6V0Jw: Video unavailable. This video is no longer available because the YouTube account associated with this video has been terminated.\n"
     ]
    },
    {
     "name": "stdout",
     "output_type": "stream",
     "text": [
      "Error checking language and duration for video mYemjV6V0Jw: ERROR: [youtube] mYemjV6V0Jw: Video unavailable. This video is no longer available because the YouTube account associated with this video has been terminated.\n",
      "Rows analyzed: 3986, Rows left: 634\n",
      "Rows analyzed: 3987, Rows left: 633\n"
     ]
    },
    {
     "name": "stderr",
     "output_type": "stream",
     "text": [
      "ERROR: [youtube] HRurL2IgIfw: Video unavailable\n"
     ]
    },
    {
     "name": "stdout",
     "output_type": "stream",
     "text": [
      "Error checking language and duration for video HRurL2IgIfw: ERROR: [youtube] HRurL2IgIfw: Video unavailable\n",
      "Rows analyzed: 3988, Rows left: 632\n",
      "Rows analyzed: 3989, Rows left: 631\n",
      "Rows analyzed: 3990, Rows left: 630\n",
      "Rows analyzed: 3991, Rows left: 629\n",
      "Rows analyzed: 3992, Rows left: 628\n",
      "Rows analyzed: 3993, Rows left: 627\n",
      "Rows analyzed: 3994, Rows left: 626\n",
      "Rows analyzed: 3995, Rows left: 625\n",
      "Rows analyzed: 3996, Rows left: 624\n",
      "Rows analyzed: 3997, Rows left: 623\n",
      "Rows analyzed: 3998, Rows left: 622\n",
      "Rows analyzed: 3999, Rows left: 621\n"
     ]
    },
    {
     "name": "stderr",
     "output_type": "stream",
     "text": [
      "ERROR: [youtube] bqSKreCHigs: Private video. Sign in if you've been granted access to this video\n"
     ]
    },
    {
     "name": "stdout",
     "output_type": "stream",
     "text": [
      "Error checking language and duration for video bqSKreCHigs: ERROR: [youtube] bqSKreCHigs: Private video. Sign in if you've been granted access to this video\n",
      "Rows analyzed: 4000, Rows left: 620\n",
      "Rows analyzed: 4001, Rows left: 619\n"
     ]
    },
    {
     "name": "stderr",
     "output_type": "stream",
     "text": [
      "ERROR: [youtube] pDbG93NV5Xc: Private video. Sign in if you've been granted access to this video\n"
     ]
    },
    {
     "name": "stdout",
     "output_type": "stream",
     "text": [
      "Error checking language and duration for video pDbG93NV5Xc: ERROR: [youtube] pDbG93NV5Xc: Private video. Sign in if you've been granted access to this video\n",
      "Rows analyzed: 4002, Rows left: 618\n",
      "Rows analyzed: 4003, Rows left: 617\n",
      "Rows analyzed: 4004, Rows left: 616\n",
      "Rows analyzed: 4005, Rows left: 615\n",
      "Rows analyzed: 4006, Rows left: 614\n",
      "Rows analyzed: 4007, Rows left: 613\n",
      "Rows analyzed: 4008, Rows left: 612\n",
      "Rows analyzed: 4009, Rows left: 611\n",
      "Rows analyzed: 4010, Rows left: 610\n",
      "Rows analyzed: 4011, Rows left: 609\n",
      "Rows analyzed: 4012, Rows left: 608\n"
     ]
    },
    {
     "name": "stderr",
     "output_type": "stream",
     "text": [
      "ERROR: [youtube] kVgndUuowHE: Private video. Sign in if you've been granted access to this video\n"
     ]
    },
    {
     "name": "stdout",
     "output_type": "stream",
     "text": [
      "Error checking language and duration for video kVgndUuowHE: ERROR: [youtube] kVgndUuowHE: Private video. Sign in if you've been granted access to this video\n",
      "Rows analyzed: 4013, Rows left: 607\n"
     ]
    },
    {
     "name": "stderr",
     "output_type": "stream",
     "text": [
      "ERROR: [youtube] 7W-dLX4MGHQ: Private video. Sign in if you've been granted access to this video\n"
     ]
    },
    {
     "name": "stdout",
     "output_type": "stream",
     "text": [
      "Error checking language and duration for video 7W-dLX4MGHQ: ERROR: [youtube] 7W-dLX4MGHQ: Private video. Sign in if you've been granted access to this video\n",
      "Rows analyzed: 4014, Rows left: 606\n",
      "Rows analyzed: 4015, Rows left: 605\n"
     ]
    },
    {
     "name": "stderr",
     "output_type": "stream",
     "text": [
      "ERROR: [youtube] SYY5iXZMh74: Private video. Sign in if you've been granted access to this video\n"
     ]
    },
    {
     "name": "stdout",
     "output_type": "stream",
     "text": [
      "Error checking language and duration for video SYY5iXZMh74: ERROR: [youtube] SYY5iXZMh74: Private video. Sign in if you've been granted access to this video\n",
      "Rows analyzed: 4016, Rows left: 604\n",
      "Rows analyzed: 4017, Rows left: 603\n"
     ]
    },
    {
     "name": "stderr",
     "output_type": "stream",
     "text": [
      "ERROR: [youtube] T8VAlzc4EzY: Private video. Sign in if you've been granted access to this video\n"
     ]
    },
    {
     "name": "stdout",
     "output_type": "stream",
     "text": [
      "Error checking language and duration for video T8VAlzc4EzY: ERROR: [youtube] T8VAlzc4EzY: Private video. Sign in if you've been granted access to this video\n",
      "Rows analyzed: 4018, Rows left: 602\n"
     ]
    },
    {
     "name": "stderr",
     "output_type": "stream",
     "text": [
      "ERROR: [youtube] PgaUu_6rRXo: Video unavailable. This video is no longer available because the YouTube account associated with this video has been terminated.\n"
     ]
    },
    {
     "name": "stdout",
     "output_type": "stream",
     "text": [
      "Error checking language and duration for video PgaUu_6rRXo: ERROR: [youtube] PgaUu_6rRXo: Video unavailable. This video is no longer available because the YouTube account associated with this video has been terminated.\n",
      "Rows analyzed: 4019, Rows left: 601\n",
      "Rows analyzed: 4020, Rows left: 600\n",
      "Rows analyzed: 4021, Rows left: 599\n",
      "Rows analyzed: 4022, Rows left: 598\n"
     ]
    },
    {
     "name": "stderr",
     "output_type": "stream",
     "text": [
      "ERROR: [youtube] 9jpEUY5F4kk: Video unavailable. This video is no longer available because the YouTube account associated with this video has been terminated.\n"
     ]
    },
    {
     "name": "stdout",
     "output_type": "stream",
     "text": [
      "Error checking language and duration for video 9jpEUY5F4kk: ERROR: [youtube] 9jpEUY5F4kk: Video unavailable. This video is no longer available because the YouTube account associated with this video has been terminated.\n",
      "Rows analyzed: 4023, Rows left: 597\n",
      "Rows analyzed: 4024, Rows left: 596\n",
      "Rows analyzed: 4025, Rows left: 595\n"
     ]
    },
    {
     "name": "stderr",
     "output_type": "stream",
     "text": [
      "ERROR: [youtube] yiWnzAI5Kwo: Video unavailable\n"
     ]
    },
    {
     "name": "stdout",
     "output_type": "stream",
     "text": [
      "Error checking language and duration for video yiWnzAI5Kwo: ERROR: [youtube] yiWnzAI5Kwo: Video unavailable\n",
      "Rows analyzed: 4026, Rows left: 594\n",
      "Rows analyzed: 4027, Rows left: 593\n"
     ]
    },
    {
     "name": "stderr",
     "output_type": "stream",
     "text": [
      "ERROR: [youtube] KgPpKPqs8iE: Video unavailable. This video is no longer available because the YouTube account associated with this video has been terminated.\n"
     ]
    },
    {
     "name": "stdout",
     "output_type": "stream",
     "text": [
      "Error checking language and duration for video KgPpKPqs8iE: ERROR: [youtube] KgPpKPqs8iE: Video unavailable. This video is no longer available because the YouTube account associated with this video has been terminated.\n",
      "Rows analyzed: 4028, Rows left: 592\n",
      "Rows analyzed: 4029, Rows left: 591\n"
     ]
    },
    {
     "name": "stderr",
     "output_type": "stream",
     "text": [
      "ERROR: [youtube] 03QmqEB0Jqc: Video unavailable. This video is no longer available because the YouTube account associated with this video has been terminated.\n"
     ]
    },
    {
     "name": "stdout",
     "output_type": "stream",
     "text": [
      "Error checking language and duration for video 03QmqEB0Jqc: ERROR: [youtube] 03QmqEB0Jqc: Video unavailable. This video is no longer available because the YouTube account associated with this video has been terminated.\n",
      "Rows analyzed: 4030, Rows left: 590\n"
     ]
    },
    {
     "name": "stderr",
     "output_type": "stream",
     "text": [
      "ERROR: [youtube] u3NaAn-CBhQ: Private video. Sign in if you've been granted access to this video\n"
     ]
    },
    {
     "name": "stdout",
     "output_type": "stream",
     "text": [
      "Error checking language and duration for video u3NaAn-CBhQ: ERROR: [youtube] u3NaAn-CBhQ: Private video. Sign in if you've been granted access to this video\n",
      "Rows analyzed: 4031, Rows left: 589\n",
      "Rows analyzed: 4032, Rows left: 588\n",
      "Rows analyzed: 4033, Rows left: 587\n",
      "Rows analyzed: 4034, Rows left: 586\n",
      "Rows analyzed: 4035, Rows left: 585\n"
     ]
    },
    {
     "name": "stderr",
     "output_type": "stream",
     "text": [
      "ERROR: [youtube] -8GJqKdGy2M: Private video. Sign in if you've been granted access to this video\n"
     ]
    },
    {
     "name": "stdout",
     "output_type": "stream",
     "text": [
      "Error checking language and duration for video -8GJqKdGy2M: ERROR: [youtube] -8GJqKdGy2M: Private video. Sign in if you've been granted access to this video\n",
      "Rows analyzed: 4036, Rows left: 584\n",
      "Rows analyzed: 4037, Rows left: 583\n",
      "Rows analyzed: 4038, Rows left: 582\n",
      "Rows analyzed: 4039, Rows left: 581\n",
      "Rows analyzed: 4040, Rows left: 580\n",
      "Rows analyzed: 4041, Rows left: 579\n",
      "Rows analyzed: 4042, Rows left: 578\n",
      "Rows analyzed: 4043, Rows left: 577\n",
      "Rows analyzed: 4044, Rows left: 576\n",
      "Rows analyzed: 4045, Rows left: 575\n"
     ]
    },
    {
     "name": "stderr",
     "output_type": "stream",
     "text": [
      "ERROR: [youtube] CQfehIY9qWc: Video unavailable\n"
     ]
    },
    {
     "name": "stdout",
     "output_type": "stream",
     "text": [
      "Error checking language and duration for video CQfehIY9qWc: ERROR: [youtube] CQfehIY9qWc: Video unavailable\n",
      "Rows analyzed: 4046, Rows left: 574\n"
     ]
    },
    {
     "name": "stderr",
     "output_type": "stream",
     "text": [
      "ERROR: [youtube] vKtS_Ldm6G4: Private video. Sign in if you've been granted access to this video\n"
     ]
    },
    {
     "name": "stdout",
     "output_type": "stream",
     "text": [
      "Error checking language and duration for video vKtS_Ldm6G4: ERROR: [youtube] vKtS_Ldm6G4: Private video. Sign in if you've been granted access to this video\n",
      "Rows analyzed: 4047, Rows left: 573\n",
      "Rows analyzed: 4048, Rows left: 572\n",
      "Rows analyzed: 4049, Rows left: 571\n",
      "Rows analyzed: 4050, Rows left: 570\n"
     ]
    },
    {
     "name": "stderr",
     "output_type": "stream",
     "text": [
      "ERROR: [youtube] GyTSECvz_MQ: Video unavailable. This video is no longer available because the YouTube account associated with this video has been terminated.\n"
     ]
    },
    {
     "name": "stdout",
     "output_type": "stream",
     "text": [
      "Error checking language and duration for video GyTSECvz_MQ: ERROR: [youtube] GyTSECvz_MQ: Video unavailable. This video is no longer available because the YouTube account associated with this video has been terminated.\n",
      "Rows analyzed: 4051, Rows left: 569\n"
     ]
    },
    {
     "name": "stderr",
     "output_type": "stream",
     "text": [
      "ERROR: [youtube] OhBOwJYHKBs: Private video. Sign in if you've been granted access to this video\n"
     ]
    },
    {
     "name": "stdout",
     "output_type": "stream",
     "text": [
      "Error checking language and duration for video OhBOwJYHKBs: ERROR: [youtube] OhBOwJYHKBs: Private video. Sign in if you've been granted access to this video\n",
      "Rows analyzed: 4052, Rows left: 568\n",
      "Rows analyzed: 4053, Rows left: 567\n"
     ]
    },
    {
     "name": "stderr",
     "output_type": "stream",
     "text": [
      "ERROR: [youtube] 3y6YQak5lQk: Video unavailable. This video is no longer available because the YouTube account associated with this video has been terminated.\n"
     ]
    },
    {
     "name": "stdout",
     "output_type": "stream",
     "text": [
      "Error checking language and duration for video 3y6YQak5lQk: ERROR: [youtube] 3y6YQak5lQk: Video unavailable. This video is no longer available because the YouTube account associated with this video has been terminated.\n",
      "Rows analyzed: 4054, Rows left: 566\n",
      "Rows analyzed: 4055, Rows left: 565\n",
      "Rows analyzed: 4056, Rows left: 564\n",
      "Rows analyzed: 4057, Rows left: 563\n",
      "Rows analyzed: 4058, Rows left: 562\n",
      "Rows analyzed: 4059, Rows left: 561\n",
      "Rows analyzed: 4060, Rows left: 560\n",
      "Rows analyzed: 4061, Rows left: 559\n",
      "Rows analyzed: 4062, Rows left: 558\n",
      "Rows analyzed: 4063, Rows left: 557\n",
      "Rows analyzed: 4064, Rows left: 556\n",
      "Rows analyzed: 4065, Rows left: 555\n"
     ]
    },
    {
     "name": "stderr",
     "output_type": "stream",
     "text": [
      "ERROR: [youtube] FtkXfWRnRD0: Video unavailable\n"
     ]
    },
    {
     "name": "stdout",
     "output_type": "stream",
     "text": [
      "Error checking language and duration for video FtkXfWRnRD0: ERROR: [youtube] FtkXfWRnRD0: Video unavailable\n",
      "Rows analyzed: 4066, Rows left: 554\n"
     ]
    },
    {
     "name": "stderr",
     "output_type": "stream",
     "text": [
      "ERROR: [youtube] Butidl26Lg0: Private video. Sign in if you've been granted access to this video\n"
     ]
    },
    {
     "name": "stdout",
     "output_type": "stream",
     "text": [
      "Error checking language and duration for video Butidl26Lg0: ERROR: [youtube] Butidl26Lg0: Private video. Sign in if you've been granted access to this video\n",
      "Rows analyzed: 4067, Rows left: 553\n"
     ]
    },
    {
     "name": "stderr",
     "output_type": "stream",
     "text": [
      "ERROR: [youtube] 8hUX7XyEzw0: Video unavailable\n"
     ]
    },
    {
     "name": "stdout",
     "output_type": "stream",
     "text": [
      "Error checking language and duration for video 8hUX7XyEzw0: ERROR: [youtube] 8hUX7XyEzw0: Video unavailable\n",
      "Rows analyzed: 4068, Rows left: 552\n",
      "Rows analyzed: 4069, Rows left: 551\n",
      "Rows analyzed: 4070, Rows left: 550\n",
      "Rows analyzed: 4071, Rows left: 549\n",
      "Rows analyzed: 4072, Rows left: 548\n",
      "Rows analyzed: 4073, Rows left: 547\n",
      "Rows analyzed: 4074, Rows left: 546\n"
     ]
    },
    {
     "name": "stderr",
     "output_type": "stream",
     "text": [
      "ERROR: [youtube] ofq5lJ_do1M: Video unavailable\n"
     ]
    },
    {
     "name": "stdout",
     "output_type": "stream",
     "text": [
      "Error checking language and duration for video ofq5lJ_do1M: ERROR: [youtube] ofq5lJ_do1M: Video unavailable\n",
      "Rows analyzed: 4075, Rows left: 545\n",
      "Rows analyzed: 4076, Rows left: 544\n",
      "Rows analyzed: 4077, Rows left: 543\n",
      "Rows analyzed: 4078, Rows left: 542\n",
      "Rows analyzed: 4079, Rows left: 541\n",
      "Rows analyzed: 4080, Rows left: 540\n",
      "Rows analyzed: 4081, Rows left: 539\n",
      "Rows analyzed: 4082, Rows left: 538\n",
      "Rows analyzed: 4083, Rows left: 537\n",
      "Rows analyzed: 4084, Rows left: 536\n",
      "Rows analyzed: 4085, Rows left: 535\n",
      "Rows analyzed: 4086, Rows left: 534\n",
      "Rows analyzed: 4087, Rows left: 533\n",
      "Rows analyzed: 4088, Rows left: 532\n",
      "Rows analyzed: 4089, Rows left: 531\n",
      "Rows analyzed: 4090, Rows left: 530\n",
      "Rows analyzed: 4091, Rows left: 529\n"
     ]
    },
    {
     "name": "stderr",
     "output_type": "stream",
     "text": [
      "ERROR: [youtube] mCpx-P5SwNY: Private video. Sign in if you've been granted access to this video\n"
     ]
    },
    {
     "name": "stdout",
     "output_type": "stream",
     "text": [
      "Error checking language and duration for video mCpx-P5SwNY: ERROR: [youtube] mCpx-P5SwNY: Private video. Sign in if you've been granted access to this video\n",
      "Rows analyzed: 4092, Rows left: 528\n",
      "Rows analyzed: 4093, Rows left: 527\n",
      "Rows analyzed: 4094, Rows left: 526\n",
      "Rows analyzed: 4095, Rows left: 525\n",
      "Rows analyzed: 4096, Rows left: 524\n"
     ]
    },
    {
     "name": "stderr",
     "output_type": "stream",
     "text": [
      "ERROR: [youtube] EmojD2oUClY: This video is available to this channel's members on level: Neandertal (or any higher level). Join this channel to get access to members-only content and other exclusive perks.\n"
     ]
    },
    {
     "name": "stdout",
     "output_type": "stream",
     "text": [
      "Error checking language and duration for video EmojD2oUClY: ERROR: [youtube] EmojD2oUClY: This video is available to this channel's members on level: Neandertal (or any higher level). Join this channel to get access to members-only content and other exclusive perks.\n",
      "Rows analyzed: 4097, Rows left: 523\n"
     ]
    },
    {
     "name": "stderr",
     "output_type": "stream",
     "text": [
      "ERROR: [youtube] AMnZ1XJLF0Q: Video unavailable\n"
     ]
    },
    {
     "name": "stdout",
     "output_type": "stream",
     "text": [
      "Error checking language and duration for video AMnZ1XJLF0Q: ERROR: [youtube] AMnZ1XJLF0Q: Video unavailable\n",
      "Rows analyzed: 4098, Rows left: 522\n",
      "Rows analyzed: 4099, Rows left: 521\n",
      "Rows analyzed: 4100, Rows left: 520\n",
      "Rows analyzed: 4101, Rows left: 519\n",
      "Rows analyzed: 4102, Rows left: 518\n"
     ]
    },
    {
     "name": "stderr",
     "output_type": "stream",
     "text": [
      "ERROR: [youtube] cS7RVhksA0s: Video unavailable. This video is no longer available because the YouTube account associated with this video has been terminated.\n"
     ]
    },
    {
     "name": "stdout",
     "output_type": "stream",
     "text": [
      "Error checking language and duration for video cS7RVhksA0s: ERROR: [youtube] cS7RVhksA0s: Video unavailable. This video is no longer available because the YouTube account associated with this video has been terminated.\n",
      "Rows analyzed: 4103, Rows left: 517\n"
     ]
    },
    {
     "name": "stderr",
     "output_type": "stream",
     "text": [
      "ERROR: [youtube] TQpZ6JyluAE: Private video. Sign in if you've been granted access to this video\n"
     ]
    },
    {
     "name": "stdout",
     "output_type": "stream",
     "text": [
      "Error checking language and duration for video TQpZ6JyluAE: ERROR: [youtube] TQpZ6JyluAE: Private video. Sign in if you've been granted access to this video\n",
      "Rows analyzed: 4104, Rows left: 516\n",
      "Rows analyzed: 4105, Rows left: 515\n",
      "Rows analyzed: 4106, Rows left: 514\n",
      "Rows analyzed: 4107, Rows left: 513\n",
      "Rows analyzed: 4108, Rows left: 512\n",
      "Rows analyzed: 4109, Rows left: 511\n"
     ]
    },
    {
     "name": "stderr",
     "output_type": "stream",
     "text": [
      "ERROR: [youtube] O9BDAUq3xd8: Private video. Sign in if you've been granted access to this video\n"
     ]
    },
    {
     "name": "stdout",
     "output_type": "stream",
     "text": [
      "Error checking language and duration for video O9BDAUq3xd8: ERROR: [youtube] O9BDAUq3xd8: Private video. Sign in if you've been granted access to this video\n",
      "Rows analyzed: 4110, Rows left: 510\n",
      "Rows analyzed: 4111, Rows left: 509\n",
      "Rows analyzed: 4112, Rows left: 508\n"
     ]
    },
    {
     "name": "stderr",
     "output_type": "stream",
     "text": [
      "ERROR: [youtube] incGmKYiB4c: Video unavailable\n"
     ]
    },
    {
     "name": "stdout",
     "output_type": "stream",
     "text": [
      "Error checking language and duration for video incGmKYiB4c: ERROR: [youtube] incGmKYiB4c: Video unavailable\n",
      "Rows analyzed: 4113, Rows left: 507\n",
      "Rows analyzed: 4114, Rows left: 506\n",
      "Rows analyzed: 4115, Rows left: 505\n",
      "Rows analyzed: 4116, Rows left: 504\n",
      "Rows analyzed: 4117, Rows left: 503\n",
      "Rows analyzed: 4118, Rows left: 502\n",
      "Rows analyzed: 4119, Rows left: 501\n",
      "Rows analyzed: 4120, Rows left: 500\n",
      "Rows analyzed: 4121, Rows left: 499\n",
      "Rows analyzed: 4122, Rows left: 498\n"
     ]
    },
    {
     "name": "stderr",
     "output_type": "stream",
     "text": [
      "ERROR: [youtube] PuPhWUsOndo: Video unavailable\n"
     ]
    },
    {
     "name": "stdout",
     "output_type": "stream",
     "text": [
      "Error checking language and duration for video PuPhWUsOndo: ERROR: [youtube] PuPhWUsOndo: Video unavailable\n",
      "Rows analyzed: 4123, Rows left: 497\n",
      "Rows analyzed: 4124, Rows left: 496\n",
      "Rows analyzed: 4125, Rows left: 495\n",
      "Rows analyzed: 4126, Rows left: 494\n",
      "Rows analyzed: 4127, Rows left: 493\n"
     ]
    },
    {
     "name": "stderr",
     "output_type": "stream",
     "text": [
      "ERROR: [youtube] yDGtJy2T_Sk: Private video. Sign in if you've been granted access to this video\n"
     ]
    },
    {
     "name": "stdout",
     "output_type": "stream",
     "text": [
      "Error checking language and duration for video yDGtJy2T_Sk: ERROR: [youtube] yDGtJy2T_Sk: Private video. Sign in if you've been granted access to this video\n",
      "Rows analyzed: 4128, Rows left: 492\n",
      "Rows analyzed: 4129, Rows left: 491\n",
      "Rows analyzed: 4130, Rows left: 490\n",
      "Rows analyzed: 4131, Rows left: 489\n",
      "Rows analyzed: 4132, Rows left: 488\n",
      "Rows analyzed: 4133, Rows left: 487\n",
      "Rows analyzed: 4134, Rows left: 486\n",
      "Rows analyzed: 4135, Rows left: 485\n"
     ]
    },
    {
     "name": "stderr",
     "output_type": "stream",
     "text": [
      "ERROR: [youtube] TO3mDAkeePs: Video unavailable. The uploader has not made this video available in your country\n"
     ]
    },
    {
     "name": "stdout",
     "output_type": "stream",
     "text": [
      "Error checking language and duration for video TO3mDAkeePs: ERROR: [youtube] TO3mDAkeePs: Video unavailable. The uploader has not made this video available in your country\n",
      "Rows analyzed: 4136, Rows left: 484\n",
      "Rows analyzed: 4137, Rows left: 483\n",
      "Rows analyzed: 4138, Rows left: 482\n",
      "Rows analyzed: 4139, Rows left: 481\n",
      "Rows analyzed: 4140, Rows left: 480\n",
      "Rows analyzed: 4141, Rows left: 479\n",
      "Rows analyzed: 4142, Rows left: 478\n",
      "Rows analyzed: 4143, Rows left: 477\n",
      "Rows analyzed: 4144, Rows left: 476\n",
      "Rows analyzed: 4145, Rows left: 475\n",
      "Rows analyzed: 4146, Rows left: 474\n",
      "Rows analyzed: 4147, Rows left: 473\n",
      "Rows analyzed: 4148, Rows left: 472\n",
      "Rows analyzed: 4149, Rows left: 471\n",
      "Rows analyzed: 4150, Rows left: 470\n",
      "Rows analyzed: 4151, Rows left: 469\n",
      "Rows analyzed: 4152, Rows left: 468\n",
      "Rows analyzed: 4153, Rows left: 467\n",
      "Rows analyzed: 4154, Rows left: 466\n",
      "Rows analyzed: 4155, Rows left: 465\n"
     ]
    },
    {
     "name": "stderr",
     "output_type": "stream",
     "text": [
      "ERROR: [youtube] 6KmxiGoSkfc: Private video. Sign in if you've been granted access to this video\n"
     ]
    },
    {
     "name": "stdout",
     "output_type": "stream",
     "text": [
      "Error checking language and duration for video 6KmxiGoSkfc: ERROR: [youtube] 6KmxiGoSkfc: Private video. Sign in if you've been granted access to this video\n",
      "Rows analyzed: 4156, Rows left: 464\n",
      "Rows analyzed: 4157, Rows left: 463\n",
      "Rows analyzed: 4158, Rows left: 462\n"
     ]
    },
    {
     "name": "stderr",
     "output_type": "stream",
     "text": [
      "ERROR: [youtube] uqMJA26Y5gk: Private video. Sign in if you've been granted access to this video\n"
     ]
    },
    {
     "name": "stdout",
     "output_type": "stream",
     "text": [
      "Error checking language and duration for video uqMJA26Y5gk: ERROR: [youtube] uqMJA26Y5gk: Private video. Sign in if you've been granted access to this video\n",
      "Rows analyzed: 4159, Rows left: 461\n",
      "Rows analyzed: 4160, Rows left: 460\n",
      "Rows analyzed: 4161, Rows left: 459\n",
      "Rows analyzed: 4162, Rows left: 458\n",
      "Rows analyzed: 4163, Rows left: 457\n"
     ]
    },
    {
     "name": "stderr",
     "output_type": "stream",
     "text": [
      "ERROR: [youtube] 37pgfjobGKE: Private video. Sign in if you've been granted access to this video\n"
     ]
    },
    {
     "name": "stdout",
     "output_type": "stream",
     "text": [
      "Error checking language and duration for video 37pgfjobGKE: ERROR: [youtube] 37pgfjobGKE: Private video. Sign in if you've been granted access to this video\n",
      "Rows analyzed: 4164, Rows left: 456\n"
     ]
    },
    {
     "name": "stderr",
     "output_type": "stream",
     "text": [
      "ERROR: [youtube] Xs-LdmYOBoA: Video unavailable. This video is no longer available because the YouTube account associated with this video has been terminated.\n"
     ]
    },
    {
     "name": "stdout",
     "output_type": "stream",
     "text": [
      "Error checking language and duration for video Xs-LdmYOBoA: ERROR: [youtube] Xs-LdmYOBoA: Video unavailable. This video is no longer available because the YouTube account associated with this video has been terminated.\n",
      "Rows analyzed: 4165, Rows left: 455\n",
      "Rows analyzed: 4166, Rows left: 454\n",
      "Rows analyzed: 4167, Rows left: 453\n",
      "Rows analyzed: 4168, Rows left: 452\n",
      "Rows analyzed: 4169, Rows left: 451\n",
      "Rows analyzed: 4170, Rows left: 450\n",
      "Rows analyzed: 4171, Rows left: 449\n",
      "Rows analyzed: 4172, Rows left: 448\n",
      "Rows analyzed: 4173, Rows left: 447\n",
      "Rows analyzed: 4174, Rows left: 446\n",
      "Rows analyzed: 4175, Rows left: 445\n",
      "Rows analyzed: 4176, Rows left: 444\n",
      "Rows analyzed: 4177, Rows left: 443\n"
     ]
    },
    {
     "name": "stderr",
     "output_type": "stream",
     "text": [
      "ERROR: [youtube] cSpOX9gHWHA: Private video. Sign in if you've been granted access to this video\n"
     ]
    },
    {
     "name": "stdout",
     "output_type": "stream",
     "text": [
      "Error checking language and duration for video cSpOX9gHWHA: ERROR: [youtube] cSpOX9gHWHA: Private video. Sign in if you've been granted access to this video\n",
      "Rows analyzed: 4178, Rows left: 442\n"
     ]
    },
    {
     "name": "stderr",
     "output_type": "stream",
     "text": [
      "ERROR: [youtube] KLrbNw5Vgx8: Private video. Sign in if you've been granted access to this video\n"
     ]
    },
    {
     "name": "stdout",
     "output_type": "stream",
     "text": [
      "Error checking language and duration for video KLrbNw5Vgx8: ERROR: [youtube] KLrbNw5Vgx8: Private video. Sign in if you've been granted access to this video\n",
      "Rows analyzed: 4179, Rows left: 441\n",
      "Rows analyzed: 4180, Rows left: 440\n",
      "Rows analyzed: 4181, Rows left: 439\n",
      "Rows analyzed: 4182, Rows left: 438\n",
      "Rows analyzed: 4183, Rows left: 437\n",
      "Rows analyzed: 4184, Rows left: 436\n"
     ]
    },
    {
     "name": "stderr",
     "output_type": "stream",
     "text": [
      "ERROR: [youtube] RkmFHdNpgRg: This video has been removed for violating YouTube's policy on hate speech. Learn more about combating hate speech in your country.\n"
     ]
    },
    {
     "name": "stdout",
     "output_type": "stream",
     "text": [
      "Error checking language and duration for video RkmFHdNpgRg: ERROR: [youtube] RkmFHdNpgRg: This video has been removed for violating YouTube's policy on hate speech. Learn more about combating hate speech in your country.\n",
      "Rows analyzed: 4185, Rows left: 435\n",
      "Rows analyzed: 4186, Rows left: 434\n",
      "Rows analyzed: 4187, Rows left: 433\n",
      "Rows analyzed: 4188, Rows left: 432\n",
      "Rows analyzed: 4189, Rows left: 431\n",
      "Rows analyzed: 4190, Rows left: 430\n",
      "Rows analyzed: 4191, Rows left: 429\n",
      "Rows analyzed: 4192, Rows left: 428\n",
      "Rows analyzed: 4193, Rows left: 427\n",
      "Rows analyzed: 4194, Rows left: 426\n",
      "Rows analyzed: 4195, Rows left: 425\n",
      "Rows analyzed: 4196, Rows left: 424\n",
      "Rows analyzed: 4197, Rows left: 423\n",
      "Rows analyzed: 4198, Rows left: 422\n",
      "Rows analyzed: 4199, Rows left: 421\n"
     ]
    },
    {
     "name": "stderr",
     "output_type": "stream",
     "text": [
      "ERROR: [youtube] yswJlvz7lgU: Video unavailable\n"
     ]
    },
    {
     "name": "stdout",
     "output_type": "stream",
     "text": [
      "Error checking language and duration for video yswJlvz7lgU: ERROR: [youtube] yswJlvz7lgU: Video unavailable\n",
      "Rows analyzed: 4200, Rows left: 420\n",
      "Rows analyzed: 4201, Rows left: 419\n",
      "Rows analyzed: 4202, Rows left: 418\n",
      "Rows analyzed: 4203, Rows left: 417\n",
      "Rows analyzed: 4204, Rows left: 416\n"
     ]
    },
    {
     "name": "stderr",
     "output_type": "stream",
     "text": [
      "ERROR: [youtube] ljDPnJ-T41w: Video unavailable. This video is no longer available because the YouTube account associated with this video has been terminated.\n"
     ]
    },
    {
     "name": "stdout",
     "output_type": "stream",
     "text": [
      "Error checking language and duration for video ljDPnJ-T41w: ERROR: [youtube] ljDPnJ-T41w: Video unavailable. This video is no longer available because the YouTube account associated with this video has been terminated.\n",
      "Rows analyzed: 4205, Rows left: 415\n",
      "Rows analyzed: 4206, Rows left: 414\n"
     ]
    },
    {
     "name": "stderr",
     "output_type": "stream",
     "text": [
      "ERROR: [youtube] zzGcvHI0DHU: Video unavailable\n"
     ]
    },
    {
     "name": "stdout",
     "output_type": "stream",
     "text": [
      "Error checking language and duration for video zzGcvHI0DHU: ERROR: [youtube] zzGcvHI0DHU: Video unavailable\n",
      "Rows analyzed: 4207, Rows left: 413\n",
      "Rows analyzed: 4208, Rows left: 412\n",
      "Rows analyzed: 4209, Rows left: 411\n",
      "Rows analyzed: 4210, Rows left: 410\n",
      "Rows analyzed: 4211, Rows left: 409\n",
      "Rows analyzed: 4212, Rows left: 408\n"
     ]
    },
    {
     "name": "stderr",
     "output_type": "stream",
     "text": [
      "ERROR: [youtube] Xd5lXPrppXY: Video unavailable. This video is no longer available because the YouTube account associated with this video has been terminated.\n"
     ]
    },
    {
     "name": "stdout",
     "output_type": "stream",
     "text": [
      "Error checking language and duration for video Xd5lXPrppXY: ERROR: [youtube] Xd5lXPrppXY: Video unavailable. This video is no longer available because the YouTube account associated with this video has been terminated.\n",
      "Rows analyzed: 4213, Rows left: 407\n"
     ]
    },
    {
     "name": "stderr",
     "output_type": "stream",
     "text": [
      "ERROR: [youtube] IL0FBcdSYKI: Private video. Sign in if you've been granted access to this video\n"
     ]
    },
    {
     "name": "stdout",
     "output_type": "stream",
     "text": [
      "Error checking language and duration for video IL0FBcdSYKI: ERROR: [youtube] IL0FBcdSYKI: Private video. Sign in if you've been granted access to this video\n",
      "Rows analyzed: 4214, Rows left: 406\n",
      "Rows analyzed: 4215, Rows left: 405\n",
      "Rows analyzed: 4216, Rows left: 404\n",
      "Rows analyzed: 4217, Rows left: 403\n",
      "Rows analyzed: 4218, Rows left: 402\n",
      "Rows analyzed: 4219, Rows left: 401\n",
      "Rows analyzed: 4220, Rows left: 400\n",
      "Rows analyzed: 4221, Rows left: 399\n",
      "Rows analyzed: 4222, Rows left: 398\n"
     ]
    },
    {
     "name": "stderr",
     "output_type": "stream",
     "text": [
      "ERROR: [youtube] qtdQiX4QQ-4: Video unavailable\n"
     ]
    },
    {
     "name": "stdout",
     "output_type": "stream",
     "text": [
      "Error checking language and duration for video qtdQiX4QQ-4: ERROR: [youtube] qtdQiX4QQ-4: Video unavailable\n",
      "Rows analyzed: 4223, Rows left: 397\n",
      "Rows analyzed: 4224, Rows left: 396\n"
     ]
    },
    {
     "name": "stderr",
     "output_type": "stream",
     "text": [
      "ERROR: [youtube] eA2IJHgUXE8: Private video. Sign in if you've been granted access to this video\n"
     ]
    },
    {
     "name": "stdout",
     "output_type": "stream",
     "text": [
      "Error checking language and duration for video eA2IJHgUXE8: ERROR: [youtube] eA2IJHgUXE8: Private video. Sign in if you've been granted access to this video\n",
      "Rows analyzed: 4225, Rows left: 395\n"
     ]
    },
    {
     "name": "stderr",
     "output_type": "stream",
     "text": [
      "ERROR: [youtube] O1l-zusyLKU: Video unavailable\n"
     ]
    },
    {
     "name": "stdout",
     "output_type": "stream",
     "text": [
      "Error checking language and duration for video O1l-zusyLKU: ERROR: [youtube] O1l-zusyLKU: Video unavailable\n",
      "Rows analyzed: 4226, Rows left: 394\n",
      "Rows analyzed: 4227, Rows left: 393\n",
      "Rows analyzed: 4228, Rows left: 392\n",
      "Rows analyzed: 4229, Rows left: 391\n",
      "Rows analyzed: 4230, Rows left: 390\n"
     ]
    },
    {
     "name": "stderr",
     "output_type": "stream",
     "text": [
      "ERROR: [youtube] AGJoKL9KIXA: Private video. Sign in if you've been granted access to this video\n"
     ]
    },
    {
     "name": "stdout",
     "output_type": "stream",
     "text": [
      "Error checking language and duration for video AGJoKL9KIXA: ERROR: [youtube] AGJoKL9KIXA: Private video. Sign in if you've been granted access to this video\n",
      "Rows analyzed: 4231, Rows left: 389\n",
      "Rows analyzed: 4232, Rows left: 388\n",
      "Rows analyzed: 4233, Rows left: 387\n",
      "Rows analyzed: 4234, Rows left: 386\n",
      "Rows analyzed: 4235, Rows left: 385\n",
      "Rows analyzed: 4236, Rows left: 384\n",
      "Rows analyzed: 4237, Rows left: 383\n",
      "Rows analyzed: 4238, Rows left: 382\n",
      "Rows analyzed: 4239, Rows left: 381\n",
      "Rows analyzed: 4240, Rows left: 380\n"
     ]
    },
    {
     "name": "stderr",
     "output_type": "stream",
     "text": [
      "ERROR: [youtube] 9Liqb7XuRBY: Private video. Sign in if you've been granted access to this video\n"
     ]
    },
    {
     "name": "stdout",
     "output_type": "stream",
     "text": [
      "Error checking language and duration for video 9Liqb7XuRBY: ERROR: [youtube] 9Liqb7XuRBY: Private video. Sign in if you've been granted access to this video\n",
      "Rows analyzed: 4241, Rows left: 379\n",
      "Rows analyzed: 4242, Rows left: 378\n",
      "Rows analyzed: 4243, Rows left: 377\n",
      "Rows analyzed: 4244, Rows left: 376\n",
      "Rows analyzed: 4245, Rows left: 375\n",
      "Rows analyzed: 4246, Rows left: 374\n",
      "Rows analyzed: 4247, Rows left: 373\n",
      "Rows analyzed: 4248, Rows left: 372\n",
      "Rows analyzed: 4249, Rows left: 371\n",
      "Rows analyzed: 4250, Rows left: 370\n",
      "Rows analyzed: 4251, Rows left: 369\n",
      "Rows analyzed: 4252, Rows left: 368\n",
      "Rows analyzed: 4253, Rows left: 367\n",
      "Rows analyzed: 4254, Rows left: 366\n",
      "Rows analyzed: 4255, Rows left: 365\n",
      "Rows analyzed: 4256, Rows left: 364\n"
     ]
    },
    {
     "name": "stderr",
     "output_type": "stream",
     "text": [
      "ERROR: [youtube] knKllYMEkfk: Private video. Sign in if you've been granted access to this video\n"
     ]
    },
    {
     "name": "stdout",
     "output_type": "stream",
     "text": [
      "Error checking language and duration for video knKllYMEkfk: ERROR: [youtube] knKllYMEkfk: Private video. Sign in if you've been granted access to this video\n",
      "Rows analyzed: 4257, Rows left: 363\n",
      "Rows analyzed: 4258, Rows left: 362\n",
      "Rows analyzed: 4259, Rows left: 361\n"
     ]
    },
    {
     "name": "stderr",
     "output_type": "stream",
     "text": [
      "ERROR: [youtube] 3qmtZEgPZUs: Video unavailable. This video is no longer available because the YouTube account associated with this video has been terminated.\n"
     ]
    },
    {
     "name": "stdout",
     "output_type": "stream",
     "text": [
      "Error checking language and duration for video 3qmtZEgPZUs: ERROR: [youtube] 3qmtZEgPZUs: Video unavailable. This video is no longer available because the YouTube account associated with this video has been terminated.\n",
      "Rows analyzed: 4260, Rows left: 360\n",
      "Rows analyzed: 4261, Rows left: 359\n",
      "Rows analyzed: 4262, Rows left: 358\n"
     ]
    },
    {
     "name": "stderr",
     "output_type": "stream",
     "text": [
      "ERROR: [youtube] V8vhg5479a4: Private video. Sign in if you've been granted access to this video\n"
     ]
    },
    {
     "name": "stdout",
     "output_type": "stream",
     "text": [
      "Error checking language and duration for video V8vhg5479a4: ERROR: [youtube] V8vhg5479a4: Private video. Sign in if you've been granted access to this video\n",
      "Rows analyzed: 4263, Rows left: 357\n",
      "Rows analyzed: 4264, Rows left: 356\n",
      "Rows analyzed: 4265, Rows left: 355\n",
      "Rows analyzed: 4266, Rows left: 354\n"
     ]
    },
    {
     "name": "stderr",
     "output_type": "stream",
     "text": [
      "ERROR: [youtube] jhwXn5en0zA: Private video. Sign in if you've been granted access to this video\n"
     ]
    },
    {
     "name": "stdout",
     "output_type": "stream",
     "text": [
      "Error checking language and duration for video jhwXn5en0zA: ERROR: [youtube] jhwXn5en0zA: Private video. Sign in if you've been granted access to this video\n",
      "Rows analyzed: 4267, Rows left: 353\n",
      "Rows analyzed: 4268, Rows left: 352\n",
      "Rows analyzed: 4269, Rows left: 351\n",
      "Rows analyzed: 4270, Rows left: 350\n",
      "Rows analyzed: 4271, Rows left: 349\n",
      "Rows analyzed: 4272, Rows left: 348\n"
     ]
    },
    {
     "name": "stderr",
     "output_type": "stream",
     "text": [
      "ERROR: [youtube] yZ_bOLGnoxE: Private video. Sign in if you've been granted access to this video\n"
     ]
    },
    {
     "name": "stdout",
     "output_type": "stream",
     "text": [
      "Error checking language and duration for video yZ_bOLGnoxE: ERROR: [youtube] yZ_bOLGnoxE: Private video. Sign in if you've been granted access to this video\n",
      "Rows analyzed: 4273, Rows left: 347\n",
      "Rows analyzed: 4274, Rows left: 346\n",
      "Rows analyzed: 4275, Rows left: 345\n",
      "Rows analyzed: 4276, Rows left: 344\n",
      "Rows analyzed: 4277, Rows left: 343\n"
     ]
    },
    {
     "name": "stderr",
     "output_type": "stream",
     "text": [
      "ERROR: [youtube] a4DStPPwAu0: Video unavailable. This video is no longer available because the YouTube account associated with this video has been terminated.\n"
     ]
    },
    {
     "name": "stdout",
     "output_type": "stream",
     "text": [
      "Error checking language and duration for video a4DStPPwAu0: ERROR: [youtube] a4DStPPwAu0: Video unavailable. This video is no longer available because the YouTube account associated with this video has been terminated.\n",
      "Rows analyzed: 4278, Rows left: 342\n",
      "Rows analyzed: 4279, Rows left: 341\n",
      "Rows analyzed: 4280, Rows left: 340\n",
      "Rows analyzed: 4281, Rows left: 339\n",
      "Rows analyzed: 4282, Rows left: 338\n",
      "Rows analyzed: 4283, Rows left: 337\n",
      "Rows analyzed: 4284, Rows left: 336\n",
      "Rows analyzed: 4285, Rows left: 335\n"
     ]
    },
    {
     "name": "stderr",
     "output_type": "stream",
     "text": [
      "ERROR: [youtube] zzGcvHI0DHU: Video unavailable\n"
     ]
    },
    {
     "name": "stdout",
     "output_type": "stream",
     "text": [
      "Error checking language and duration for video zzGcvHI0DHU: ERROR: [youtube] zzGcvHI0DHU: Video unavailable\n",
      "Rows analyzed: 4286, Rows left: 334\n",
      "Rows analyzed: 4287, Rows left: 333\n",
      "Rows analyzed: 4288, Rows left: 332\n",
      "Rows analyzed: 4289, Rows left: 331\n",
      "Rows analyzed: 4290, Rows left: 330\n",
      "Rows analyzed: 4291, Rows left: 329\n",
      "Rows analyzed: 4292, Rows left: 328\n",
      "Rows analyzed: 4293, Rows left: 327\n",
      "Rows analyzed: 4294, Rows left: 326\n"
     ]
    },
    {
     "name": "stderr",
     "output_type": "stream",
     "text": [
      "ERROR: [youtube] l3Be-OqpVCM: Private video. Sign in if you've been granted access to this video\n"
     ]
    },
    {
     "name": "stdout",
     "output_type": "stream",
     "text": [
      "Error checking language and duration for video l3Be-OqpVCM: ERROR: [youtube] l3Be-OqpVCM: Private video. Sign in if you've been granted access to this video\n",
      "Rows analyzed: 4295, Rows left: 325\n",
      "Rows analyzed: 4296, Rows left: 324\n",
      "Rows analyzed: 4297, Rows left: 323\n",
      "Rows analyzed: 4298, Rows left: 322\n"
     ]
    },
    {
     "name": "stderr",
     "output_type": "stream",
     "text": [
      "ERROR: [youtube] N_GJINX5Vi8: Video unavailable\n"
     ]
    },
    {
     "name": "stdout",
     "output_type": "stream",
     "text": [
      "Error checking language and duration for video N_GJINX5Vi8: ERROR: [youtube] N_GJINX5Vi8: Video unavailable\n",
      "Rows analyzed: 4299, Rows left: 321\n",
      "Rows analyzed: 4300, Rows left: 320\n"
     ]
    },
    {
     "name": "stderr",
     "output_type": "stream",
     "text": [
      "ERROR: [youtube] ecLtYhZgjIg: Video unavailable\n"
     ]
    },
    {
     "name": "stdout",
     "output_type": "stream",
     "text": [
      "Error checking language and duration for video ecLtYhZgjIg: ERROR: [youtube] ecLtYhZgjIg: Video unavailable\n",
      "Rows analyzed: 4301, Rows left: 319\n",
      "Rows analyzed: 4302, Rows left: 318\n",
      "Rows analyzed: 4303, Rows left: 317\n",
      "Rows analyzed: 4304, Rows left: 316\n"
     ]
    },
    {
     "name": "stderr",
     "output_type": "stream",
     "text": [
      "ERROR: [youtube] O4GxlDvA2KM: Video unavailable. This video is no longer available because the YouTube account associated with this video has been terminated.\n"
     ]
    },
    {
     "name": "stdout",
     "output_type": "stream",
     "text": [
      "Error checking language and duration for video O4GxlDvA2KM: ERROR: [youtube] O4GxlDvA2KM: Video unavailable. This video is no longer available because the YouTube account associated with this video has been terminated.\n",
      "Rows analyzed: 4305, Rows left: 315\n",
      "Rows analyzed: 4306, Rows left: 314\n"
     ]
    },
    {
     "name": "stderr",
     "output_type": "stream",
     "text": [
      "ERROR: [youtube] 3wxc9RecaWI: Private video. Sign in if you've been granted access to this video\n"
     ]
    },
    {
     "name": "stdout",
     "output_type": "stream",
     "text": [
      "Error checking language and duration for video 3wxc9RecaWI: ERROR: [youtube] 3wxc9RecaWI: Private video. Sign in if you've been granted access to this video\n",
      "Rows analyzed: 4307, Rows left: 313\n",
      "Rows analyzed: 4308, Rows left: 312\n",
      "Rows analyzed: 4309, Rows left: 311\n",
      "Rows analyzed: 4310, Rows left: 310\n"
     ]
    },
    {
     "name": "stderr",
     "output_type": "stream",
     "text": [
      "ERROR: [youtube] U7N0REL5eVE: Private video. Sign in if you've been granted access to this video\n"
     ]
    },
    {
     "name": "stdout",
     "output_type": "stream",
     "text": [
      "Error checking language and duration for video U7N0REL5eVE: ERROR: [youtube] U7N0REL5eVE: Private video. Sign in if you've been granted access to this video\n",
      "Rows analyzed: 4311, Rows left: 309\n",
      "Rows analyzed: 4312, Rows left: 308\n",
      "Rows analyzed: 4313, Rows left: 307\n",
      "Rows analyzed: 4314, Rows left: 306\n",
      "Rows analyzed: 4315, Rows left: 305\n"
     ]
    },
    {
     "name": "stderr",
     "output_type": "stream",
     "text": [
      "ERROR: [youtube] nleEQbnzV7g: Video unavailable. This video is no longer available due to a copyright claim by VideoFilmes\n"
     ]
    },
    {
     "name": "stdout",
     "output_type": "stream",
     "text": [
      "Error checking language and duration for video nleEQbnzV7g: ERROR: [youtube] nleEQbnzV7g: Video unavailable. This video is no longer available due to a copyright claim by VideoFilmes\n",
      "Rows analyzed: 4316, Rows left: 304\n",
      "Rows analyzed: 4317, Rows left: 303\n",
      "Rows analyzed: 4318, Rows left: 302\n",
      "Rows analyzed: 4319, Rows left: 301\n",
      "Rows analyzed: 4320, Rows left: 300\n",
      "Rows analyzed: 4321, Rows left: 299\n",
      "Rows analyzed: 4322, Rows left: 298\n",
      "Rows analyzed: 4323, Rows left: 297\n"
     ]
    },
    {
     "name": "stderr",
     "output_type": "stream",
     "text": [
      "ERROR: [youtube] fgViVdFMtPs: Private video. Sign in if you've been granted access to this video\n"
     ]
    },
    {
     "name": "stdout",
     "output_type": "stream",
     "text": [
      "Error checking language and duration for video fgViVdFMtPs: ERROR: [youtube] fgViVdFMtPs: Private video. Sign in if you've been granted access to this video\n",
      "Rows analyzed: 4324, Rows left: 296\n",
      "Rows analyzed: 4325, Rows left: 295\n",
      "Rows analyzed: 4326, Rows left: 294\n",
      "Rows analyzed: 4327, Rows left: 293\n"
     ]
    },
    {
     "name": "stderr",
     "output_type": "stream",
     "text": [
      "ERROR: [youtube] WIreUn3TK9A: Private video. Sign in if you've been granted access to this video\n"
     ]
    },
    {
     "name": "stdout",
     "output_type": "stream",
     "text": [
      "Error checking language and duration for video WIreUn3TK9A: ERROR: [youtube] WIreUn3TK9A: Private video. Sign in if you've been granted access to this video\n",
      "Rows analyzed: 4328, Rows left: 292\n"
     ]
    },
    {
     "name": "stderr",
     "output_type": "stream",
     "text": [
      "ERROR: [youtube] zPV9_tJ7Les: Video unavailable. This video is no longer available because the YouTube account associated with this video has been terminated.\n"
     ]
    },
    {
     "name": "stdout",
     "output_type": "stream",
     "text": [
      "Error checking language and duration for video zPV9_tJ7Les: ERROR: [youtube] zPV9_tJ7Les: Video unavailable. This video is no longer available because the YouTube account associated with this video has been terminated.\n",
      "Rows analyzed: 4329, Rows left: 291\n",
      "Rows analyzed: 4330, Rows left: 290\n",
      "Rows analyzed: 4331, Rows left: 289\n",
      "Rows analyzed: 4332, Rows left: 288\n",
      "Rows analyzed: 4333, Rows left: 287\n",
      "Rows analyzed: 4334, Rows left: 286\n"
     ]
    },
    {
     "name": "stderr",
     "output_type": "stream",
     "text": [
      "ERROR: [youtube] ZWDUF-5NKqc: Private video. Sign in if you've been granted access to this video\n"
     ]
    },
    {
     "name": "stdout",
     "output_type": "stream",
     "text": [
      "Error checking language and duration for video ZWDUF-5NKqc: ERROR: [youtube] ZWDUF-5NKqc: Private video. Sign in if you've been granted access to this video\n",
      "Rows analyzed: 4335, Rows left: 285\n",
      "Rows analyzed: 4336, Rows left: 284\n",
      "Rows analyzed: 4337, Rows left: 283\n",
      "Rows analyzed: 4338, Rows left: 282\n",
      "Rows analyzed: 4339, Rows left: 281\n"
     ]
    },
    {
     "name": "stderr",
     "output_type": "stream",
     "text": [
      "ERROR: [youtube] T_i87-UVf8s: Private video. Sign in if you've been granted access to this video\n"
     ]
    },
    {
     "name": "stdout",
     "output_type": "stream",
     "text": [
      "Error checking language and duration for video T_i87-UVf8s: ERROR: [youtube] T_i87-UVf8s: Private video. Sign in if you've been granted access to this video\n",
      "Rows analyzed: 4340, Rows left: 280\n",
      "Rows analyzed: 4341, Rows left: 279\n"
     ]
    },
    {
     "name": "stderr",
     "output_type": "stream",
     "text": [
      "ERROR: [youtube] pLZoFAWWttU: Private video. Sign in if you've been granted access to this video\n"
     ]
    },
    {
     "name": "stdout",
     "output_type": "stream",
     "text": [
      "Error checking language and duration for video pLZoFAWWttU: ERROR: [youtube] pLZoFAWWttU: Private video. Sign in if you've been granted access to this video\n",
      "Rows analyzed: 4342, Rows left: 278\n",
      "Rows analyzed: 4343, Rows left: 277\n"
     ]
    },
    {
     "name": "stderr",
     "output_type": "stream",
     "text": [
      "ERROR: [youtube] OVyaytxbxZM: Private video. Sign in if you've been granted access to this video\n"
     ]
    },
    {
     "name": "stdout",
     "output_type": "stream",
     "text": [
      "Error checking language and duration for video OVyaytxbxZM: ERROR: [youtube] OVyaytxbxZM: Private video. Sign in if you've been granted access to this video\n",
      "Rows analyzed: 4344, Rows left: 276\n",
      "Rows analyzed: 4345, Rows left: 275\n",
      "Rows analyzed: 4346, Rows left: 274\n",
      "Rows analyzed: 4347, Rows left: 273\n",
      "Rows analyzed: 4348, Rows left: 272\n",
      "Rows analyzed: 4349, Rows left: 271\n"
     ]
    },
    {
     "name": "stderr",
     "output_type": "stream",
     "text": [
      "ERROR: [youtube] UsHcANRSkvo: Join this channel to get access to members-only content like this video, and other exclusive perks.\n"
     ]
    },
    {
     "name": "stdout",
     "output_type": "stream",
     "text": [
      "Error checking language and duration for video UsHcANRSkvo: ERROR: [youtube] UsHcANRSkvo: Join this channel to get access to members-only content like this video, and other exclusive perks.\n",
      "Rows analyzed: 4350, Rows left: 270\n",
      "Rows analyzed: 4351, Rows left: 269\n"
     ]
    },
    {
     "name": "stderr",
     "output_type": "stream",
     "text": [
      "ERROR: [youtube] 59rgyDxPSBA: Video unavailable\n"
     ]
    },
    {
     "name": "stdout",
     "output_type": "stream",
     "text": [
      "Error checking language and duration for video 59rgyDxPSBA: ERROR: [youtube] 59rgyDxPSBA: Video unavailable\n",
      "Rows analyzed: 4352, Rows left: 268\n",
      "Rows analyzed: 4353, Rows left: 267\n",
      "Rows analyzed: 4354, Rows left: 266\n",
      "Rows analyzed: 4355, Rows left: 265\n",
      "Rows analyzed: 4356, Rows left: 264\n"
     ]
    },
    {
     "name": "stderr",
     "output_type": "stream",
     "text": [
      "ERROR: [youtube] iExbaRZPiEY: Video unavailable\n"
     ]
    },
    {
     "name": "stdout",
     "output_type": "stream",
     "text": [
      "Error checking language and duration for video iExbaRZPiEY: ERROR: [youtube] iExbaRZPiEY: Video unavailable\n",
      "Rows analyzed: 4357, Rows left: 263\n",
      "Rows analyzed: 4358, Rows left: 262\n",
      "Rows analyzed: 4359, Rows left: 261\n",
      "Rows analyzed: 4360, Rows left: 260\n",
      "Rows analyzed: 4361, Rows left: 259\n"
     ]
    },
    {
     "name": "stderr",
     "output_type": "stream",
     "text": [
      "ERROR: [youtube] krttyN_Y27o: Video unavailable. This video is no longer available because the YouTube account associated with this video has been terminated.\n"
     ]
    },
    {
     "name": "stdout",
     "output_type": "stream",
     "text": [
      "Error checking language and duration for video krttyN_Y27o: ERROR: [youtube] krttyN_Y27o: Video unavailable. This video is no longer available because the YouTube account associated with this video has been terminated.\n",
      "Rows analyzed: 4362, Rows left: 258\n"
     ]
    },
    {
     "name": "stderr",
     "output_type": "stream",
     "text": [
      "ERROR: [youtube] JBfFV20odAc: Private video. Sign in if you've been granted access to this video\n"
     ]
    },
    {
     "name": "stdout",
     "output_type": "stream",
     "text": [
      "Error checking language and duration for video JBfFV20odAc: ERROR: [youtube] JBfFV20odAc: Private video. Sign in if you've been granted access to this video\n",
      "Rows analyzed: 4363, Rows left: 257\n",
      "Rows analyzed: 4364, Rows left: 256\n",
      "Rows analyzed: 4365, Rows left: 255\n",
      "Rows analyzed: 4366, Rows left: 254\n",
      "Rows analyzed: 4367, Rows left: 253\n"
     ]
    },
    {
     "name": "stderr",
     "output_type": "stream",
     "text": [
      "ERROR: [youtube] isTo_2WzX5s: Private video. Sign in if you've been granted access to this video\n"
     ]
    },
    {
     "name": "stdout",
     "output_type": "stream",
     "text": [
      "Error checking language and duration for video isTo_2WzX5s: ERROR: [youtube] isTo_2WzX5s: Private video. Sign in if you've been granted access to this video\n",
      "Rows analyzed: 4368, Rows left: 252\n",
      "Rows analyzed: 4369, Rows left: 251\n",
      "Rows analyzed: 4370, Rows left: 250\n",
      "Rows analyzed: 4371, Rows left: 249\n",
      "Rows analyzed: 4372, Rows left: 248\n",
      "Rows analyzed: 4373, Rows left: 247\n",
      "Rows analyzed: 4374, Rows left: 246\n",
      "Rows analyzed: 4375, Rows left: 245\n",
      "Rows analyzed: 4376, Rows left: 244\n",
      "Rows analyzed: 4377, Rows left: 243\n",
      "Rows analyzed: 4378, Rows left: 242\n",
      "Rows analyzed: 4379, Rows left: 241\n",
      "Rows analyzed: 4380, Rows left: 240\n",
      "Rows analyzed: 4381, Rows left: 239\n"
     ]
    },
    {
     "name": "stderr",
     "output_type": "stream",
     "text": [
      "ERROR: [youtube] I7WKIuBhg2U: Private video. Sign in if you've been granted access to this video\n"
     ]
    },
    {
     "name": "stdout",
     "output_type": "stream",
     "text": [
      "Error checking language and duration for video I7WKIuBhg2U: ERROR: [youtube] I7WKIuBhg2U: Private video. Sign in if you've been granted access to this video\n",
      "Rows analyzed: 4382, Rows left: 238\n",
      "Rows analyzed: 4383, Rows left: 237\n",
      "Rows analyzed: 4384, Rows left: 236\n"
     ]
    },
    {
     "name": "stderr",
     "output_type": "stream",
     "text": [
      "ERROR: [youtube] OhBOwJYHKBs: Private video. Sign in if you've been granted access to this video\n"
     ]
    },
    {
     "name": "stdout",
     "output_type": "stream",
     "text": [
      "Error checking language and duration for video OhBOwJYHKBs: ERROR: [youtube] OhBOwJYHKBs: Private video. Sign in if you've been granted access to this video\n",
      "Rows analyzed: 4385, Rows left: 235\n",
      "Rows analyzed: 4386, Rows left: 234\n",
      "Rows analyzed: 4387, Rows left: 233\n",
      "Rows analyzed: 4388, Rows left: 232\n",
      "Rows analyzed: 4389, Rows left: 231\n"
     ]
    },
    {
     "name": "stderr",
     "output_type": "stream",
     "text": [
      "ERROR: [youtube] JKu1Slsfwlo: Video unavailable\n"
     ]
    },
    {
     "name": "stdout",
     "output_type": "stream",
     "text": [
      "Error checking language and duration for video JKu1Slsfwlo: ERROR: [youtube] JKu1Slsfwlo: Video unavailable\n",
      "Rows analyzed: 4390, Rows left: 230\n",
      "Rows analyzed: 4391, Rows left: 229\n",
      "Rows analyzed: 4392, Rows left: 228\n"
     ]
    },
    {
     "name": "stderr",
     "output_type": "stream",
     "text": [
      "ERROR: [youtube] UTSKeFqku5I: Video unavailable. This video is no longer available because the YouTube account associated with this video has been terminated.\n"
     ]
    },
    {
     "name": "stdout",
     "output_type": "stream",
     "text": [
      "Error checking language and duration for video UTSKeFqku5I: ERROR: [youtube] UTSKeFqku5I: Video unavailable. This video is no longer available because the YouTube account associated with this video has been terminated.\n",
      "Rows analyzed: 4393, Rows left: 227\n",
      "Rows analyzed: 4394, Rows left: 226\n",
      "Rows analyzed: 4395, Rows left: 225\n"
     ]
    },
    {
     "name": "stderr",
     "output_type": "stream",
     "text": [
      "ERROR: [youtube] _qDHlAAxqDQ: Private video. Sign in if you've been granted access to this video\n"
     ]
    },
    {
     "name": "stdout",
     "output_type": "stream",
     "text": [
      "Error checking language and duration for video _qDHlAAxqDQ: ERROR: [youtube] _qDHlAAxqDQ: Private video. Sign in if you've been granted access to this video\n",
      "Rows analyzed: 4396, Rows left: 224\n",
      "Rows analyzed: 4397, Rows left: 223\n",
      "Rows analyzed: 4398, Rows left: 222\n",
      "Rows analyzed: 4399, Rows left: 221\n",
      "Rows analyzed: 4400, Rows left: 220\n",
      "Rows analyzed: 4401, Rows left: 219\n",
      "Rows analyzed: 4402, Rows left: 218\n",
      "Rows analyzed: 4403, Rows left: 217\n",
      "Rows analyzed: 4404, Rows left: 216\n"
     ]
    },
    {
     "name": "stderr",
     "output_type": "stream",
     "text": [
      "ERROR: [youtube] o7Vv6xL6ioQ: Video unavailable\n"
     ]
    },
    {
     "name": "stdout",
     "output_type": "stream",
     "text": [
      "Error checking language and duration for video o7Vv6xL6ioQ: ERROR: [youtube] o7Vv6xL6ioQ: Video unavailable\n",
      "Rows analyzed: 4405, Rows left: 215\n"
     ]
    },
    {
     "name": "stderr",
     "output_type": "stream",
     "text": [
      "ERROR: [youtube] XANFv3iWpcU: Video unavailable. This video is no longer available because the YouTube account associated with this video has been terminated.\n"
     ]
    },
    {
     "name": "stdout",
     "output_type": "stream",
     "text": [
      "Error checking language and duration for video XANFv3iWpcU: ERROR: [youtube] XANFv3iWpcU: Video unavailable. This video is no longer available because the YouTube account associated with this video has been terminated.\n",
      "Rows analyzed: 4406, Rows left: 214\n",
      "Rows analyzed: 4407, Rows left: 213\n",
      "Rows analyzed: 4408, Rows left: 212\n",
      "Rows analyzed: 4409, Rows left: 211\n",
      "Rows analyzed: 4410, Rows left: 210\n",
      "Rows analyzed: 4411, Rows left: 209\n",
      "Rows analyzed: 4412, Rows left: 208\n",
      "Rows analyzed: 4413, Rows left: 207\n",
      "Rows analyzed: 4414, Rows left: 206\n",
      "Rows analyzed: 4415, Rows left: 205\n",
      "Rows analyzed: 4416, Rows left: 204\n",
      "Rows analyzed: 4417, Rows left: 203\n",
      "Rows analyzed: 4418, Rows left: 202\n",
      "Rows analyzed: 4419, Rows left: 201\n"
     ]
    },
    {
     "name": "stderr",
     "output_type": "stream",
     "text": [
      "ERROR: [youtube] s44xeSx_8JU: Video unavailable\n"
     ]
    },
    {
     "name": "stdout",
     "output_type": "stream",
     "text": [
      "Error checking language and duration for video s44xeSx_8JU: ERROR: [youtube] s44xeSx_8JU: Video unavailable\n",
      "Rows analyzed: 4420, Rows left: 200\n"
     ]
    },
    {
     "name": "stderr",
     "output_type": "stream",
     "text": [
      "ERROR: [youtube] gEY4hFh3WhQ: Private video. Sign in if you've been granted access to this video\n"
     ]
    },
    {
     "name": "stdout",
     "output_type": "stream",
     "text": [
      "Error checking language and duration for video gEY4hFh3WhQ: ERROR: [youtube] gEY4hFh3WhQ: Private video. Sign in if you've been granted access to this video\n",
      "Rows analyzed: 4421, Rows left: 199\n",
      "Rows analyzed: 4422, Rows left: 198\n",
      "Rows analyzed: 4423, Rows left: 197\n",
      "Rows analyzed: 4424, Rows left: 196\n",
      "Rows analyzed: 4425, Rows left: 195\n",
      "Rows analyzed: 4426, Rows left: 194\n"
     ]
    },
    {
     "name": "stderr",
     "output_type": "stream",
     "text": [
      "ERROR: [youtube] nPYDIv1nD2M: Private video. Sign in if you've been granted access to this video\n"
     ]
    },
    {
     "name": "stdout",
     "output_type": "stream",
     "text": [
      "Error checking language and duration for video nPYDIv1nD2M: ERROR: [youtube] nPYDIv1nD2M: Private video. Sign in if you've been granted access to this video\n",
      "Rows analyzed: 4427, Rows left: 193\n",
      "Rows analyzed: 4428, Rows left: 192\n",
      "Rows analyzed: 4429, Rows left: 191\n",
      "Rows analyzed: 4430, Rows left: 190\n",
      "Rows analyzed: 4431, Rows left: 189\n",
      "Rows analyzed: 4432, Rows left: 188\n",
      "Rows analyzed: 4433, Rows left: 187\n"
     ]
    },
    {
     "name": "stderr",
     "output_type": "stream",
     "text": [
      "ERROR: [youtube] YwtmE7zQ__c: Private video. Sign in if you've been granted access to this video\n"
     ]
    },
    {
     "name": "stdout",
     "output_type": "stream",
     "text": [
      "Error checking language and duration for video YwtmE7zQ__c: ERROR: [youtube] YwtmE7zQ__c: Private video. Sign in if you've been granted access to this video\n",
      "Rows analyzed: 4434, Rows left: 186\n",
      "Rows analyzed: 4435, Rows left: 185\n",
      "Rows analyzed: 4436, Rows left: 184\n",
      "Rows analyzed: 4437, Rows left: 183\n",
      "Rows analyzed: 4438, Rows left: 182\n",
      "Rows analyzed: 4439, Rows left: 181\n",
      "Rows analyzed: 4440, Rows left: 180\n",
      "Rows analyzed: 4441, Rows left: 179\n"
     ]
    },
    {
     "name": "stderr",
     "output_type": "stream",
     "text": [
      "ERROR: [youtube] PGx03PheuUw: Video unavailable\n"
     ]
    },
    {
     "name": "stdout",
     "output_type": "stream",
     "text": [
      "Error checking language and duration for video PGx03PheuUw: ERROR: [youtube] PGx03PheuUw: Video unavailable\n",
      "Rows analyzed: 4442, Rows left: 178\n",
      "Rows analyzed: 4443, Rows left: 177\n",
      "Rows analyzed: 4444, Rows left: 176\n",
      "Rows analyzed: 4445, Rows left: 175\n",
      "Rows analyzed: 4446, Rows left: 174\n",
      "Rows analyzed: 4447, Rows left: 173\n",
      "Rows analyzed: 4448, Rows left: 172\n",
      "Rows analyzed: 4449, Rows left: 171\n",
      "Rows analyzed: 4450, Rows left: 170\n",
      "Rows analyzed: 4451, Rows left: 169\n",
      "Rows analyzed: 4452, Rows left: 168\n",
      "Rows analyzed: 4453, Rows left: 167\n",
      "Rows analyzed: 4454, Rows left: 166\n"
     ]
    },
    {
     "name": "stderr",
     "output_type": "stream",
     "text": [
      "ERROR: [youtube] amQ1OtmRP7c: Private video. Sign in if you've been granted access to this video\n"
     ]
    },
    {
     "name": "stdout",
     "output_type": "stream",
     "text": [
      "Error checking language and duration for video amQ1OtmRP7c: ERROR: [youtube] amQ1OtmRP7c: Private video. Sign in if you've been granted access to this video\n",
      "Rows analyzed: 4455, Rows left: 165\n",
      "Rows analyzed: 4456, Rows left: 164\n",
      "Rows analyzed: 4457, Rows left: 163\n",
      "Rows analyzed: 4458, Rows left: 162\n"
     ]
    },
    {
     "name": "stderr",
     "output_type": "stream",
     "text": [
      "ERROR: [youtube] mwLC9W0sUUg: Video unavailable\n"
     ]
    },
    {
     "name": "stdout",
     "output_type": "stream",
     "text": [
      "Error checking language and duration for video mwLC9W0sUUg: ERROR: [youtube] mwLC9W0sUUg: Video unavailable\n",
      "Rows analyzed: 4459, Rows left: 161\n",
      "Rows analyzed: 4460, Rows left: 160\n",
      "Rows analyzed: 4461, Rows left: 159\n",
      "Rows analyzed: 4462, Rows left: 158\n"
     ]
    },
    {
     "name": "stderr",
     "output_type": "stream",
     "text": [
      "ERROR: [youtube] YiPfJrklSs0: Video unavailable\n"
     ]
    },
    {
     "name": "stdout",
     "output_type": "stream",
     "text": [
      "Error checking language and duration for video YiPfJrklSs0: ERROR: [youtube] YiPfJrklSs0: Video unavailable\n",
      "Rows analyzed: 4463, Rows left: 157\n"
     ]
    },
    {
     "name": "stderr",
     "output_type": "stream",
     "text": [
      "ERROR: [youtube] ONF77skW0Jw: Video unavailable. This video is no longer available because the YouTube account associated with this video has been terminated.\n"
     ]
    },
    {
     "name": "stdout",
     "output_type": "stream",
     "text": [
      "Error checking language and duration for video ONF77skW0Jw: ERROR: [youtube] ONF77skW0Jw: Video unavailable. This video is no longer available because the YouTube account associated with this video has been terminated.\n",
      "Rows analyzed: 4464, Rows left: 156\n"
     ]
    },
    {
     "name": "stderr",
     "output_type": "stream",
     "text": [
      "ERROR: [youtube] jMIbQSN6hSU: Video unavailable. This video is not available\n"
     ]
    },
    {
     "name": "stdout",
     "output_type": "stream",
     "text": [
      "Error checking language and duration for video jMIbQSN6hSU: ERROR: [youtube] jMIbQSN6hSU: Video unavailable. This video is not available\n",
      "Rows analyzed: 4465, Rows left: 155\n",
      "Rows analyzed: 4466, Rows left: 154\n",
      "Rows analyzed: 4467, Rows left: 153\n",
      "Rows analyzed: 4468, Rows left: 152\n",
      "Rows analyzed: 4469, Rows left: 151\n"
     ]
    },
    {
     "name": "stderr",
     "output_type": "stream",
     "text": [
      "ERROR: [youtube] B91PtrR1N-g: Video unavailable\n"
     ]
    },
    {
     "name": "stdout",
     "output_type": "stream",
     "text": [
      "Error checking language and duration for video B91PtrR1N-g: ERROR: [youtube] B91PtrR1N-g: Video unavailable\n",
      "Rows analyzed: 4470, Rows left: 150\n",
      "Rows analyzed: 4471, Rows left: 149\n",
      "Rows analyzed: 4472, Rows left: 148\n",
      "Rows analyzed: 4473, Rows left: 147\n",
      "Rows analyzed: 4474, Rows left: 146\n",
      "Rows analyzed: 4475, Rows left: 145\n",
      "Rows analyzed: 4476, Rows left: 144\n",
      "Rows analyzed: 4477, Rows left: 143\n",
      "Rows analyzed: 4478, Rows left: 142\n",
      "Rows analyzed: 4479, Rows left: 141\n",
      "Rows analyzed: 4480, Rows left: 140\n",
      "Rows analyzed: 4481, Rows left: 139\n",
      "Rows analyzed: 4482, Rows left: 138\n",
      "Rows analyzed: 4483, Rows left: 137\n",
      "Rows analyzed: 4484, Rows left: 136\n"
     ]
    },
    {
     "name": "stderr",
     "output_type": "stream",
     "text": [
      "ERROR: [youtube] NLijCiIi63U: Video unavailable\n"
     ]
    },
    {
     "name": "stdout",
     "output_type": "stream",
     "text": [
      "Error checking language and duration for video NLijCiIi63U: ERROR: [youtube] NLijCiIi63U: Video unavailable\n",
      "Rows analyzed: 4485, Rows left: 135\n"
     ]
    },
    {
     "name": "stderr",
     "output_type": "stream",
     "text": [
      "ERROR: [youtube] Fm47PDrMucY: Private video. Sign in if you've been granted access to this video\n"
     ]
    },
    {
     "name": "stdout",
     "output_type": "stream",
     "text": [
      "Error checking language and duration for video Fm47PDrMucY: ERROR: [youtube] Fm47PDrMucY: Private video. Sign in if you've been granted access to this video\n",
      "Rows analyzed: 4486, Rows left: 134\n",
      "Rows analyzed: 4487, Rows left: 133\n",
      "Rows analyzed: 4488, Rows left: 132\n",
      "Rows analyzed: 4489, Rows left: 131\n",
      "Rows analyzed: 4490, Rows left: 130\n",
      "Rows analyzed: 4491, Rows left: 129\n",
      "Rows analyzed: 4492, Rows left: 128\n"
     ]
    },
    {
     "name": "stderr",
     "output_type": "stream",
     "text": [
      "ERROR: [youtube] aT9YoQrPmow: Video unavailable\n"
     ]
    },
    {
     "name": "stdout",
     "output_type": "stream",
     "text": [
      "Error checking language and duration for video aT9YoQrPmow: ERROR: [youtube] aT9YoQrPmow: Video unavailable\n",
      "Rows analyzed: 4493, Rows left: 127\n",
      "Rows analyzed: 4494, Rows left: 126\n"
     ]
    },
    {
     "name": "stderr",
     "output_type": "stream",
     "text": [
      "ERROR: [youtube] s9sRthgF8Og: Video unavailable\n"
     ]
    },
    {
     "name": "stdout",
     "output_type": "stream",
     "text": [
      "Error checking language and duration for video s9sRthgF8Og: ERROR: [youtube] s9sRthgF8Og: Video unavailable\n",
      "Rows analyzed: 4495, Rows left: 125\n",
      "Rows analyzed: 4496, Rows left: 124\n",
      "Rows analyzed: 4497, Rows left: 123\n",
      "Rows analyzed: 4498, Rows left: 122\n",
      "Rows analyzed: 4499, Rows left: 121\n",
      "Rows analyzed: 4500, Rows left: 120\n",
      "Rows analyzed: 4501, Rows left: 119\n"
     ]
    },
    {
     "name": "stderr",
     "output_type": "stream",
     "text": [
      "ERROR: [youtube] _BBAuHQyQCQ: Video unavailable\n"
     ]
    },
    {
     "name": "stdout",
     "output_type": "stream",
     "text": [
      "Error checking language and duration for video _BBAuHQyQCQ: ERROR: [youtube] _BBAuHQyQCQ: Video unavailable\n",
      "Rows analyzed: 4502, Rows left: 118\n",
      "Rows analyzed: 4503, Rows left: 117\n",
      "Rows analyzed: 4504, Rows left: 116\n",
      "Rows analyzed: 4505, Rows left: 115\n",
      "Rows analyzed: 4506, Rows left: 114\n",
      "Rows analyzed: 4507, Rows left: 113\n",
      "Rows analyzed: 4508, Rows left: 112\n",
      "Rows analyzed: 4509, Rows left: 111\n",
      "Rows analyzed: 4510, Rows left: 110\n",
      "Rows analyzed: 4511, Rows left: 109\n",
      "Rows analyzed: 4512, Rows left: 108\n"
     ]
    },
    {
     "name": "stderr",
     "output_type": "stream",
     "text": [
      "ERROR: [youtube] mnaJZ3ifhqI: Private video. Sign in if you've been granted access to this video\n"
     ]
    },
    {
     "name": "stdout",
     "output_type": "stream",
     "text": [
      "Error checking language and duration for video mnaJZ3ifhqI: ERROR: [youtube] mnaJZ3ifhqI: Private video. Sign in if you've been granted access to this video\n",
      "Rows analyzed: 4513, Rows left: 107\n",
      "Rows analyzed: 4514, Rows left: 106\n",
      "Rows analyzed: 4515, Rows left: 105\n",
      "Rows analyzed: 4516, Rows left: 104\n",
      "Rows analyzed: 4517, Rows left: 103\n"
     ]
    },
    {
     "name": "stderr",
     "output_type": "stream",
     "text": [
      "ERROR: [youtube] rs3ohZCSkFw: Video unavailable. This video is no longer available because the YouTube account associated with this video has been terminated.\n"
     ]
    },
    {
     "name": "stdout",
     "output_type": "stream",
     "text": [
      "Error checking language and duration for video rs3ohZCSkFw: ERROR: [youtube] rs3ohZCSkFw: Video unavailable. This video is no longer available because the YouTube account associated with this video has been terminated.\n",
      "Rows analyzed: 4518, Rows left: 102\n",
      "Rows analyzed: 4519, Rows left: 101\n"
     ]
    },
    {
     "name": "stderr",
     "output_type": "stream",
     "text": [
      "ERROR: [youtube] _Pwk6-Aoldo: Private video. Sign in if you've been granted access to this video\n"
     ]
    },
    {
     "name": "stdout",
     "output_type": "stream",
     "text": [
      "Error checking language and duration for video _Pwk6-Aoldo: ERROR: [youtube] _Pwk6-Aoldo: Private video. Sign in if you've been granted access to this video\n",
      "Rows analyzed: 4520, Rows left: 100\n",
      "Rows analyzed: 4521, Rows left: 99\n",
      "Rows analyzed: 4522, Rows left: 98\n",
      "Rows analyzed: 4523, Rows left: 97\n",
      "Rows analyzed: 4524, Rows left: 96\n"
     ]
    },
    {
     "name": "stderr",
     "output_type": "stream",
     "text": [
      "ERROR: [youtube] o8gZBAA9rNA: Private video. Sign in if you've been granted access to this video\n"
     ]
    },
    {
     "name": "stdout",
     "output_type": "stream",
     "text": [
      "Error checking language and duration for video o8gZBAA9rNA: ERROR: [youtube] o8gZBAA9rNA: Private video. Sign in if you've been granted access to this video\n",
      "Rows analyzed: 4525, Rows left: 95\n"
     ]
    },
    {
     "name": "stderr",
     "output_type": "stream",
     "text": [
      "ERROR: [youtube] cXsrpAeM90c: Video unavailable. This video is no longer available because the YouTube account associated with this video has been terminated.\n"
     ]
    },
    {
     "name": "stdout",
     "output_type": "stream",
     "text": [
      "Error checking language and duration for video cXsrpAeM90c: ERROR: [youtube] cXsrpAeM90c: Video unavailable. This video is no longer available because the YouTube account associated with this video has been terminated.\n",
      "Rows analyzed: 4526, Rows left: 94\n",
      "Rows analyzed: 4527, Rows left: 93\n",
      "Rows analyzed: 4528, Rows left: 92\n",
      "Rows analyzed: 4529, Rows left: 91\n",
      "Rows analyzed: 4530, Rows left: 90\n",
      "Rows analyzed: 4531, Rows left: 89\n"
     ]
    },
    {
     "name": "stderr",
     "output_type": "stream",
     "text": [
      "ERROR: [youtube] RkmFHdNpgRg: This video has been removed for violating YouTube's policy on hate speech. Learn more about combating hate speech in your country.\n"
     ]
    },
    {
     "name": "stdout",
     "output_type": "stream",
     "text": [
      "Error checking language and duration for video RkmFHdNpgRg: ERROR: [youtube] RkmFHdNpgRg: This video has been removed for violating YouTube's policy on hate speech. Learn more about combating hate speech in your country.\n",
      "Rows analyzed: 4532, Rows left: 88\n",
      "Rows analyzed: 4533, Rows left: 87\n"
     ]
    },
    {
     "name": "stderr",
     "output_type": "stream",
     "text": [
      "ERROR: [youtube] wwcDC0WVDjg: Video unavailable\n"
     ]
    },
    {
     "name": "stdout",
     "output_type": "stream",
     "text": [
      "Error checking language and duration for video wwcDC0WVDjg: ERROR: [youtube] wwcDC0WVDjg: Video unavailable\n",
      "Rows analyzed: 4534, Rows left: 86\n",
      "Rows analyzed: 4535, Rows left: 85\n",
      "Rows analyzed: 4536, Rows left: 84\n",
      "Rows analyzed: 4537, Rows left: 83\n",
      "Rows analyzed: 4538, Rows left: 82\n",
      "Rows analyzed: 4539, Rows left: 81\n",
      "Rows analyzed: 4540, Rows left: 80\n"
     ]
    },
    {
     "name": "stderr",
     "output_type": "stream",
     "text": [
      "ERROR: [youtube] 1hACuNgpZl0: Video unavailable. This video is no longer available because the YouTube account associated with this video has been terminated.\n"
     ]
    },
    {
     "name": "stdout",
     "output_type": "stream",
     "text": [
      "Error checking language and duration for video 1hACuNgpZl0: ERROR: [youtube] 1hACuNgpZl0: Video unavailable. This video is no longer available because the YouTube account associated with this video has been terminated.\n",
      "Rows analyzed: 4541, Rows left: 79\n",
      "Rows analyzed: 4542, Rows left: 78\n",
      "Rows analyzed: 4543, Rows left: 77\n",
      "Rows analyzed: 4544, Rows left: 76\n",
      "Rows analyzed: 4545, Rows left: 75\n",
      "Rows analyzed: 4546, Rows left: 74\n",
      "Rows analyzed: 4547, Rows left: 73\n"
     ]
    },
    {
     "name": "stderr",
     "output_type": "stream",
     "text": [
      "ERROR: [youtube] RpSJV69D11E: Private video. Sign in if you've been granted access to this video\n"
     ]
    },
    {
     "name": "stdout",
     "output_type": "stream",
     "text": [
      "Error checking language and duration for video RpSJV69D11E: ERROR: [youtube] RpSJV69D11E: Private video. Sign in if you've been granted access to this video\n",
      "Rows analyzed: 4548, Rows left: 72\n",
      "Rows analyzed: 4549, Rows left: 71\n",
      "Rows analyzed: 4550, Rows left: 70\n"
     ]
    },
    {
     "name": "stderr",
     "output_type": "stream",
     "text": [
      "ERROR: [youtube] fmeGYsGtg6E: Video unavailable. This video is no longer available because the YouTube account associated with this video has been terminated.\n"
     ]
    },
    {
     "name": "stdout",
     "output_type": "stream",
     "text": [
      "Error checking language and duration for video fmeGYsGtg6E: ERROR: [youtube] fmeGYsGtg6E: Video unavailable. This video is no longer available because the YouTube account associated with this video has been terminated.\n",
      "Rows analyzed: 4551, Rows left: 69\n",
      "Rows analyzed: 4552, Rows left: 68\n",
      "Rows analyzed: 4553, Rows left: 67\n",
      "Rows analyzed: 4554, Rows left: 66\n",
      "Rows analyzed: 4555, Rows left: 65\n",
      "Rows analyzed: 4556, Rows left: 64\n"
     ]
    },
    {
     "name": "stderr",
     "output_type": "stream",
     "text": [
      "ERROR: [youtube] dzO5sGuHA1o: Video unavailable\n"
     ]
    },
    {
     "name": "stdout",
     "output_type": "stream",
     "text": [
      "Error checking language and duration for video dzO5sGuHA1o: ERROR: [youtube] dzO5sGuHA1o: Video unavailable\n",
      "Rows analyzed: 4557, Rows left: 63\n"
     ]
    },
    {
     "name": "stderr",
     "output_type": "stream",
     "text": [
      "ERROR: [youtube] HCFkZ1_tlGQ: Video unavailable\n"
     ]
    },
    {
     "name": "stdout",
     "output_type": "stream",
     "text": [
      "Error checking language and duration for video HCFkZ1_tlGQ: ERROR: [youtube] HCFkZ1_tlGQ: Video unavailable\n",
      "Rows analyzed: 4558, Rows left: 62\n",
      "Rows analyzed: 4559, Rows left: 61\n",
      "Rows analyzed: 4560, Rows left: 60\n",
      "Rows analyzed: 4561, Rows left: 59\n",
      "Rows analyzed: 4562, Rows left: 58\n",
      "Rows analyzed: 4563, Rows left: 57\n",
      "Rows analyzed: 4564, Rows left: 56\n",
      "Rows analyzed: 4565, Rows left: 55\n",
      "Rows analyzed: 4566, Rows left: 54\n",
      "Rows analyzed: 4567, Rows left: 53\n",
      "Rows analyzed: 4568, Rows left: 52\n",
      "Rows analyzed: 4569, Rows left: 51\n",
      "Rows analyzed: 4570, Rows left: 50\n",
      "Rows analyzed: 4571, Rows left: 49\n",
      "Rows analyzed: 4572, Rows left: 48\n",
      "Rows analyzed: 4573, Rows left: 47\n"
     ]
    },
    {
     "name": "stderr",
     "output_type": "stream",
     "text": [
      "ERROR: [youtube] cSeieYivCDk: Video unavailable\n"
     ]
    },
    {
     "name": "stdout",
     "output_type": "stream",
     "text": [
      "Error checking language and duration for video cSeieYivCDk: ERROR: [youtube] cSeieYivCDk: Video unavailable\n",
      "Rows analyzed: 4574, Rows left: 46\n",
      "Rows analyzed: 4575, Rows left: 45\n",
      "Rows analyzed: 4576, Rows left: 44\n"
     ]
    },
    {
     "name": "stderr",
     "output_type": "stream",
     "text": [
      "ERROR: [youtube] j_7v5WbXkeY: Private video. Sign in if you've been granted access to this video\n"
     ]
    },
    {
     "name": "stdout",
     "output_type": "stream",
     "text": [
      "Error checking language and duration for video j_7v5WbXkeY: ERROR: [youtube] j_7v5WbXkeY: Private video. Sign in if you've been granted access to this video\n",
      "Rows analyzed: 4577, Rows left: 43\n",
      "Rows analyzed: 4578, Rows left: 42\n",
      "Rows analyzed: 4579, Rows left: 41\n",
      "Rows analyzed: 4580, Rows left: 40\n",
      "Rows analyzed: 4581, Rows left: 39\n",
      "Rows analyzed: 4582, Rows left: 38\n",
      "Rows analyzed: 4583, Rows left: 37\n",
      "Rows analyzed: 4584, Rows left: 36\n",
      "Rows analyzed: 4585, Rows left: 35\n"
     ]
    },
    {
     "name": "stderr",
     "output_type": "stream",
     "text": [
      "ERROR: [youtube] 1j5QHbocFBc: Private video. Sign in if you've been granted access to this video\n"
     ]
    },
    {
     "name": "stdout",
     "output_type": "stream",
     "text": [
      "Error checking language and duration for video 1j5QHbocFBc: ERROR: [youtube] 1j5QHbocFBc: Private video. Sign in if you've been granted access to this video\n",
      "Rows analyzed: 4586, Rows left: 34\n",
      "Rows analyzed: 4587, Rows left: 33\n",
      "Rows analyzed: 4588, Rows left: 32\n",
      "Rows analyzed: 4589, Rows left: 31\n"
     ]
    },
    {
     "name": "stderr",
     "output_type": "stream",
     "text": [
      "ERROR: [youtube] 8cylx-kiMUY: Private video. Sign in if you've been granted access to this video\n"
     ]
    },
    {
     "name": "stdout",
     "output_type": "stream",
     "text": [
      "Error checking language and duration for video 8cylx-kiMUY: ERROR: [youtube] 8cylx-kiMUY: Private video. Sign in if you've been granted access to this video\n",
      "Rows analyzed: 4590, Rows left: 30\n",
      "Rows analyzed: 4591, Rows left: 29\n",
      "Rows analyzed: 4592, Rows left: 28\n",
      "Rows analyzed: 4593, Rows left: 27\n",
      "Rows analyzed: 4594, Rows left: 26\n",
      "Rows analyzed: 4595, Rows left: 25\n",
      "Rows analyzed: 4596, Rows left: 24\n",
      "Rows analyzed: 4597, Rows left: 23\n",
      "Rows analyzed: 4598, Rows left: 22\n",
      "Rows analyzed: 4599, Rows left: 21\n"
     ]
    },
    {
     "name": "stderr",
     "output_type": "stream",
     "text": [
      "ERROR: [youtube] -0I5XSNbpbU: Private video. Sign in if you've been granted access to this video\n"
     ]
    },
    {
     "name": "stdout",
     "output_type": "stream",
     "text": [
      "Error checking language and duration for video -0I5XSNbpbU: ERROR: [youtube] -0I5XSNbpbU: Private video. Sign in if you've been granted access to this video\n",
      "Rows analyzed: 4600, Rows left: 20\n",
      "Rows analyzed: 4601, Rows left: 19\n",
      "Rows analyzed: 4602, Rows left: 18\n",
      "Rows analyzed: 4603, Rows left: 17\n"
     ]
    },
    {
     "name": "stderr",
     "output_type": "stream",
     "text": [
      "ERROR: [youtube] 6MIko-K3KnQ: Private video. Sign in if you've been granted access to this video\n"
     ]
    },
    {
     "name": "stdout",
     "output_type": "stream",
     "text": [
      "Error checking language and duration for video 6MIko-K3KnQ: ERROR: [youtube] 6MIko-K3KnQ: Private video. Sign in if you've been granted access to this video\n",
      "Rows analyzed: 4604, Rows left: 16\n",
      "Rows analyzed: 4605, Rows left: 15\n",
      "Rows analyzed: 4606, Rows left: 14\n",
      "Rows analyzed: 4607, Rows left: 13\n"
     ]
    },
    {
     "name": "stderr",
     "output_type": "stream",
     "text": [
      "ERROR: [youtube] GsQBXrZysiQ: Private video. Sign in if you've been granted access to this video\n"
     ]
    },
    {
     "name": "stdout",
     "output_type": "stream",
     "text": [
      "Error checking language and duration for video GsQBXrZysiQ: ERROR: [youtube] GsQBXrZysiQ: Private video. Sign in if you've been granted access to this video\n",
      "Rows analyzed: 4608, Rows left: 12\n",
      "Rows analyzed: 4609, Rows left: 11\n"
     ]
    },
    {
     "name": "stderr",
     "output_type": "stream",
     "text": [
      "ERROR: [youtube] JtDrROEJWyk: Video unavailable. This video is no longer available because the YouTube account associated with this video has been terminated.\n"
     ]
    },
    {
     "name": "stdout",
     "output_type": "stream",
     "text": [
      "Error checking language and duration for video JtDrROEJWyk: ERROR: [youtube] JtDrROEJWyk: Video unavailable. This video is no longer available because the YouTube account associated with this video has been terminated.\n",
      "Rows analyzed: 4610, Rows left: 10\n",
      "Rows analyzed: 4611, Rows left: 9\n"
     ]
    },
    {
     "name": "stderr",
     "output_type": "stream",
     "text": [
      "ERROR: [youtube] FuZxwJkWKlY: Video unavailable. This video is no longer available because the YouTube account associated with this video has been terminated.\n"
     ]
    },
    {
     "name": "stdout",
     "output_type": "stream",
     "text": [
      "Error checking language and duration for video FuZxwJkWKlY: ERROR: [youtube] FuZxwJkWKlY: Video unavailable. This video is no longer available because the YouTube account associated with this video has been terminated.\n",
      "Rows analyzed: 4612, Rows left: 8\n",
      "Rows analyzed: 4613, Rows left: 7\n",
      "Rows analyzed: 4614, Rows left: 6\n",
      "Rows analyzed: 4615, Rows left: 5\n",
      "Rows analyzed: 4616, Rows left: 4\n",
      "Rows analyzed: 4617, Rows left: 3\n",
      "Rows analyzed: 4618, Rows left: 2\n",
      "Rows analyzed: 4619, Rows left: 1\n",
      "Rows analyzed: 4620, Rows left: 0\n",
      "Filtering complete.\n"
     ]
    }
   ],
   "source": [
    "\"\"\"\n",
    "This cell:\n",
    "1. creates a new csv file with the same headings for columns as avspeech_test, \n",
    "    if it does not exist already within a path:  '/AVSpeech/filtered_avspeech_test.csv'\n",
    "2. goes through all the rows of the avspeech_test.csv containing the youtube ids, \n",
    "    checks for each video if the video language is in english AND if the video is longer than 7 seconds. \n",
    "    Both conditions have to be satisfied. \n",
    "3. For each row of the avspeech_test.csv, if conditions in step 3 are satisfied, \n",
    "    it puts that row right away into the filtered_avspeech_test csv file, \n",
    "    so the rows get appended in filtered_avspeech_test in real time.\n",
    "\"\"\"\n",
    "# Define file paths\n",
    "input_csv_path = 'avspeech_test.csv'\n",
    "filtered_csv_path = './AVSpeech/filtered_avspeech_test.csv'\n",
    "\n",
    "# Load the input CSV data\n",
    "data = pd.read_csv(input_csv_path, header=None, names=['YouTube_ID', 'Start_Segment', 'End_Segment', 'X_Coordinate', 'Y_Coordinate'])\n",
    "\n",
    "# Function to check if the video is in English and longer than 7 seconds\n",
    "def is_video_english_and_long_enough(youtube_id):\n",
    "    ydl_opts = {\n",
    "        'quiet': True,\n",
    "        'no_warnings': True,\n",
    "    }\n",
    "    try:\n",
    "        with youtube_dl.YoutubeDL(ydl_opts) as ydl:\n",
    "            info_dict = ydl.extract_info(f'http://www.youtube.com/watch?v={youtube_id}', download=False)\n",
    "            language = info_dict.get('language', None)\n",
    "            duration = row['End_Segment']- row['Start_Segment']\n",
    "            # duration = info_dict.get('duration', 0)\n",
    "            if language and 'en' in language and duration > 7:\n",
    "                return True\n",
    "    except Exception as e:\n",
    "        print(f\"Error checking language and duration for video {youtube_id}: {e}\")\n",
    "    return False\n",
    "\n",
    "# Check if the filtered CSV file exists. If not, create it with the same header as the input CSV.\n",
    "if not os.path.exists(filtered_csv_path):\n",
    "    data.head(0).to_csv(filtered_csv_path, index=False)\n",
    "\n",
    "# Iterate through the data, check conditions, and append rows to the filtered CSV file\n",
    "for index, row in data.iterrows():\n",
    "    if is_video_english_and_long_enough(row['YouTube_ID']):\n",
    "        row.to_frame().T.to_csv(filtered_csv_path, mode='a', header=False, index=False)\n",
    "    print(f\"Rows analyzed: {index + 1}, Rows left: {len(data) - (index + 1)}\")\n",
    "print(\"Filtering complete.\")     "
   ]
  },
  {
   "cell_type": "code",
   "execution_count": 11,
   "id": "1ea72cff-12b1-42ec-8e89-b2674c41c40e",
   "metadata": {},
   "outputs": [
    {
     "ename": "SyntaxError",
     "evalue": "incomplete input (3972562777.py, line 1)",
     "output_type": "error",
     "traceback": [
      "\u001b[1;36m  Cell \u001b[1;32mIn[11], line 1\u001b[1;36m\u001b[0m\n\u001b[1;33m    \"\"\"\u001b[0m\n\u001b[1;37m    ^\u001b[0m\n\u001b[1;31mSyntaxError\u001b[0m\u001b[1;31m:\u001b[0m incomplete input\n"
     ]
    }
   ],
   "source": [
    "# \"\"\"\n",
    "# The following script takes a youtube_id, downloads corresponding video to that id, trims it, \n",
    "# and extract the voice from that trimmed video and save both trimmed vieo and audio of it, deleting the original video.\n",
    "# \"\"\"\n",
    "\n",
    "# # Function to download video from YouTube\n",
    "# def download_video(youtube_id, output_path='videos'):\n",
    "#     video_path = os.path.join(output_path, f'{youtube_id}.mp4')\n",
    "#     if os.path.exists(video_path)\n",
    "#         print(f\"Video {youtube_id} already downloaded.\")\n",
    "#         return True\n",
    "    \n",
    "#     ydl_opts = {\n",
    "#         'format': 'best',\n",
    "#         'outtmpl': video_path,\n",
    "#         'postprocessors': [{\n",
    "#             'key': 'FFmpegVideoConvertor',\n",
    "#             'preferedformat': 'mp4',\n",
    "#         }]\n",
    "#     }\n",
    "#     try:\n",
    "#         with youtube_dl.YoutubeDL(ydl_opts) as ydl:\n",
    "#             ydl.download([f'http://www.youtube.com/watch?v={youtube_id}'])\n",
    "#     except youtube_dl.DownloadError as e:\n",
    "#         print(f\"Error downloading video {youtube_id}: {e}\")\n",
    "#         return False\n",
    "#     return True\n",
    "\n",
    "# # Function to trim video using ffmpeg\n",
    "# def trim_video(youtube_id, start, end, ffmpeg_path, output_path='videos'):\n",
    "#     input_path = os.path.join(output_path, f'{youtube_id}.mp4')\n",
    "#     output_segment_path = os.path.join(output_path, f'{youtube_id}_trimmed.mp4')\n",
    "#     if not os.path.exists(input_path):\n",
    "#         print(f\"Error: {input_path} does not exist.\")\n",
    "#         return None\n",
    "#     command = [\n",
    "#         ffmpeg_path,\n",
    "#         '-i', input_path,    # Input file\n",
    "#         '-ss', str(start),   # Start time\n",
    "#         '-to', str(end),     # End time\n",
    "#         '-c', 'copy',        # Copy codec to avoid re-encoding\n",
    "#         output_segment_path  # Output file\n",
    "#     ]\n",
    "#     try:\n",
    "#         subprocess.run(command, check=True)\n",
    "#         os.remove(input_path)\n",
    "#     except subprocess.CalledProcessError as e:\n",
    "#         print(f\"Error trimming video {input_path}: {e}\")\n",
    "#         return None\n",
    "#     return output_segment_path\n",
    "\n",
    "# # Function to extract audio from video using ffmpeg\n",
    "# def extract_audio(youtube_id, ffmpeg_path, output_path='videos'):\n",
    "#     video_path = os.path.join(output_path, f'{youtube_id}_trimmed.mp4')\n",
    "#     if not os.path.exists(video_path):\n",
    "#         print(f\"Error: {video_path} does not exist.\")\n",
    "#         return None\n",
    "#     audio_path = os.path.join(output_path, f'{youtube_id}_segment.mp3')\n",
    "#     command = [\n",
    "#         ffmpeg_path,\n",
    "#         '-i', video_path,    # Input file\n",
    "#         '-q:a', '0',         # Audio quality (0 is the best)\n",
    "#         '-map', 'a',         # Select only the audio stream\n",
    "#         audio_path           # Output file\n",
    "#     ]\n",
    "#     try:\n",
    "#         subprocess.run(command, check=True)\n",
    "#     except subprocess.CalledProcessError as e:\n",
    "#         print(f\"Error extracting audio from {video_path}: {e}\")\n",
    "#         return None\n",
    "#     return audio_path\n",
    "\n",
    "# # Create the output directory if it doesn't exist\n",
    "# if not os.path.exists('videos'):\n",
    "#     os.makedirs('videos')\n",
    "\n",
    "# # Full path to the ffmpeg executable (mocked path)\n",
    "# ffmpeg_path = r'C:\\Program Files (x86)\\ffmpeg-master-latest-win64-gpl-shared\\ffmpeg-master-latest-win64-gpl-shared\\bin\\ffmpeg'\n",
    "\n",
    "# # Process the rows of the filtered CSV\n",
    "# filtered_data = pd.read_csv(filtered_csv_path, header=None, names=['YouTube_ID', 'Start_Segment', 'End_Segment', 'X_Coordinate', 'Y_Coordinate'])\n",
    "# for index, row in filtered_data.iterrows():\n",
    "#     youtube_id = row['YouTube_ID']\n",
    "#     start_segment = row['Start_Segment']\n",
    "#     end_segment = row['End_Segment']\n",
    "    \n",
    "#     trimmed_video_path = os.path.join('videos', f'{youtube_id}_trimmed.mp4')\n",
    "#     audio_segment_path = os.path.join('videos', f'{youtube_id}_segment.mp3')\n",
    "    \n",
    "#     # Check if the trimmed video already exists\n",
    "#     if os.path.exists(trimmed_video_path):\n",
    "#         print(f\"Trimmed video {trimmed_video_path} already exists.\")\n",
    "#     else:\n",
    "#         print(f'Processing YouTube ID: {youtube_id} | Start: {start_segment} | End: {end_segment}')\n",
    "        \n",
    "#         # Download the video if not already downloaded\n",
    "#         if download_video(youtube_id):\n",
    "#             # Trim the video\n",
    "#             trimmed_video_path = trim_video(youtube_id, start_segment, end_segment, ffmpeg_path)\n",
    "#             if trimmed_video_path:\n",
    "#                 print(f'Trimmed video saved at: {trimmed_video_path}')\n",
    "#             else:\n",
    "#                 print(f\"Skipping video {youtube_id} due to trimming error.\")\n",
    "#                 continue\n",
    "#         else:\n",
    "#             print(f\"Skipping video {youtube_id} due to download error.\")\n",
    "#             continue\n",
    "\n",
    "#     # Check if the audio segment already exists\n",
    "#     if os.path.exists(audio_segment_path):\n",
    "#         print(f\"Audio segment {audio_segment_path} already exists. Skipping extraction.\")\n",
    "#     else:\n",
    "#         # Extract and save audio\n",
    "#         audio_path = extract_audio(youtube_id, ffmpeg_path)\n",
    "#         if audio_path:\n",
    "#             print(f'Audio saved at: {audio_path}')\n",
    "#         else:\n",
    "#             print(f\"Skipping audio extraction for video {youtube_id} due to error.\")\n"
   ]
  },
  {
   "cell_type": "code",
   "execution_count": null,
   "id": "b05b4633-66e0-473f-8102-3386f226d387",
   "metadata": {},
   "outputs": [],
   "source": []
  },
  {
   "cell_type": "code",
   "execution_count": null,
   "id": "648f59c4-a3d5-4429-8133-02f6d49a652a",
   "metadata": {},
   "outputs": [],
   "source": []
  }
 ],
 "metadata": {
  "kernelspec": {
   "display_name": "python310",
   "language": "python",
   "name": "python310"
  },
  "language_info": {
   "codemirror_mode": {
    "name": "ipython",
    "version": 3
   },
   "file_extension": ".py",
   "mimetype": "text/x-python",
   "name": "python",
   "nbconvert_exporter": "python",
   "pygments_lexer": "ipython3",
   "version": "3.10.4"
  }
 },
 "nbformat": 4,
 "nbformat_minor": 5
}
