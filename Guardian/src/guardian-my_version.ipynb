{
 "cells": [
  {
   "cell_type": "code",
   "execution_count": 16,
   "metadata": {},
   "outputs": [],
   "source": [
    "import pandas as pd\n",
    "from sklearn.model_selection  import train_test_split\n",
    "from sklearn.neighbors import KNeighborsClassifier\n",
    "from sklearn.metrics import classification_report, confusion_matrix\n",
    "from sklearn.metrics import precision_score, recall_score, f1_score"
   ]
  },
  {
   "cell_type": "code",
   "execution_count": 17,
   "metadata": {},
   "outputs": [],
   "source": [
    "data = pd.read_csv(\"../data/guardian/knn_model/1476371065-100-train.csv\")\n",
    "\n",
    "x = data.iloc[:,1:]\n",
    "y = data.iloc[:,0:1].values.ravel()\n",
    "\n",
    "X_train, X_test, y_train, y_test = train_test_split(x, y, test_size = 0.20)"
   ]
  },
  {
   "cell_type": "code",
   "execution_count": 18,
   "metadata": {},
   "outputs": [
    {
     "name": "stdout",
     "output_type": "stream",
     "text": [
      "[[  875     5]\n",
      " [    2 16858]]\n",
      "              precision    recall  f1-score   support\n",
      "\n",
      "      attack       1.00      0.99      1.00       880\n",
      "      normal       1.00      1.00      1.00     16860\n",
      "\n",
      "    accuracy                           1.00     17740\n",
      "   macro avg       1.00      1.00      1.00     17740\n",
      "weighted avg       1.00      1.00      1.00     17740\n",
      "\n"
     ]
    }
   ],
   "source": [
    "n_neighbors = 11\n",
    "neigh = KNeighborsClassifier(n_neighbors, weights='distance')\n",
    "neigh.fit(X_train, y_train)\n",
    "y_pred = neigh.predict(x)\n",
    "print(confusion_matrix(y,y_pred))\n",
    "print(classification_report(y,y_pred))"
   ]
  },
  {
   "cell_type": "code",
   "execution_count": 20,
   "metadata": {},
   "outputs": [
    {
     "name": "stdout",
     "output_type": "stream",
     "text": [
      "[[  88  132]\n",
      " [  17 4203]]\n",
      "              precision    recall  f1-score   support\n",
      "\n",
      "      attack       0.84      0.40      0.54       220\n",
      "      normal       0.97      1.00      0.98      4220\n",
      "\n",
      "    accuracy                           0.97      4440\n",
      "   macro avg       0.90      0.70      0.76      4440\n",
      "weighted avg       0.96      0.97      0.96      4440\n",
      "\n"
     ]
    }
   ],
   "source": [
    "data2 = pd.read_csv(\"../data/guardian/knn_model/1476371065-100.csv\")\n",
    "\n",
    "x2 = data2.iloc[:,1:]\n",
    "y2 = data2.iloc[:,0:1]\n",
    "\n",
    "y_pred = neigh.predict(x2)\n",
    "print(confusion_matrix(y2,y_pred))\n",
    "print(classification_report(y2,y_pred))"
   ]
  },
  {
   "cell_type": "code",
   "execution_count": 4,
   "metadata": {
    "tags": [
     "outputPrepend"
    ]
   },
   "outputs": [
    {
     "ename": "NameError",
     "evalue": "name 'train' is not defined",
     "output_type": "error",
     "traceback": [
      "\u001b[1;31m---------------------------------------------------------------------------\u001b[0m",
      "\u001b[1;31mNameError\u001b[0m                                 Traceback (most recent call last)",
      "Cell \u001b[1;32mIn[4], line 2\u001b[0m\n\u001b[0;32m      1\u001b[0m data \u001b[38;5;241m=\u001b[39m pd\u001b[38;5;241m.\u001b[39mread_csv(\u001b[38;5;124m\"\u001b[39m\u001b[38;5;124m../data/guardian/knn_model/1122809848-100_train.csv\u001b[39m\u001b[38;5;124m\"\u001b[39m)\n\u001b[1;32m----> 2\u001b[0m \u001b[38;5;241m8178571063\u001b[39m\u001b[38;5;241m-\u001b[39m\u001b[38;5;241m100\u001b[39m\u001b[38;5;241m-\u001b[39m\u001b[43mtrain\u001b[49m\n\u001b[0;32m      3\u001b[0m x \u001b[38;5;241m=\u001b[39m data\u001b[38;5;241m.\u001b[39miloc[:,\u001b[38;5;241m1\u001b[39m:]\n\u001b[0;32m      4\u001b[0m y \u001b[38;5;241m=\u001b[39m data\u001b[38;5;241m.\u001b[39miloc[:,\u001b[38;5;241m0\u001b[39m:\u001b[38;5;241m1\u001b[39m]\u001b[38;5;241m.\u001b[39mvalues\u001b[38;5;241m.\u001b[39mravel()\n",
      "\u001b[1;31mNameError\u001b[0m: name 'train' is not defined"
     ]
    }
   ],
   "source": [
    "data = pd.read_csv(\"../data/guardian/knn_model/1122809848-100_train.csv\")\n",
    "8178571063-100-train\n",
    "x = data.iloc[:,1:]\n",
    "y = data.iloc[:,0:1].values.ravel()\n",
    "\n",
    "X_train, X_test, y_train, y_test = train_test_split(x, y, test_size = 0.20)"
   ]
  },
  {
   "cell_type": "markdown",
   "metadata": {},
   "source": [
    "## KNN"
   ]
  },
  {
   "cell_type": "markdown",
   "metadata": {},
   "source": [
    "## tarin"
   ]
  },
  {
   "cell_type": "code",
   "execution_count": 6,
   "metadata": {},
   "outputs": [
    {
     "name": "stdout",
     "output_type": "stream",
     "text": [
      "[[5484  106]\n",
      " [  30 5340]]\n",
      "              precision    recall  f1-score   support\n",
      "\n",
      "      attack       0.99      0.98      0.99      5590\n",
      "      normal       0.98      0.99      0.99      5370\n",
      "\n",
      "    accuracy                           0.99     10960\n",
      "   macro avg       0.99      0.99      0.99     10960\n",
      "weighted avg       0.99      0.99      0.99     10960\n",
      "\n"
     ]
    }
   ],
   "source": [
    "n_neighbors = 11\n",
    "neigh = KNeighborsClassifier(n_neighbors, weights='distance')\n",
    "neigh.fit(X_train, y_train)\n",
    "y_pred = neigh.predict(x)\n",
    "print(confusion_matrix(y,y_pred))\n",
    "print(classification_report(y,y_pred))"
   ]
  },
  {
   "cell_type": "markdown",
   "metadata": {},
   "source": [
    "## test"
   ]
  },
  {
   "cell_type": "code",
   "execution_count": 27,
   "metadata": {},
   "outputs": [
    {
     "name": "stdout",
     "output_type": "stream",
     "text": [
      "[[  570    20]\n",
      " [  287 10193]]\n",
      "              precision    recall  f1-score   support\n",
      "\n",
      "      attack       0.67      0.97      0.79       590\n",
      "      normal       1.00      0.97      0.99     10480\n",
      "\n",
      "    accuracy                           0.97     11070\n",
      "   macro avg       0.83      0.97      0.89     11070\n",
      "weighted avg       0.98      0.97      0.97     11070\n",
      "\n"
     ]
    }
   ],
   "source": [
    "data2 = pd.read_csv(\"../data/guardian/knn_model/1122809848-100_test.csv\")\n",
    "\n",
    "x2 = data2.iloc[:,1:]\n",
    "y2 = data2.iloc[:,0:1]\n",
    "\n",
    "y_pred = neigh.predict(x2)\n",
    "print(confusion_matrix(y2,y_pred))\n",
    "print(classification_report(y2,y_pred))\n",
    "\n",
    "# x2 = data2.iloc[:,1:]\n",
    "# y2 = data2.iloc[:,0:1]\n",
    "# X_train, X_test, y_train, y_test = train_test_split(x2, y2, test_size = 0.20)\n",
    "\n",
    "# # Flatten y_train and y_test using ravel()\n",
    "# y_train = y_train.values.ravel()\n",
    "# y_test = y_test.values.ravel()\n",
    "\n",
    "# n_neighbors = 11\n",
    "# neigh = KNeighborsClassifier(n_neighbors, weights='distance')\n",
    "# neigh.fit(X_train, y_train)\n",
    "# y_pred = neigh.predict(x2)\n",
    "# print(confusion_matrix(y2,y_pred))\n",
    "# print(classification_report(y2,y_pred))"
   ]
  },
  {
   "cell_type": "code",
   "execution_count": 28,
   "metadata": {},
   "outputs": [
    {
     "name": "stdout",
     "output_type": "stream",
     "text": [
      "[[ 64  76]\n",
      " [ 16 604]]\n",
      "              precision    recall  f1-score   support\n",
      "\n",
      "      attack       0.80      0.46      0.58       140\n",
      "      normal       0.89      0.97      0.93       620\n",
      "\n",
      "    accuracy                           0.88       760\n",
      "   macro avg       0.84      0.72      0.76       760\n",
      "weighted avg       0.87      0.88      0.87       760\n",
      "\n"
     ]
    }
   ],
   "source": [
    "# embedding 2_different\n",
    "# data2 = pd.read_csv(\"../data/guardian/knn_model/9121186002-100.csv\")\n",
    "data2 = pd.read_csv(\"../data/guardian/knn_model/1.1575710019-100.csv\")\n",
    "\n",
    "x2 = data2.iloc[:,1:]\n",
    "y2 = data2.iloc[:,0:1]\n",
    "\n",
    "y_pred = neigh.predict(x2)\n",
    "print(confusion_matrix(y2,y_pred))\n",
    "print(classification_report(y2,y_pred))\n",
    "\n",
    "# x2 = data2.iloc[:,1:]\n",
    "# y2 = data2.iloc[:,0:1]\n",
    "# X_train, X_test, y_train, y_test = train_test_split(x2, y2, test_size = 0.20)\n",
    "\n",
    "# # Flatten y_train and y_test using ravel()\n",
    "# y_train = y_train.values.ravel()\n",
    "# y_test = y_test.values.ravel()\n",
    "\n",
    "# n_neighbors = 11\n",
    "# neigh = KNeighborsClassifier(n_neighbors, weights='distance')\n",
    "# neigh.fit(X_train, y_train)\n",
    "# y_pred = neigh.predict(x2)\n",
    "# print(confusion_matrix(y2,y_pred))\n",
    "# print(classification_report(y2,y_pred))"
   ]
  },
  {
   "cell_type": "code",
   "execution_count": 29,
   "metadata": {},
   "outputs": [
    {
     "name": "stdout",
     "output_type": "stream",
     "text": [
      "[[ 11 129]\n",
      " [ 13 599]]\n",
      "              precision    recall  f1-score   support\n",
      "\n",
      "      attack       0.46      0.08      0.13       140\n",
      "      normal       0.82      0.98      0.89       612\n",
      "\n",
      "    accuracy                           0.81       752\n",
      "   macro avg       0.64      0.53      0.51       752\n",
      "weighted avg       0.75      0.81      0.75       752\n",
      "\n"
     ]
    }
   ],
   "source": [
    "# embedding 2_same\n",
    "data2 = pd.read_csv(\"../data/guardian/knn_model/1.5046560824-50.csv\")\n",
    "\n",
    "x2 = data2.iloc[:,1:]\n",
    "y2 = data2.iloc[:,0:1]\n",
    "\n",
    "y_pred = neigh.predict(x2)\n",
    "print(confusion_matrix(y2,y_pred))\n",
    "print(classification_report(y2,y_pred))\n",
    "\n",
    "# x2 = data2.iloc[:,1:]\n",
    "# y2 = data2.iloc[:,0:1]\n",
    "# X_train, X_test, y_train, y_test = train_test_split(x2, y2, test_size = 0.20)\n",
    "\n",
    "# # Flatten y_train and y_test using ravel()\n",
    "# y_train = y_train.values.ravel()\n",
    "# y_test = y_test.values.ravel()\n",
    "\n",
    "# n_neighbors = 11\n",
    "# neigh = KNeighborsClassifier(n_neighbors, weights='distance')\n",
    "# neigh.fit(X_train, y_train)\n",
    "# y_pred = neigh.predict(x2)\n",
    "# print(confusion_matrix(y2,y_pred))\n",
    "# print(classification_report(y2,y_pred))\n"
   ]
  },
  {
   "cell_type": "code",
   "execution_count": 33,
   "metadata": {},
   "outputs": [
    {
     "name": "stdout",
     "output_type": "stream",
     "text": [
      "[[10]]\n",
      "              precision    recall  f1-score   support\n",
      "\n",
      "      normal       1.00      1.00      1.00        10\n",
      "\n",
      "    accuracy                           1.00        10\n",
      "   macro avg       1.00      1.00      1.00        10\n",
      "weighted avg       1.00      1.00      1.00        10\n",
      "\n"
     ]
    }
   ],
   "source": [
    "# embedding 2_random\n",
    "data2 = pd.read_csv(\"../data/guardian/knn_model/5046560824-50.csv\")\n",
    "\n",
    "x2 = data2.iloc[:,1:]\n",
    "y2 = data2.iloc[:,0:1]\n",
    "\n",
    "y_pred = neigh.predict(x2)\n",
    "print(confusion_matrix(y2,y_pred))\n",
    "# Use zero_division parameter to handle undefined metrics warning\n",
    "print(classification_report(y2, y_pred, zero_division=1))\n",
    "\n",
    "# x2 = data2.iloc[:,1:]\n",
    "# y2 = data2.iloc[:,0:1]\n",
    "# X_train, X_test, y_train, y_test = train_test_split(x2, y2, test_size = 0.20)\n",
    "\n",
    "# # Flatten y_train and y_test using ravel()\n",
    "# y_train = y_train.values.ravel()\n",
    "# y_test = y_test.values.ravel()\n",
    "\n",
    "# n_neighbors = 11\n",
    "# neigh = KNeighborsClassifier(n_neighbors, weights='distance')\n",
    "# neigh.fit(X_train, y_train)\n",
    "# y_pred = neigh.predict(x2)\n",
    "# print(confusion_matrix(y2,y_pred))\n",
    "# print(classification_report(y2,y_pred))"
   ]
  },
  {
   "cell_type": "code",
   "execution_count": 30,
   "metadata": {},
   "outputs": [
    {
     "name": "stdout",
     "output_type": "stream",
     "text": [
      "[[  61   89]\n",
      " [  10 1516]]\n",
      "              precision    recall  f1-score   support\n",
      "\n",
      "      attack       0.86      0.41      0.55       150\n",
      "      normal       0.94      0.99      0.97      1526\n",
      "\n",
      "    accuracy                           0.94      1676\n",
      "   macro avg       0.90      0.70      0.76      1676\n",
      "weighted avg       0.94      0.94      0.93      1676\n",
      "\n"
     ]
    }
   ],
   "source": [
    "# embedding 2_different\n",
    "# data2 = pd.read_csv(\"../data/guardian/knn_model/9121186002-100.csv\")\n",
    "data2 = pd.read_csv(\"../data/guardian/knn_model/1575710019-100.csv\")\n",
    "\n",
    "x2 = data2.iloc[:,1:]\n",
    "y2 = data2.iloc[:,0:1]\n",
    "\n",
    "y_pred = neigh.predict(x2)\n",
    "print(confusion_matrix(y2,y_pred))\n",
    "print(classification_report(y2,y_pred))\n",
    "\n",
    "# x2 = data2.iloc[:,1:]\n",
    "# y2 = data2.iloc[:,0:1]\n",
    "# X_train, X_test, y_train, y_test = train_test_split(x2, y2, test_size = 0.20)\n",
    "\n",
    "# # Flatten y_train and y_test using ravel()\n",
    "# y_train = y_train.values.ravel()\n",
    "# y_test = y_test.values.ravel()\n",
    "\n",
    "# n_neighbors = 11\n",
    "# neigh = KNeighborsClassifier(n_neighbors, weights='distance')\n",
    "# neigh.fit(X_train, y_train)\n",
    "# y_pred = neigh.predict(x2)\n",
    "# print(confusion_matrix(y2,y_pred))\n",
    "# print(classification_report(y2,y_pred))"
   ]
  },
  {
   "cell_type": "code",
   "execution_count": 31,
   "metadata": {
    "scrolled": true
   },
   "outputs": [
    {
     "name": "stdout",
     "output_type": "stream",
     "text": [
      "[[49]]\n",
      "              precision    recall  f1-score   support\n",
      "\n",
      "      attack       1.00      1.00      1.00        49\n",
      "\n",
      "    accuracy                           1.00        49\n",
      "   macro avg       1.00      1.00      1.00        49\n",
      "weighted avg       1.00      1.00      1.00        49\n",
      "\n"
     ]
    }
   ],
   "source": [
    "data2 = pd.read_csv(\"../data/guardian/knn_model/1122809848-100.csv\")\n",
    "\n",
    "x2 = data2.iloc[:,1:]\n",
    "y2 = data2.iloc[:,0:1]\n",
    "\n",
    "y_pred = neigh.predict(x2)\n",
    "print(confusion_matrix(y2,y_pred))\n",
    "print(classification_report(y2,y_pred))\n",
    "\n",
    "# x2 = data2.iloc[:,1:]\n",
    "# y2 = data2.iloc[:,0:1]\n",
    "# X_train, X_test, y_train, y_test = train_test_split(x2, y2, test_size = 0.20)\n",
    "\n",
    "# # Flatten y_train and y_test using ravel()\n",
    "# y_train = y_train.values.ravel()\n",
    "# y_test = y_test.values.ravel()\n",
    "\n",
    "# n_neighbors = 11\n",
    "# neigh = KNeighborsClassifier(n_neighbors, weights='distance')\n",
    "# neigh.fit(X_train, y_train)\n",
    "# y_pred = neigh.predict(x2)\n",
    "# print(confusion_matrix(y2,y_pred))\n",
    "# print(classification_report(y2,y_pred))"
   ]
  },
  {
   "cell_type": "code",
   "execution_count": 25,
   "metadata": {},
   "outputs": [
    {
     "name": "stdout",
     "output_type": "stream",
     "text": [
      "[[  875     5]\n",
      " [    6 16854]]\n",
      "              precision    recall  f1-score   support\n",
      "\n",
      "      attack       0.99      0.99      0.99       880\n",
      "      normal       1.00      1.00      1.00     16860\n",
      "\n",
      "    accuracy                           1.00     17740\n",
      "   macro avg       1.00      1.00      1.00     17740\n",
      "weighted avg       1.00      1.00      1.00     17740\n",
      "\n"
     ]
    }
   ],
   "source": [
    "\n",
    "data = pd.read_csv(\"../data/guardian/knn_model/8178571063-100-train.csv\")\n",
    "\n",
    "x = data.iloc[:,1:]\n",
    "y = data.iloc[:,0:1].values.ravel()\n",
    "\n",
    "X_train, X_test, y_train, y_test = train_test_split(x, y, test_size = 0.20)\n",
    "\n",
    "n_neighbors = 11\n",
    "neigh = KNeighborsClassifier(n_neighbors, weights='distance')\n",
    "neigh.fit(X_train, y_train)\n",
    "y_pred = neigh.predict(x)\n",
    "print(confusion_matrix(y,y_pred))\n",
    "print(classification_report(y,y_pred))"
   ]
  },
  {
   "cell_type": "code",
   "execution_count": 26,
   "metadata": {},
   "outputs": [
    {
     "name": "stdout",
     "output_type": "stream",
     "text": [
      "[[  71  149]\n",
      " [  22 4198]]\n",
      "              precision    recall  f1-score   support\n",
      "\n",
      "      attack       0.76      0.32      0.45       220\n",
      "      normal       0.97      0.99      0.98      4220\n",
      "\n",
      "    accuracy                           0.96      4440\n",
      "   macro avg       0.86      0.66      0.72      4440\n",
      "weighted avg       0.96      0.96      0.95      4440\n",
      "\n"
     ]
    }
   ],
   "source": [
    "data2 = pd.read_csv(\"../data/guardian/knn_model/8178571063-100-test.csv\")\n",
    "\n",
    "x2 = data2.iloc[:,1:]\n",
    "y2 = data2.iloc[:,0:1]\n",
    "\n",
    "y_pred = neigh.predict(x2)\n",
    "print(confusion_matrix(y2,y_pred))\n",
    "print(classification_report(y2,y_pred))"
   ]
  },
  {
   "cell_type": "code",
   "execution_count": null,
   "metadata": {},
   "outputs": [],
   "source": []
  },
  {
   "cell_type": "code",
   "execution_count": null,
   "metadata": {},
   "outputs": [],
   "source": []
  }
 ],
 "metadata": {
  "interpreter": {
   "hash": "9b12d8e89bfe5f1d9564be7ce6131d8ea317c73289c3e98fd5ea3a30a393c6e1"
  },
  "kernelspec": {
   "display_name": "python310",
   "language": "python",
   "name": "python310"
  },
  "language_info": {
   "codemirror_mode": {
    "name": "ipython",
    "version": 3
   },
   "file_extension": ".py",
   "mimetype": "text/x-python",
   "name": "python",
   "nbconvert_exporter": "python",
   "pygments_lexer": "ipython3",
   "version": "3.10.4"
  }
 },
 "nbformat": 4,
 "nbformat_minor": 4
}
