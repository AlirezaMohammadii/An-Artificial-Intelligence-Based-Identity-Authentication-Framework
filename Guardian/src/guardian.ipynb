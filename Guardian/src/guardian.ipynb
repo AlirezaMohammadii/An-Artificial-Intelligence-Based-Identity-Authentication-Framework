{
 "cells": [
  {
   "cell_type": "code",
   "execution_count": 2,
   "metadata": {},
   "outputs": [],
   "source": [
    "import pandas as pd\n",
    "from sklearn.model_selection  import train_test_split\n",
    "from sklearn.neighbors import KNeighborsClassifier\n",
    "from sklearn.metrics import classification_report, confusion_matrix\n",
    "from sklearn.metrics import precision_score, recall_score, f1_score"
   ]
  },
  {
   "cell_type": "code",
   "execution_count": 128,
   "metadata": {},
   "outputs": [
    {
     "name": "stdout",
     "output_type": "stream",
     "text": [
      "[[  876     4]\n",
      " [    1 16859]]\n",
      "              precision    recall  f1-score   support\n",
      "\n",
      "      attack       1.00      1.00      1.00       880\n",
      "      normal       1.00      1.00      1.00     16860\n",
      "\n",
      "    accuracy                           1.00     17740\n",
      "   macro avg       1.00      1.00      1.00     17740\n",
      "weighted avg       1.00      1.00      1.00     17740\n",
      "\n"
     ]
    }
   ],
   "source": [
    "data = pd.read_csv(\"../data/guardian/knn_model/final_files/1476371065-100-train.csv\")\n",
    "\n",
    "x = data.iloc[:,1:]\n",
    "y = data.iloc[:,0:1].values.ravel()\n",
    "\n",
    "X_train, X_test, y_train, y_test = train_test_split(x, y, test_size = 0.20)\n",
    "n_neighbors = 11\n",
    "neigh = KNeighborsClassifier(n_neighbors, weights='distance')\n",
    "neigh.fit(X_train, y_train)\n",
    "y_pred = neigh.predict(x)\n",
    "print(confusion_matrix(y,y_pred))\n",
    "print(classification_report(y,y_pred))\n"
   ]
  },
  {
   "cell_type": "code",
   "execution_count": 80,
   "metadata": {},
   "outputs": [
    {
     "name": "stdout",
     "output_type": "stream",
     "text": [
      "[[  89  131]\n",
      " [  17 4203]]\n",
      "              precision    recall  f1-score   support\n",
      "\n",
      "      attack       0.84      0.40      0.55       220\n",
      "      normal       0.97      1.00      0.98      4220\n",
      "\n",
      "    accuracy                           0.97      4440\n",
      "   macro avg       0.90      0.70      0.76      4440\n",
      "weighted avg       0.96      0.97      0.96      4440\n",
      "\n"
     ]
    }
   ],
   "source": [
    "data2 = pd.read_csv(\"../data/guardian/knn_model/final_files/1476371065-100.csv\")\n",
    "\n",
    "x2 = data2.iloc[:,1:]\n",
    "y2 = data2.iloc[:,0:1]\n",
    "\n",
    "y_pred = neigh.predict(x2)\n",
    "print(confusion_matrix(y2,y_pred))\n",
    "print(classification_report(y2,y_pred))"
   ]
  },
  {
   "cell_type": "code",
   "execution_count": 55,
   "metadata": {
    "tags": [
     "outputPrepend"
    ]
   },
   "outputs": [
    {
     "name": "stdout",
     "output_type": "stream",
     "text": [
      "[[5500   90]\n",
      " [  53 5317]]\n",
      "              precision    recall  f1-score   support\n",
      "\n",
      "      attack       0.99      0.98      0.99      5590\n",
      "      normal       0.98      0.99      0.99      5370\n",
      "\n",
      "    accuracy                           0.99     10960\n",
      "   macro avg       0.99      0.99      0.99     10960\n",
      "weighted avg       0.99      0.99      0.99     10960\n",
      "\n"
     ]
    }
   ],
   "source": [
    "data = pd.read_csv(\"../data/guardian/knn_model/final_files/1122809848-100_train.csv\")\n",
    "\n",
    "x = data.iloc[:,1:]\n",
    "y = data.iloc[:,0:1].values.ravel()\n",
    "\n",
    "\n",
    "# y_pred = neigh.predict(x)\n",
    "# print(confusion_matrix(y,y_pred))\n",
    "# print(classification_report(y,y_pred))\n",
    "\n",
    "X_train, X_test, y_train, y_test = train_test_split(x, y, test_size = 0.20)\n",
    "\n",
    "n_neighbors = 11\n",
    "neigh = KNeighborsClassifier(n_neighbors, weights='distance')\n",
    "neigh.fit(X_train, y_train)\n",
    "y_pred = neigh.predict(x)\n",
    "print(confusion_matrix(y,y_pred))\n",
    "print(classification_report(y,y_pred))"
   ]
  },
  {
   "cell_type": "markdown",
   "metadata": {},
   "source": [
    "## test"
   ]
  },
  {
   "cell_type": "code",
   "execution_count": 56,
   "metadata": {},
   "outputs": [
    {
     "name": "stdout",
     "output_type": "stream",
     "text": [
      "[[ 579   11]\n",
      " [ 882 9598]]\n",
      "              precision    recall  f1-score   support\n",
      "\n",
      "      attack       0.40      0.98      0.56       590\n",
      "      normal       1.00      0.92      0.96     10480\n",
      "\n",
      "    accuracy                           0.92     11070\n",
      "   macro avg       0.70      0.95      0.76     11070\n",
      "weighted avg       0.97      0.92      0.93     11070\n",
      "\n"
     ]
    }
   ],
   "source": [
    "data2 = pd.read_csv(\"../data/guardian/knn_model/final_files/1122809848-100_test.csv\")\n",
    "\n",
    "x2 = data2.iloc[:,1:]\n",
    "y2 = data2.iloc[:,0:1]\n",
    "\n",
    "y_pred = neigh.predict(x2)\n",
    "print(confusion_matrix(y2,y_pred))\n",
    "print(classification_report(y2,y_pred))"
   ]
  },
  {
   "cell_type": "code",
   "execution_count": 34,
   "metadata": {},
   "outputs": [
    {
     "name": "stdout",
     "output_type": "stream",
     "text": [
      "[[  878     2]\n",
      " [    1 16859]]\n",
      "              precision    recall  f1-score   support\n",
      "\n",
      "      attack       1.00      1.00      1.00       880\n",
      "      normal       1.00      1.00      1.00     16860\n",
      "\n",
      "    accuracy                           1.00     17740\n",
      "   macro avg       1.00      1.00      1.00     17740\n",
      "weighted avg       1.00      1.00      1.00     17740\n",
      "\n"
     ]
    }
   ],
   "source": [
    "data = pd.read_csv(\"../data/guardian/knn_model/final_files/1160238839-100-train.csv\")\n",
    "\n",
    "x = data.iloc[:,1:]\n",
    "y = data.iloc[:,0:1].values.ravel()\n",
    "\n",
    "X_train, X_test, y_train, y_test = train_test_split(x, y, test_size = 0.20)\n",
    "\n",
    "n_neighbors = 11\n",
    "neigh = KNeighborsClassifier(n_neighbors, weights='distance')\n",
    "neigh.fit(X_train, y_train)\n",
    "y_pred = neigh.predict(x)\n",
    "print(confusion_matrix(y,y_pred))\n",
    "print(classification_report(y,y_pred))"
   ]
  },
  {
   "cell_type": "code",
   "execution_count": 53,
   "metadata": {
    "scrolled": true
   },
   "outputs": [
    {
     "name": "stdout",
     "output_type": "stream",
     "text": [
      "[[  68  152]\n",
      " [   7 4213]]\n",
      "              precision    recall  f1-score   support\n",
      "\n",
      "      attack       0.91      0.31      0.46       220\n",
      "      normal       0.97      1.00      0.98      4220\n",
      "\n",
      "    accuracy                           0.96      4440\n",
      "   macro avg       0.94      0.65      0.72      4440\n",
      "weighted avg       0.96      0.96      0.96      4440\n",
      "\n"
     ]
    }
   ],
   "source": [
    "data2 = pd.read_csv(\"../data/guardian/knn_model/final_files/1160238839-100.csv\")\n",
    "\n",
    "x2 = data2.iloc[:,1:]\n",
    "y2 = data2.iloc[:,0:1]\n",
    "\n",
    "y_pred = neigh.predict(x2)\n",
    "print(confusion_matrix(y2,y_pred))\n",
    "print(classification_report(y2,y_pred))"
   ]
  },
  {
   "cell_type": "code",
   "execution_count": 114,
   "metadata": {},
   "outputs": [
    {
     "name": "stdout",
     "output_type": "stream",
     "text": [
      "[[  873     7]\n",
      " [    3 16857]]\n",
      "              precision    recall  f1-score   support\n",
      "\n",
      "      attack       1.00      0.99      0.99       880\n",
      "      normal       1.00      1.00      1.00     16860\n",
      "\n",
      "    accuracy                           1.00     17740\n",
      "   macro avg       1.00      1.00      1.00     17740\n",
      "weighted avg       1.00      1.00      1.00     17740\n",
      "\n"
     ]
    }
   ],
   "source": [
    "data = pd.read_csv(\"../data/guardian/knn_model/final_files/8598117027-100-train.csv\")\n",
    "\n",
    "x = data.iloc[:,1:]\n",
    "y = data.iloc[:,0:1].values.ravel()\n",
    "\n",
    "X_train, X_test, y_train, y_test = train_test_split(x, y, test_size = 0.20)\n",
    "\n",
    "n_neighbors = 11\n",
    "neigh = KNeighborsClassifier(n_neighbors, weights='distance')\n",
    "neigh.fit(X_train, y_train)\n",
    "y_pred = neigh.predict(x)\n",
    "print(confusion_matrix(y,y_pred))\n",
    "print(classification_report(y,y_pred))"
   ]
  },
  {
   "cell_type": "code",
   "execution_count": 54,
   "metadata": {},
   "outputs": [
    {
     "name": "stdout",
     "output_type": "stream",
     "text": [
      "[[  96  124]\n",
      " [  12 4208]]\n",
      "              precision    recall  f1-score   support\n",
      "\n",
      "      attack       0.89      0.44      0.59       220\n",
      "      normal       0.97      1.00      0.98      4220\n",
      "\n",
      "    accuracy                           0.97      4440\n",
      "   macro avg       0.93      0.72      0.78      4440\n",
      "weighted avg       0.97      0.97      0.96      4440\n",
      "\n"
     ]
    }
   ],
   "source": [
    "data2 = pd.read_csv(\"../data/guardian/knn_model/final_files/8598117027-100.csv\")\n",
    "\n",
    "x2 = data2.iloc[:,1:]\n",
    "y2 = data2.iloc[:,0:1]\n",
    "\n",
    "y_pred = neigh.predict(x2)\n",
    "print(confusion_matrix(y2,y_pred))\n",
    "# Use zero_division parameter to handle undefined metrics warning\n",
    "print(classification_report(y2, y_pred, zero_division=1))"
   ]
  },
  {
   "cell_type": "code",
   "execution_count": 155,
   "metadata": {
    "scrolled": true
   },
   "outputs": [
    {
     "name": "stdout",
     "output_type": "stream",
     "text": [
      "[[  699     1]\n",
      " [    1 13489]]\n",
      "              precision    recall  f1-score   support\n",
      "\n",
      "      attack       1.00      1.00      1.00       700\n",
      "      normal       1.00      1.00      1.00     13490\n",
      "\n",
      "    accuracy                           1.00     14190\n",
      "   macro avg       1.00      1.00      1.00     14190\n",
      "weighted avg       1.00      1.00      1.00     14190\n",
      "\n"
     ]
    }
   ],
   "source": [
    "data = pd.read_csv(\"../data/guardian/knn_model/final_files/1772246172-100.csv\")\n",
    "\n",
    "x = data.iloc[:,1:]\n",
    "y = data.iloc[:,0:1].values.ravel()\n",
    "\n",
    "X_train, X_test, y_train, y_test = train_test_split(x, y, test_size = 0.20)\n",
    "n_neighbors = 11\n",
    "neigh = KNeighborsClassifier(n_neighbors, weights='distance')\n",
    "neigh.fit(X_train, y_train)\n",
    "y_pred = neigh.predict(x)\n",
    "print(confusion_matrix(y,y_pred))\n",
    "print(classification_report(y,y_pred))"
   ]
  },
  {
   "cell_type": "code",
   "execution_count": 156,
   "metadata": {},
   "outputs": [
    {
     "name": "stdout",
     "output_type": "stream",
     "text": [
      "[[  96  124]\n",
      " [   7 4213]]\n",
      "              precision    recall  f1-score   support\n",
      "\n",
      "      attack       0.93      0.44      0.59       220\n",
      "      normal       0.97      1.00      0.98      4220\n",
      "\n",
      "    accuracy                           0.97      4440\n",
      "   macro avg       0.95      0.72      0.79      4440\n",
      "weighted avg       0.97      0.97      0.97      4440\n",
      "\n"
     ]
    }
   ],
   "source": [
    "data2 = pd.read_csv(\"../data/guardian/knn_model/test1772246172-100.csv\")\n",
    "\n",
    "x2 = data2.iloc[:,1:]\n",
    "y2 = data2.iloc[:,0:1]\n",
    "\n",
    "y_pred = neigh.predict(x2)\n",
    "print(confusion_matrix(y2,y_pred))\n",
    "# Use zero_division parameter to handle undefined metrics warning\n",
    "print(classification_report(y2, y_pred, zero_division=1))"
   ]
  },
  {
   "cell_type": "code",
   "execution_count": 10,
   "metadata": {},
   "outputs": [
    {
     "name": "stdout",
     "output_type": "stream",
     "text": [
      "[[2124]]\n",
      "              precision    recall  f1-score   support\n",
      "\n",
      "      attack       1.00      1.00      1.00      2124\n",
      "\n",
      "    accuracy                           1.00      2124\n",
      "   macro avg       1.00      1.00      1.00      2124\n",
      "weighted avg       1.00      1.00      1.00      2124\n",
      "\n"
     ]
    }
   ],
   "source": [
    "data = pd.read_csv(\"../data/guardian/knn_model/final_files/5327442248-100.csv\")\n",
    "\n",
    "x = data.iloc[:,1:]\n",
    "y = data.iloc[:,0:1].values.ravel()\n",
    "\n",
    "X_train, X_test, y_train, y_test = train_test_split(x, y, test_size = 0.20)\n",
    "n_neighbors = 11\n",
    "neigh = KNeighborsClassifier(n_neighbors, weights='distance')\n",
    "neigh.fit(X_train, y_train)\n",
    "y_pred = neigh.predict(x)\n",
    "print(confusion_matrix(y,y_pred))\n",
    "print(classification_report(y,y_pred))"
   ]
  },
  {
   "cell_type": "code",
   "execution_count": 6,
   "metadata": {},
   "outputs": [
    {
     "name": "stdout",
     "output_type": "stream",
     "text": [
      "[[ 520    0]\n",
      " [1584    0]]\n",
      "              precision    recall  f1-score   support\n",
      "\n",
      "      attack       0.25      1.00      0.40       520\n",
      "      normal       1.00      0.00      0.00      1584\n",
      "\n",
      "    accuracy                           0.25      2104\n",
      "   macro avg       0.62      0.50      0.20      2104\n",
      "weighted avg       0.81      0.25      0.10      2104\n",
      "\n"
     ]
    }
   ],
   "source": [
    "data2 = pd.read_csv(\"../data/guardian/knn_model/test5327442248-100.csv\")\n",
    "\n",
    "x2 = data2.iloc[:,1:]\n",
    "y2 = data2.iloc[:,0:1]\n",
    "\n",
    "y_pred = neigh.predict(x2)\n",
    "print(confusion_matrix(y2,y_pred))\n",
    "# Use zero_division parameter to handle undefined metrics warning\n",
    "print(classification_report(y2, y_pred, zero_division=1))"
   ]
  },
  {
   "cell_type": "code",
   "execution_count": 179,
   "metadata": {},
   "outputs": [
    {
     "ename": "ModuleNotFoundError",
     "evalue": "No module named 'imblearn'",
     "output_type": "error",
     "traceback": [
      "\u001b[1;31m---------------------------------------------------------------------------\u001b[0m",
      "\u001b[1;31mModuleNotFoundError\u001b[0m                       Traceback (most recent call last)",
      "Cell \u001b[1;32mIn[179], line 5\u001b[0m\n\u001b[0;32m      3\u001b[0m \u001b[38;5;28;01mfrom\u001b[39;00m \u001b[38;5;21;01msklearn\u001b[39;00m\u001b[38;5;21;01m.\u001b[39;00m\u001b[38;5;21;01mneighbors\u001b[39;00m \u001b[38;5;28;01mimport\u001b[39;00m KNeighborsClassifier\n\u001b[0;32m      4\u001b[0m \u001b[38;5;28;01mfrom\u001b[39;00m \u001b[38;5;21;01msklearn\u001b[39;00m\u001b[38;5;21;01m.\u001b[39;00m\u001b[38;5;21;01mmetrics\u001b[39;00m \u001b[38;5;28;01mimport\u001b[39;00m classification_report, confusion_matrix\n\u001b[1;32m----> 5\u001b[0m \u001b[38;5;28;01mfrom\u001b[39;00m \u001b[38;5;21;01mimblearn\u001b[39;00m\u001b[38;5;21;01m.\u001b[39;00m\u001b[38;5;21;01mover_sampling\u001b[39;00m \u001b[38;5;28;01mimport\u001b[39;00m SMOTE\n\u001b[0;32m      6\u001b[0m \u001b[38;5;28;01mfrom\u001b[39;00m \u001b[38;5;21;01msklearn\u001b[39;00m\u001b[38;5;21;01m.\u001b[39;00m\u001b[38;5;21;01mpreprocessing\u001b[39;00m \u001b[38;5;28;01mimport\u001b[39;00m StandardScaler\n\u001b[0;32m      8\u001b[0m \u001b[38;5;66;03m# Load training dataset\u001b[39;00m\n",
      "\u001b[1;31mModuleNotFoundError\u001b[0m: No module named 'imblearn'"
     ]
    }
   ],
   "source": [
    "import pandas as pd\n",
    "from sklearn.model_selection import StratifiedKFold\n",
    "from sklearn.neighbors import KNeighborsClassifier\n",
    "from sklearn.metrics import classification_report, confusion_matrix\n",
    "from imblearn.over_sampling import SMOTE\n",
    "from sklearn.preprocessing import StandardScaler\n",
    "\n",
    "# Load training dataset\n",
    "data = pd.read_csv(\"../data/guardian/knn_model/final_files/1476371065-100-train.csv\")\n",
    "X_train  = data.iloc[:, 1:]\n",
    "y_train  = data.iloc[:,0:1].values.ravel()\n",
    "\n",
    "# Load the test dataset\n",
    "test_data = pd.read_csv('path_to_your_test_data.csv')\n",
    "X_test = test_data.iloc[:, 1:].values\n",
    "y_test = test_data.iloc[:,0:1].values.ravel()\n",
    "\n",
    "\n",
    "# Initialize StratifiedKFold for cross-validation\n",
    "skf = StratifiedKFold(n_splits=5, shuffle=True, random_state=42)\n",
    "\n",
    "# Placeholder for model evaluation to find the best K\n",
    "best_score = 0\n",
    "best_k = 1\n",
    "\n",
    "# Trying different values of K to find the best one\n",
    "for k in range(1, 26, 2):  # Example: Trying odd values of K from 1 to 25\n",
    "    scores = []\n",
    "    for train_index, val_index in skf.split(X, y):\n",
    "        X_train, X_val = X[train_index], X[val_index]\n",
    "        y_train, y_val = y[train_index], y[val_index]\n",
    "        \n",
    "        # Handling imbalanced data with SMOTE\n",
    "        smote = SMOTE(random_state=42)\n",
    "        X_train_res, y_train_res = smote.fit_resample(X_train, y_train)\n",
    "        \n",
    "        # Standardize features\n",
    "        scaler = StandardScaler()\n",
    "        X_train_res_scaled = scaler.fit_transform(X_train_res)\n",
    "        X_val_scaled = scaler.transform(X_val)\n",
    "        \n",
    "        # Initialize and train KNN model\n",
    "        knn = KNeighborsClassifier(n_neighbors=k)\n",
    "        knn.fit(X_train_res_scaled, y_train_res)\n",
    "        \n",
    "        # Validate the model\n",
    "        score = knn.score(X_val_scaled, y_val)\n",
    "        scores.append(score)\n",
    "    \n",
    "    # Average score for this K\n",
    "    average_score = sum(scores) / len(scores)\n",
    "    if average_score > best_score:\n",
    "        best_score = average_score\n",
    "        best_k = k\n",
    "\n",
    "# Now that we have the best K, train on the entire training dataset\n",
    "smote = SMOTE(random_state=42)\n",
    "X_resampled, y_resampled = smote.fit_resample(X, y)\n",
    "\n",
    "scaler = StandardScaler()\n",
    "X_resampled_scaled = scaler.fit_transform(X_resampled)\n",
    "X_test_scaled = scaler.transform(X_test)\n",
    "\n",
    "# Train with the best K found\n",
    "knn_final = KNeighborsClassifier(n_neighbors=best_k)\n",
    "knn_final.fit(X_resampled_scaled, y_resampled)\n",
    "\n",
    "# Predict on the separate test set\n",
    "predictions = knn_final.predict(X_test_scaled)\n",
    "\n",
    "# Evaluate the model on the test set\n",
    "print(f\"Best K: {best_k}\")\n",
    "print(\"Confusion Matrix:\")\n",
    "print(confusion_matrix(y_test, predictions))\n",
    "print(\"\\nClassification Report:\")\n",
    "print(classification_report(y_test, predictions))"
   ]
  },
  {
   "cell_type": "code",
   "execution_count": null,
   "metadata": {},
   "outputs": [],
   "source": [
    "!pip install imblearn\n"
   ]
  }
 ],
 "metadata": {
  "interpreter": {
   "hash": "9b12d8e89bfe5f1d9564be7ce6131d8ea317c73289c3e98fd5ea3a30a393c6e1"
  },
  "kernelspec": {
   "display_name": "python310",
   "language": "python",
   "name": "python310"
  },
  "language_info": {
   "codemirror_mode": {
    "name": "ipython",
    "version": 3
   },
   "file_extension": ".py",
   "mimetype": "text/x-python",
   "name": "python",
   "nbconvert_exporter": "python",
   "pygments_lexer": "ipython3",
   "version": "3.10.4"
  }
 },
 "nbformat": 4,
 "nbformat_minor": 4
}
